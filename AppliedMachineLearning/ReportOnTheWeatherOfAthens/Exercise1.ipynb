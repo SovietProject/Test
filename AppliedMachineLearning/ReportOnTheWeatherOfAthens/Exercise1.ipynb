{
 "cells": [
  {
   "cell_type": "markdown",
   "id": "d9ddfeef",
   "metadata": {},
   "source": [
    "# Exploring the Weather in Athens\n",
    "\n",
    "Assignment 1\n",
    "\n",
    "---\n",
    "\n",
    "> Odyssefs Diamantopoulos Pantaleon, Undergraduate Student <br />\n",
    "> Department of Computer Science<br />\n",
    "> Athens University of Economics and Business <br />\n",
    "> p3180049@aueb.gr"
   ]
  },
  {
   "cell_type": "markdown",
   "id": "9587e834",
   "metadata": {},
   "source": [
    "---\n",
    "## Q1: Obtain the Data\n",
    "\n"
   ]
  },
  {
   "cell_type": "markdown",
   "id": "b23d7aea",
   "metadata": {},
   "source": [
    "### 1.1 Import the original dataset"
   ]
  },
  {
   "cell_type": "markdown",
   "id": "819824a9",
   "metadata": {},
   "source": [
    "> Here I am importing all the necessary libraries that will help in the assignment.\n",
    "\n",
    ">The numpy lib is used for mathematic functions, the pandas lib is useful for dataframe manipulatio and matplotlib and seaborn are great for plots.\n",
    "\n",
    ">I am also setting pd.options.mode.chained_assignment to None in order to supress some warnings of deprecated functions according to what I found to stack overflow https://stackoverflow.com/questions/20625582/how-to-deal-with-settingwithcopywarning-in-pandas"
   ]
  },
  {
   "cell_type": "code",
   "execution_count": 1,
   "id": "470cebb5",
   "metadata": {},
   "outputs": [],
   "source": [
    "import numpy as np\n",
    "import pandas as pd\n",
    "import matplotlib.pyplot as plt\n",
    "import seaborn as sns\n",
    "import matplotlib.patches as mpatches\n",
    "from matplotlib.dates import MonthLocator, DateFormatter\n",
    "\n",
    "pd.options.mode.chained_assignment = None #https://stackoverflow.com/questions/20625582/how-to-deal-with-settingwithcopywarning-in-pandas\n",
    "\n",
    "\n",
    "#import all the libraries"
   ]
  },
  {
   "cell_type": "markdown",
   "id": "02bb03ff",
   "metadata": {},
   "source": [
    ">Here I import the maindata set that includes all the measurement of the Hellinikon Station for the period of 1955-2020."
   ]
  },
  {
   "cell_type": "code",
   "execution_count": 2,
   "id": "5c28e514",
   "metadata": {
    "scrolled": true
   },
   "outputs": [],
   "source": [
    "data = pd.read_csv(\"weatherdata.csv\") #import the data"
   ]
  },
  {
   "cell_type": "markdown",
   "id": "654435ee",
   "metadata": {},
   "source": [
    ">Here I show that all the measurements were recorded from the Hellinikon station so we can drop the Station column since it\n",
    "does not provide any additional information"
   ]
  },
  {
   "cell_type": "code",
   "execution_count": 3,
   "id": "23f1648a",
   "metadata": {
    "scrolled": true
   },
   "outputs": [
    {
     "data": {
      "text/plain": [
       "0     GR000016716\n",
       "1     GR000016716\n",
       "2     GR000016716\n",
       "3     GR000016716\n",
       "4     GR000016716\n",
       "5     GR000016716\n",
       "6     GR000016716\n",
       "7     GR000016716\n",
       "8     GR000016716\n",
       "9     GR000016716\n",
       "10    GR000016716\n",
       "11    GR000016716\n",
       "12    GR000016716\n",
       "13    GR000016716\n",
       "14    GR000016716\n",
       "15    GR000016716\n",
       "16    GR000016716\n",
       "17    GR000016716\n",
       "18    GR000016716\n",
       "19    GR000016716\n",
       "Name: STATION, dtype: object"
      ]
     },
     "execution_count": 3,
     "metadata": {},
     "output_type": "execute_result"
    }
   ],
   "source": [
    "data.STATION.head(20)"
   ]
  },
  {
   "cell_type": "code",
   "execution_count": 4,
   "id": "b4c26d52",
   "metadata": {
    "scrolled": true
   },
   "outputs": [
    {
     "data": {
      "text/html": [
       "<div>\n",
       "<style scoped>\n",
       "    .dataframe tbody tr th:only-of-type {\n",
       "        vertical-align: middle;\n",
       "    }\n",
       "\n",
       "    .dataframe tbody tr th {\n",
       "        vertical-align: top;\n",
       "    }\n",
       "\n",
       "    .dataframe thead th {\n",
       "        text-align: right;\n",
       "    }\n",
       "</style>\n",
       "<table border=\"1\" class=\"dataframe\">\n",
       "  <thead>\n",
       "    <tr style=\"text-align: right;\">\n",
       "      <th></th>\n",
       "      <th>STATION</th>\n",
       "      <th>DATE</th>\n",
       "      <th>PRCP</th>\n",
       "      <th>TAVG</th>\n",
       "    </tr>\n",
       "  </thead>\n",
       "  <tbody>\n",
       "  </tbody>\n",
       "</table>\n",
       "</div>"
      ],
      "text/plain": [
       "Empty DataFrame\n",
       "Columns: [STATION, DATE, PRCP, TAVG]\n",
       "Index: []"
      ]
     },
     "execution_count": 4,
     "metadata": {},
     "output_type": "execute_result"
    }
   ],
   "source": [
    "data.loc[data.STATION != 'GR000016716'] #we see there is only one station so we can drop the column"
   ]
  },
  {
   "cell_type": "code",
   "execution_count": 5,
   "id": "4064f876",
   "metadata": {
    "scrolled": true
   },
   "outputs": [
    {
     "name": "stderr",
     "output_type": "stream",
     "text": [
      "c:\\users\\gragas\\appdata\\local\\programs\\python\\python37\\lib\\site-packages\\ipykernel_launcher.py:1: FutureWarning: In a future version of pandas all arguments of DataFrame.drop except for the argument 'labels' will be keyword-only\n",
      "  \"\"\"Entry point for launching an IPython kernel.\n"
     ]
    }
   ],
   "source": [
    "croppedData = data.drop('STATION',1)"
   ]
  },
  {
   "cell_type": "markdown",
   "id": "ea900ef1",
   "metadata": {},
   "source": [
    ">Following that, I am converting the type of the Date column from str to datetime so I can easily access years,months,days"
   ]
  },
  {
   "cell_type": "code",
   "execution_count": 6,
   "id": "13359394",
   "metadata": {},
   "outputs": [],
   "source": [
    "croppedData['DATE'] = pd.to_datetime(croppedData['DATE'])  #converting column type to date type"
   ]
  },
  {
   "cell_type": "code",
   "execution_count": 7,
   "id": "a635e1c1",
   "metadata": {
    "scrolled": true
   },
   "outputs": [
    {
     "data": {
      "text/html": [
       "<div>\n",
       "<style scoped>\n",
       "    .dataframe tbody tr th:only-of-type {\n",
       "        vertical-align: middle;\n",
       "    }\n",
       "\n",
       "    .dataframe tbody tr th {\n",
       "        vertical-align: top;\n",
       "    }\n",
       "\n",
       "    .dataframe thead th {\n",
       "        text-align: right;\n",
       "    }\n",
       "</style>\n",
       "<table border=\"1\" class=\"dataframe\">\n",
       "  <thead>\n",
       "    <tr style=\"text-align: right;\">\n",
       "      <th></th>\n",
       "      <th>DATE</th>\n",
       "      <th>PRCP</th>\n",
       "      <th>TAVG</th>\n",
       "    </tr>\n",
       "  </thead>\n",
       "  <tbody>\n",
       "    <tr>\n",
       "      <th>0</th>\n",
       "      <td>1955-01-01</td>\n",
       "      <td>0.0</td>\n",
       "      <td>NaN</td>\n",
       "    </tr>\n",
       "    <tr>\n",
       "      <th>1</th>\n",
       "      <td>1955-01-02</td>\n",
       "      <td>2.0</td>\n",
       "      <td>NaN</td>\n",
       "    </tr>\n",
       "    <tr>\n",
       "      <th>2</th>\n",
       "      <td>1955-01-03</td>\n",
       "      <td>0.0</td>\n",
       "      <td>NaN</td>\n",
       "    </tr>\n",
       "    <tr>\n",
       "      <th>3</th>\n",
       "      <td>1955-01-04</td>\n",
       "      <td>0.0</td>\n",
       "      <td>NaN</td>\n",
       "    </tr>\n",
       "    <tr>\n",
       "      <th>4</th>\n",
       "      <td>1955-01-05</td>\n",
       "      <td>0.0</td>\n",
       "      <td>NaN</td>\n",
       "    </tr>\n",
       "    <tr>\n",
       "      <th>5</th>\n",
       "      <td>1955-01-06</td>\n",
       "      <td>0.0</td>\n",
       "      <td>NaN</td>\n",
       "    </tr>\n",
       "    <tr>\n",
       "      <th>6</th>\n",
       "      <td>1955-01-07</td>\n",
       "      <td>0.0</td>\n",
       "      <td>NaN</td>\n",
       "    </tr>\n",
       "    <tr>\n",
       "      <th>7</th>\n",
       "      <td>1955-01-08</td>\n",
       "      <td>0.0</td>\n",
       "      <td>NaN</td>\n",
       "    </tr>\n",
       "    <tr>\n",
       "      <th>8</th>\n",
       "      <td>1955-01-09</td>\n",
       "      <td>3.0</td>\n",
       "      <td>NaN</td>\n",
       "    </tr>\n",
       "    <tr>\n",
       "      <th>9</th>\n",
       "      <td>1955-01-10</td>\n",
       "      <td>0.0</td>\n",
       "      <td>NaN</td>\n",
       "    </tr>\n",
       "  </tbody>\n",
       "</table>\n",
       "</div>"
      ],
      "text/plain": [
       "        DATE  PRCP  TAVG\n",
       "0 1955-01-01   0.0   NaN\n",
       "1 1955-01-02   2.0   NaN\n",
       "2 1955-01-03   0.0   NaN\n",
       "3 1955-01-04   0.0   NaN\n",
       "4 1955-01-05   0.0   NaN\n",
       "5 1955-01-06   0.0   NaN\n",
       "6 1955-01-07   0.0   NaN\n",
       "7 1955-01-08   0.0   NaN\n",
       "8 1955-01-09   3.0   NaN\n",
       "9 1955-01-10   0.0   NaN"
      ]
     },
     "execution_count": 7,
     "metadata": {},
     "output_type": "execute_result"
    }
   ],
   "source": [
    "croppedData.head(10)"
   ]
  },
  {
   "cell_type": "markdown",
   "id": "b6225113",
   "metadata": {},
   "source": [
    ">I am now checking to see what data is missing from the database that I was given"
   ]
  },
  {
   "cell_type": "code",
   "execution_count": 8,
   "id": "da5e5fa6",
   "metadata": {},
   "outputs": [
    {
     "data": {
      "text/plain": [
       "0"
      ]
     },
     "execution_count": 8,
     "metadata": {},
     "output_type": "execute_result"
    }
   ],
   "source": [
    "croppedData['DATE'].isnull().sum() \n",
    "#values that are missing based on this site :\n",
    "#'https://chartio.com/resources/tutorials/how-to-check-if-any-value-is-nan-in-a-pandas-dataframe/'"
   ]
  },
  {
   "cell_type": "code",
   "execution_count": 9,
   "id": "d0c41214",
   "metadata": {},
   "outputs": [],
   "source": [
    "check = croppedData.copy()"
   ]
  },
  {
   "cell_type": "markdown",
   "id": "ac0ea6f9",
   "metadata": {},
   "source": [
    "> Although there are no null values in the DATE column, while examining the csv I noticed that at some years there were fewer data than other years. \n",
    "\n",
    "> As shown below, for some reason in 2012 and 2013 there were recorded 160 and 10 days accordingly\n"
   ]
  },
  {
   "cell_type": "code",
   "execution_count": 10,
   "id": "de70eb82",
   "metadata": {},
   "outputs": [
    {
     "data": {
      "text/html": [
       "<div>\n",
       "<style scoped>\n",
       "    .dataframe tbody tr th:only-of-type {\n",
       "        vertical-align: middle;\n",
       "    }\n",
       "\n",
       "    .dataframe tbody tr th {\n",
       "        vertical-align: top;\n",
       "    }\n",
       "\n",
       "    .dataframe thead th {\n",
       "        text-align: right;\n",
       "    }\n",
       "</style>\n",
       "<table border=\"1\" class=\"dataframe\">\n",
       "  <thead>\n",
       "    <tr style=\"text-align: right;\">\n",
       "      <th></th>\n",
       "      <th>DATE</th>\n",
       "      <th>PRCP</th>\n",
       "      <th>TAVG</th>\n",
       "    </tr>\n",
       "  </thead>\n",
       "  <tbody>\n",
       "    <tr>\n",
       "      <th>20816</th>\n",
       "      <td>2012-01-01</td>\n",
       "      <td>0.0</td>\n",
       "      <td>10.2</td>\n",
       "    </tr>\n",
       "    <tr>\n",
       "      <th>20817</th>\n",
       "      <td>2012-01-02</td>\n",
       "      <td>0.0</td>\n",
       "      <td>9.5</td>\n",
       "    </tr>\n",
       "    <tr>\n",
       "      <th>20818</th>\n",
       "      <td>2012-01-03</td>\n",
       "      <td>0.0</td>\n",
       "      <td>9.7</td>\n",
       "    </tr>\n",
       "    <tr>\n",
       "      <th>20819</th>\n",
       "      <td>2012-01-04</td>\n",
       "      <td>0.0</td>\n",
       "      <td>11.3</td>\n",
       "    </tr>\n",
       "    <tr>\n",
       "      <th>20820</th>\n",
       "      <td>2012-01-05</td>\n",
       "      <td>0.0</td>\n",
       "      <td>11.1</td>\n",
       "    </tr>\n",
       "    <tr>\n",
       "      <th>...</th>\n",
       "      <td>...</td>\n",
       "      <td>...</td>\n",
       "      <td>...</td>\n",
       "    </tr>\n",
       "    <tr>\n",
       "      <th>20971</th>\n",
       "      <td>2012-08-09</td>\n",
       "      <td>0.0</td>\n",
       "      <td>34.2</td>\n",
       "    </tr>\n",
       "    <tr>\n",
       "      <th>20972</th>\n",
       "      <td>2012-08-12</td>\n",
       "      <td>0.0</td>\n",
       "      <td>28.7</td>\n",
       "    </tr>\n",
       "    <tr>\n",
       "      <th>20973</th>\n",
       "      <td>2012-08-25</td>\n",
       "      <td>0.0</td>\n",
       "      <td>34.6</td>\n",
       "    </tr>\n",
       "    <tr>\n",
       "      <th>20974</th>\n",
       "      <td>2012-08-26</td>\n",
       "      <td>0.0</td>\n",
       "      <td>31.2</td>\n",
       "    </tr>\n",
       "    <tr>\n",
       "      <th>20975</th>\n",
       "      <td>2012-12-31</td>\n",
       "      <td>27.9</td>\n",
       "      <td>10.7</td>\n",
       "    </tr>\n",
       "  </tbody>\n",
       "</table>\n",
       "<p>160 rows × 3 columns</p>\n",
       "</div>"
      ],
      "text/plain": [
       "            DATE  PRCP  TAVG\n",
       "20816 2012-01-01   0.0  10.2\n",
       "20817 2012-01-02   0.0   9.5\n",
       "20818 2012-01-03   0.0   9.7\n",
       "20819 2012-01-04   0.0  11.3\n",
       "20820 2012-01-05   0.0  11.1\n",
       "...          ...   ...   ...\n",
       "20971 2012-08-09   0.0  34.2\n",
       "20972 2012-08-12   0.0  28.7\n",
       "20973 2012-08-25   0.0  34.6\n",
       "20974 2012-08-26   0.0  31.2\n",
       "20975 2012-12-31  27.9  10.7\n",
       "\n",
       "[160 rows x 3 columns]"
      ]
     },
     "execution_count": 10,
     "metadata": {},
     "output_type": "execute_result"
    }
   ],
   "source": [
    "check.loc[check['DATE'].dt.year==2012]"
   ]
  },
  {
   "cell_type": "code",
   "execution_count": 11,
   "id": "b20f69a3",
   "metadata": {
    "scrolled": true
   },
   "outputs": [
    {
     "data": {
      "text/html": [
       "<div>\n",
       "<style scoped>\n",
       "    .dataframe tbody tr th:only-of-type {\n",
       "        vertical-align: middle;\n",
       "    }\n",
       "\n",
       "    .dataframe tbody tr th {\n",
       "        vertical-align: top;\n",
       "    }\n",
       "\n",
       "    .dataframe thead th {\n",
       "        text-align: right;\n",
       "    }\n",
       "</style>\n",
       "<table border=\"1\" class=\"dataframe\">\n",
       "  <thead>\n",
       "    <tr style=\"text-align: right;\">\n",
       "      <th></th>\n",
       "      <th>DATE</th>\n",
       "      <th>PRCP</th>\n",
       "      <th>TAVG</th>\n",
       "    </tr>\n",
       "  </thead>\n",
       "  <tbody>\n",
       "    <tr>\n",
       "      <th>20976</th>\n",
       "      <td>2013-02-15</td>\n",
       "      <td>0.0</td>\n",
       "      <td>9.8</td>\n",
       "    </tr>\n",
       "    <tr>\n",
       "      <th>20977</th>\n",
       "      <td>2013-02-19</td>\n",
       "      <td>0.3</td>\n",
       "      <td>12.1</td>\n",
       "    </tr>\n",
       "    <tr>\n",
       "      <th>20978</th>\n",
       "      <td>2013-02-21</td>\n",
       "      <td>0.0</td>\n",
       "      <td>12.6</td>\n",
       "    </tr>\n",
       "    <tr>\n",
       "      <th>20979</th>\n",
       "      <td>2013-04-22</td>\n",
       "      <td>0.0</td>\n",
       "      <td>18.6</td>\n",
       "    </tr>\n",
       "    <tr>\n",
       "      <th>20980</th>\n",
       "      <td>2013-05-16</td>\n",
       "      <td>0.0</td>\n",
       "      <td>20.9</td>\n",
       "    </tr>\n",
       "    <tr>\n",
       "      <th>20981</th>\n",
       "      <td>2013-05-28</td>\n",
       "      <td>0.0</td>\n",
       "      <td>22.6</td>\n",
       "    </tr>\n",
       "    <tr>\n",
       "      <th>20982</th>\n",
       "      <td>2013-06-05</td>\n",
       "      <td>0.0</td>\n",
       "      <td>23.2</td>\n",
       "    </tr>\n",
       "    <tr>\n",
       "      <th>20983</th>\n",
       "      <td>2013-06-07</td>\n",
       "      <td>0.0</td>\n",
       "      <td>23.3</td>\n",
       "    </tr>\n",
       "    <tr>\n",
       "      <th>20984</th>\n",
       "      <td>2013-06-11</td>\n",
       "      <td>0.0</td>\n",
       "      <td>27.0</td>\n",
       "    </tr>\n",
       "    <tr>\n",
       "      <th>20985</th>\n",
       "      <td>2013-11-20</td>\n",
       "      <td>1.8</td>\n",
       "      <td>19.3</td>\n",
       "    </tr>\n",
       "  </tbody>\n",
       "</table>\n",
       "</div>"
      ],
      "text/plain": [
       "            DATE  PRCP  TAVG\n",
       "20976 2013-02-15   0.0   9.8\n",
       "20977 2013-02-19   0.3  12.1\n",
       "20978 2013-02-21   0.0  12.6\n",
       "20979 2013-04-22   0.0  18.6\n",
       "20980 2013-05-16   0.0  20.9\n",
       "20981 2013-05-28   0.0  22.6\n",
       "20982 2013-06-05   0.0  23.2\n",
       "20983 2013-06-07   0.0  23.3\n",
       "20984 2013-06-11   0.0  27.0\n",
       "20985 2013-11-20   1.8  19.3"
      ]
     },
     "execution_count": 11,
     "metadata": {},
     "output_type": "execute_result"
    }
   ],
   "source": [
    "check.loc[check['DATE'].dt.year==2013] #many missing rows on 2012,2013"
   ]
  },
  {
   "cell_type": "markdown",
   "id": "7b225396",
   "metadata": {},
   "source": [
    ">Also, while searching the other two columns(TAVG,PRCP) I found that there were multiple null values"
   ]
  },
  {
   "cell_type": "code",
   "execution_count": 12,
   "id": "db7c4a05",
   "metadata": {},
   "outputs": [
    {
     "data": {
      "text/plain": [
       "478"
      ]
     },
     "execution_count": 12,
     "metadata": {},
     "output_type": "execute_result"
    }
   ],
   "source": [
    "croppedData['PRCP'].isnull().sum() #values that are missing "
   ]
  },
  {
   "cell_type": "code",
   "execution_count": 13,
   "id": "4c723c60",
   "metadata": {
    "scrolled": false
   },
   "outputs": [
    {
     "data": {
      "text/plain": [
       "2311"
      ]
     },
     "execution_count": 13,
     "metadata": {},
     "output_type": "execute_result"
    }
   ],
   "source": [
    "croppedData['TAVG'].isnull().sum() #values that are missing "
   ]
  },
  {
   "cell_type": "markdown",
   "id": "6044d668",
   "metadata": {},
   "source": [
    "### 1.2 Import the additional data and add them to the original data frame"
   ]
  },
  {
   "cell_type": "markdown",
   "id": "04ef1c07",
   "metadata": {},
   "source": [
    "> Since I know that there are missing values I have to correctly use the additional data that was provided for the years 2010-2019\n",
    "\n",
    ">The columns assigned are the ones that were mentioned in the documentation of the data https://data.hellenicdataservice.gr/dataset/66e1c19a-7b0e-456f-b465-b301a1130e3f\n",
    "\n",
    ">I also manually deleted 4 '---' lines that existed in the additional data csv that were creating errors on the DATE column calculations\n"
   ]
  },
  {
   "cell_type": "code",
   "execution_count": 14,
   "id": "91f79641",
   "metadata": {},
   "outputs": [],
   "source": [
    "filldata = pd.read_csv(\"athens.csv\",names=['DATE','TAVG','MaxTemp','MinTemp','MeanHum','MaxHum','MinHum','MeanPress','MaxPress','MinPress','PRCP','WindSpeed','WindDir','WindGust']) #import the additional data with custom column names"
   ]
  },
  {
   "cell_type": "code",
   "execution_count": 15,
   "id": "ab5e5c71",
   "metadata": {
    "scrolled": true
   },
   "outputs": [
    {
     "data": {
      "text/html": [
       "<div>\n",
       "<style scoped>\n",
       "    .dataframe tbody tr th:only-of-type {\n",
       "        vertical-align: middle;\n",
       "    }\n",
       "\n",
       "    .dataframe tbody tr th {\n",
       "        vertical-align: top;\n",
       "    }\n",
       "\n",
       "    .dataframe thead th {\n",
       "        text-align: right;\n",
       "    }\n",
       "</style>\n",
       "<table border=\"1\" class=\"dataframe\">\n",
       "  <thead>\n",
       "    <tr style=\"text-align: right;\">\n",
       "      <th></th>\n",
       "      <th>DATE</th>\n",
       "      <th>TAVG</th>\n",
       "      <th>MaxTemp</th>\n",
       "      <th>MinTemp</th>\n",
       "      <th>MeanHum</th>\n",
       "      <th>MaxHum</th>\n",
       "      <th>MinHum</th>\n",
       "      <th>MeanPress</th>\n",
       "      <th>MaxPress</th>\n",
       "      <th>MinPress</th>\n",
       "      <th>PRCP</th>\n",
       "      <th>WindSpeed</th>\n",
       "      <th>WindDir</th>\n",
       "      <th>WindGust</th>\n",
       "    </tr>\n",
       "  </thead>\n",
       "  <tbody>\n",
       "    <tr>\n",
       "      <th>0</th>\n",
       "      <td>1/1/2010</td>\n",
       "      <td>17.9</td>\n",
       "      <td>18.1</td>\n",
       "      <td>17.8</td>\n",
       "      <td>61.4</td>\n",
       "      <td>91</td>\n",
       "      <td>33</td>\n",
       "      <td>1003.6</td>\n",
       "      <td>1006.3</td>\n",
       "      <td>1002.0</td>\n",
       "      <td>0.2</td>\n",
       "      <td>4.0</td>\n",
       "      <td>WSW</td>\n",
       "      <td>12.7</td>\n",
       "    </tr>\n",
       "    <tr>\n",
       "      <th>1</th>\n",
       "      <td>1/2/2010</td>\n",
       "      <td>15.6</td>\n",
       "      <td>15.7</td>\n",
       "      <td>15.5</td>\n",
       "      <td>57.4</td>\n",
       "      <td>70</td>\n",
       "      <td>45</td>\n",
       "      <td>1005.2</td>\n",
       "      <td>1008.7</td>\n",
       "      <td>1001.5</td>\n",
       "      <td>0.0</td>\n",
       "      <td>6.8</td>\n",
       "      <td>WSW</td>\n",
       "      <td>20.7</td>\n",
       "    </tr>\n",
       "    <tr>\n",
       "      <th>2</th>\n",
       "      <td>1/3/2010</td>\n",
       "      <td>13.5</td>\n",
       "      <td>13.6</td>\n",
       "      <td>13.4</td>\n",
       "      <td>56.0</td>\n",
       "      <td>76</td>\n",
       "      <td>39</td>\n",
       "      <td>1011.7</td>\n",
       "      <td>1016.7</td>\n",
       "      <td>1008.6</td>\n",
       "      <td>0.0</td>\n",
       "      <td>5.0</td>\n",
       "      <td>WSW</td>\n",
       "      <td>15.4</td>\n",
       "    </tr>\n",
       "    <tr>\n",
       "      <th>3</th>\n",
       "      <td>1/4/2010</td>\n",
       "      <td>9.5</td>\n",
       "      <td>9.6</td>\n",
       "      <td>9.5</td>\n",
       "      <td>50.7</td>\n",
       "      <td>60</td>\n",
       "      <td>38</td>\n",
       "      <td>1021.3</td>\n",
       "      <td>1023.1</td>\n",
       "      <td>1016.8</td>\n",
       "      <td>0.0</td>\n",
       "      <td>4.3</td>\n",
       "      <td>NNE</td>\n",
       "      <td>11.0</td>\n",
       "    </tr>\n",
       "    <tr>\n",
       "      <th>4</th>\n",
       "      <td>1/5/2010</td>\n",
       "      <td>13.4</td>\n",
       "      <td>13.5</td>\n",
       "      <td>13.4</td>\n",
       "      <td>70.5</td>\n",
       "      <td>82</td>\n",
       "      <td>54</td>\n",
       "      <td>1018.7</td>\n",
       "      <td>1022.1</td>\n",
       "      <td>1015.5</td>\n",
       "      <td>0.0</td>\n",
       "      <td>7.9</td>\n",
       "      <td>S</td>\n",
       "      <td>19.8</td>\n",
       "    </tr>\n",
       "  </tbody>\n",
       "</table>\n",
       "</div>"
      ],
      "text/plain": [
       "       DATE  TAVG  MaxTemp  MinTemp  MeanHum  MaxHum  MinHum  MeanPress  \\\n",
       "0  1/1/2010  17.9     18.1     17.8     61.4      91      33     1003.6   \n",
       "1  1/2/2010  15.6     15.7     15.5     57.4      70      45     1005.2   \n",
       "2  1/3/2010  13.5     13.6     13.4     56.0      76      39     1011.7   \n",
       "3  1/4/2010   9.5      9.6      9.5     50.7      60      38     1021.3   \n",
       "4  1/5/2010  13.4     13.5     13.4     70.5      82      54     1018.7   \n",
       "\n",
       "   MaxPress  MinPress  PRCP  WindSpeed WindDir  WindGust  \n",
       "0    1006.3    1002.0   0.2        4.0     WSW      12.7  \n",
       "1    1008.7    1001.5   0.0        6.8     WSW      20.7  \n",
       "2    1016.7    1008.6   0.0        5.0     WSW      15.4  \n",
       "3    1023.1    1016.8   0.0        4.3     NNE      11.0  \n",
       "4    1022.1    1015.5   0.0        7.9       S      19.8  "
      ]
     },
     "execution_count": 15,
     "metadata": {},
     "output_type": "execute_result"
    }
   ],
   "source": [
    "filldata.head()"
   ]
  },
  {
   "cell_type": "markdown",
   "id": "95abffd4",
   "metadata": {},
   "source": [
    "> I need to convert the type to datetime here too so I can easily access it"
   ]
  },
  {
   "cell_type": "code",
   "execution_count": 16,
   "id": "99c85054",
   "metadata": {},
   "outputs": [],
   "source": [
    "filldata['DATE'] = pd.to_datetime(filldata['DATE'])  "
   ]
  },
  {
   "cell_type": "markdown",
   "id": "3343202f",
   "metadata": {},
   "source": [
    "#### 1.2.1 Merging data frames"
   ]
  },
  {
   "cell_type": "markdown",
   "id": "cc18b26e",
   "metadata": {},
   "source": [
    "> As you can see below, the additional dataset has all the days/months that were missing from the original data. \n"
   ]
  },
  {
   "cell_type": "code",
   "execution_count": 17,
   "id": "1c6fd6a7",
   "metadata": {
    "scrolled": true
   },
   "outputs": [
    {
     "data": {
      "text/html": [
       "<div>\n",
       "<style scoped>\n",
       "    .dataframe tbody tr th:only-of-type {\n",
       "        vertical-align: middle;\n",
       "    }\n",
       "\n",
       "    .dataframe tbody tr th {\n",
       "        vertical-align: top;\n",
       "    }\n",
       "\n",
       "    .dataframe thead th {\n",
       "        text-align: right;\n",
       "    }\n",
       "</style>\n",
       "<table border=\"1\" class=\"dataframe\">\n",
       "  <thead>\n",
       "    <tr style=\"text-align: right;\">\n",
       "      <th></th>\n",
       "      <th>DATE</th>\n",
       "      <th>TAVG</th>\n",
       "      <th>MaxTemp</th>\n",
       "      <th>MinTemp</th>\n",
       "      <th>MeanHum</th>\n",
       "      <th>MaxHum</th>\n",
       "      <th>MinHum</th>\n",
       "      <th>MeanPress</th>\n",
       "      <th>MaxPress</th>\n",
       "      <th>MinPress</th>\n",
       "      <th>PRCP</th>\n",
       "      <th>WindSpeed</th>\n",
       "      <th>WindDir</th>\n",
       "      <th>WindGust</th>\n",
       "    </tr>\n",
       "  </thead>\n",
       "  <tbody>\n",
       "    <tr>\n",
       "      <th>730</th>\n",
       "      <td>2012-01-01</td>\n",
       "      <td>9.4</td>\n",
       "      <td>9.5</td>\n",
       "      <td>9.4</td>\n",
       "      <td>60.6</td>\n",
       "      <td>67</td>\n",
       "      <td>49</td>\n",
       "      <td>1020.2</td>\n",
       "      <td>1026.1</td>\n",
       "      <td>1012.7</td>\n",
       "      <td>0.0</td>\n",
       "      <td>4.1</td>\n",
       "      <td>NNE</td>\n",
       "      <td>10.8</td>\n",
       "    </tr>\n",
       "    <tr>\n",
       "      <th>731</th>\n",
       "      <td>2012-01-02</td>\n",
       "      <td>8.4</td>\n",
       "      <td>8.6</td>\n",
       "      <td>8.3</td>\n",
       "      <td>63.5</td>\n",
       "      <td>82</td>\n",
       "      <td>43</td>\n",
       "      <td>1026.1</td>\n",
       "      <td>1027.6</td>\n",
       "      <td>1024.8</td>\n",
       "      <td>0.0</td>\n",
       "      <td>1.0</td>\n",
       "      <td>N</td>\n",
       "      <td>4.3</td>\n",
       "    </tr>\n",
       "    <tr>\n",
       "      <th>732</th>\n",
       "      <td>2012-01-03</td>\n",
       "      <td>8.7</td>\n",
       "      <td>8.8</td>\n",
       "      <td>8.5</td>\n",
       "      <td>69.9</td>\n",
       "      <td>89</td>\n",
       "      <td>47</td>\n",
       "      <td>1025.7</td>\n",
       "      <td>1026.9</td>\n",
       "      <td>1024.8</td>\n",
       "      <td>0.0</td>\n",
       "      <td>0.6</td>\n",
       "      <td>NW</td>\n",
       "      <td>3.1</td>\n",
       "    </tr>\n",
       "    <tr>\n",
       "      <th>733</th>\n",
       "      <td>2012-01-04</td>\n",
       "      <td>10.2</td>\n",
       "      <td>10.3</td>\n",
       "      <td>10.1</td>\n",
       "      <td>77.6</td>\n",
       "      <td>92</td>\n",
       "      <td>64</td>\n",
       "      <td>1021.9</td>\n",
       "      <td>1026.0</td>\n",
       "      <td>1018.1</td>\n",
       "      <td>0.0</td>\n",
       "      <td>1.5</td>\n",
       "      <td>NNW</td>\n",
       "      <td>5.3</td>\n",
       "    </tr>\n",
       "    <tr>\n",
       "      <th>734</th>\n",
       "      <td>2012-01-05</td>\n",
       "      <td>10.5</td>\n",
       "      <td>10.7</td>\n",
       "      <td>10.4</td>\n",
       "      <td>80.8</td>\n",
       "      <td>91</td>\n",
       "      <td>66</td>\n",
       "      <td>1013.2</td>\n",
       "      <td>1018.1</td>\n",
       "      <td>1004.9</td>\n",
       "      <td>0.0</td>\n",
       "      <td>1.5</td>\n",
       "      <td>SSW</td>\n",
       "      <td>5.3</td>\n",
       "    </tr>\n",
       "    <tr>\n",
       "      <th>...</th>\n",
       "      <td>...</td>\n",
       "      <td>...</td>\n",
       "      <td>...</td>\n",
       "      <td>...</td>\n",
       "      <td>...</td>\n",
       "      <td>...</td>\n",
       "      <td>...</td>\n",
       "      <td>...</td>\n",
       "      <td>...</td>\n",
       "      <td>...</td>\n",
       "      <td>...</td>\n",
       "      <td>...</td>\n",
       "      <td>...</td>\n",
       "      <td>...</td>\n",
       "    </tr>\n",
       "    <tr>\n",
       "      <th>1091</th>\n",
       "      <td>2012-12-27</td>\n",
       "      <td>13.2</td>\n",
       "      <td>13.3</td>\n",
       "      <td>13.0</td>\n",
       "      <td>80.5</td>\n",
       "      <td>92</td>\n",
       "      <td>60</td>\n",
       "      <td>1021.0</td>\n",
       "      <td>1022.2</td>\n",
       "      <td>1019.7</td>\n",
       "      <td>0.2</td>\n",
       "      <td>1.0</td>\n",
       "      <td>SW</td>\n",
       "      <td>4.6</td>\n",
       "    </tr>\n",
       "    <tr>\n",
       "      <th>1092</th>\n",
       "      <td>2012-12-28</td>\n",
       "      <td>13.3</td>\n",
       "      <td>13.5</td>\n",
       "      <td>13.2</td>\n",
       "      <td>82.2</td>\n",
       "      <td>92</td>\n",
       "      <td>65</td>\n",
       "      <td>1016.8</td>\n",
       "      <td>1019.9</td>\n",
       "      <td>1013.7</td>\n",
       "      <td>0.2</td>\n",
       "      <td>0.9</td>\n",
       "      <td>WNW</td>\n",
       "      <td>4.2</td>\n",
       "    </tr>\n",
       "    <tr>\n",
       "      <th>1093</th>\n",
       "      <td>2012-12-29</td>\n",
       "      <td>12.1</td>\n",
       "      <td>12.1</td>\n",
       "      <td>12.0</td>\n",
       "      <td>86.4</td>\n",
       "      <td>90</td>\n",
       "      <td>76</td>\n",
       "      <td>1015.0</td>\n",
       "      <td>1018.0</td>\n",
       "      <td>1012.5</td>\n",
       "      <td>27.2</td>\n",
       "      <td>3.4</td>\n",
       "      <td>N</td>\n",
       "      <td>8.4</td>\n",
       "    </tr>\n",
       "    <tr>\n",
       "      <th>1094</th>\n",
       "      <td>2012-12-30</td>\n",
       "      <td>10.3</td>\n",
       "      <td>10.4</td>\n",
       "      <td>10.2</td>\n",
       "      <td>88.2</td>\n",
       "      <td>93</td>\n",
       "      <td>81</td>\n",
       "      <td>1020.1</td>\n",
       "      <td>1022.4</td>\n",
       "      <td>1017.4</td>\n",
       "      <td>50.0</td>\n",
       "      <td>2.8</td>\n",
       "      <td>N</td>\n",
       "      <td>9.0</td>\n",
       "    </tr>\n",
       "    <tr>\n",
       "      <th>1095</th>\n",
       "      <td>2012-12-31</td>\n",
       "      <td>10.8</td>\n",
       "      <td>10.8</td>\n",
       "      <td>10.7</td>\n",
       "      <td>80.5</td>\n",
       "      <td>86</td>\n",
       "      <td>75</td>\n",
       "      <td>1021.7</td>\n",
       "      <td>1022.8</td>\n",
       "      <td>1021.0</td>\n",
       "      <td>2.6</td>\n",
       "      <td>0.8</td>\n",
       "      <td>W</td>\n",
       "      <td>4.8</td>\n",
       "    </tr>\n",
       "  </tbody>\n",
       "</table>\n",
       "<p>366 rows × 14 columns</p>\n",
       "</div>"
      ],
      "text/plain": [
       "           DATE  TAVG  MaxTemp  MinTemp  MeanHum  MaxHum  MinHum  MeanPress  \\\n",
       "730  2012-01-01   9.4      9.5      9.4     60.6      67      49     1020.2   \n",
       "731  2012-01-02   8.4      8.6      8.3     63.5      82      43     1026.1   \n",
       "732  2012-01-03   8.7      8.8      8.5     69.9      89      47     1025.7   \n",
       "733  2012-01-04  10.2     10.3     10.1     77.6      92      64     1021.9   \n",
       "734  2012-01-05  10.5     10.7     10.4     80.8      91      66     1013.2   \n",
       "...         ...   ...      ...      ...      ...     ...     ...        ...   \n",
       "1091 2012-12-27  13.2     13.3     13.0     80.5      92      60     1021.0   \n",
       "1092 2012-12-28  13.3     13.5     13.2     82.2      92      65     1016.8   \n",
       "1093 2012-12-29  12.1     12.1     12.0     86.4      90      76     1015.0   \n",
       "1094 2012-12-30  10.3     10.4     10.2     88.2      93      81     1020.1   \n",
       "1095 2012-12-31  10.8     10.8     10.7     80.5      86      75     1021.7   \n",
       "\n",
       "      MaxPress  MinPress  PRCP  WindSpeed WindDir  WindGust  \n",
       "730     1026.1    1012.7   0.0        4.1     NNE      10.8  \n",
       "731     1027.6    1024.8   0.0        1.0       N       4.3  \n",
       "732     1026.9    1024.8   0.0        0.6      NW       3.1  \n",
       "733     1026.0    1018.1   0.0        1.5     NNW       5.3  \n",
       "734     1018.1    1004.9   0.0        1.5     SSW       5.3  \n",
       "...        ...       ...   ...        ...     ...       ...  \n",
       "1091    1022.2    1019.7   0.2        1.0      SW       4.6  \n",
       "1092    1019.9    1013.7   0.2        0.9     WNW       4.2  \n",
       "1093    1018.0    1012.5  27.2        3.4       N       8.4  \n",
       "1094    1022.4    1017.4  50.0        2.8       N       9.0  \n",
       "1095    1022.8    1021.0   2.6        0.8       W       4.8  \n",
       "\n",
       "[366 rows x 14 columns]"
      ]
     },
     "execution_count": 17,
     "metadata": {},
     "output_type": "execute_result"
    }
   ],
   "source": [
    "filldata.loc[filldata['DATE'].dt.year==2012]"
   ]
  },
  {
   "cell_type": "code",
   "execution_count": 18,
   "id": "ab94de21",
   "metadata": {
    "scrolled": true
   },
   "outputs": [
    {
     "data": {
      "text/html": [
       "<div>\n",
       "<style scoped>\n",
       "    .dataframe tbody tr th:only-of-type {\n",
       "        vertical-align: middle;\n",
       "    }\n",
       "\n",
       "    .dataframe tbody tr th {\n",
       "        vertical-align: top;\n",
       "    }\n",
       "\n",
       "    .dataframe thead th {\n",
       "        text-align: right;\n",
       "    }\n",
       "</style>\n",
       "<table border=\"1\" class=\"dataframe\">\n",
       "  <thead>\n",
       "    <tr style=\"text-align: right;\">\n",
       "      <th></th>\n",
       "      <th>DATE</th>\n",
       "      <th>TAVG</th>\n",
       "      <th>MaxTemp</th>\n",
       "      <th>MinTemp</th>\n",
       "      <th>MeanHum</th>\n",
       "      <th>MaxHum</th>\n",
       "      <th>MinHum</th>\n",
       "      <th>MeanPress</th>\n",
       "      <th>MaxPress</th>\n",
       "      <th>MinPress</th>\n",
       "      <th>PRCP</th>\n",
       "      <th>WindSpeed</th>\n",
       "      <th>WindDir</th>\n",
       "      <th>WindGust</th>\n",
       "    </tr>\n",
       "  </thead>\n",
       "  <tbody>\n",
       "    <tr>\n",
       "      <th>1096</th>\n",
       "      <td>2013-01-01</td>\n",
       "      <td>11.3</td>\n",
       "      <td>11.4</td>\n",
       "      <td>11.2</td>\n",
       "      <td>78.3</td>\n",
       "      <td>88</td>\n",
       "      <td>66</td>\n",
       "      <td>1021.2</td>\n",
       "      <td>1022.7</td>\n",
       "      <td>1020.1</td>\n",
       "      <td>0.0</td>\n",
       "      <td>1.0</td>\n",
       "      <td>NNW</td>\n",
       "      <td>4.3</td>\n",
       "    </tr>\n",
       "    <tr>\n",
       "      <th>1097</th>\n",
       "      <td>2013-01-02</td>\n",
       "      <td>10.9</td>\n",
       "      <td>11.0</td>\n",
       "      <td>10.7</td>\n",
       "      <td>82.7</td>\n",
       "      <td>92</td>\n",
       "      <td>65</td>\n",
       "      <td>1025.4</td>\n",
       "      <td>1028.8</td>\n",
       "      <td>1022.7</td>\n",
       "      <td>0.0</td>\n",
       "      <td>0.6</td>\n",
       "      <td>SSW</td>\n",
       "      <td>3.1</td>\n",
       "    </tr>\n",
       "    <tr>\n",
       "      <th>1098</th>\n",
       "      <td>2013-01-03</td>\n",
       "      <td>11.6</td>\n",
       "      <td>11.7</td>\n",
       "      <td>11.5</td>\n",
       "      <td>78.5</td>\n",
       "      <td>93</td>\n",
       "      <td>65</td>\n",
       "      <td>1030.0</td>\n",
       "      <td>1031.6</td>\n",
       "      <td>1028.6</td>\n",
       "      <td>0.2</td>\n",
       "      <td>0.6</td>\n",
       "      <td>SSW</td>\n",
       "      <td>3.2</td>\n",
       "    </tr>\n",
       "    <tr>\n",
       "      <th>1099</th>\n",
       "      <td>2013-01-04</td>\n",
       "      <td>11.2</td>\n",
       "      <td>11.3</td>\n",
       "      <td>11.0</td>\n",
       "      <td>64.0</td>\n",
       "      <td>83</td>\n",
       "      <td>38</td>\n",
       "      <td>1023.2</td>\n",
       "      <td>1028.5</td>\n",
       "      <td>1018.9</td>\n",
       "      <td>0.0</td>\n",
       "      <td>0.6</td>\n",
       "      <td>N</td>\n",
       "      <td>3.7</td>\n",
       "    </tr>\n",
       "    <tr>\n",
       "      <th>1100</th>\n",
       "      <td>2013-01-05</td>\n",
       "      <td>11.3</td>\n",
       "      <td>11.4</td>\n",
       "      <td>11.2</td>\n",
       "      <td>57.4</td>\n",
       "      <td>76</td>\n",
       "      <td>40</td>\n",
       "      <td>1014.2</td>\n",
       "      <td>1018.9</td>\n",
       "      <td>1009.2</td>\n",
       "      <td>0.0</td>\n",
       "      <td>1.2</td>\n",
       "      <td>W</td>\n",
       "      <td>5.6</td>\n",
       "    </tr>\n",
       "    <tr>\n",
       "      <th>...</th>\n",
       "      <td>...</td>\n",
       "      <td>...</td>\n",
       "      <td>...</td>\n",
       "      <td>...</td>\n",
       "      <td>...</td>\n",
       "      <td>...</td>\n",
       "      <td>...</td>\n",
       "      <td>...</td>\n",
       "      <td>...</td>\n",
       "      <td>...</td>\n",
       "      <td>...</td>\n",
       "      <td>...</td>\n",
       "      <td>...</td>\n",
       "      <td>...</td>\n",
       "    </tr>\n",
       "    <tr>\n",
       "      <th>1456</th>\n",
       "      <td>2013-12-27</td>\n",
       "      <td>13.9</td>\n",
       "      <td>14.0</td>\n",
       "      <td>13.9</td>\n",
       "      <td>85.5</td>\n",
       "      <td>90</td>\n",
       "      <td>78</td>\n",
       "      <td>1011.7</td>\n",
       "      <td>1013.0</td>\n",
       "      <td>1010.4</td>\n",
       "      <td>30.0</td>\n",
       "      <td>4.8</td>\n",
       "      <td>S</td>\n",
       "      <td>13.7</td>\n",
       "    </tr>\n",
       "    <tr>\n",
       "      <th>1457</th>\n",
       "      <td>2013-12-28</td>\n",
       "      <td>13.3</td>\n",
       "      <td>13.4</td>\n",
       "      <td>13.3</td>\n",
       "      <td>78.0</td>\n",
       "      <td>85</td>\n",
       "      <td>69</td>\n",
       "      <td>1013.4</td>\n",
       "      <td>1015.7</td>\n",
       "      <td>1011.2</td>\n",
       "      <td>0.8</td>\n",
       "      <td>7.5</td>\n",
       "      <td>NNE</td>\n",
       "      <td>15.9</td>\n",
       "    </tr>\n",
       "    <tr>\n",
       "      <th>1458</th>\n",
       "      <td>2013-12-29</td>\n",
       "      <td>13.0</td>\n",
       "      <td>13.2</td>\n",
       "      <td>12.9</td>\n",
       "      <td>67.6</td>\n",
       "      <td>81</td>\n",
       "      <td>51</td>\n",
       "      <td>1018.0</td>\n",
       "      <td>1020.8</td>\n",
       "      <td>1015.1</td>\n",
       "      <td>0.0</td>\n",
       "      <td>1.4</td>\n",
       "      <td>N</td>\n",
       "      <td>6.1</td>\n",
       "    </tr>\n",
       "    <tr>\n",
       "      <th>1459</th>\n",
       "      <td>2013-12-30</td>\n",
       "      <td>12.2</td>\n",
       "      <td>12.3</td>\n",
       "      <td>12.0</td>\n",
       "      <td>70.5</td>\n",
       "      <td>85</td>\n",
       "      <td>50</td>\n",
       "      <td>1021.4</td>\n",
       "      <td>1022.4</td>\n",
       "      <td>1020.1</td>\n",
       "      <td>0.0</td>\n",
       "      <td>1.1</td>\n",
       "      <td>N</td>\n",
       "      <td>4.7</td>\n",
       "    </tr>\n",
       "    <tr>\n",
       "      <th>1460</th>\n",
       "      <td>2013-12-31</td>\n",
       "      <td>10.4</td>\n",
       "      <td>10.4</td>\n",
       "      <td>10.3</td>\n",
       "      <td>71.7</td>\n",
       "      <td>76</td>\n",
       "      <td>68</td>\n",
       "      <td>1023.3</td>\n",
       "      <td>1024.6</td>\n",
       "      <td>1022.1</td>\n",
       "      <td>0.0</td>\n",
       "      <td>7.3</td>\n",
       "      <td>NNE</td>\n",
       "      <td>15.2</td>\n",
       "    </tr>\n",
       "  </tbody>\n",
       "</table>\n",
       "<p>365 rows × 14 columns</p>\n",
       "</div>"
      ],
      "text/plain": [
       "           DATE  TAVG  MaxTemp  MinTemp  MeanHum  MaxHum  MinHum  MeanPress  \\\n",
       "1096 2013-01-01  11.3     11.4     11.2     78.3      88      66     1021.2   \n",
       "1097 2013-01-02  10.9     11.0     10.7     82.7      92      65     1025.4   \n",
       "1098 2013-01-03  11.6     11.7     11.5     78.5      93      65     1030.0   \n",
       "1099 2013-01-04  11.2     11.3     11.0     64.0      83      38     1023.2   \n",
       "1100 2013-01-05  11.3     11.4     11.2     57.4      76      40     1014.2   \n",
       "...         ...   ...      ...      ...      ...     ...     ...        ...   \n",
       "1456 2013-12-27  13.9     14.0     13.9     85.5      90      78     1011.7   \n",
       "1457 2013-12-28  13.3     13.4     13.3     78.0      85      69     1013.4   \n",
       "1458 2013-12-29  13.0     13.2     12.9     67.6      81      51     1018.0   \n",
       "1459 2013-12-30  12.2     12.3     12.0     70.5      85      50     1021.4   \n",
       "1460 2013-12-31  10.4     10.4     10.3     71.7      76      68     1023.3   \n",
       "\n",
       "      MaxPress  MinPress  PRCP  WindSpeed WindDir  WindGust  \n",
       "1096    1022.7    1020.1   0.0        1.0     NNW       4.3  \n",
       "1097    1028.8    1022.7   0.0        0.6     SSW       3.1  \n",
       "1098    1031.6    1028.6   0.2        0.6     SSW       3.2  \n",
       "1099    1028.5    1018.9   0.0        0.6       N       3.7  \n",
       "1100    1018.9    1009.2   0.0        1.2       W       5.6  \n",
       "...        ...       ...   ...        ...     ...       ...  \n",
       "1456    1013.0    1010.4  30.0        4.8       S      13.7  \n",
       "1457    1015.7    1011.2   0.8        7.5     NNE      15.9  \n",
       "1458    1020.8    1015.1   0.0        1.4       N       6.1  \n",
       "1459    1022.4    1020.1   0.0        1.1       N       4.7  \n",
       "1460    1024.6    1022.1   0.0        7.3     NNE      15.2  \n",
       "\n",
       "[365 rows x 14 columns]"
      ]
     },
     "execution_count": 18,
     "metadata": {},
     "output_type": "execute_result"
    }
   ],
   "source": [
    "filldata.loc[filldata['DATE'].dt.year==2013]"
   ]
  },
  {
   "cell_type": "markdown",
   "id": "a9447d01",
   "metadata": {},
   "source": [
    ">Consequently when merging the datasets, I am going to perform an outer join so I can get all the Dates that were missing\n",
    "\n",
    ">We are also only going to take the DATE,PRCP and TAVG columns since they are the only ones needed in this assignment\n",
    "\n",
    ">To accomplish the merging of the data, we have to merge them based on some principle. This principle is going to be the DATE column that both datasets share\n",
    "\n",
    ">To preserve the original order of the data on the croppedData dataframe we sort based on DATE values and set it as an index\n"
   ]
  },
  {
   "cell_type": "code",
   "execution_count": 19,
   "id": "6e3e8c45",
   "metadata": {},
   "outputs": [],
   "source": [
    "croppedData = pd.merge(croppedData, \n",
    "               filldata[['DATE','PRCP','TAVG']], \n",
    "               on='DATE', \n",
    "               how='outer').sort_values('DATE').set_index('DATE') #the filldata database has all the days and months of 2012 and 2013 so we need to join based on this"
   ]
  },
  {
   "cell_type": "code",
   "execution_count": 20,
   "id": "98784798",
   "metadata": {},
   "outputs": [
    {
     "data": {
      "text/html": [
       "<div>\n",
       "<style scoped>\n",
       "    .dataframe tbody tr th:only-of-type {\n",
       "        vertical-align: middle;\n",
       "    }\n",
       "\n",
       "    .dataframe tbody tr th {\n",
       "        vertical-align: top;\n",
       "    }\n",
       "\n",
       "    .dataframe thead th {\n",
       "        text-align: right;\n",
       "    }\n",
       "</style>\n",
       "<table border=\"1\" class=\"dataframe\">\n",
       "  <thead>\n",
       "    <tr style=\"text-align: right;\">\n",
       "      <th></th>\n",
       "      <th>PRCP_x</th>\n",
       "      <th>TAVG_x</th>\n",
       "      <th>PRCP_y</th>\n",
       "      <th>TAVG_y</th>\n",
       "    </tr>\n",
       "    <tr>\n",
       "      <th>DATE</th>\n",
       "      <th></th>\n",
       "      <th></th>\n",
       "      <th></th>\n",
       "      <th></th>\n",
       "    </tr>\n",
       "  </thead>\n",
       "  <tbody>\n",
       "    <tr>\n",
       "      <th>1955-01-01</th>\n",
       "      <td>0.0</td>\n",
       "      <td>NaN</td>\n",
       "      <td>NaN</td>\n",
       "      <td>NaN</td>\n",
       "    </tr>\n",
       "    <tr>\n",
       "      <th>1955-01-02</th>\n",
       "      <td>2.0</td>\n",
       "      <td>NaN</td>\n",
       "      <td>NaN</td>\n",
       "      <td>NaN</td>\n",
       "    </tr>\n",
       "    <tr>\n",
       "      <th>1955-01-03</th>\n",
       "      <td>0.0</td>\n",
       "      <td>NaN</td>\n",
       "      <td>NaN</td>\n",
       "      <td>NaN</td>\n",
       "    </tr>\n",
       "    <tr>\n",
       "      <th>1955-01-04</th>\n",
       "      <td>0.0</td>\n",
       "      <td>NaN</td>\n",
       "      <td>NaN</td>\n",
       "      <td>NaN</td>\n",
       "    </tr>\n",
       "    <tr>\n",
       "      <th>1955-01-05</th>\n",
       "      <td>0.0</td>\n",
       "      <td>NaN</td>\n",
       "      <td>NaN</td>\n",
       "      <td>NaN</td>\n",
       "    </tr>\n",
       "  </tbody>\n",
       "</table>\n",
       "</div>"
      ],
      "text/plain": [
       "            PRCP_x  TAVG_x  PRCP_y  TAVG_y\n",
       "DATE                                      \n",
       "1955-01-01     0.0     NaN     NaN     NaN\n",
       "1955-01-02     2.0     NaN     NaN     NaN\n",
       "1955-01-03     0.0     NaN     NaN     NaN\n",
       "1955-01-04     0.0     NaN     NaN     NaN\n",
       "1955-01-05     0.0     NaN     NaN     NaN"
      ]
     },
     "execution_count": 20,
     "metadata": {},
     "output_type": "execute_result"
    }
   ],
   "source": [
    "croppedData.head()"
   ]
  },
  {
   "cell_type": "markdown",
   "id": "30183ed1",
   "metadata": {},
   "source": [
    "> In order to remove DATE from an index and place it back as a column while retaining the same order that existed then we have to use the reindex function and then drop it. "
   ]
  },
  {
   "cell_type": "code",
   "execution_count": 21,
   "id": "2253aed7",
   "metadata": {},
   "outputs": [],
   "source": [
    "croppedData = (croppedData.reindex(pd.date_range(croppedData.index.min(), croppedData.index.max(), name='DATE'))\n",
    "       .reset_index())"
   ]
  },
  {
   "cell_type": "markdown",
   "id": "0ce514fe",
   "metadata": {},
   "source": [
    ">Now another problem arises. After the merge the PRCP and TAVG columns were split into x and y. The x columns have the data of the first dataset, while the y have the data of the second dataset.\n",
    "\n",
    ">Consequently I am going to fill any null values that the original dataset has with the values from the other dataset. In other words the TAVG_x and PRCP_x columns will get filled with the TAVG_y and PRCP_y columns\n",
    "\n",
    ">If everything goes well we should see a decrease in null values from when we previously counted"
   ]
  },
  {
   "cell_type": "code",
   "execution_count": 22,
   "id": "85cec094",
   "metadata": {
    "scrolled": true
   },
   "outputs": [
    {
     "data": {
      "text/html": [
       "<div>\n",
       "<style scoped>\n",
       "    .dataframe tbody tr th:only-of-type {\n",
       "        vertical-align: middle;\n",
       "    }\n",
       "\n",
       "    .dataframe tbody tr th {\n",
       "        vertical-align: top;\n",
       "    }\n",
       "\n",
       "    .dataframe thead th {\n",
       "        text-align: right;\n",
       "    }\n",
       "</style>\n",
       "<table border=\"1\" class=\"dataframe\">\n",
       "  <thead>\n",
       "    <tr style=\"text-align: right;\">\n",
       "      <th></th>\n",
       "      <th>DATE</th>\n",
       "      <th>PRCP_x</th>\n",
       "      <th>TAVG_x</th>\n",
       "      <th>PRCP_y</th>\n",
       "      <th>TAVG_y</th>\n",
       "    </tr>\n",
       "  </thead>\n",
       "  <tbody>\n",
       "    <tr>\n",
       "      <th>0</th>\n",
       "      <td>1955-01-01</td>\n",
       "      <td>0.0</td>\n",
       "      <td>NaN</td>\n",
       "      <td>NaN</td>\n",
       "      <td>NaN</td>\n",
       "    </tr>\n",
       "    <tr>\n",
       "      <th>1</th>\n",
       "      <td>1955-01-02</td>\n",
       "      <td>2.0</td>\n",
       "      <td>NaN</td>\n",
       "      <td>NaN</td>\n",
       "      <td>NaN</td>\n",
       "    </tr>\n",
       "    <tr>\n",
       "      <th>2</th>\n",
       "      <td>1955-01-03</td>\n",
       "      <td>0.0</td>\n",
       "      <td>NaN</td>\n",
       "      <td>NaN</td>\n",
       "      <td>NaN</td>\n",
       "    </tr>\n",
       "    <tr>\n",
       "      <th>3</th>\n",
       "      <td>1955-01-04</td>\n",
       "      <td>0.0</td>\n",
       "      <td>NaN</td>\n",
       "      <td>NaN</td>\n",
       "      <td>NaN</td>\n",
       "    </tr>\n",
       "    <tr>\n",
       "      <th>4</th>\n",
       "      <td>1955-01-05</td>\n",
       "      <td>0.0</td>\n",
       "      <td>NaN</td>\n",
       "      <td>NaN</td>\n",
       "      <td>NaN</td>\n",
       "    </tr>\n",
       "  </tbody>\n",
       "</table>\n",
       "</div>"
      ],
      "text/plain": [
       "        DATE  PRCP_x  TAVG_x  PRCP_y  TAVG_y\n",
       "0 1955-01-01     0.0     NaN     NaN     NaN\n",
       "1 1955-01-02     2.0     NaN     NaN     NaN\n",
       "2 1955-01-03     0.0     NaN     NaN     NaN\n",
       "3 1955-01-04     0.0     NaN     NaN     NaN\n",
       "4 1955-01-05     0.0     NaN     NaN     NaN"
      ]
     },
     "execution_count": 22,
     "metadata": {},
     "output_type": "execute_result"
    }
   ],
   "source": [
    "croppedData.head()"
   ]
  },
  {
   "cell_type": "code",
   "execution_count": 23,
   "id": "4ef26785",
   "metadata": {},
   "outputs": [],
   "source": [
    "croppedData['PRCP_x'].fillna(croppedData['PRCP_y'],inplace=True)"
   ]
  },
  {
   "cell_type": "code",
   "execution_count": 24,
   "id": "9a4952ca",
   "metadata": {},
   "outputs": [],
   "source": [
    "croppedData['TAVG_x'].fillna(croppedData['TAVG_y'],inplace=True)"
   ]
  },
  {
   "cell_type": "code",
   "execution_count": 25,
   "id": "be77aed2",
   "metadata": {
    "scrolled": false
   },
   "outputs": [
    {
     "data": {
      "text/html": [
       "<div>\n",
       "<style scoped>\n",
       "    .dataframe tbody tr th:only-of-type {\n",
       "        vertical-align: middle;\n",
       "    }\n",
       "\n",
       "    .dataframe tbody tr th {\n",
       "        vertical-align: top;\n",
       "    }\n",
       "\n",
       "    .dataframe thead th {\n",
       "        text-align: right;\n",
       "    }\n",
       "</style>\n",
       "<table border=\"1\" class=\"dataframe\">\n",
       "  <thead>\n",
       "    <tr style=\"text-align: right;\">\n",
       "      <th></th>\n",
       "      <th>DATE</th>\n",
       "      <th>PRCP_x</th>\n",
       "      <th>TAVG_x</th>\n",
       "      <th>PRCP_y</th>\n",
       "      <th>TAVG_y</th>\n",
       "    </tr>\n",
       "  </thead>\n",
       "  <tbody>\n",
       "    <tr>\n",
       "      <th>0</th>\n",
       "      <td>1955-01-01</td>\n",
       "      <td>0.0</td>\n",
       "      <td>NaN</td>\n",
       "      <td>NaN</td>\n",
       "      <td>NaN</td>\n",
       "    </tr>\n",
       "    <tr>\n",
       "      <th>1</th>\n",
       "      <td>1955-01-02</td>\n",
       "      <td>2.0</td>\n",
       "      <td>NaN</td>\n",
       "      <td>NaN</td>\n",
       "      <td>NaN</td>\n",
       "    </tr>\n",
       "    <tr>\n",
       "      <th>2</th>\n",
       "      <td>1955-01-03</td>\n",
       "      <td>0.0</td>\n",
       "      <td>NaN</td>\n",
       "      <td>NaN</td>\n",
       "      <td>NaN</td>\n",
       "    </tr>\n",
       "    <tr>\n",
       "      <th>3</th>\n",
       "      <td>1955-01-04</td>\n",
       "      <td>0.0</td>\n",
       "      <td>NaN</td>\n",
       "      <td>NaN</td>\n",
       "      <td>NaN</td>\n",
       "    </tr>\n",
       "    <tr>\n",
       "      <th>4</th>\n",
       "      <td>1955-01-05</td>\n",
       "      <td>0.0</td>\n",
       "      <td>NaN</td>\n",
       "      <td>NaN</td>\n",
       "      <td>NaN</td>\n",
       "    </tr>\n",
       "  </tbody>\n",
       "</table>\n",
       "</div>"
      ],
      "text/plain": [
       "        DATE  PRCP_x  TAVG_x  PRCP_y  TAVG_y\n",
       "0 1955-01-01     0.0     NaN     NaN     NaN\n",
       "1 1955-01-02     2.0     NaN     NaN     NaN\n",
       "2 1955-01-03     0.0     NaN     NaN     NaN\n",
       "3 1955-01-04     0.0     NaN     NaN     NaN\n",
       "4 1955-01-05     0.0     NaN     NaN     NaN"
      ]
     },
     "execution_count": 25,
     "metadata": {},
     "output_type": "execute_result"
    }
   ],
   "source": [
    "croppedData.head()"
   ]
  },
  {
   "cell_type": "markdown",
   "id": "195b865d",
   "metadata": {},
   "source": [
    ">Now that the process is finished I can drop the two columns and rename the other two to the original names.\n",
    "\n",
    ">According to the calculations performed now there are 379(< 478) values missing on the PRCP column and 2315(>2311) in the TAVG column.\n",
    "\n",
    ">As we can see the TAVG null values were increased a bit, but that makes sense since we added a lot more DATE values.\n",
    "\n",
    ">Now I have to decide how I am going to handle the missing data."
   ]
  },
  {
   "cell_type": "code",
   "execution_count": 26,
   "id": "53d7585f",
   "metadata": {
    "scrolled": true
   },
   "outputs": [
    {
     "name": "stderr",
     "output_type": "stream",
     "text": [
      "c:\\users\\gragas\\appdata\\local\\programs\\python\\python37\\lib\\site-packages\\ipykernel_launcher.py:1: FutureWarning: In a future version of pandas all arguments of DataFrame.drop except for the argument 'labels' will be keyword-only\n",
      "  \"\"\"Entry point for launching an IPython kernel.\n",
      "c:\\users\\gragas\\appdata\\local\\programs\\python\\python37\\lib\\site-packages\\ipykernel_launcher.py:2: FutureWarning: In a future version of pandas all arguments of DataFrame.drop except for the argument 'labels' will be keyword-only\n",
      "  \n"
     ]
    }
   ],
   "source": [
    "croppedData = croppedData.drop('PRCP_y',1)\n",
    "croppedData = croppedData.drop('TAVG_y',1)"
   ]
  },
  {
   "cell_type": "code",
   "execution_count": 27,
   "id": "8572b144",
   "metadata": {},
   "outputs": [],
   "source": [
    "croppedData = croppedData.rename(columns={'PRCP_x' : 'PRCP', 'TAVG_x' : 'TAVG'})"
   ]
  },
  {
   "cell_type": "code",
   "execution_count": 28,
   "id": "9bfed505",
   "metadata": {},
   "outputs": [
    {
     "data": {
      "text/plain": [
       "Index(['DATE', 'PRCP', 'TAVG'], dtype='object')"
      ]
     },
     "execution_count": 28,
     "metadata": {},
     "output_type": "execute_result"
    }
   ],
   "source": [
    "croppedData.columns"
   ]
  },
  {
   "cell_type": "code",
   "execution_count": 29,
   "id": "c61b9e93",
   "metadata": {},
   "outputs": [
    {
     "data": {
      "text/plain": [
       "379"
      ]
     },
     "execution_count": 29,
     "metadata": {},
     "output_type": "execute_result"
    }
   ],
   "source": [
    "croppedData['PRCP'].isnull().sum() #values that are missing | makes sense cause we have data from 2010-2020"
   ]
  },
  {
   "cell_type": "code",
   "execution_count": 30,
   "id": "7ed011d7",
   "metadata": {
    "scrolled": true
   },
   "outputs": [
    {
     "data": {
      "text/plain": [
       "2315"
      ]
     },
     "execution_count": 30,
     "metadata": {},
     "output_type": "execute_result"
    }
   ],
   "source": [
    "croppedData['TAVG'].isnull().sum() #values that are missing "
   ]
  },
  {
   "cell_type": "markdown",
   "id": "3dbb7cd4",
   "metadata": {},
   "source": [
    "#### 1.2.3 Deciding how to fill the missing collumn data"
   ]
  },
  {
   "cell_type": "markdown",
   "id": "666c5b6f",
   "metadata": {},
   "source": [
    "---\n",
    ">https://www.nasa.gov/topics/earth/features/upsDownsGlobalWarming.html\n",
    ">https://www.nasa.gov/images/content/388671main_portal1ThumbShrunk.jpg\n",
    ">https://www.nasa.gov/images/content/388673main_portalChart2.jpg\n",
    "\n",
    ">My initial thought was to try and fill the missing TAVG cell data with the average of temperature of years I have a lot of data.\n",
    "\n",
    ">According to the data shown in the above links of the nasa official webisite, the climate change has an effect on the temperatures. However, the period 1950-1970 did no see such a dramatic change in temperatures.\n",
    "\n",
    ">I calculated the mean temperature of all my dataset in order to see how much me filling the data would impact the overall value of the dataset\n",
    "\n"
   ]
  },
  {
   "cell_type": "code",
   "execution_count": 31,
   "id": "270dd91b",
   "metadata": {
    "scrolled": true
   },
   "outputs": [],
   "source": [
    "allyearmean = croppedData['TAVG'].mean(skipna=True)"
   ]
  },
  {
   "cell_type": "code",
   "execution_count": 32,
   "id": "b638ce1a",
   "metadata": {},
   "outputs": [
    {
     "name": "stdout",
     "output_type": "stream",
     "text": [
      "18.375899412628485\n"
     ]
    }
   ],
   "source": [
    "print(allyearmean)"
   ]
  },
  {
   "cell_type": "markdown",
   "id": "ffa8a35f",
   "metadata": {},
   "source": [
    ">I decided to see which years were the ones that had a lot of data missing\n",
    "\n",
    ">Before 1973 a lot of data was missing"
   ]
  },
  {
   "cell_type": "code",
   "execution_count": 33,
   "id": "366f73c8",
   "metadata": {},
   "outputs": [],
   "source": [
    "missingyeardata = (croppedData['DATE'] >= '1973-01-01') & (croppedData['DATE'] <= '2020-12-31') #1973 has only 9 values missing"
   ]
  },
  {
   "cell_type": "code",
   "execution_count": 34,
   "id": "5c8dca3b",
   "metadata": {},
   "outputs": [
    {
     "data": {
      "text/plain": [
       "13"
      ]
     },
     "execution_count": 34,
     "metadata": {},
     "output_type": "execute_result"
    }
   ],
   "source": [
    "croppedData.loc[missingyeardata]['TAVG'].isnull().sum() #values that are missing "
   ]
  },
  {
   "cell_type": "code",
   "execution_count": 35,
   "id": "abb8704f",
   "metadata": {},
   "outputs": [],
   "source": [
    "missingyeardata = (croppedData['DATE'] >= '1972-01-01') & (croppedData['DATE'] <= '2020-12-31') #1972 has many values missing"
   ]
  },
  {
   "cell_type": "code",
   "execution_count": 36,
   "id": "96c026a6",
   "metadata": {},
   "outputs": [
    {
     "data": {
      "text/plain": [
       "379"
      ]
     },
     "execution_count": 36,
     "metadata": {},
     "output_type": "execute_result"
    }
   ],
   "source": [
    "croppedData.loc[missingyeardata]['TAVG'].isnull().sum() #values that are missing "
   ]
  },
  {
   "cell_type": "markdown",
   "id": "78f55902",
   "metadata": {},
   "source": [
    ">So I decided to get the average temperature from 1973-1980 and use it to fill the null values of the dataset\n",
    "\n",
    ">The reason that the fillna is commented is because I later realized that this was not a viable solution"
   ]
  },
  {
   "cell_type": "code",
   "execution_count": 37,
   "id": "06174a38",
   "metadata": {},
   "outputs": [],
   "source": [
    "sevenyeardata = (croppedData['DATE'] >= '1973-01-01') & (croppedData['DATE'] <= '1980-12-31') "
   ]
  },
  {
   "cell_type": "code",
   "execution_count": 38,
   "id": "11dbc99b",
   "metadata": {},
   "outputs": [],
   "source": [
    "sevenyearmean = croppedData.loc[sevenyeardata]['TAVG'].mean()"
   ]
  },
  {
   "cell_type": "code",
   "execution_count": 39,
   "id": "ac70fdae",
   "metadata": {},
   "outputs": [],
   "source": [
    "#croppedData['TAVG'].fillna(sevenyearmean,inplace = True) "
   ]
  },
  {
   "cell_type": "markdown",
   "id": "f34c8e0f",
   "metadata": {},
   "source": [
    "> If I did not comment this line, the mean of the whole dataset would not drastically change, HOWEVER, I would have several years where every day of them would have the same value, the mean of the 1973-1980 years.\n",
    "\n",
    "> This would severly impact the plots and in many situations would give false information.\n",
    "\n",
    "> Consequently, I decided to leave the values null and concede that I cannot calculate with great accuracy years before 1973.\n",
    "\n",
    "> I do not think that this will be a great problem since we can still have a good picture of old times, while maintaining both a great picture of more modern years(that actually interest us more) and a reliable wider picture of the climate change that Athens experienced.\n",
    "\n",
    "---\n",
    "\n",
    "> I also left the PRCP values null since there were too few to make a negative impact on the dataset"
   ]
  },
  {
   "cell_type": "markdown",
   "id": "8b410584",
   "metadata": {},
   "source": [
    "---\n",
    "## Q2: Deviation of Summer Temperatures"
   ]
  },
  {
   "cell_type": "markdown",
   "id": "bff15dbd",
   "metadata": {},
   "source": [
    "### 2.1 Organizing data to seasons"
   ]
  },
  {
   "cell_type": "markdown",
   "id": "694f5e55",
   "metadata": {},
   "source": [
    "> Here I am organizing the data to seasons in order to be able to groupby season==summer later. Every day is assigned a season.\n",
    "\n",
    "> This is a simple trick. You modulo with the number of total months, add 3 and then do integer division with 3 and the correct season is mapped.\n",
    "\n",
    "> For example, if we take January it will fall on the winter season since its 1%12 = 1  then 1+3=4 and finally 4//3=1 which is correctly winter"
   ]
  },
  {
   "cell_type": "code",
   "execution_count": 40,
   "id": "1e90d965",
   "metadata": {},
   "outputs": [],
   "source": [
    "\n",
    "croppedData['season'] = (croppedData['DATE'].dt.month%12 + 3)//3\n",
    "\n",
    "seasons = { 1: 'Winter', 2: 'Spring', 3: 'Summer',4: 'Autumn'}\n",
    "\n",
    "croppedData['season_name'] = croppedData['season'].map(seasons)  #all rights belong to https://stackoverflow.com/questions/60285557/extract-seasons-from-datetime-pandas"
   ]
  },
  {
   "cell_type": "code",
   "execution_count": 41,
   "id": "b9b0ec00",
   "metadata": {
    "scrolled": false
   },
   "outputs": [
    {
     "data": {
      "text/html": [
       "<div>\n",
       "<style scoped>\n",
       "    .dataframe tbody tr th:only-of-type {\n",
       "        vertical-align: middle;\n",
       "    }\n",
       "\n",
       "    .dataframe tbody tr th {\n",
       "        vertical-align: top;\n",
       "    }\n",
       "\n",
       "    .dataframe thead th {\n",
       "        text-align: right;\n",
       "    }\n",
       "</style>\n",
       "<table border=\"1\" class=\"dataframe\">\n",
       "  <thead>\n",
       "    <tr style=\"text-align: right;\">\n",
       "      <th></th>\n",
       "      <th>DATE</th>\n",
       "      <th>PRCP</th>\n",
       "      <th>TAVG</th>\n",
       "      <th>season</th>\n",
       "      <th>season_name</th>\n",
       "    </tr>\n",
       "  </thead>\n",
       "  <tbody>\n",
       "    <tr>\n",
       "      <th>0</th>\n",
       "      <td>1955-01-01</td>\n",
       "      <td>0.0</td>\n",
       "      <td>NaN</td>\n",
       "      <td>1</td>\n",
       "      <td>Winter</td>\n",
       "    </tr>\n",
       "    <tr>\n",
       "      <th>1</th>\n",
       "      <td>1955-01-02</td>\n",
       "      <td>2.0</td>\n",
       "      <td>NaN</td>\n",
       "      <td>1</td>\n",
       "      <td>Winter</td>\n",
       "    </tr>\n",
       "    <tr>\n",
       "      <th>2</th>\n",
       "      <td>1955-01-03</td>\n",
       "      <td>0.0</td>\n",
       "      <td>NaN</td>\n",
       "      <td>1</td>\n",
       "      <td>Winter</td>\n",
       "    </tr>\n",
       "    <tr>\n",
       "      <th>3</th>\n",
       "      <td>1955-01-04</td>\n",
       "      <td>0.0</td>\n",
       "      <td>NaN</td>\n",
       "      <td>1</td>\n",
       "      <td>Winter</td>\n",
       "    </tr>\n",
       "    <tr>\n",
       "      <th>4</th>\n",
       "      <td>1955-01-05</td>\n",
       "      <td>0.0</td>\n",
       "      <td>NaN</td>\n",
       "      <td>1</td>\n",
       "      <td>Winter</td>\n",
       "    </tr>\n",
       "  </tbody>\n",
       "</table>\n",
       "</div>"
      ],
      "text/plain": [
       "        DATE  PRCP  TAVG  season season_name\n",
       "0 1955-01-01   0.0   NaN       1      Winter\n",
       "1 1955-01-02   2.0   NaN       1      Winter\n",
       "2 1955-01-03   0.0   NaN       1      Winter\n",
       "3 1955-01-04   0.0   NaN       1      Winter\n",
       "4 1955-01-05   0.0   NaN       1      Winter"
      ]
     },
     "execution_count": 41,
     "metadata": {},
     "output_type": "execute_result"
    }
   ],
   "source": [
    "croppedData.head()"
   ]
  },
  {
   "cell_type": "markdown",
   "id": "be3716b6",
   "metadata": {},
   "source": [
    "### 2.2 Extracting summer months from 1973-1999"
   ]
  },
  {
   "cell_type": "markdown",
   "id": "5238f22e",
   "metadata": {},
   "source": [
    "> In order to get only the summer months, I just have to set as an index the season and then take everything that has as an index the Summer keyword\n",
    "\n",
    "> After I create a new dataframe with only Summer data I reset the index"
   ]
  },
  {
   "cell_type": "code",
   "execution_count": 42,
   "id": "4d60b438",
   "metadata": {},
   "outputs": [],
   "source": [
    "datawithseasonindex = croppedData.set_index('season_name',)"
   ]
  },
  {
   "cell_type": "code",
   "execution_count": 43,
   "id": "ffb5f40b",
   "metadata": {},
   "outputs": [],
   "source": [
    "summerdata = datawithseasonindex.loc['Summer']"
   ]
  },
  {
   "cell_type": "code",
   "execution_count": 44,
   "id": "7618991a",
   "metadata": {},
   "outputs": [
    {
     "data": {
      "text/html": [
       "<div>\n",
       "<style scoped>\n",
       "    .dataframe tbody tr th:only-of-type {\n",
       "        vertical-align: middle;\n",
       "    }\n",
       "\n",
       "    .dataframe tbody tr th {\n",
       "        vertical-align: top;\n",
       "    }\n",
       "\n",
       "    .dataframe thead th {\n",
       "        text-align: right;\n",
       "    }\n",
       "</style>\n",
       "<table border=\"1\" class=\"dataframe\">\n",
       "  <thead>\n",
       "    <tr style=\"text-align: right;\">\n",
       "      <th></th>\n",
       "      <th>DATE</th>\n",
       "      <th>PRCP</th>\n",
       "      <th>TAVG</th>\n",
       "      <th>season</th>\n",
       "    </tr>\n",
       "    <tr>\n",
       "      <th>season_name</th>\n",
       "      <th></th>\n",
       "      <th></th>\n",
       "      <th></th>\n",
       "      <th></th>\n",
       "    </tr>\n",
       "  </thead>\n",
       "  <tbody>\n",
       "    <tr>\n",
       "      <th>Summer</th>\n",
       "      <td>1955-06-01</td>\n",
       "      <td>0.0</td>\n",
       "      <td>NaN</td>\n",
       "      <td>3</td>\n",
       "    </tr>\n",
       "    <tr>\n",
       "      <th>Summer</th>\n",
       "      <td>1955-06-02</td>\n",
       "      <td>0.0</td>\n",
       "      <td>NaN</td>\n",
       "      <td>3</td>\n",
       "    </tr>\n",
       "    <tr>\n",
       "      <th>Summer</th>\n",
       "      <td>1955-06-03</td>\n",
       "      <td>0.0</td>\n",
       "      <td>NaN</td>\n",
       "      <td>3</td>\n",
       "    </tr>\n",
       "    <tr>\n",
       "      <th>Summer</th>\n",
       "      <td>1955-06-04</td>\n",
       "      <td>0.0</td>\n",
       "      <td>NaN</td>\n",
       "      <td>3</td>\n",
       "    </tr>\n",
       "    <tr>\n",
       "      <th>Summer</th>\n",
       "      <td>1955-06-05</td>\n",
       "      <td>0.0</td>\n",
       "      <td>NaN</td>\n",
       "      <td>3</td>\n",
       "    </tr>\n",
       "  </tbody>\n",
       "</table>\n",
       "</div>"
      ],
      "text/plain": [
       "                  DATE  PRCP  TAVG  season\n",
       "season_name                               \n",
       "Summer      1955-06-01   0.0   NaN       3\n",
       "Summer      1955-06-02   0.0   NaN       3\n",
       "Summer      1955-06-03   0.0   NaN       3\n",
       "Summer      1955-06-04   0.0   NaN       3\n",
       "Summer      1955-06-05   0.0   NaN       3"
      ]
     },
     "execution_count": 44,
     "metadata": {},
     "output_type": "execute_result"
    }
   ],
   "source": [
    "summerdata.head()"
   ]
  },
  {
   "cell_type": "code",
   "execution_count": 45,
   "id": "e7ab4277",
   "metadata": {},
   "outputs": [],
   "source": [
    "summerdata.reset_index( inplace=True)"
   ]
  },
  {
   "cell_type": "code",
   "execution_count": 46,
   "id": "862e25c7",
   "metadata": {},
   "outputs": [
    {
     "data": {
      "text/html": [
       "<div>\n",
       "<style scoped>\n",
       "    .dataframe tbody tr th:only-of-type {\n",
       "        vertical-align: middle;\n",
       "    }\n",
       "\n",
       "    .dataframe tbody tr th {\n",
       "        vertical-align: top;\n",
       "    }\n",
       "\n",
       "    .dataframe thead th {\n",
       "        text-align: right;\n",
       "    }\n",
       "</style>\n",
       "<table border=\"1\" class=\"dataframe\">\n",
       "  <thead>\n",
       "    <tr style=\"text-align: right;\">\n",
       "      <th></th>\n",
       "      <th>season_name</th>\n",
       "      <th>DATE</th>\n",
       "      <th>PRCP</th>\n",
       "      <th>TAVG</th>\n",
       "      <th>season</th>\n",
       "    </tr>\n",
       "  </thead>\n",
       "  <tbody>\n",
       "    <tr>\n",
       "      <th>0</th>\n",
       "      <td>Summer</td>\n",
       "      <td>1955-06-01</td>\n",
       "      <td>0.0</td>\n",
       "      <td>NaN</td>\n",
       "      <td>3</td>\n",
       "    </tr>\n",
       "    <tr>\n",
       "      <th>1</th>\n",
       "      <td>Summer</td>\n",
       "      <td>1955-06-02</td>\n",
       "      <td>0.0</td>\n",
       "      <td>NaN</td>\n",
       "      <td>3</td>\n",
       "    </tr>\n",
       "    <tr>\n",
       "      <th>2</th>\n",
       "      <td>Summer</td>\n",
       "      <td>1955-06-03</td>\n",
       "      <td>0.0</td>\n",
       "      <td>NaN</td>\n",
       "      <td>3</td>\n",
       "    </tr>\n",
       "    <tr>\n",
       "      <th>3</th>\n",
       "      <td>Summer</td>\n",
       "      <td>1955-06-04</td>\n",
       "      <td>0.0</td>\n",
       "      <td>NaN</td>\n",
       "      <td>3</td>\n",
       "    </tr>\n",
       "    <tr>\n",
       "      <th>4</th>\n",
       "      <td>Summer</td>\n",
       "      <td>1955-06-05</td>\n",
       "      <td>0.0</td>\n",
       "      <td>NaN</td>\n",
       "      <td>3</td>\n",
       "    </tr>\n",
       "  </tbody>\n",
       "</table>\n",
       "</div>"
      ],
      "text/plain": [
       "  season_name       DATE  PRCP  TAVG  season\n",
       "0      Summer 1955-06-01   0.0   NaN       3\n",
       "1      Summer 1955-06-02   0.0   NaN       3\n",
       "2      Summer 1955-06-03   0.0   NaN       3\n",
       "3      Summer 1955-06-04   0.0   NaN       3\n",
       "4      Summer 1955-06-05   0.0   NaN       3"
      ]
     },
     "execution_count": 46,
     "metadata": {},
     "output_type": "execute_result"
    }
   ],
   "source": [
    "summerdata.head()"
   ]
  },
  {
   "cell_type": "markdown",
   "id": "d94ee738",
   "metadata": {},
   "source": [
    "> The assignment demands that the plot has as a baseline the period of 1974-1999, so I create a new dataframe that contains the summer months of 1974-1999 and reset its index so it is starts from 0"
   ]
  },
  {
   "cell_type": "code",
   "execution_count": 47,
   "id": "853a43e6",
   "metadata": {},
   "outputs": [],
   "source": [
    "specificsummerdata = summerdata.loc[(summerdata ['DATE'].dt.year >= 1974) \n",
    "                    & (summerdata ['DATE'].dt.year <= 1999)]"
   ]
  },
  {
   "cell_type": "code",
   "execution_count": 48,
   "id": "e57b914a",
   "metadata": {},
   "outputs": [
    {
     "data": {
      "text/html": [
       "<div>\n",
       "<style scoped>\n",
       "    .dataframe tbody tr th:only-of-type {\n",
       "        vertical-align: middle;\n",
       "    }\n",
       "\n",
       "    .dataframe tbody tr th {\n",
       "        vertical-align: top;\n",
       "    }\n",
       "\n",
       "    .dataframe thead th {\n",
       "        text-align: right;\n",
       "    }\n",
       "</style>\n",
       "<table border=\"1\" class=\"dataframe\">\n",
       "  <thead>\n",
       "    <tr style=\"text-align: right;\">\n",
       "      <th></th>\n",
       "      <th>season_name</th>\n",
       "      <th>DATE</th>\n",
       "      <th>PRCP</th>\n",
       "      <th>TAVG</th>\n",
       "      <th>season</th>\n",
       "    </tr>\n",
       "  </thead>\n",
       "  <tbody>\n",
       "    <tr>\n",
       "      <th>1748</th>\n",
       "      <td>Summer</td>\n",
       "      <td>1974-06-01</td>\n",
       "      <td>0.0</td>\n",
       "      <td>22.7</td>\n",
       "      <td>3</td>\n",
       "    </tr>\n",
       "    <tr>\n",
       "      <th>1749</th>\n",
       "      <td>Summer</td>\n",
       "      <td>1974-06-02</td>\n",
       "      <td>0.0</td>\n",
       "      <td>23.2</td>\n",
       "      <td>3</td>\n",
       "    </tr>\n",
       "    <tr>\n",
       "      <th>1750</th>\n",
       "      <td>Summer</td>\n",
       "      <td>1974-06-03</td>\n",
       "      <td>0.2</td>\n",
       "      <td>22.2</td>\n",
       "      <td>3</td>\n",
       "    </tr>\n",
       "    <tr>\n",
       "      <th>1751</th>\n",
       "      <td>Summer</td>\n",
       "      <td>1974-06-04</td>\n",
       "      <td>2.5</td>\n",
       "      <td>21.0</td>\n",
       "      <td>3</td>\n",
       "    </tr>\n",
       "    <tr>\n",
       "      <th>1752</th>\n",
       "      <td>Summer</td>\n",
       "      <td>1974-06-05</td>\n",
       "      <td>0.0</td>\n",
       "      <td>24.0</td>\n",
       "      <td>3</td>\n",
       "    </tr>\n",
       "  </tbody>\n",
       "</table>\n",
       "</div>"
      ],
      "text/plain": [
       "     season_name       DATE  PRCP  TAVG  season\n",
       "1748      Summer 1974-06-01   0.0  22.7       3\n",
       "1749      Summer 1974-06-02   0.0  23.2       3\n",
       "1750      Summer 1974-06-03   0.2  22.2       3\n",
       "1751      Summer 1974-06-04   2.5  21.0       3\n",
       "1752      Summer 1974-06-05   0.0  24.0       3"
      ]
     },
     "execution_count": 48,
     "metadata": {},
     "output_type": "execute_result"
    }
   ],
   "source": [
    "specificsummerdata.head()"
   ]
  },
  {
   "cell_type": "code",
   "execution_count": 49,
   "id": "eba1ba8b",
   "metadata": {},
   "outputs": [],
   "source": [
    "specificsummerdata.reset_index(drop=True,inplace=True)"
   ]
  },
  {
   "cell_type": "code",
   "execution_count": 50,
   "id": "683d2245",
   "metadata": {
    "scrolled": false
   },
   "outputs": [
    {
     "data": {
      "text/html": [
       "<div>\n",
       "<style scoped>\n",
       "    .dataframe tbody tr th:only-of-type {\n",
       "        vertical-align: middle;\n",
       "    }\n",
       "\n",
       "    .dataframe tbody tr th {\n",
       "        vertical-align: top;\n",
       "    }\n",
       "\n",
       "    .dataframe thead th {\n",
       "        text-align: right;\n",
       "    }\n",
       "</style>\n",
       "<table border=\"1\" class=\"dataframe\">\n",
       "  <thead>\n",
       "    <tr style=\"text-align: right;\">\n",
       "      <th></th>\n",
       "      <th>season_name</th>\n",
       "      <th>DATE</th>\n",
       "      <th>PRCP</th>\n",
       "      <th>TAVG</th>\n",
       "      <th>season</th>\n",
       "    </tr>\n",
       "  </thead>\n",
       "  <tbody>\n",
       "    <tr>\n",
       "      <th>0</th>\n",
       "      <td>Summer</td>\n",
       "      <td>1974-06-01</td>\n",
       "      <td>0.0</td>\n",
       "      <td>22.7</td>\n",
       "      <td>3</td>\n",
       "    </tr>\n",
       "    <tr>\n",
       "      <th>1</th>\n",
       "      <td>Summer</td>\n",
       "      <td>1974-06-02</td>\n",
       "      <td>0.0</td>\n",
       "      <td>23.2</td>\n",
       "      <td>3</td>\n",
       "    </tr>\n",
       "    <tr>\n",
       "      <th>2</th>\n",
       "      <td>Summer</td>\n",
       "      <td>1974-06-03</td>\n",
       "      <td>0.2</td>\n",
       "      <td>22.2</td>\n",
       "      <td>3</td>\n",
       "    </tr>\n",
       "    <tr>\n",
       "      <th>3</th>\n",
       "      <td>Summer</td>\n",
       "      <td>1974-06-04</td>\n",
       "      <td>2.5</td>\n",
       "      <td>21.0</td>\n",
       "      <td>3</td>\n",
       "    </tr>\n",
       "    <tr>\n",
       "      <th>4</th>\n",
       "      <td>Summer</td>\n",
       "      <td>1974-06-05</td>\n",
       "      <td>0.0</td>\n",
       "      <td>24.0</td>\n",
       "      <td>3</td>\n",
       "    </tr>\n",
       "  </tbody>\n",
       "</table>\n",
       "</div>"
      ],
      "text/plain": [
       "  season_name       DATE  PRCP  TAVG  season\n",
       "0      Summer 1974-06-01   0.0  22.7       3\n",
       "1      Summer 1974-06-02   0.0  23.2       3\n",
       "2      Summer 1974-06-03   0.2  22.2       3\n",
       "3      Summer 1974-06-04   2.5  21.0       3\n",
       "4      Summer 1974-06-05   0.0  24.0       3"
      ]
     },
     "execution_count": 50,
     "metadata": {},
     "output_type": "execute_result"
    }
   ],
   "source": [
    "specificsummerdata.head()"
   ]
  },
  {
   "cell_type": "markdown",
   "id": "c536be04",
   "metadata": {},
   "source": [
    "### 2.3 Preparing the Data "
   ]
  },
  {
   "cell_type": "markdown",
   "id": "22bd55f8",
   "metadata": {},
   "source": [
    "> I create another column that contains only the year of each row, which is going to help into summing all the TAVG of a year\n",
    "\n",
    ">To do that I use the groupby function, I sum it based on the year and I place it into a new column that now has the year total of temperatures. https://towardsdatascience.com/pandas-tips-and-tricks-33bcc8a40bb9\n",
    "\n",
    ">In order to find the average of the year I just have to divide with 92, which are the total days that every summer has. Consequently, year_total now has the average temperature of the summer."
   ]
  },
  {
   "cell_type": "code",
   "execution_count": 51,
   "id": "1ad4ff87",
   "metadata": {},
   "outputs": [],
   "source": [
    "specificsummerdata.loc[:,'year'] = specificsummerdata.loc[:,('DATE')].dt.year"
   ]
  },
  {
   "cell_type": "code",
   "execution_count": 52,
   "id": "24879146",
   "metadata": {},
   "outputs": [],
   "source": [
    "specificsummerdata['year_total'] = specificsummerdata.groupby(['year'])['TAVG'].transform(sum) #source: https://towardsdatascience.com/pandas-tips-and-tricks-33bcc8a40bb9"
   ]
  },
  {
   "cell_type": "code",
   "execution_count": 53,
   "id": "1de7aaf9",
   "metadata": {},
   "outputs": [],
   "source": [
    "specificsummerdata.loc[:,'year_total'] = specificsummerdata.loc[:,('year_total')].div(92) #Because every summer has 92 days =31+30+31"
   ]
  },
  {
   "cell_type": "code",
   "execution_count": 54,
   "id": "6f28958c",
   "metadata": {
    "scrolled": false
   },
   "outputs": [
    {
     "data": {
      "text/html": [
       "<div>\n",
       "<style scoped>\n",
       "    .dataframe tbody tr th:only-of-type {\n",
       "        vertical-align: middle;\n",
       "    }\n",
       "\n",
       "    .dataframe tbody tr th {\n",
       "        vertical-align: top;\n",
       "    }\n",
       "\n",
       "    .dataframe thead th {\n",
       "        text-align: right;\n",
       "    }\n",
       "</style>\n",
       "<table border=\"1\" class=\"dataframe\">\n",
       "  <thead>\n",
       "    <tr style=\"text-align: right;\">\n",
       "      <th></th>\n",
       "      <th>season_name</th>\n",
       "      <th>DATE</th>\n",
       "      <th>PRCP</th>\n",
       "      <th>TAVG</th>\n",
       "      <th>season</th>\n",
       "      <th>year</th>\n",
       "      <th>year_total</th>\n",
       "    </tr>\n",
       "  </thead>\n",
       "  <tbody>\n",
       "    <tr>\n",
       "      <th>0</th>\n",
       "      <td>Summer</td>\n",
       "      <td>1974-06-01</td>\n",
       "      <td>0.0</td>\n",
       "      <td>22.7</td>\n",
       "      <td>3</td>\n",
       "      <td>1974</td>\n",
       "      <td>24.783696</td>\n",
       "    </tr>\n",
       "    <tr>\n",
       "      <th>1</th>\n",
       "      <td>Summer</td>\n",
       "      <td>1974-06-02</td>\n",
       "      <td>0.0</td>\n",
       "      <td>23.2</td>\n",
       "      <td>3</td>\n",
       "      <td>1974</td>\n",
       "      <td>24.783696</td>\n",
       "    </tr>\n",
       "    <tr>\n",
       "      <th>2</th>\n",
       "      <td>Summer</td>\n",
       "      <td>1974-06-03</td>\n",
       "      <td>0.2</td>\n",
       "      <td>22.2</td>\n",
       "      <td>3</td>\n",
       "      <td>1974</td>\n",
       "      <td>24.783696</td>\n",
       "    </tr>\n",
       "    <tr>\n",
       "      <th>3</th>\n",
       "      <td>Summer</td>\n",
       "      <td>1974-06-04</td>\n",
       "      <td>2.5</td>\n",
       "      <td>21.0</td>\n",
       "      <td>3</td>\n",
       "      <td>1974</td>\n",
       "      <td>24.783696</td>\n",
       "    </tr>\n",
       "    <tr>\n",
       "      <th>4</th>\n",
       "      <td>Summer</td>\n",
       "      <td>1974-06-05</td>\n",
       "      <td>0.0</td>\n",
       "      <td>24.0</td>\n",
       "      <td>3</td>\n",
       "      <td>1974</td>\n",
       "      <td>24.783696</td>\n",
       "    </tr>\n",
       "  </tbody>\n",
       "</table>\n",
       "</div>"
      ],
      "text/plain": [
       "  season_name       DATE  PRCP  TAVG  season  year  year_total\n",
       "0      Summer 1974-06-01   0.0  22.7       3  1974   24.783696\n",
       "1      Summer 1974-06-02   0.0  23.2       3  1974   24.783696\n",
       "2      Summer 1974-06-03   0.2  22.2       3  1974   24.783696\n",
       "3      Summer 1974-06-04   2.5  21.0       3  1974   24.783696\n",
       "4      Summer 1974-06-05   0.0  24.0       3  1974   24.783696"
      ]
     },
     "execution_count": 54,
     "metadata": {},
     "output_type": "execute_result"
    }
   ],
   "source": [
    "specificsummerdata.head()"
   ]
  },
  {
   "cell_type": "markdown",
   "id": "46f65430",
   "metadata": {},
   "source": [
    "> Now that I have organized my baseline, I copy it into a new dataframe in order to be able to use it for plotting.\n",
    "\n",
    ">I drop all the duplicates and what is left is one row for each year which contains the average temperature of every summer.\n"
   ]
  },
  {
   "cell_type": "code",
   "execution_count": 55,
   "id": "8f391b92",
   "metadata": {},
   "outputs": [],
   "source": [
    "onlysummertemps = specificsummerdata[['year','year_total']].copy()"
   ]
  },
  {
   "cell_type": "code",
   "execution_count": 56,
   "id": "f825ee42",
   "metadata": {},
   "outputs": [],
   "source": [
    "onlysummertemps.drop_duplicates(keep='last',inplace=True)"
   ]
  },
  {
   "cell_type": "code",
   "execution_count": 57,
   "id": "fceb000e",
   "metadata": {
    "scrolled": true
   },
   "outputs": [
    {
     "data": {
      "text/html": [
       "<div>\n",
       "<style scoped>\n",
       "    .dataframe tbody tr th:only-of-type {\n",
       "        vertical-align: middle;\n",
       "    }\n",
       "\n",
       "    .dataframe tbody tr th {\n",
       "        vertical-align: top;\n",
       "    }\n",
       "\n",
       "    .dataframe thead th {\n",
       "        text-align: right;\n",
       "    }\n",
       "</style>\n",
       "<table border=\"1\" class=\"dataframe\">\n",
       "  <thead>\n",
       "    <tr style=\"text-align: right;\">\n",
       "      <th></th>\n",
       "      <th>year</th>\n",
       "      <th>year_total</th>\n",
       "    </tr>\n",
       "  </thead>\n",
       "  <tbody>\n",
       "    <tr>\n",
       "      <th>91</th>\n",
       "      <td>1974</td>\n",
       "      <td>24.783696</td>\n",
       "    </tr>\n",
       "    <tr>\n",
       "      <th>183</th>\n",
       "      <td>1975</td>\n",
       "      <td>25.935870</td>\n",
       "    </tr>\n",
       "    <tr>\n",
       "      <th>275</th>\n",
       "      <td>1976</td>\n",
       "      <td>24.820652</td>\n",
       "    </tr>\n",
       "    <tr>\n",
       "      <th>367</th>\n",
       "      <td>1977</td>\n",
       "      <td>26.558696</td>\n",
       "    </tr>\n",
       "    <tr>\n",
       "      <th>459</th>\n",
       "      <td>1978</td>\n",
       "      <td>25.790217</td>\n",
       "    </tr>\n",
       "  </tbody>\n",
       "</table>\n",
       "</div>"
      ],
      "text/plain": [
       "     year  year_total\n",
       "91   1974   24.783696\n",
       "183  1975   25.935870\n",
       "275  1976   24.820652\n",
       "367  1977   26.558696\n",
       "459  1978   25.790217"
      ]
     },
     "execution_count": 57,
     "metadata": {},
     "output_type": "execute_result"
    }
   ],
   "source": [
    "onlysummertemps.head()"
   ]
  },
  {
   "cell_type": "markdown",
   "id": "baf75484",
   "metadata": {},
   "source": [
    "> I then calculate the deviation mean of each year by subtracting from the total temp of a summer of a specific year the average temperature of all the years from 1974-1999\n",
    "\n",
    ">After that I use the rolling function to calculate the rolling average of the deviation for a period of 10 years. However, in order to have a line from the beggining of the data I set the minimum periods to 1 so there are no null cells.\n"
   ]
  },
  {
   "cell_type": "code",
   "execution_count": 58,
   "id": "28adf3e3",
   "metadata": {},
   "outputs": [],
   "source": [
    "onlysummertemps['deviation_mean'] = onlysummertemps['year_total'] - specificsummerdata['TAVG'].mean()"
   ]
  },
  {
   "cell_type": "code",
   "execution_count": 59,
   "id": "87b156c1",
   "metadata": {},
   "outputs": [],
   "source": [
    "onlysummertemps['rolling_av_dev'] = onlysummertemps['deviation_mean'].rolling(10,min_periods=1).mean()"
   ]
  },
  {
   "cell_type": "code",
   "execution_count": 60,
   "id": "8afa366b",
   "metadata": {},
   "outputs": [],
   "source": [
    "onlysummertemps.reset_index(drop=True, inplace=True)"
   ]
  },
  {
   "cell_type": "code",
   "execution_count": 61,
   "id": "ac1a9e5a",
   "metadata": {
    "scrolled": false
   },
   "outputs": [
    {
     "data": {
      "text/html": [
       "<div>\n",
       "<style scoped>\n",
       "    .dataframe tbody tr th:only-of-type {\n",
       "        vertical-align: middle;\n",
       "    }\n",
       "\n",
       "    .dataframe tbody tr th {\n",
       "        vertical-align: top;\n",
       "    }\n",
       "\n",
       "    .dataframe thead th {\n",
       "        text-align: right;\n",
       "    }\n",
       "</style>\n",
       "<table border=\"1\" class=\"dataframe\">\n",
       "  <thead>\n",
       "    <tr style=\"text-align: right;\">\n",
       "      <th></th>\n",
       "      <th>year</th>\n",
       "      <th>year_total</th>\n",
       "      <th>deviation_mean</th>\n",
       "      <th>rolling_av_dev</th>\n",
       "    </tr>\n",
       "  </thead>\n",
       "  <tbody>\n",
       "    <tr>\n",
       "      <th>0</th>\n",
       "      <td>1974</td>\n",
       "      <td>24.783696</td>\n",
       "      <td>-1.448450</td>\n",
       "      <td>-1.448450</td>\n",
       "    </tr>\n",
       "    <tr>\n",
       "      <th>1</th>\n",
       "      <td>1975</td>\n",
       "      <td>25.935870</td>\n",
       "      <td>-0.296276</td>\n",
       "      <td>-0.872363</td>\n",
       "    </tr>\n",
       "    <tr>\n",
       "      <th>2</th>\n",
       "      <td>1976</td>\n",
       "      <td>24.820652</td>\n",
       "      <td>-1.411494</td>\n",
       "      <td>-1.052073</td>\n",
       "    </tr>\n",
       "    <tr>\n",
       "      <th>3</th>\n",
       "      <td>1977</td>\n",
       "      <td>26.558696</td>\n",
       "      <td>0.326550</td>\n",
       "      <td>-0.707418</td>\n",
       "    </tr>\n",
       "    <tr>\n",
       "      <th>4</th>\n",
       "      <td>1978</td>\n",
       "      <td>25.790217</td>\n",
       "      <td>-0.441928</td>\n",
       "      <td>-0.654320</td>\n",
       "    </tr>\n",
       "    <tr>\n",
       "      <th>5</th>\n",
       "      <td>1979</td>\n",
       "      <td>26.150000</td>\n",
       "      <td>-0.082146</td>\n",
       "      <td>-0.558957</td>\n",
       "    </tr>\n",
       "    <tr>\n",
       "      <th>6</th>\n",
       "      <td>1980</td>\n",
       "      <td>25.596739</td>\n",
       "      <td>-0.635407</td>\n",
       "      <td>-0.569879</td>\n",
       "    </tr>\n",
       "    <tr>\n",
       "      <th>7</th>\n",
       "      <td>1981</td>\n",
       "      <td>25.557609</td>\n",
       "      <td>-0.674537</td>\n",
       "      <td>-0.582961</td>\n",
       "    </tr>\n",
       "    <tr>\n",
       "      <th>8</th>\n",
       "      <td>1982</td>\n",
       "      <td>25.027174</td>\n",
       "      <td>-1.204972</td>\n",
       "      <td>-0.652073</td>\n",
       "    </tr>\n",
       "    <tr>\n",
       "      <th>9</th>\n",
       "      <td>1983</td>\n",
       "      <td>24.348913</td>\n",
       "      <td>-1.883233</td>\n",
       "      <td>-0.775189</td>\n",
       "    </tr>\n",
       "    <tr>\n",
       "      <th>10</th>\n",
       "      <td>1984</td>\n",
       "      <td>24.358696</td>\n",
       "      <td>-1.873450</td>\n",
       "      <td>-0.817689</td>\n",
       "    </tr>\n",
       "    <tr>\n",
       "      <th>11</th>\n",
       "      <td>1985</td>\n",
       "      <td>25.968478</td>\n",
       "      <td>-0.263668</td>\n",
       "      <td>-0.814428</td>\n",
       "    </tr>\n",
       "    <tr>\n",
       "      <th>12</th>\n",
       "      <td>1986</td>\n",
       "      <td>26.827174</td>\n",
       "      <td>0.595028</td>\n",
       "      <td>-0.613776</td>\n",
       "    </tr>\n",
       "    <tr>\n",
       "      <th>13</th>\n",
       "      <td>1987</td>\n",
       "      <td>25.914130</td>\n",
       "      <td>-0.318015</td>\n",
       "      <td>-0.678233</td>\n",
       "    </tr>\n",
       "    <tr>\n",
       "      <th>14</th>\n",
       "      <td>1988</td>\n",
       "      <td>26.936957</td>\n",
       "      <td>0.704811</td>\n",
       "      <td>-0.563559</td>\n",
       "    </tr>\n",
       "    <tr>\n",
       "      <th>15</th>\n",
       "      <td>1989</td>\n",
       "      <td>26.093478</td>\n",
       "      <td>-0.138668</td>\n",
       "      <td>-0.569211</td>\n",
       "    </tr>\n",
       "    <tr>\n",
       "      <th>16</th>\n",
       "      <td>1990</td>\n",
       "      <td>26.611957</td>\n",
       "      <td>0.379811</td>\n",
       "      <td>-0.467689</td>\n",
       "    </tr>\n",
       "    <tr>\n",
       "      <th>17</th>\n",
       "      <td>1991</td>\n",
       "      <td>26.086957</td>\n",
       "      <td>-0.145189</td>\n",
       "      <td>-0.414755</td>\n",
       "    </tr>\n",
       "    <tr>\n",
       "      <th>18</th>\n",
       "      <td>1992</td>\n",
       "      <td>26.001087</td>\n",
       "      <td>-0.231059</td>\n",
       "      <td>-0.317363</td>\n",
       "    </tr>\n",
       "    <tr>\n",
       "      <th>19</th>\n",
       "      <td>1993</td>\n",
       "      <td>26.803261</td>\n",
       "      <td>0.571115</td>\n",
       "      <td>-0.071928</td>\n",
       "    </tr>\n",
       "    <tr>\n",
       "      <th>20</th>\n",
       "      <td>1994</td>\n",
       "      <td>27.157609</td>\n",
       "      <td>0.925463</td>\n",
       "      <td>0.207963</td>\n",
       "    </tr>\n",
       "    <tr>\n",
       "      <th>21</th>\n",
       "      <td>1995</td>\n",
       "      <td>27.109783</td>\n",
       "      <td>0.877637</td>\n",
       "      <td>0.322093</td>\n",
       "    </tr>\n",
       "    <tr>\n",
       "      <th>22</th>\n",
       "      <td>1996</td>\n",
       "      <td>27.350000</td>\n",
       "      <td>1.117854</td>\n",
       "      <td>0.374376</td>\n",
       "    </tr>\n",
       "    <tr>\n",
       "      <th>23</th>\n",
       "      <td>1997</td>\n",
       "      <td>26.433696</td>\n",
       "      <td>0.201550</td>\n",
       "      <td>0.426332</td>\n",
       "    </tr>\n",
       "    <tr>\n",
       "      <th>24</th>\n",
       "      <td>1998</td>\n",
       "      <td>28.128261</td>\n",
       "      <td>1.896115</td>\n",
       "      <td>0.545463</td>\n",
       "    </tr>\n",
       "    <tr>\n",
       "      <th>25</th>\n",
       "      <td>1999</td>\n",
       "      <td>27.973913</td>\n",
       "      <td>1.741767</td>\n",
       "      <td>0.733506</td>\n",
       "    </tr>\n",
       "  </tbody>\n",
       "</table>\n",
       "</div>"
      ],
      "text/plain": [
       "    year  year_total  deviation_mean  rolling_av_dev\n",
       "0   1974   24.783696       -1.448450       -1.448450\n",
       "1   1975   25.935870       -0.296276       -0.872363\n",
       "2   1976   24.820652       -1.411494       -1.052073\n",
       "3   1977   26.558696        0.326550       -0.707418\n",
       "4   1978   25.790217       -0.441928       -0.654320\n",
       "5   1979   26.150000       -0.082146       -0.558957\n",
       "6   1980   25.596739       -0.635407       -0.569879\n",
       "7   1981   25.557609       -0.674537       -0.582961\n",
       "8   1982   25.027174       -1.204972       -0.652073\n",
       "9   1983   24.348913       -1.883233       -0.775189\n",
       "10  1984   24.358696       -1.873450       -0.817689\n",
       "11  1985   25.968478       -0.263668       -0.814428\n",
       "12  1986   26.827174        0.595028       -0.613776\n",
       "13  1987   25.914130       -0.318015       -0.678233\n",
       "14  1988   26.936957        0.704811       -0.563559\n",
       "15  1989   26.093478       -0.138668       -0.569211\n",
       "16  1990   26.611957        0.379811       -0.467689\n",
       "17  1991   26.086957       -0.145189       -0.414755\n",
       "18  1992   26.001087       -0.231059       -0.317363\n",
       "19  1993   26.803261        0.571115       -0.071928\n",
       "20  1994   27.157609        0.925463        0.207963\n",
       "21  1995   27.109783        0.877637        0.322093\n",
       "22  1996   27.350000        1.117854        0.374376\n",
       "23  1997   26.433696        0.201550        0.426332\n",
       "24  1998   28.128261        1.896115        0.545463\n",
       "25  1999   27.973913        1.741767        0.733506"
      ]
     },
     "execution_count": 61,
     "metadata": {},
     "output_type": "execute_result"
    }
   ],
   "source": [
    "onlysummertemps.head(26)"
   ]
  },
  {
   "cell_type": "markdown",
   "id": "74bc2f64",
   "metadata": {},
   "source": [
    "### 2.4 Designing the Plot"
   ]
  },
  {
   "cell_type": "markdown",
   "id": "585d9ffc",
   "metadata": {},
   "source": [
    "> I am using the matplot lib in order to create the plot\n",
    "\n",
    "> The bars are colored based on if the year's deviation mean was above or below 0.\n",
    "\n",
    "> There is also the gold line that indicates the rolling average"
   ]
  },
  {
   "cell_type": "code",
   "execution_count": 62,
   "id": "670076c8",
   "metadata": {},
   "outputs": [
    {
     "data": {
      "image/png": "[encoded data removed]",
      "text/plain": [
       "<Figure size 432x288 with 1 Axes>"
      ]
     },
     "metadata": {
      "needs_background": "light"
     },
     "output_type": "display_data"
    }
   ],
   "source": [
    "fig = plt.figure()\n",
    "\n",
    "plt.bar(onlysummertemps['year'],onlysummertemps['deviation_mean'],color = (onlysummertemps['deviation_mean'] > 0).map\n",
    "                                            ({True:'darkred', False:'skyblue'}))\n",
    "\n",
    "plt.plot(onlysummertemps['year'],onlysummertemps['rolling_av_dev'],color='gold')\n",
    "\n",
    "plt.xlabel('Year')\n",
    "plt.ylabel('Mean Deviation')\n",
    "plt.title(\"Deviation of Summer Temperatures\")\n",
    "plt.grid()\n",
    "\n",
    "rolling = mpatches.Patch(color='gold', label='10 Years Rolling Average of Deviation \\n from the Mean')\n",
    "plt.legend(handles=[rolling])\n",
    "\n",
    "plt.savefig('DeviationOfSummerTemperatures.png')            \n",
    "\n",
    "plt.show()\n"
   ]
  },
  {
   "cell_type": "markdown",
   "id": "62a21948",
   "metadata": {},
   "source": [
    "> My interpetation of the figure is that the climate in Athens indeed became warmer in the summers. We took the baseline of 1974-1999 and compared to it every year's average summer temperature. As shown before 1986 we had much colder summers. However, after 1986 every summer became warmer. Finally, as shown by the rolling deviation line the trend shows that the summer season is going to keep getting warmer and we are going to experience more heat."
   ]
  },
  {
   "cell_type": "markdown",
   "id": "6783a198",
   "metadata": {},
   "source": [
    "## Q3: Evolution of Daily Temperatures"
   ]
  },
  {
   "cell_type": "markdown",
   "id": "20aad539",
   "metadata": {},
   "source": [
    "### 3.1.1  Handling the Data in order to create the average daily temperature for the baseline period of 1974-1999"
   ]
  },
  {
   "cell_type": "code",
   "execution_count": 63,
   "id": "0a576eaf",
   "metadata": {
    "scrolled": true
   },
   "outputs": [
    {
     "data": {
      "text/html": [
       "<div>\n",
       "<style scoped>\n",
       "    .dataframe tbody tr th:only-of-type {\n",
       "        vertical-align: middle;\n",
       "    }\n",
       "\n",
       "    .dataframe tbody tr th {\n",
       "        vertical-align: top;\n",
       "    }\n",
       "\n",
       "    .dataframe thead th {\n",
       "        text-align: right;\n",
       "    }\n",
       "</style>\n",
       "<table border=\"1\" class=\"dataframe\">\n",
       "  <thead>\n",
       "    <tr style=\"text-align: right;\">\n",
       "      <th></th>\n",
       "      <th>DATE</th>\n",
       "      <th>PRCP</th>\n",
       "      <th>TAVG</th>\n",
       "      <th>season</th>\n",
       "      <th>season_name</th>\n",
       "    </tr>\n",
       "  </thead>\n",
       "  <tbody>\n",
       "    <tr>\n",
       "      <th>0</th>\n",
       "      <td>1955-01-01</td>\n",
       "      <td>0.0</td>\n",
       "      <td>NaN</td>\n",
       "      <td>1</td>\n",
       "      <td>Winter</td>\n",
       "    </tr>\n",
       "    <tr>\n",
       "      <th>1</th>\n",
       "      <td>1955-01-02</td>\n",
       "      <td>2.0</td>\n",
       "      <td>NaN</td>\n",
       "      <td>1</td>\n",
       "      <td>Winter</td>\n",
       "    </tr>\n",
       "    <tr>\n",
       "      <th>2</th>\n",
       "      <td>1955-01-03</td>\n",
       "      <td>0.0</td>\n",
       "      <td>NaN</td>\n",
       "      <td>1</td>\n",
       "      <td>Winter</td>\n",
       "    </tr>\n",
       "    <tr>\n",
       "      <th>3</th>\n",
       "      <td>1955-01-04</td>\n",
       "      <td>0.0</td>\n",
       "      <td>NaN</td>\n",
       "      <td>1</td>\n",
       "      <td>Winter</td>\n",
       "    </tr>\n",
       "    <tr>\n",
       "      <th>4</th>\n",
       "      <td>1955-01-05</td>\n",
       "      <td>0.0</td>\n",
       "      <td>NaN</td>\n",
       "      <td>1</td>\n",
       "      <td>Winter</td>\n",
       "    </tr>\n",
       "  </tbody>\n",
       "</table>\n",
       "</div>"
      ],
      "text/plain": [
       "        DATE  PRCP  TAVG  season season_name\n",
       "0 1955-01-01   0.0   NaN       1      Winter\n",
       "1 1955-01-02   2.0   NaN       1      Winter\n",
       "2 1955-01-03   0.0   NaN       1      Winter\n",
       "3 1955-01-04   0.0   NaN       1      Winter\n",
       "4 1955-01-05   0.0   NaN       1      Winter"
      ]
     },
     "execution_count": 63,
     "metadata": {},
     "output_type": "execute_result"
    }
   ],
   "source": [
    "croppedData.head()"
   ]
  },
  {
   "cell_type": "markdown",
   "id": "05e56b75",
   "metadata": {},
   "source": [
    "> First, we have to create a dataframe and make it our baseline. That is what I am doing below and I am only taking the years 1974-1999\n",
    "\n",
    ">After that I am going to drop all the unecessary columns and create two separate columns for month and day that are going to help in the groupby function"
   ]
  },
  {
   "cell_type": "code",
   "execution_count": 64,
   "id": "df06aa0f",
   "metadata": {},
   "outputs": [],
   "source": [
    "q3dailydata = croppedData[(croppedData ['DATE'].dt.year >= 1974) \n",
    "                    & (croppedData ['DATE'].dt.year <= 1999) ] #creating the dataframe that contains the data from 1974-1999"
   ]
  },
  {
   "cell_type": "code",
   "execution_count": 65,
   "id": "3feb65d5",
   "metadata": {},
   "outputs": [
    {
     "name": "stderr",
     "output_type": "stream",
     "text": [
      "c:\\users\\gragas\\appdata\\local\\programs\\python\\python37\\lib\\site-packages\\ipykernel_launcher.py:1: FutureWarning: In a future version of pandas all arguments of DataFrame.drop except for the argument 'labels' will be keyword-only\n",
      "  \"\"\"Entry point for launching an IPython kernel.\n",
      "c:\\users\\gragas\\appdata\\local\\programs\\python\\python37\\lib\\site-packages\\ipykernel_launcher.py:2: FutureWarning: In a future version of pandas all arguments of DataFrame.drop except for the argument 'labels' will be keyword-only\n",
      "  \n",
      "c:\\users\\gragas\\appdata\\local\\programs\\python\\python37\\lib\\site-packages\\ipykernel_launcher.py:3: FutureWarning: In a future version of pandas all arguments of DataFrame.drop except for the argument 'labels' will be keyword-only\n",
      "  This is separate from the ipykernel package so we can avoid doing imports until\n"
     ]
    }
   ],
   "source": [
    "q3dailydata.drop(\"PRCP\",1,inplace=True)\n",
    "q3dailydata.drop(\"season\",1,inplace=True)\n",
    "q3dailydata.drop(\"season_name\",1,inplace=True)"
   ]
  },
  {
   "cell_type": "code",
   "execution_count": 66,
   "id": "d7405357",
   "metadata": {
    "scrolled": false
   },
   "outputs": [
    {
     "data": {
      "text/html": [
       "<div>\n",
       "<style scoped>\n",
       "    .dataframe tbody tr th:only-of-type {\n",
       "        vertical-align: middle;\n",
       "    }\n",
       "\n",
       "    .dataframe tbody tr th {\n",
       "        vertical-align: top;\n",
       "    }\n",
       "\n",
       "    .dataframe thead th {\n",
       "        text-align: right;\n",
       "    }\n",
       "</style>\n",
       "<table border=\"1\" class=\"dataframe\">\n",
       "  <thead>\n",
       "    <tr style=\"text-align: right;\">\n",
       "      <th></th>\n",
       "      <th>DATE</th>\n",
       "      <th>TAVG</th>\n",
       "    </tr>\n",
       "  </thead>\n",
       "  <tbody>\n",
       "    <tr>\n",
       "      <th>6940</th>\n",
       "      <td>1974-01-01</td>\n",
       "      <td>11.6</td>\n",
       "    </tr>\n",
       "    <tr>\n",
       "      <th>6941</th>\n",
       "      <td>1974-01-02</td>\n",
       "      <td>13.7</td>\n",
       "    </tr>\n",
       "    <tr>\n",
       "      <th>6942</th>\n",
       "      <td>1974-01-03</td>\n",
       "      <td>12.2</td>\n",
       "    </tr>\n",
       "    <tr>\n",
       "      <th>6943</th>\n",
       "      <td>1974-01-04</td>\n",
       "      <td>10.8</td>\n",
       "    </tr>\n",
       "    <tr>\n",
       "      <th>6944</th>\n",
       "      <td>1974-01-05</td>\n",
       "      <td>9.6</td>\n",
       "    </tr>\n",
       "  </tbody>\n",
       "</table>\n",
       "</div>"
      ],
      "text/plain": [
       "           DATE  TAVG\n",
       "6940 1974-01-01  11.6\n",
       "6941 1974-01-02  13.7\n",
       "6942 1974-01-03  12.2\n",
       "6943 1974-01-04  10.8\n",
       "6944 1974-01-05   9.6"
      ]
     },
     "execution_count": 66,
     "metadata": {},
     "output_type": "execute_result"
    }
   ],
   "source": [
    "q3dailydata.head()"
   ]
  },
  {
   "cell_type": "code",
   "execution_count": 67,
   "id": "1abf971c",
   "metadata": {},
   "outputs": [],
   "source": [
    "q3dailydata.loc[:,'day'] = q3dailydata.loc[:,('DATE')].dt.day"
   ]
  },
  {
   "cell_type": "code",
   "execution_count": 68,
   "id": "2c9503ab",
   "metadata": {},
   "outputs": [],
   "source": [
    "q3dailydata.loc[:,'month'] = q3dailydata.loc[:,('DATE')].dt.month"
   ]
  },
  {
   "cell_type": "markdown",
   "id": "609d4270",
   "metadata": {},
   "source": [
    ">In order to calculate the data needed for the baseline, I basically have to find the average temperature of all the first days of January and so on.\n",
    "\n",
    ">That is why I am grouping by day and month and summing all the values together.\n",
    "\n",
    ">I now have the sum of all the first of January days, and this result is contained in all the years(01/01/year)"
   ]
  },
  {
   "cell_type": "code",
   "execution_count": 69,
   "id": "f5d51f77",
   "metadata": {},
   "outputs": [],
   "source": [
    "q3dailydata['25yeardayaverage'] = q3dailydata.groupby(['day','month'])['TAVG'].transform(sum)"
   ]
  },
  {
   "cell_type": "code",
   "execution_count": 70,
   "id": "702e650d",
   "metadata": {
    "scrolled": false
   },
   "outputs": [
    {
     "data": {
      "text/html": [
       "<div>\n",
       "<style scoped>\n",
       "    .dataframe tbody tr th:only-of-type {\n",
       "        vertical-align: middle;\n",
       "    }\n",
       "\n",
       "    .dataframe tbody tr th {\n",
       "        vertical-align: top;\n",
       "    }\n",
       "\n",
       "    .dataframe thead th {\n",
       "        text-align: right;\n",
       "    }\n",
       "</style>\n",
       "<table border=\"1\" class=\"dataframe\">\n",
       "  <thead>\n",
       "    <tr style=\"text-align: right;\">\n",
       "      <th></th>\n",
       "      <th>DATE</th>\n",
       "      <th>TAVG</th>\n",
       "      <th>day</th>\n",
       "      <th>month</th>\n",
       "      <th>25yeardayaverage</th>\n",
       "    </tr>\n",
       "  </thead>\n",
       "  <tbody>\n",
       "    <tr>\n",
       "      <th>6940</th>\n",
       "      <td>1974-01-01</td>\n",
       "      <td>11.6</td>\n",
       "      <td>1</td>\n",
       "      <td>1</td>\n",
       "      <td>269.5</td>\n",
       "    </tr>\n",
       "    <tr>\n",
       "      <th>6941</th>\n",
       "      <td>1974-01-02</td>\n",
       "      <td>13.7</td>\n",
       "      <td>2</td>\n",
       "      <td>1</td>\n",
       "      <td>278.4</td>\n",
       "    </tr>\n",
       "    <tr>\n",
       "      <th>6942</th>\n",
       "      <td>1974-01-03</td>\n",
       "      <td>12.2</td>\n",
       "      <td>3</td>\n",
       "      <td>1</td>\n",
       "      <td>265.4</td>\n",
       "    </tr>\n",
       "    <tr>\n",
       "      <th>6943</th>\n",
       "      <td>1974-01-04</td>\n",
       "      <td>10.8</td>\n",
       "      <td>4</td>\n",
       "      <td>1</td>\n",
       "      <td>250.5</td>\n",
       "    </tr>\n",
       "    <tr>\n",
       "      <th>6944</th>\n",
       "      <td>1974-01-05</td>\n",
       "      <td>9.6</td>\n",
       "      <td>5</td>\n",
       "      <td>1</td>\n",
       "      <td>257.9</td>\n",
       "    </tr>\n",
       "  </tbody>\n",
       "</table>\n",
       "</div>"
      ],
      "text/plain": [
       "           DATE  TAVG  day  month  25yeardayaverage\n",
       "6940 1974-01-01  11.6    1      1             269.5\n",
       "6941 1974-01-02  13.7    2      1             278.4\n",
       "6942 1974-01-03  12.2    3      1             265.4\n",
       "6943 1974-01-04  10.8    4      1             250.5\n",
       "6944 1974-01-05   9.6    5      1             257.9"
      ]
     },
     "execution_count": 70,
     "metadata": {},
     "output_type": "execute_result"
    }
   ],
   "source": [
    "q3dailydata.head()"
   ]
  },
  {
   "cell_type": "markdown",
   "id": "5a731541",
   "metadata": {},
   "source": [
    "### 3.1.2 Finding out how the average of each day considering the fact that leap years exist\n",
    "\n",
    ">All regural days will be divided with 25 since they occur 25 times in 25 years\n",
    "\n",
    ">29th of February occurs only in leap years\n",
    "\n",
    ">We know that the first leap year encountered is 1976\n",
    "\n",
    ">I will calculate the leap years and find the mean of 29th of February accordingly"
   ]
  },
  {
   "cell_type": "code",
   "execution_count": 71,
   "id": "497caae5",
   "metadata": {},
   "outputs": [],
   "source": [
    "q3dailydata[\"25yeardayaverage\"] = q3dailydata[\"25yeardayaverage\"].div(25)"
   ]
  },
  {
   "cell_type": "code",
   "execution_count": 72,
   "id": "4a02d5d1",
   "metadata": {
    "scrolled": false
   },
   "outputs": [
    {
     "data": {
      "text/html": [
       "<div>\n",
       "<style scoped>\n",
       "    .dataframe tbody tr th:only-of-type {\n",
       "        vertical-align: middle;\n",
       "    }\n",
       "\n",
       "    .dataframe tbody tr th {\n",
       "        vertical-align: top;\n",
       "    }\n",
       "\n",
       "    .dataframe thead th {\n",
       "        text-align: right;\n",
       "    }\n",
       "</style>\n",
       "<table border=\"1\" class=\"dataframe\">\n",
       "  <thead>\n",
       "    <tr style=\"text-align: right;\">\n",
       "      <th></th>\n",
       "      <th>DATE</th>\n",
       "      <th>TAVG</th>\n",
       "      <th>day</th>\n",
       "      <th>month</th>\n",
       "      <th>25yeardayaverage</th>\n",
       "    </tr>\n",
       "  </thead>\n",
       "  <tbody>\n",
       "    <tr>\n",
       "      <th>6940</th>\n",
       "      <td>1974-01-01</td>\n",
       "      <td>11.6</td>\n",
       "      <td>1</td>\n",
       "      <td>1</td>\n",
       "      <td>10.780</td>\n",
       "    </tr>\n",
       "    <tr>\n",
       "      <th>6941</th>\n",
       "      <td>1974-01-02</td>\n",
       "      <td>13.7</td>\n",
       "      <td>2</td>\n",
       "      <td>1</td>\n",
       "      <td>11.136</td>\n",
       "    </tr>\n",
       "    <tr>\n",
       "      <th>6942</th>\n",
       "      <td>1974-01-03</td>\n",
       "      <td>12.2</td>\n",
       "      <td>3</td>\n",
       "      <td>1</td>\n",
       "      <td>10.616</td>\n",
       "    </tr>\n",
       "    <tr>\n",
       "      <th>6943</th>\n",
       "      <td>1974-01-04</td>\n",
       "      <td>10.8</td>\n",
       "      <td>4</td>\n",
       "      <td>1</td>\n",
       "      <td>10.020</td>\n",
       "    </tr>\n",
       "    <tr>\n",
       "      <th>6944</th>\n",
       "      <td>1974-01-05</td>\n",
       "      <td>9.6</td>\n",
       "      <td>5</td>\n",
       "      <td>1</td>\n",
       "      <td>10.316</td>\n",
       "    </tr>\n",
       "    <tr>\n",
       "      <th>6945</th>\n",
       "      <td>1974-01-06</td>\n",
       "      <td>8.7</td>\n",
       "      <td>6</td>\n",
       "      <td>1</td>\n",
       "      <td>10.220</td>\n",
       "    </tr>\n",
       "    <tr>\n",
       "      <th>6946</th>\n",
       "      <td>1974-01-07</td>\n",
       "      <td>9.7</td>\n",
       "      <td>7</td>\n",
       "      <td>1</td>\n",
       "      <td>10.552</td>\n",
       "    </tr>\n",
       "    <tr>\n",
       "      <th>6947</th>\n",
       "      <td>1974-01-08</td>\n",
       "      <td>9.7</td>\n",
       "      <td>8</td>\n",
       "      <td>1</td>\n",
       "      <td>10.268</td>\n",
       "    </tr>\n",
       "    <tr>\n",
       "      <th>6948</th>\n",
       "      <td>1974-01-09</td>\n",
       "      <td>8.5</td>\n",
       "      <td>9</td>\n",
       "      <td>1</td>\n",
       "      <td>9.492</td>\n",
       "    </tr>\n",
       "    <tr>\n",
       "      <th>6949</th>\n",
       "      <td>1974-01-10</td>\n",
       "      <td>9.3</td>\n",
       "      <td>10</td>\n",
       "      <td>1</td>\n",
       "      <td>9.588</td>\n",
       "    </tr>\n",
       "    <tr>\n",
       "      <th>6950</th>\n",
       "      <td>1974-01-11</td>\n",
       "      <td>10.6</td>\n",
       "      <td>11</td>\n",
       "      <td>1</td>\n",
       "      <td>10.616</td>\n",
       "    </tr>\n",
       "    <tr>\n",
       "      <th>6951</th>\n",
       "      <td>1974-01-12</td>\n",
       "      <td>10.0</td>\n",
       "      <td>12</td>\n",
       "      <td>1</td>\n",
       "      <td>11.380</td>\n",
       "    </tr>\n",
       "    <tr>\n",
       "      <th>6952</th>\n",
       "      <td>1974-01-13</td>\n",
       "      <td>6.1</td>\n",
       "      <td>13</td>\n",
       "      <td>1</td>\n",
       "      <td>10.864</td>\n",
       "    </tr>\n",
       "    <tr>\n",
       "      <th>6953</th>\n",
       "      <td>1974-01-14</td>\n",
       "      <td>5.7</td>\n",
       "      <td>14</td>\n",
       "      <td>1</td>\n",
       "      <td>10.124</td>\n",
       "    </tr>\n",
       "    <tr>\n",
       "      <th>6954</th>\n",
       "      <td>1974-01-15</td>\n",
       "      <td>5.6</td>\n",
       "      <td>15</td>\n",
       "      <td>1</td>\n",
       "      <td>9.928</td>\n",
       "    </tr>\n",
       "    <tr>\n",
       "      <th>6955</th>\n",
       "      <td>1974-01-16</td>\n",
       "      <td>4.8</td>\n",
       "      <td>16</td>\n",
       "      <td>1</td>\n",
       "      <td>9.732</td>\n",
       "    </tr>\n",
       "    <tr>\n",
       "      <th>6956</th>\n",
       "      <td>1974-01-17</td>\n",
       "      <td>6.4</td>\n",
       "      <td>17</td>\n",
       "      <td>1</td>\n",
       "      <td>9.052</td>\n",
       "    </tr>\n",
       "    <tr>\n",
       "      <th>6957</th>\n",
       "      <td>1974-01-18</td>\n",
       "      <td>8.1</td>\n",
       "      <td>18</td>\n",
       "      <td>1</td>\n",
       "      <td>9.176</td>\n",
       "    </tr>\n",
       "    <tr>\n",
       "      <th>6958</th>\n",
       "      <td>1974-01-19</td>\n",
       "      <td>5.5</td>\n",
       "      <td>19</td>\n",
       "      <td>1</td>\n",
       "      <td>9.484</td>\n",
       "    </tr>\n",
       "    <tr>\n",
       "      <th>6959</th>\n",
       "      <td>1974-01-20</td>\n",
       "      <td>8.1</td>\n",
       "      <td>20</td>\n",
       "      <td>1</td>\n",
       "      <td>9.928</td>\n",
       "    </tr>\n",
       "    <tr>\n",
       "      <th>6960</th>\n",
       "      <td>1974-01-21</td>\n",
       "      <td>10.3</td>\n",
       "      <td>21</td>\n",
       "      <td>1</td>\n",
       "      <td>9.948</td>\n",
       "    </tr>\n",
       "    <tr>\n",
       "      <th>6961</th>\n",
       "      <td>1974-01-22</td>\n",
       "      <td>9.3</td>\n",
       "      <td>22</td>\n",
       "      <td>1</td>\n",
       "      <td>9.584</td>\n",
       "    </tr>\n",
       "    <tr>\n",
       "      <th>6962</th>\n",
       "      <td>1974-01-23</td>\n",
       "      <td>7.7</td>\n",
       "      <td>23</td>\n",
       "      <td>1</td>\n",
       "      <td>10.132</td>\n",
       "    </tr>\n",
       "    <tr>\n",
       "      <th>6963</th>\n",
       "      <td>1974-01-24</td>\n",
       "      <td>9.8</td>\n",
       "      <td>24</td>\n",
       "      <td>1</td>\n",
       "      <td>10.488</td>\n",
       "    </tr>\n",
       "    <tr>\n",
       "      <th>6964</th>\n",
       "      <td>1974-01-25</td>\n",
       "      <td>9.3</td>\n",
       "      <td>25</td>\n",
       "      <td>1</td>\n",
       "      <td>10.776</td>\n",
       "    </tr>\n",
       "    <tr>\n",
       "      <th>6965</th>\n",
       "      <td>1974-01-26</td>\n",
       "      <td>9.9</td>\n",
       "      <td>26</td>\n",
       "      <td>1</td>\n",
       "      <td>10.788</td>\n",
       "    </tr>\n",
       "    <tr>\n",
       "      <th>6966</th>\n",
       "      <td>1974-01-27</td>\n",
       "      <td>9.8</td>\n",
       "      <td>27</td>\n",
       "      <td>1</td>\n",
       "      <td>11.000</td>\n",
       "    </tr>\n",
       "    <tr>\n",
       "      <th>6967</th>\n",
       "      <td>1974-01-28</td>\n",
       "      <td>9.7</td>\n",
       "      <td>28</td>\n",
       "      <td>1</td>\n",
       "      <td>10.696</td>\n",
       "    </tr>\n",
       "    <tr>\n",
       "      <th>6968</th>\n",
       "      <td>1974-01-29</td>\n",
       "      <td>9.4</td>\n",
       "      <td>29</td>\n",
       "      <td>1</td>\n",
       "      <td>10.452</td>\n",
       "    </tr>\n",
       "    <tr>\n",
       "      <th>6969</th>\n",
       "      <td>1974-01-30</td>\n",
       "      <td>8.5</td>\n",
       "      <td>30</td>\n",
       "      <td>1</td>\n",
       "      <td>10.304</td>\n",
       "    </tr>\n",
       "    <tr>\n",
       "      <th>6970</th>\n",
       "      <td>1974-01-31</td>\n",
       "      <td>8.3</td>\n",
       "      <td>31</td>\n",
       "      <td>1</td>\n",
       "      <td>9.788</td>\n",
       "    </tr>\n",
       "    <tr>\n",
       "      <th>6971</th>\n",
       "      <td>1974-02-01</td>\n",
       "      <td>6.8</td>\n",
       "      <td>1</td>\n",
       "      <td>2</td>\n",
       "      <td>9.612</td>\n",
       "    </tr>\n",
       "    <tr>\n",
       "      <th>6972</th>\n",
       "      <td>1974-02-02</td>\n",
       "      <td>8.9</td>\n",
       "      <td>2</td>\n",
       "      <td>2</td>\n",
       "      <td>9.480</td>\n",
       "    </tr>\n",
       "    <tr>\n",
       "      <th>6973</th>\n",
       "      <td>1974-02-03</td>\n",
       "      <td>11.0</td>\n",
       "      <td>3</td>\n",
       "      <td>2</td>\n",
       "      <td>9.848</td>\n",
       "    </tr>\n",
       "    <tr>\n",
       "      <th>6974</th>\n",
       "      <td>1974-02-04</td>\n",
       "      <td>12.9</td>\n",
       "      <td>4</td>\n",
       "      <td>2</td>\n",
       "      <td>9.804</td>\n",
       "    </tr>\n",
       "    <tr>\n",
       "      <th>6975</th>\n",
       "      <td>1974-02-05</td>\n",
       "      <td>13.4</td>\n",
       "      <td>5</td>\n",
       "      <td>2</td>\n",
       "      <td>10.180</td>\n",
       "    </tr>\n",
       "    <tr>\n",
       "      <th>6976</th>\n",
       "      <td>1974-02-06</td>\n",
       "      <td>13.4</td>\n",
       "      <td>6</td>\n",
       "      <td>2</td>\n",
       "      <td>10.312</td>\n",
       "    </tr>\n",
       "    <tr>\n",
       "      <th>6977</th>\n",
       "      <td>1974-02-07</td>\n",
       "      <td>14.5</td>\n",
       "      <td>7</td>\n",
       "      <td>2</td>\n",
       "      <td>10.564</td>\n",
       "    </tr>\n",
       "    <tr>\n",
       "      <th>6978</th>\n",
       "      <td>1974-02-08</td>\n",
       "      <td>10.8</td>\n",
       "      <td>8</td>\n",
       "      <td>2</td>\n",
       "      <td>9.924</td>\n",
       "    </tr>\n",
       "    <tr>\n",
       "      <th>6979</th>\n",
       "      <td>1974-02-09</td>\n",
       "      <td>7.9</td>\n",
       "      <td>9</td>\n",
       "      <td>2</td>\n",
       "      <td>9.748</td>\n",
       "    </tr>\n",
       "    <tr>\n",
       "      <th>6980</th>\n",
       "      <td>1974-02-10</td>\n",
       "      <td>9.2</td>\n",
       "      <td>10</td>\n",
       "      <td>2</td>\n",
       "      <td>10.500</td>\n",
       "    </tr>\n",
       "    <tr>\n",
       "      <th>6981</th>\n",
       "      <td>1974-02-11</td>\n",
       "      <td>10.3</td>\n",
       "      <td>11</td>\n",
       "      <td>2</td>\n",
       "      <td>11.180</td>\n",
       "    </tr>\n",
       "    <tr>\n",
       "      <th>6982</th>\n",
       "      <td>1974-02-12</td>\n",
       "      <td>10.9</td>\n",
       "      <td>12</td>\n",
       "      <td>2</td>\n",
       "      <td>11.492</td>\n",
       "    </tr>\n",
       "    <tr>\n",
       "      <th>6983</th>\n",
       "      <td>1974-02-13</td>\n",
       "      <td>12.0</td>\n",
       "      <td>13</td>\n",
       "      <td>2</td>\n",
       "      <td>11.752</td>\n",
       "    </tr>\n",
       "    <tr>\n",
       "      <th>6984</th>\n",
       "      <td>1974-02-14</td>\n",
       "      <td>15.8</td>\n",
       "      <td>14</td>\n",
       "      <td>2</td>\n",
       "      <td>11.488</td>\n",
       "    </tr>\n",
       "    <tr>\n",
       "      <th>6985</th>\n",
       "      <td>1974-02-15</td>\n",
       "      <td>15.3</td>\n",
       "      <td>15</td>\n",
       "      <td>2</td>\n",
       "      <td>10.716</td>\n",
       "    </tr>\n",
       "    <tr>\n",
       "      <th>6986</th>\n",
       "      <td>1974-02-16</td>\n",
       "      <td>12.6</td>\n",
       "      <td>16</td>\n",
       "      <td>2</td>\n",
       "      <td>10.856</td>\n",
       "    </tr>\n",
       "    <tr>\n",
       "      <th>6987</th>\n",
       "      <td>1974-02-17</td>\n",
       "      <td>13.1</td>\n",
       "      <td>17</td>\n",
       "      <td>2</td>\n",
       "      <td>11.104</td>\n",
       "    </tr>\n",
       "    <tr>\n",
       "      <th>6988</th>\n",
       "      <td>1974-02-18</td>\n",
       "      <td>13.4</td>\n",
       "      <td>18</td>\n",
       "      <td>2</td>\n",
       "      <td>10.508</td>\n",
       "    </tr>\n",
       "    <tr>\n",
       "      <th>6989</th>\n",
       "      <td>1974-02-19</td>\n",
       "      <td>13.9</td>\n",
       "      <td>19</td>\n",
       "      <td>2</td>\n",
       "      <td>9.880</td>\n",
       "    </tr>\n",
       "    <tr>\n",
       "      <th>6990</th>\n",
       "      <td>1974-02-20</td>\n",
       "      <td>14.1</td>\n",
       "      <td>20</td>\n",
       "      <td>2</td>\n",
       "      <td>10.072</td>\n",
       "    </tr>\n",
       "    <tr>\n",
       "      <th>6991</th>\n",
       "      <td>1974-02-21</td>\n",
       "      <td>12.9</td>\n",
       "      <td>21</td>\n",
       "      <td>2</td>\n",
       "      <td>10.188</td>\n",
       "    </tr>\n",
       "    <tr>\n",
       "      <th>6992</th>\n",
       "      <td>1974-02-22</td>\n",
       "      <td>12.2</td>\n",
       "      <td>22</td>\n",
       "      <td>2</td>\n",
       "      <td>10.392</td>\n",
       "    </tr>\n",
       "    <tr>\n",
       "      <th>6993</th>\n",
       "      <td>1974-02-23</td>\n",
       "      <td>11.8</td>\n",
       "      <td>23</td>\n",
       "      <td>2</td>\n",
       "      <td>9.956</td>\n",
       "    </tr>\n",
       "    <tr>\n",
       "      <th>6994</th>\n",
       "      <td>1974-02-24</td>\n",
       "      <td>9.7</td>\n",
       "      <td>24</td>\n",
       "      <td>2</td>\n",
       "      <td>9.864</td>\n",
       "    </tr>\n",
       "    <tr>\n",
       "      <th>6995</th>\n",
       "      <td>1974-02-25</td>\n",
       "      <td>8.9</td>\n",
       "      <td>25</td>\n",
       "      <td>2</td>\n",
       "      <td>9.804</td>\n",
       "    </tr>\n",
       "    <tr>\n",
       "      <th>6996</th>\n",
       "      <td>1974-02-26</td>\n",
       "      <td>7.6</td>\n",
       "      <td>26</td>\n",
       "      <td>2</td>\n",
       "      <td>10.168</td>\n",
       "    </tr>\n",
       "    <tr>\n",
       "      <th>6997</th>\n",
       "      <td>1974-02-27</td>\n",
       "      <td>6.9</td>\n",
       "      <td>27</td>\n",
       "      <td>2</td>\n",
       "      <td>10.428</td>\n",
       "    </tr>\n",
       "    <tr>\n",
       "      <th>6998</th>\n",
       "      <td>1974-02-28</td>\n",
       "      <td>6.5</td>\n",
       "      <td>28</td>\n",
       "      <td>2</td>\n",
       "      <td>10.340</td>\n",
       "    </tr>\n",
       "    <tr>\n",
       "      <th>6999</th>\n",
       "      <td>1974-03-01</td>\n",
       "      <td>6.9</td>\n",
       "      <td>1</td>\n",
       "      <td>3</td>\n",
       "      <td>10.616</td>\n",
       "    </tr>\n",
       "  </tbody>\n",
       "</table>\n",
       "</div>"
      ],
      "text/plain": [
       "           DATE  TAVG  day  month  25yeardayaverage\n",
       "6940 1974-01-01  11.6    1      1            10.780\n",
       "6941 1974-01-02  13.7    2      1            11.136\n",
       "6942 1974-01-03  12.2    3      1            10.616\n",
       "6943 1974-01-04  10.8    4      1            10.020\n",
       "6944 1974-01-05   9.6    5      1            10.316\n",
       "6945 1974-01-06   8.7    6      1            10.220\n",
       "6946 1974-01-07   9.7    7      1            10.552\n",
       "6947 1974-01-08   9.7    8      1            10.268\n",
       "6948 1974-01-09   8.5    9      1             9.492\n",
       "6949 1974-01-10   9.3   10      1             9.588\n",
       "6950 1974-01-11  10.6   11      1            10.616\n",
       "6951 1974-01-12  10.0   12      1            11.380\n",
       "6952 1974-01-13   6.1   13      1            10.864\n",
       "6953 1974-01-14   5.7   14      1            10.124\n",
       "6954 1974-01-15   5.6   15      1             9.928\n",
       "6955 1974-01-16   4.8   16      1             9.732\n",
       "6956 1974-01-17   6.4   17      1             9.052\n",
       "6957 1974-01-18   8.1   18      1             9.176\n",
       "6958 1974-01-19   5.5   19      1             9.484\n",
       "6959 1974-01-20   8.1   20      1             9.928\n",
       "6960 1974-01-21  10.3   21      1             9.948\n",
       "6961 1974-01-22   9.3   22      1             9.584\n",
       "6962 1974-01-23   7.7   23      1            10.132\n",
       "6963 1974-01-24   9.8   24      1            10.488\n",
       "6964 1974-01-25   9.3   25      1            10.776\n",
       "6965 1974-01-26   9.9   26      1            10.788\n",
       "6966 1974-01-27   9.8   27      1            11.000\n",
       "6967 1974-01-28   9.7   28      1            10.696\n",
       "6968 1974-01-29   9.4   29      1            10.452\n",
       "6969 1974-01-30   8.5   30      1            10.304\n",
       "6970 1974-01-31   8.3   31      1             9.788\n",
       "6971 1974-02-01   6.8    1      2             9.612\n",
       "6972 1974-02-02   8.9    2      2             9.480\n",
       "6973 1974-02-03  11.0    3      2             9.848\n",
       "6974 1974-02-04  12.9    4      2             9.804\n",
       "6975 1974-02-05  13.4    5      2            10.180\n",
       "6976 1974-02-06  13.4    6      2            10.312\n",
       "6977 1974-02-07  14.5    7      2            10.564\n",
       "6978 1974-02-08  10.8    8      2             9.924\n",
       "6979 1974-02-09   7.9    9      2             9.748\n",
       "6980 1974-02-10   9.2   10      2            10.500\n",
       "6981 1974-02-11  10.3   11      2            11.180\n",
       "6982 1974-02-12  10.9   12      2            11.492\n",
       "6983 1974-02-13  12.0   13      2            11.752\n",
       "6984 1974-02-14  15.8   14      2            11.488\n",
       "6985 1974-02-15  15.3   15      2            10.716\n",
       "6986 1974-02-16  12.6   16      2            10.856\n",
       "6987 1974-02-17  13.1   17      2            11.104\n",
       "6988 1974-02-18  13.4   18      2            10.508\n",
       "6989 1974-02-19  13.9   19      2             9.880\n",
       "6990 1974-02-20  14.1   20      2            10.072\n",
       "6991 1974-02-21  12.9   21      2            10.188\n",
       "6992 1974-02-22  12.2   22      2            10.392\n",
       "6993 1974-02-23  11.8   23      2             9.956\n",
       "6994 1974-02-24   9.7   24      2             9.864\n",
       "6995 1974-02-25   8.9   25      2             9.804\n",
       "6996 1974-02-26   7.6   26      2            10.168\n",
       "6997 1974-02-27   6.9   27      2            10.428\n",
       "6998 1974-02-28   6.5   28      2            10.340\n",
       "6999 1974-03-01   6.9    1      3            10.616"
      ]
     },
     "execution_count": 72,
     "metadata": {},
     "output_type": "execute_result"
    }
   ],
   "source": [
    "q3dailydata.head(60)"
   ]
  },
  {
   "cell_type": "code",
   "execution_count": 73,
   "id": "3293abc6",
   "metadata": {},
   "outputs": [],
   "source": [
    "leap_years=(1999 -1976)//4"
   ]
  },
  {
   "cell_type": "code",
   "execution_count": 74,
   "id": "2e425d72",
   "metadata": {
    "scrolled": false
   },
   "outputs": [
    {
     "name": "stdout",
     "output_type": "stream",
     "text": [
      "5\n"
     ]
    }
   ],
   "source": [
    "print(leap_years)"
   ]
  },
  {
   "cell_type": "markdown",
   "id": "5a5ab1b7",
   "metadata": {},
   "source": [
    "> I divided every number with 25 in order to find the average temperature for each day\n",
    "\n",
    ">The only day where the average is not correct is 29th of February\n",
    "\n",
    ">It is wrong because it should be divided with 5 since there are 5 leap years in that period\n",
    "\n",
    ">To correct this and to prepare my dataframe correctly for plotting I am going to keep the months and days of a only a single year and that year is going to be a leap year,1976, so it can contain 29th of February. \n",
    "\n",
    ">Furthermore, I am going to fix 29th of February by multipliying it by 5, because 5* x /25 = x.div(5)"
   ]
  },
  {
   "cell_type": "code",
   "execution_count": 75,
   "id": "f7f5d108",
   "metadata": {},
   "outputs": [],
   "source": [
    "q3dailydata2 = q3dailydata[(q3dailydata ['DATE'].dt.year == 1976)]"
   ]
  },
  {
   "cell_type": "code",
   "execution_count": 76,
   "id": "57aae2a3",
   "metadata": {},
   "outputs": [],
   "source": [
    "q3dailydata2.reset_index(drop=True,inplace=True)"
   ]
  },
  {
   "cell_type": "code",
   "execution_count": 77,
   "id": "c17d0810",
   "metadata": {},
   "outputs": [
    {
     "data": {
      "text/html": [
       "<div>\n",
       "<style scoped>\n",
       "    .dataframe tbody tr th:only-of-type {\n",
       "        vertical-align: middle;\n",
       "    }\n",
       "\n",
       "    .dataframe tbody tr th {\n",
       "        vertical-align: top;\n",
       "    }\n",
       "\n",
       "    .dataframe thead th {\n",
       "        text-align: right;\n",
       "    }\n",
       "</style>\n",
       "<table border=\"1\" class=\"dataframe\">\n",
       "  <thead>\n",
       "    <tr style=\"text-align: right;\">\n",
       "      <th></th>\n",
       "      <th>DATE</th>\n",
       "      <th>TAVG</th>\n",
       "      <th>day</th>\n",
       "      <th>month</th>\n",
       "      <th>25yeardayaverage</th>\n",
       "    </tr>\n",
       "  </thead>\n",
       "  <tbody>\n",
       "    <tr>\n",
       "      <th>0</th>\n",
       "      <td>1976-01-01</td>\n",
       "      <td>11.3</td>\n",
       "      <td>1</td>\n",
       "      <td>1</td>\n",
       "      <td>10.780</td>\n",
       "    </tr>\n",
       "    <tr>\n",
       "      <th>1</th>\n",
       "      <td>1976-01-02</td>\n",
       "      <td>12.4</td>\n",
       "      <td>2</td>\n",
       "      <td>1</td>\n",
       "      <td>11.136</td>\n",
       "    </tr>\n",
       "    <tr>\n",
       "      <th>2</th>\n",
       "      <td>1976-01-03</td>\n",
       "      <td>13.6</td>\n",
       "      <td>3</td>\n",
       "      <td>1</td>\n",
       "      <td>10.616</td>\n",
       "    </tr>\n",
       "    <tr>\n",
       "      <th>3</th>\n",
       "      <td>1976-01-04</td>\n",
       "      <td>13.6</td>\n",
       "      <td>4</td>\n",
       "      <td>1</td>\n",
       "      <td>10.020</td>\n",
       "    </tr>\n",
       "    <tr>\n",
       "      <th>4</th>\n",
       "      <td>1976-01-05</td>\n",
       "      <td>8.4</td>\n",
       "      <td>5</td>\n",
       "      <td>1</td>\n",
       "      <td>10.316</td>\n",
       "    </tr>\n",
       "  </tbody>\n",
       "</table>\n",
       "</div>"
      ],
      "text/plain": [
       "        DATE  TAVG  day  month  25yeardayaverage\n",
       "0 1976-01-01  11.3    1      1            10.780\n",
       "1 1976-01-02  12.4    2      1            11.136\n",
       "2 1976-01-03  13.6    3      1            10.616\n",
       "3 1976-01-04  13.6    4      1            10.020\n",
       "4 1976-01-05   8.4    5      1            10.316"
      ]
     },
     "execution_count": 77,
     "metadata": {},
     "output_type": "execute_result"
    }
   ],
   "source": [
    "q3dailydata2.head()"
   ]
  },
  {
   "cell_type": "code",
   "execution_count": 78,
   "id": "7d71956f",
   "metadata": {
    "scrolled": false
   },
   "outputs": [],
   "source": [
    "q3dailydata2.at[59,'25yeardayaverage'] = q3dailydata.loc[q3dailydata['DATE']=='1976-02-29']['25yeardayaverage'].mul(5) #you have to multiply with 25 and then divide with 5 or you can just multiply by 5"
   ]
  },
  {
   "cell_type": "code",
   "execution_count": 79,
   "id": "9b67c72b",
   "metadata": {
    "scrolled": false
   },
   "outputs": [
    {
     "data": {
      "text/html": [
       "<div>\n",
       "<style scoped>\n",
       "    .dataframe tbody tr th:only-of-type {\n",
       "        vertical-align: middle;\n",
       "    }\n",
       "\n",
       "    .dataframe tbody tr th {\n",
       "        vertical-align: top;\n",
       "    }\n",
       "\n",
       "    .dataframe thead th {\n",
       "        text-align: right;\n",
       "    }\n",
       "</style>\n",
       "<table border=\"1\" class=\"dataframe\">\n",
       "  <thead>\n",
       "    <tr style=\"text-align: right;\">\n",
       "      <th></th>\n",
       "      <th>DATE</th>\n",
       "      <th>TAVG</th>\n",
       "      <th>day</th>\n",
       "      <th>month</th>\n",
       "      <th>25yeardayaverage</th>\n",
       "    </tr>\n",
       "  </thead>\n",
       "  <tbody>\n",
       "    <tr>\n",
       "      <th>0</th>\n",
       "      <td>1976-01-01</td>\n",
       "      <td>11.3</td>\n",
       "      <td>1</td>\n",
       "      <td>1</td>\n",
       "      <td>10.780</td>\n",
       "    </tr>\n",
       "    <tr>\n",
       "      <th>1</th>\n",
       "      <td>1976-01-02</td>\n",
       "      <td>12.4</td>\n",
       "      <td>2</td>\n",
       "      <td>1</td>\n",
       "      <td>11.136</td>\n",
       "    </tr>\n",
       "    <tr>\n",
       "      <th>2</th>\n",
       "      <td>1976-01-03</td>\n",
       "      <td>13.6</td>\n",
       "      <td>3</td>\n",
       "      <td>1</td>\n",
       "      <td>10.616</td>\n",
       "    </tr>\n",
       "    <tr>\n",
       "      <th>3</th>\n",
       "      <td>1976-01-04</td>\n",
       "      <td>13.6</td>\n",
       "      <td>4</td>\n",
       "      <td>1</td>\n",
       "      <td>10.020</td>\n",
       "    </tr>\n",
       "    <tr>\n",
       "      <th>4</th>\n",
       "      <td>1976-01-05</td>\n",
       "      <td>8.4</td>\n",
       "      <td>5</td>\n",
       "      <td>1</td>\n",
       "      <td>10.316</td>\n",
       "    </tr>\n",
       "    <tr>\n",
       "      <th>5</th>\n",
       "      <td>1976-01-06</td>\n",
       "      <td>9.5</td>\n",
       "      <td>6</td>\n",
       "      <td>1</td>\n",
       "      <td>10.220</td>\n",
       "    </tr>\n",
       "    <tr>\n",
       "      <th>6</th>\n",
       "      <td>1976-01-07</td>\n",
       "      <td>11.4</td>\n",
       "      <td>7</td>\n",
       "      <td>1</td>\n",
       "      <td>10.552</td>\n",
       "    </tr>\n",
       "    <tr>\n",
       "      <th>7</th>\n",
       "      <td>1976-01-08</td>\n",
       "      <td>10.6</td>\n",
       "      <td>8</td>\n",
       "      <td>1</td>\n",
       "      <td>10.268</td>\n",
       "    </tr>\n",
       "    <tr>\n",
       "      <th>8</th>\n",
       "      <td>1976-01-09</td>\n",
       "      <td>8.7</td>\n",
       "      <td>9</td>\n",
       "      <td>1</td>\n",
       "      <td>9.492</td>\n",
       "    </tr>\n",
       "    <tr>\n",
       "      <th>9</th>\n",
       "      <td>1976-01-10</td>\n",
       "      <td>9.1</td>\n",
       "      <td>10</td>\n",
       "      <td>1</td>\n",
       "      <td>9.588</td>\n",
       "    </tr>\n",
       "    <tr>\n",
       "      <th>10</th>\n",
       "      <td>1976-01-11</td>\n",
       "      <td>11.9</td>\n",
       "      <td>11</td>\n",
       "      <td>1</td>\n",
       "      <td>10.616</td>\n",
       "    </tr>\n",
       "    <tr>\n",
       "      <th>11</th>\n",
       "      <td>1976-01-12</td>\n",
       "      <td>14.2</td>\n",
       "      <td>12</td>\n",
       "      <td>1</td>\n",
       "      <td>11.380</td>\n",
       "    </tr>\n",
       "    <tr>\n",
       "      <th>12</th>\n",
       "      <td>1976-01-13</td>\n",
       "      <td>13.3</td>\n",
       "      <td>13</td>\n",
       "      <td>1</td>\n",
       "      <td>10.864</td>\n",
       "    </tr>\n",
       "    <tr>\n",
       "      <th>13</th>\n",
       "      <td>1976-01-14</td>\n",
       "      <td>14.6</td>\n",
       "      <td>14</td>\n",
       "      <td>1</td>\n",
       "      <td>10.124</td>\n",
       "    </tr>\n",
       "    <tr>\n",
       "      <th>14</th>\n",
       "      <td>1976-01-15</td>\n",
       "      <td>11.9</td>\n",
       "      <td>15</td>\n",
       "      <td>1</td>\n",
       "      <td>9.928</td>\n",
       "    </tr>\n",
       "    <tr>\n",
       "      <th>15</th>\n",
       "      <td>1976-01-16</td>\n",
       "      <td>8.9</td>\n",
       "      <td>16</td>\n",
       "      <td>1</td>\n",
       "      <td>9.732</td>\n",
       "    </tr>\n",
       "    <tr>\n",
       "      <th>16</th>\n",
       "      <td>1976-01-17</td>\n",
       "      <td>3.8</td>\n",
       "      <td>17</td>\n",
       "      <td>1</td>\n",
       "      <td>9.052</td>\n",
       "    </tr>\n",
       "    <tr>\n",
       "      <th>17</th>\n",
       "      <td>1976-01-18</td>\n",
       "      <td>4.7</td>\n",
       "      <td>18</td>\n",
       "      <td>1</td>\n",
       "      <td>9.176</td>\n",
       "    </tr>\n",
       "    <tr>\n",
       "      <th>18</th>\n",
       "      <td>1976-01-19</td>\n",
       "      <td>5.5</td>\n",
       "      <td>19</td>\n",
       "      <td>1</td>\n",
       "      <td>9.484</td>\n",
       "    </tr>\n",
       "    <tr>\n",
       "      <th>19</th>\n",
       "      <td>1976-01-20</td>\n",
       "      <td>4.6</td>\n",
       "      <td>20</td>\n",
       "      <td>1</td>\n",
       "      <td>9.928</td>\n",
       "    </tr>\n",
       "    <tr>\n",
       "      <th>20</th>\n",
       "      <td>1976-01-21</td>\n",
       "      <td>7.1</td>\n",
       "      <td>21</td>\n",
       "      <td>1</td>\n",
       "      <td>9.948</td>\n",
       "    </tr>\n",
       "    <tr>\n",
       "      <th>21</th>\n",
       "      <td>1976-01-22</td>\n",
       "      <td>8.8</td>\n",
       "      <td>22</td>\n",
       "      <td>1</td>\n",
       "      <td>9.584</td>\n",
       "    </tr>\n",
       "    <tr>\n",
       "      <th>22</th>\n",
       "      <td>1976-01-23</td>\n",
       "      <td>11.1</td>\n",
       "      <td>23</td>\n",
       "      <td>1</td>\n",
       "      <td>10.132</td>\n",
       "    </tr>\n",
       "    <tr>\n",
       "      <th>23</th>\n",
       "      <td>1976-01-24</td>\n",
       "      <td>13.9</td>\n",
       "      <td>24</td>\n",
       "      <td>1</td>\n",
       "      <td>10.488</td>\n",
       "    </tr>\n",
       "    <tr>\n",
       "      <th>24</th>\n",
       "      <td>1976-01-25</td>\n",
       "      <td>15.9</td>\n",
       "      <td>25</td>\n",
       "      <td>1</td>\n",
       "      <td>10.776</td>\n",
       "    </tr>\n",
       "    <tr>\n",
       "      <th>25</th>\n",
       "      <td>1976-01-26</td>\n",
       "      <td>15.4</td>\n",
       "      <td>26</td>\n",
       "      <td>1</td>\n",
       "      <td>10.788</td>\n",
       "    </tr>\n",
       "    <tr>\n",
       "      <th>26</th>\n",
       "      <td>1976-01-27</td>\n",
       "      <td>15.5</td>\n",
       "      <td>27</td>\n",
       "      <td>1</td>\n",
       "      <td>11.000</td>\n",
       "    </tr>\n",
       "    <tr>\n",
       "      <th>27</th>\n",
       "      <td>1976-01-28</td>\n",
       "      <td>12.1</td>\n",
       "      <td>28</td>\n",
       "      <td>1</td>\n",
       "      <td>10.696</td>\n",
       "    </tr>\n",
       "    <tr>\n",
       "      <th>28</th>\n",
       "      <td>1976-01-29</td>\n",
       "      <td>11.3</td>\n",
       "      <td>29</td>\n",
       "      <td>1</td>\n",
       "      <td>10.452</td>\n",
       "    </tr>\n",
       "    <tr>\n",
       "      <th>29</th>\n",
       "      <td>1976-01-30</td>\n",
       "      <td>11.1</td>\n",
       "      <td>30</td>\n",
       "      <td>1</td>\n",
       "      <td>10.304</td>\n",
       "    </tr>\n",
       "    <tr>\n",
       "      <th>30</th>\n",
       "      <td>1976-01-31</td>\n",
       "      <td>11.9</td>\n",
       "      <td>31</td>\n",
       "      <td>1</td>\n",
       "      <td>9.788</td>\n",
       "    </tr>\n",
       "    <tr>\n",
       "      <th>31</th>\n",
       "      <td>1976-02-01</td>\n",
       "      <td>13.7</td>\n",
       "      <td>1</td>\n",
       "      <td>2</td>\n",
       "      <td>9.612</td>\n",
       "    </tr>\n",
       "    <tr>\n",
       "      <th>32</th>\n",
       "      <td>1976-02-02</td>\n",
       "      <td>13.3</td>\n",
       "      <td>2</td>\n",
       "      <td>2</td>\n",
       "      <td>9.480</td>\n",
       "    </tr>\n",
       "    <tr>\n",
       "      <th>33</th>\n",
       "      <td>1976-02-03</td>\n",
       "      <td>11.6</td>\n",
       "      <td>3</td>\n",
       "      <td>2</td>\n",
       "      <td>9.848</td>\n",
       "    </tr>\n",
       "    <tr>\n",
       "      <th>34</th>\n",
       "      <td>1976-02-04</td>\n",
       "      <td>10.7</td>\n",
       "      <td>4</td>\n",
       "      <td>2</td>\n",
       "      <td>9.804</td>\n",
       "    </tr>\n",
       "    <tr>\n",
       "      <th>35</th>\n",
       "      <td>1976-02-05</td>\n",
       "      <td>10.9</td>\n",
       "      <td>5</td>\n",
       "      <td>2</td>\n",
       "      <td>10.180</td>\n",
       "    </tr>\n",
       "    <tr>\n",
       "      <th>36</th>\n",
       "      <td>1976-02-06</td>\n",
       "      <td>11.3</td>\n",
       "      <td>6</td>\n",
       "      <td>2</td>\n",
       "      <td>10.312</td>\n",
       "    </tr>\n",
       "    <tr>\n",
       "      <th>37</th>\n",
       "      <td>1976-02-07</td>\n",
       "      <td>7.9</td>\n",
       "      <td>7</td>\n",
       "      <td>2</td>\n",
       "      <td>10.564</td>\n",
       "    </tr>\n",
       "    <tr>\n",
       "      <th>38</th>\n",
       "      <td>1976-02-08</td>\n",
       "      <td>1.3</td>\n",
       "      <td>8</td>\n",
       "      <td>2</td>\n",
       "      <td>9.924</td>\n",
       "    </tr>\n",
       "    <tr>\n",
       "      <th>39</th>\n",
       "      <td>1976-02-09</td>\n",
       "      <td>2.2</td>\n",
       "      <td>9</td>\n",
       "      <td>2</td>\n",
       "      <td>9.748</td>\n",
       "    </tr>\n",
       "    <tr>\n",
       "      <th>40</th>\n",
       "      <td>1976-02-10</td>\n",
       "      <td>5.2</td>\n",
       "      <td>10</td>\n",
       "      <td>2</td>\n",
       "      <td>10.500</td>\n",
       "    </tr>\n",
       "    <tr>\n",
       "      <th>41</th>\n",
       "      <td>1976-02-11</td>\n",
       "      <td>8.2</td>\n",
       "      <td>11</td>\n",
       "      <td>2</td>\n",
       "      <td>11.180</td>\n",
       "    </tr>\n",
       "    <tr>\n",
       "      <th>42</th>\n",
       "      <td>1976-02-12</td>\n",
       "      <td>11.0</td>\n",
       "      <td>12</td>\n",
       "      <td>2</td>\n",
       "      <td>11.492</td>\n",
       "    </tr>\n",
       "    <tr>\n",
       "      <th>43</th>\n",
       "      <td>1976-02-13</td>\n",
       "      <td>12.8</td>\n",
       "      <td>13</td>\n",
       "      <td>2</td>\n",
       "      <td>11.752</td>\n",
       "    </tr>\n",
       "    <tr>\n",
       "      <th>44</th>\n",
       "      <td>1976-02-14</td>\n",
       "      <td>12.9</td>\n",
       "      <td>14</td>\n",
       "      <td>2</td>\n",
       "      <td>11.488</td>\n",
       "    </tr>\n",
       "    <tr>\n",
       "      <th>45</th>\n",
       "      <td>1976-02-15</td>\n",
       "      <td>13.1</td>\n",
       "      <td>15</td>\n",
       "      <td>2</td>\n",
       "      <td>10.716</td>\n",
       "    </tr>\n",
       "    <tr>\n",
       "      <th>46</th>\n",
       "      <td>1976-02-16</td>\n",
       "      <td>13.6</td>\n",
       "      <td>16</td>\n",
       "      <td>2</td>\n",
       "      <td>10.856</td>\n",
       "    </tr>\n",
       "    <tr>\n",
       "      <th>47</th>\n",
       "      <td>1976-02-17</td>\n",
       "      <td>14.1</td>\n",
       "      <td>17</td>\n",
       "      <td>2</td>\n",
       "      <td>11.104</td>\n",
       "    </tr>\n",
       "    <tr>\n",
       "      <th>48</th>\n",
       "      <td>1976-02-18</td>\n",
       "      <td>9.8</td>\n",
       "      <td>18</td>\n",
       "      <td>2</td>\n",
       "      <td>10.508</td>\n",
       "    </tr>\n",
       "    <tr>\n",
       "      <th>49</th>\n",
       "      <td>1976-02-19</td>\n",
       "      <td>9.4</td>\n",
       "      <td>19</td>\n",
       "      <td>2</td>\n",
       "      <td>9.880</td>\n",
       "    </tr>\n",
       "    <tr>\n",
       "      <th>50</th>\n",
       "      <td>1976-02-20</td>\n",
       "      <td>8.8</td>\n",
       "      <td>20</td>\n",
       "      <td>2</td>\n",
       "      <td>10.072</td>\n",
       "    </tr>\n",
       "    <tr>\n",
       "      <th>51</th>\n",
       "      <td>1976-02-21</td>\n",
       "      <td>8.4</td>\n",
       "      <td>21</td>\n",
       "      <td>2</td>\n",
       "      <td>10.188</td>\n",
       "    </tr>\n",
       "    <tr>\n",
       "      <th>52</th>\n",
       "      <td>1976-02-22</td>\n",
       "      <td>8.6</td>\n",
       "      <td>22</td>\n",
       "      <td>2</td>\n",
       "      <td>10.392</td>\n",
       "    </tr>\n",
       "    <tr>\n",
       "      <th>53</th>\n",
       "      <td>1976-02-23</td>\n",
       "      <td>8.5</td>\n",
       "      <td>23</td>\n",
       "      <td>2</td>\n",
       "      <td>9.956</td>\n",
       "    </tr>\n",
       "    <tr>\n",
       "      <th>54</th>\n",
       "      <td>1976-02-24</td>\n",
       "      <td>6.8</td>\n",
       "      <td>24</td>\n",
       "      <td>2</td>\n",
       "      <td>9.864</td>\n",
       "    </tr>\n",
       "    <tr>\n",
       "      <th>55</th>\n",
       "      <td>1976-02-25</td>\n",
       "      <td>4.1</td>\n",
       "      <td>25</td>\n",
       "      <td>2</td>\n",
       "      <td>9.804</td>\n",
       "    </tr>\n",
       "    <tr>\n",
       "      <th>56</th>\n",
       "      <td>1976-02-26</td>\n",
       "      <td>6.7</td>\n",
       "      <td>26</td>\n",
       "      <td>2</td>\n",
       "      <td>10.168</td>\n",
       "    </tr>\n",
       "    <tr>\n",
       "      <th>57</th>\n",
       "      <td>1976-02-27</td>\n",
       "      <td>10.4</td>\n",
       "      <td>27</td>\n",
       "      <td>2</td>\n",
       "      <td>10.428</td>\n",
       "    </tr>\n",
       "    <tr>\n",
       "      <th>58</th>\n",
       "      <td>1976-02-28</td>\n",
       "      <td>12.0</td>\n",
       "      <td>28</td>\n",
       "      <td>2</td>\n",
       "      <td>10.340</td>\n",
       "    </tr>\n",
       "    <tr>\n",
       "      <th>59</th>\n",
       "      <td>1976-02-29</td>\n",
       "      <td>11.1</td>\n",
       "      <td>29</td>\n",
       "      <td>2</td>\n",
       "      <td>11.240</td>\n",
       "    </tr>\n",
       "  </tbody>\n",
       "</table>\n",
       "</div>"
      ],
      "text/plain": [
       "         DATE  TAVG  day  month  25yeardayaverage\n",
       "0  1976-01-01  11.3    1      1            10.780\n",
       "1  1976-01-02  12.4    2      1            11.136\n",
       "2  1976-01-03  13.6    3      1            10.616\n",
       "3  1976-01-04  13.6    4      1            10.020\n",
       "4  1976-01-05   8.4    5      1            10.316\n",
       "5  1976-01-06   9.5    6      1            10.220\n",
       "6  1976-01-07  11.4    7      1            10.552\n",
       "7  1976-01-08  10.6    8      1            10.268\n",
       "8  1976-01-09   8.7    9      1             9.492\n",
       "9  1976-01-10   9.1   10      1             9.588\n",
       "10 1976-01-11  11.9   11      1            10.616\n",
       "11 1976-01-12  14.2   12      1            11.380\n",
       "12 1976-01-13  13.3   13      1            10.864\n",
       "13 1976-01-14  14.6   14      1            10.124\n",
       "14 1976-01-15  11.9   15      1             9.928\n",
       "15 1976-01-16   8.9   16      1             9.732\n",
       "16 1976-01-17   3.8   17      1             9.052\n",
       "17 1976-01-18   4.7   18      1             9.176\n",
       "18 1976-01-19   5.5   19      1             9.484\n",
       "19 1976-01-20   4.6   20      1             9.928\n",
       "20 1976-01-21   7.1   21      1             9.948\n",
       "21 1976-01-22   8.8   22      1             9.584\n",
       "22 1976-01-23  11.1   23      1            10.132\n",
       "23 1976-01-24  13.9   24      1            10.488\n",
       "24 1976-01-25  15.9   25      1            10.776\n",
       "25 1976-01-26  15.4   26      1            10.788\n",
       "26 1976-01-27  15.5   27      1            11.000\n",
       "27 1976-01-28  12.1   28      1            10.696\n",
       "28 1976-01-29  11.3   29      1            10.452\n",
       "29 1976-01-30  11.1   30      1            10.304\n",
       "30 1976-01-31  11.9   31      1             9.788\n",
       "31 1976-02-01  13.7    1      2             9.612\n",
       "32 1976-02-02  13.3    2      2             9.480\n",
       "33 1976-02-03  11.6    3      2             9.848\n",
       "34 1976-02-04  10.7    4      2             9.804\n",
       "35 1976-02-05  10.9    5      2            10.180\n",
       "36 1976-02-06  11.3    6      2            10.312\n",
       "37 1976-02-07   7.9    7      2            10.564\n",
       "38 1976-02-08   1.3    8      2             9.924\n",
       "39 1976-02-09   2.2    9      2             9.748\n",
       "40 1976-02-10   5.2   10      2            10.500\n",
       "41 1976-02-11   8.2   11      2            11.180\n",
       "42 1976-02-12  11.0   12      2            11.492\n",
       "43 1976-02-13  12.8   13      2            11.752\n",
       "44 1976-02-14  12.9   14      2            11.488\n",
       "45 1976-02-15  13.1   15      2            10.716\n",
       "46 1976-02-16  13.6   16      2            10.856\n",
       "47 1976-02-17  14.1   17      2            11.104\n",
       "48 1976-02-18   9.8   18      2            10.508\n",
       "49 1976-02-19   9.4   19      2             9.880\n",
       "50 1976-02-20   8.8   20      2            10.072\n",
       "51 1976-02-21   8.4   21      2            10.188\n",
       "52 1976-02-22   8.6   22      2            10.392\n",
       "53 1976-02-23   8.5   23      2             9.956\n",
       "54 1976-02-24   6.8   24      2             9.864\n",
       "55 1976-02-25   4.1   25      2             9.804\n",
       "56 1976-02-26   6.7   26      2            10.168\n",
       "57 1976-02-27  10.4   27      2            10.428\n",
       "58 1976-02-28  12.0   28      2            10.340\n",
       "59 1976-02-29  11.1   29      2            11.240"
      ]
     },
     "execution_count": 79,
     "metadata": {},
     "output_type": "execute_result"
    }
   ],
   "source": [
    "q3dailydata2.head(60)"
   ]
  },
  {
   "cell_type": "markdown",
   "id": "1a17bef1",
   "metadata": {},
   "source": [
    "> Now that I have successfully gathered all the averages of the baseline, I am going to smooth the line by using a 30day rolling average and I am going to store it in a different column."
   ]
  },
  {
   "cell_type": "code",
   "execution_count": 80,
   "id": "30aa993b",
   "metadata": {},
   "outputs": [],
   "source": [
    "q3dailydata2['rolling average'] = q3dailydata2['25yeardayaverage'].rolling(30,min_periods=1).mean()"
   ]
  },
  {
   "cell_type": "code",
   "execution_count": 81,
   "id": "1bd87cee",
   "metadata": {
    "scrolled": true
   },
   "outputs": [
    {
     "data": {
      "text/html": [
       "<div>\n",
       "<style scoped>\n",
       "    .dataframe tbody tr th:only-of-type {\n",
       "        vertical-align: middle;\n",
       "    }\n",
       "\n",
       "    .dataframe tbody tr th {\n",
       "        vertical-align: top;\n",
       "    }\n",
       "\n",
       "    .dataframe thead th {\n",
       "        text-align: right;\n",
       "    }\n",
       "</style>\n",
       "<table border=\"1\" class=\"dataframe\">\n",
       "  <thead>\n",
       "    <tr style=\"text-align: right;\">\n",
       "      <th></th>\n",
       "      <th>DATE</th>\n",
       "      <th>TAVG</th>\n",
       "      <th>day</th>\n",
       "      <th>month</th>\n",
       "      <th>25yeardayaverage</th>\n",
       "      <th>rolling average</th>\n",
       "    </tr>\n",
       "  </thead>\n",
       "  <tbody>\n",
       "    <tr>\n",
       "      <th>0</th>\n",
       "      <td>1976-01-01</td>\n",
       "      <td>11.3</td>\n",
       "      <td>1</td>\n",
       "      <td>1</td>\n",
       "      <td>10.780</td>\n",
       "      <td>10.7800</td>\n",
       "    </tr>\n",
       "    <tr>\n",
       "      <th>1</th>\n",
       "      <td>1976-01-02</td>\n",
       "      <td>12.4</td>\n",
       "      <td>2</td>\n",
       "      <td>1</td>\n",
       "      <td>11.136</td>\n",
       "      <td>10.9580</td>\n",
       "    </tr>\n",
       "    <tr>\n",
       "      <th>2</th>\n",
       "      <td>1976-01-03</td>\n",
       "      <td>13.6</td>\n",
       "      <td>3</td>\n",
       "      <td>1</td>\n",
       "      <td>10.616</td>\n",
       "      <td>10.8440</td>\n",
       "    </tr>\n",
       "    <tr>\n",
       "      <th>3</th>\n",
       "      <td>1976-01-04</td>\n",
       "      <td>13.6</td>\n",
       "      <td>4</td>\n",
       "      <td>1</td>\n",
       "      <td>10.020</td>\n",
       "      <td>10.6380</td>\n",
       "    </tr>\n",
       "    <tr>\n",
       "      <th>4</th>\n",
       "      <td>1976-01-05</td>\n",
       "      <td>8.4</td>\n",
       "      <td>5</td>\n",
       "      <td>1</td>\n",
       "      <td>10.316</td>\n",
       "      <td>10.5736</td>\n",
       "    </tr>\n",
       "  </tbody>\n",
       "</table>\n",
       "</div>"
      ],
      "text/plain": [
       "        DATE  TAVG  day  month  25yeardayaverage  rolling average\n",
       "0 1976-01-01  11.3    1      1            10.780          10.7800\n",
       "1 1976-01-02  12.4    2      1            11.136          10.9580\n",
       "2 1976-01-03  13.6    3      1            10.616          10.8440\n",
       "3 1976-01-04  13.6    4      1            10.020          10.6380\n",
       "4 1976-01-05   8.4    5      1            10.316          10.5736"
      ]
     },
     "execution_count": 81,
     "metadata": {},
     "output_type": "execute_result"
    }
   ],
   "source": [
    "q3dailydata2.head()"
   ]
  },
  {
   "cell_type": "markdown",
   "id": "8c975227",
   "metadata": {},
   "source": [
    "### 3.2 Organizing the rest of the data in order to fit the plot"
   ]
  },
  {
   "cell_type": "markdown",
   "id": "7c22e4a3",
   "metadata": {},
   "source": [
    "> Here I am transferring the data to another dataframe and calculating its 30 day rolling average in order to use it in the plot\n",
    "\n",
    ">I am also creating a new column that contains the month and the day only, so that the plot can be designed based on the temperature of each day."
   ]
  },
  {
   "cell_type": "code",
   "execution_count": 82,
   "id": "12f0ae44",
   "metadata": {},
   "outputs": [],
   "source": [
    "q3dailydata2['monthday'] = q3dailydata2['DATE'].astype(str).str[5:]"
   ]
  },
  {
   "cell_type": "code",
   "execution_count": 83,
   "id": "16f9f543",
   "metadata": {},
   "outputs": [],
   "source": [
    "q3data2 = croppedData[[\"DATE\",\"TAVG\"]].copy()"
   ]
  },
  {
   "cell_type": "code",
   "execution_count": 84,
   "id": "10544dd1",
   "metadata": {},
   "outputs": [],
   "source": [
    "q3data2['monthday'] = q3data2['DATE'].astype(str).str[5:]"
   ]
  },
  {
   "cell_type": "code",
   "execution_count": 85,
   "id": "58295592",
   "metadata": {},
   "outputs": [],
   "source": [
    "q3data2['Rolling Average'] = q3data2[\"TAVG\"].rolling(30,min_periods=1).mean()"
   ]
  },
  {
   "cell_type": "code",
   "execution_count": 86,
   "id": "f50a49ce",
   "metadata": {
    "scrolled": false
   },
   "outputs": [
    {
     "data": {
      "text/html": [
       "<div>\n",
       "<style scoped>\n",
       "    .dataframe tbody tr th:only-of-type {\n",
       "        vertical-align: middle;\n",
       "    }\n",
       "\n",
       "    .dataframe tbody tr th {\n",
       "        vertical-align: top;\n",
       "    }\n",
       "\n",
       "    .dataframe thead th {\n",
       "        text-align: right;\n",
       "    }\n",
       "</style>\n",
       "<table border=\"1\" class=\"dataframe\">\n",
       "  <thead>\n",
       "    <tr style=\"text-align: right;\">\n",
       "      <th></th>\n",
       "      <th>DATE</th>\n",
       "      <th>TAVG</th>\n",
       "      <th>monthday</th>\n",
       "      <th>Rolling Average</th>\n",
       "    </tr>\n",
       "  </thead>\n",
       "  <tbody>\n",
       "    <tr>\n",
       "      <th>0</th>\n",
       "      <td>1955-01-01</td>\n",
       "      <td>NaN</td>\n",
       "      <td>01-01</td>\n",
       "      <td>NaN</td>\n",
       "    </tr>\n",
       "    <tr>\n",
       "      <th>1</th>\n",
       "      <td>1955-01-02</td>\n",
       "      <td>NaN</td>\n",
       "      <td>01-02</td>\n",
       "      <td>NaN</td>\n",
       "    </tr>\n",
       "    <tr>\n",
       "      <th>2</th>\n",
       "      <td>1955-01-03</td>\n",
       "      <td>NaN</td>\n",
       "      <td>01-03</td>\n",
       "      <td>NaN</td>\n",
       "    </tr>\n",
       "    <tr>\n",
       "      <th>3</th>\n",
       "      <td>1955-01-04</td>\n",
       "      <td>NaN</td>\n",
       "      <td>01-04</td>\n",
       "      <td>NaN</td>\n",
       "    </tr>\n",
       "    <tr>\n",
       "      <th>4</th>\n",
       "      <td>1955-01-05</td>\n",
       "      <td>NaN</td>\n",
       "      <td>01-05</td>\n",
       "      <td>NaN</td>\n",
       "    </tr>\n",
       "  </tbody>\n",
       "</table>\n",
       "</div>"
      ],
      "text/plain": [
       "        DATE  TAVG monthday  Rolling Average\n",
       "0 1955-01-01   NaN    01-01              NaN\n",
       "1 1955-01-02   NaN    01-02              NaN\n",
       "2 1955-01-03   NaN    01-03              NaN\n",
       "3 1955-01-04   NaN    01-04              NaN\n",
       "4 1955-01-05   NaN    01-05              NaN"
      ]
     },
     "execution_count": 86,
     "metadata": {},
     "output_type": "execute_result"
    }
   ],
   "source": [
    "q3data2.head()"
   ]
  },
  {
   "cell_type": "markdown",
   "id": "c26dd2bd",
   "metadata": {},
   "source": [
    "### 3.3 Designing a part of the Plot"
   ]
  },
  {
   "cell_type": "markdown",
   "id": "b123f1f5",
   "metadata": {},
   "source": [
    ">I am using the seaborn library to create a lineplot that makes use of a color palette.\n",
    "\n",
    ">This palette is going to allow me to color the lines based on the year that they represent(the hue variable is the one that determines this), going from light orange to dark orange, just like the example. \n",
    "\n",
    ">I will also add the baseline line that is going to be black.\n",
    "\n",
    ">In order for each line of the graph to take the temperature of each day, I have to use two functions of matplot lib called MonthLocator and DateFormatter, that are going to plot the lines according to the data of the columns that I give. If not for them the data would just jump from month to month instead from day to day and thus the line would not be as smooth.\n",
    "\n",
    ">Finally there will be a legend giving information on the black line."
   ]
  },
  {
   "cell_type": "code",
   "execution_count": 87,
   "id": "1d9c9ca7",
   "metadata": {
    "scrolled": true
   },
   "outputs": [
    {
     "data": {
      "image/png": "[encoded data removed]",
      "text/plain": [
       "<Figure size 432x288 with 1 Axes>"
      ]
     },
     "metadata": {
      "needs_background": "light"
     },
     "output_type": "display_data"
    }
   ],
   "source": [
    "p = sns.lineplot(x=q3data2['monthday']\n",
    "           , y=\"Rolling Average\",\n",
    "            hue=q3data2['DATE'].dt.year,\n",
    "             data = q3data2,\n",
    "             palette = sns.color_palette(\"YlOrBr\",as_cmap = True), #source: https://seaborn.pydata.org/tutorial/color_palettes.html\n",
    "             legend = None,\n",
    "                 ci=None\n",
    "            )\n",
    "p.set_ylabel('Average Daily Temperature',fontsize = 10)\n",
    "p.set_xlabel('Date',fontsize = 10)\n",
    "sns.lineplot(x=q3dailydata2['monthday'],\n",
    "            y=\"rolling average\",\n",
    "            data = q3dailydata2,\n",
    "            color ='black',\n",
    "            legend = None ,\n",
    "            ci=None,\n",
    "           )\n",
    "ax = plt.gca()\n",
    "ax.xaxis.set_major_locator(MonthLocator())\n",
    "ax.xaxis.set_major_formatter(DateFormatter('%b'))\n",
    "\n",
    "daily = mpatches.Patch(color='black', label='Daily temperature for \\n the baseline period of 1974-1999')\n",
    "plt.legend(handles=[daily])\n",
    "plt.title(\"Temperatures Over the Years\")\n",
    "\n",
    "plt.savefig('DailyTemperaturesOverTheYears.png') \n",
    "\n",
    "plt.grid()\n",
    "plt.show()\n",
    "# hue shows that the colors will darken based on the year, palette determines the color,ci removes the shadows and makes execution faster\n",
    "# legend creates the box that shows what the black line is"
   ]
  },
  {
   "cell_type": "markdown",
   "id": "61a08b9d",
   "metadata": {},
   "source": [
    "> According to this graph, the Athenian weather is fastly getting warmer. More specifically, we can see that the darker the orange gets, the higher the temperatures rise, easily exceeding the baseline. There are also indications that point to extreme heat events in the summer, since some dark orange lines go way over the top."
   ]
  },
  {
   "cell_type": "markdown",
   "id": "ae68791b",
   "metadata": {},
   "source": [
    "## Q4: Extreme Temperature Events"
   ]
  },
  {
   "cell_type": "markdown",
   "id": "082e2d87",
   "metadata": {},
   "source": [
    "### 4.1 Calculating the Grey Line"
   ]
  },
  {
   "cell_type": "markdown",
   "id": "1bbb2323",
   "metadata": {},
   "source": [
    ">I have to first find the grey line, based on which the data will be colored.\n",
    "\n",
    ">I already have a dataset that contains the average temperature of each day for the period of 1974-1999 so I am going to use it.\n",
    "\n",
    ">To determine if an event is extreme it needs to be 10% above the average. In other words, I am multiplying all the day averages by 0.1 and adding it to the original in order to have ready the amount that the temperatures have to surpass in order to be considered extreme."
   ]
  },
  {
   "cell_type": "code",
   "execution_count": 88,
   "id": "e556e5ac",
   "metadata": {},
   "outputs": [],
   "source": [
    "baseline = q3dailydata.copy() #we already have the dataframe we want for the dataset"
   ]
  },
  {
   "cell_type": "code",
   "execution_count": 89,
   "id": "1b7ba36b",
   "metadata": {
    "scrolled": false
   },
   "outputs": [
    {
     "data": {
      "text/html": [
       "<div>\n",
       "<style scoped>\n",
       "    .dataframe tbody tr th:only-of-type {\n",
       "        vertical-align: middle;\n",
       "    }\n",
       "\n",
       "    .dataframe tbody tr th {\n",
       "        vertical-align: top;\n",
       "    }\n",
       "\n",
       "    .dataframe thead th {\n",
       "        text-align: right;\n",
       "    }\n",
       "</style>\n",
       "<table border=\"1\" class=\"dataframe\">\n",
       "  <thead>\n",
       "    <tr style=\"text-align: right;\">\n",
       "      <th></th>\n",
       "      <th>DATE</th>\n",
       "      <th>TAVG</th>\n",
       "      <th>day</th>\n",
       "      <th>month</th>\n",
       "      <th>25yeardayaverage</th>\n",
       "    </tr>\n",
       "  </thead>\n",
       "  <tbody>\n",
       "    <tr>\n",
       "      <th>6940</th>\n",
       "      <td>1974-01-01</td>\n",
       "      <td>11.6</td>\n",
       "      <td>1</td>\n",
       "      <td>1</td>\n",
       "      <td>10.780</td>\n",
       "    </tr>\n",
       "    <tr>\n",
       "      <th>6941</th>\n",
       "      <td>1974-01-02</td>\n",
       "      <td>13.7</td>\n",
       "      <td>2</td>\n",
       "      <td>1</td>\n",
       "      <td>11.136</td>\n",
       "    </tr>\n",
       "    <tr>\n",
       "      <th>6942</th>\n",
       "      <td>1974-01-03</td>\n",
       "      <td>12.2</td>\n",
       "      <td>3</td>\n",
       "      <td>1</td>\n",
       "      <td>10.616</td>\n",
       "    </tr>\n",
       "    <tr>\n",
       "      <th>6943</th>\n",
       "      <td>1974-01-04</td>\n",
       "      <td>10.8</td>\n",
       "      <td>4</td>\n",
       "      <td>1</td>\n",
       "      <td>10.020</td>\n",
       "    </tr>\n",
       "    <tr>\n",
       "      <th>6944</th>\n",
       "      <td>1974-01-05</td>\n",
       "      <td>9.6</td>\n",
       "      <td>5</td>\n",
       "      <td>1</td>\n",
       "      <td>10.316</td>\n",
       "    </tr>\n",
       "  </tbody>\n",
       "</table>\n",
       "</div>"
      ],
      "text/plain": [
       "           DATE  TAVG  day  month  25yeardayaverage\n",
       "6940 1974-01-01  11.6    1      1            10.780\n",
       "6941 1974-01-02  13.7    2      1            11.136\n",
       "6942 1974-01-03  12.2    3      1            10.616\n",
       "6943 1974-01-04  10.8    4      1            10.020\n",
       "6944 1974-01-05   9.6    5      1            10.316"
      ]
     },
     "execution_count": 89,
     "metadata": {},
     "output_type": "execute_result"
    }
   ],
   "source": [
    "baseline.head()"
   ]
  },
  {
   "cell_type": "code",
   "execution_count": 90,
   "id": "d11de6ee",
   "metadata": {
    "scrolled": false
   },
   "outputs": [],
   "source": [
    "baseline['extreme_heat_baseline']=baseline['25yeardayaverage'] + baseline['25yeardayaverage'].mul(0.1)"
   ]
  },
  {
   "cell_type": "code",
   "execution_count": 91,
   "id": "65172009",
   "metadata": {},
   "outputs": [
    {
     "data": {
      "text/html": [
       "<div>\n",
       "<style scoped>\n",
       "    .dataframe tbody tr th:only-of-type {\n",
       "        vertical-align: middle;\n",
       "    }\n",
       "\n",
       "    .dataframe tbody tr th {\n",
       "        vertical-align: top;\n",
       "    }\n",
       "\n",
       "    .dataframe thead th {\n",
       "        text-align: right;\n",
       "    }\n",
       "</style>\n",
       "<table border=\"1\" class=\"dataframe\">\n",
       "  <thead>\n",
       "    <tr style=\"text-align: right;\">\n",
       "      <th></th>\n",
       "      <th>DATE</th>\n",
       "      <th>TAVG</th>\n",
       "      <th>day</th>\n",
       "      <th>month</th>\n",
       "      <th>25yeardayaverage</th>\n",
       "      <th>extreme_heat_baseline</th>\n",
       "    </tr>\n",
       "  </thead>\n",
       "  <tbody>\n",
       "    <tr>\n",
       "      <th>6940</th>\n",
       "      <td>1974-01-01</td>\n",
       "      <td>11.6</td>\n",
       "      <td>1</td>\n",
       "      <td>1</td>\n",
       "      <td>10.780</td>\n",
       "      <td>11.8580</td>\n",
       "    </tr>\n",
       "    <tr>\n",
       "      <th>6941</th>\n",
       "      <td>1974-01-02</td>\n",
       "      <td>13.7</td>\n",
       "      <td>2</td>\n",
       "      <td>1</td>\n",
       "      <td>11.136</td>\n",
       "      <td>12.2496</td>\n",
       "    </tr>\n",
       "    <tr>\n",
       "      <th>6942</th>\n",
       "      <td>1974-01-03</td>\n",
       "      <td>12.2</td>\n",
       "      <td>3</td>\n",
       "      <td>1</td>\n",
       "      <td>10.616</td>\n",
       "      <td>11.6776</td>\n",
       "    </tr>\n",
       "    <tr>\n",
       "      <th>6943</th>\n",
       "      <td>1974-01-04</td>\n",
       "      <td>10.8</td>\n",
       "      <td>4</td>\n",
       "      <td>1</td>\n",
       "      <td>10.020</td>\n",
       "      <td>11.0220</td>\n",
       "    </tr>\n",
       "    <tr>\n",
       "      <th>6944</th>\n",
       "      <td>1974-01-05</td>\n",
       "      <td>9.6</td>\n",
       "      <td>5</td>\n",
       "      <td>1</td>\n",
       "      <td>10.316</td>\n",
       "      <td>11.3476</td>\n",
       "    </tr>\n",
       "  </tbody>\n",
       "</table>\n",
       "</div>"
      ],
      "text/plain": [
       "           DATE  TAVG  day  month  25yeardayaverage  extreme_heat_baseline\n",
       "6940 1974-01-01  11.6    1      1            10.780                11.8580\n",
       "6941 1974-01-02  13.7    2      1            11.136                12.2496\n",
       "6942 1974-01-03  12.2    3      1            10.616                11.6776\n",
       "6943 1974-01-04  10.8    4      1            10.020                11.0220\n",
       "6944 1974-01-05   9.6    5      1            10.316                11.3476"
      ]
     },
     "execution_count": 91,
     "metadata": {},
     "output_type": "execute_result"
    }
   ],
   "source": [
    "baseline.head()"
   ]
  },
  {
   "cell_type": "markdown",
   "id": "7e287e3d",
   "metadata": {},
   "source": [
    ">Now I am copying the original data of 1974-1999 in order to compare it with the extreme heat baseline that will consider if a day had an extreme heat event."
   ]
  },
  {
   "cell_type": "code",
   "execution_count": 92,
   "id": "663d794f",
   "metadata": {},
   "outputs": [],
   "source": [
    "q4bsdata = croppedData[[\"DATE\",\"TAVG\"]].copy()"
   ]
  },
  {
   "cell_type": "code",
   "execution_count": 93,
   "id": "96edd9f7",
   "metadata": {},
   "outputs": [
    {
     "data": {
      "text/html": [
       "<div>\n",
       "<style scoped>\n",
       "    .dataframe tbody tr th:only-of-type {\n",
       "        vertical-align: middle;\n",
       "    }\n",
       "\n",
       "    .dataframe tbody tr th {\n",
       "        vertical-align: top;\n",
       "    }\n",
       "\n",
       "    .dataframe thead th {\n",
       "        text-align: right;\n",
       "    }\n",
       "</style>\n",
       "<table border=\"1\" class=\"dataframe\">\n",
       "  <thead>\n",
       "    <tr style=\"text-align: right;\">\n",
       "      <th></th>\n",
       "      <th>DATE</th>\n",
       "      <th>TAVG</th>\n",
       "    </tr>\n",
       "  </thead>\n",
       "  <tbody>\n",
       "    <tr>\n",
       "      <th>0</th>\n",
       "      <td>1955-01-01</td>\n",
       "      <td>NaN</td>\n",
       "    </tr>\n",
       "    <tr>\n",
       "      <th>1</th>\n",
       "      <td>1955-01-02</td>\n",
       "      <td>NaN</td>\n",
       "    </tr>\n",
       "    <tr>\n",
       "      <th>2</th>\n",
       "      <td>1955-01-03</td>\n",
       "      <td>NaN</td>\n",
       "    </tr>\n",
       "    <tr>\n",
       "      <th>3</th>\n",
       "      <td>1955-01-04</td>\n",
       "      <td>NaN</td>\n",
       "    </tr>\n",
       "    <tr>\n",
       "      <th>4</th>\n",
       "      <td>1955-01-05</td>\n",
       "      <td>NaN</td>\n",
       "    </tr>\n",
       "  </tbody>\n",
       "</table>\n",
       "</div>"
      ],
      "text/plain": [
       "        DATE  TAVG\n",
       "0 1955-01-01   NaN\n",
       "1 1955-01-02   NaN\n",
       "2 1955-01-03   NaN\n",
       "3 1955-01-04   NaN\n",
       "4 1955-01-05   NaN"
      ]
     },
     "execution_count": 93,
     "metadata": {},
     "output_type": "execute_result"
    }
   ],
   "source": [
    "q4bsdata.head()"
   ]
  },
  {
   "cell_type": "code",
   "execution_count": 94,
   "id": "ec16e9fe",
   "metadata": {},
   "outputs": [],
   "source": [
    "q4bsdata = q4bsdata.loc[(q4bsdata ['DATE'].dt.year >= 1974) \n",
    "                    & (q4bsdata ['DATE'].dt.year <= 1999) ] #creating the dataframe that contains the data from 1974-1999]"
   ]
  },
  {
   "cell_type": "code",
   "execution_count": 95,
   "id": "b3019a3f",
   "metadata": {},
   "outputs": [
    {
     "data": {
      "text/html": [
       "<div>\n",
       "<style scoped>\n",
       "    .dataframe tbody tr th:only-of-type {\n",
       "        vertical-align: middle;\n",
       "    }\n",
       "\n",
       "    .dataframe tbody tr th {\n",
       "        vertical-align: top;\n",
       "    }\n",
       "\n",
       "    .dataframe thead th {\n",
       "        text-align: right;\n",
       "    }\n",
       "</style>\n",
       "<table border=\"1\" class=\"dataframe\">\n",
       "  <thead>\n",
       "    <tr style=\"text-align: right;\">\n",
       "      <th></th>\n",
       "      <th>DATE</th>\n",
       "      <th>TAVG</th>\n",
       "    </tr>\n",
       "  </thead>\n",
       "  <tbody>\n",
       "    <tr>\n",
       "      <th>6940</th>\n",
       "      <td>1974-01-01</td>\n",
       "      <td>11.6</td>\n",
       "    </tr>\n",
       "    <tr>\n",
       "      <th>6941</th>\n",
       "      <td>1974-01-02</td>\n",
       "      <td>13.7</td>\n",
       "    </tr>\n",
       "    <tr>\n",
       "      <th>6942</th>\n",
       "      <td>1974-01-03</td>\n",
       "      <td>12.2</td>\n",
       "    </tr>\n",
       "    <tr>\n",
       "      <th>6943</th>\n",
       "      <td>1974-01-04</td>\n",
       "      <td>10.8</td>\n",
       "    </tr>\n",
       "    <tr>\n",
       "      <th>6944</th>\n",
       "      <td>1974-01-05</td>\n",
       "      <td>9.6</td>\n",
       "    </tr>\n",
       "  </tbody>\n",
       "</table>\n",
       "</div>"
      ],
      "text/plain": [
       "           DATE  TAVG\n",
       "6940 1974-01-01  11.6\n",
       "6941 1974-01-02  13.7\n",
       "6942 1974-01-03  12.2\n",
       "6943 1974-01-04  10.8\n",
       "6944 1974-01-05   9.6"
      ]
     },
     "execution_count": 95,
     "metadata": {},
     "output_type": "execute_result"
    }
   ],
   "source": [
    "q4bsdata.head()"
   ]
  },
  {
   "cell_type": "code",
   "execution_count": 96,
   "id": "029f928e",
   "metadata": {},
   "outputs": [
    {
     "data": {
      "text/plain": [
       "(9496, 6)"
      ]
     },
     "execution_count": 96,
     "metadata": {},
     "output_type": "execute_result"
    }
   ],
   "source": [
    "baseline.shape"
   ]
  },
  {
   "cell_type": "code",
   "execution_count": 97,
   "id": "eff10fce",
   "metadata": {
    "scrolled": false
   },
   "outputs": [
    {
     "data": {
      "text/plain": [
       "(9496, 2)"
      ]
     },
     "execution_count": 97,
     "metadata": {},
     "output_type": "execute_result"
    }
   ],
   "source": [
    "q4bsdata.shape"
   ]
  },
  {
   "cell_type": "markdown",
   "id": "d341511a",
   "metadata": {},
   "source": [
    ">I will place into a boolean column True if the event was extreme and False if it wasnt\n",
    "\n",
    ">I can do it since as shown above the dataframes have same row size\n",
    "\n",
    ">So we can compute when a day was an extreme event of heat             "
   ]
  },
  {
   "cell_type": "code",
   "execution_count": 98,
   "id": "b0d52e58",
   "metadata": {},
   "outputs": [],
   "source": [
    "q4bsdata['IsExtreme'] = q4bsdata['TAVG']-baseline['extreme_heat_baseline'] >0            #dataframes have same row size | we computer where a day was an extreme event of heat                                "
   ]
  },
  {
   "cell_type": "code",
   "execution_count": 99,
   "id": "0c519cda",
   "metadata": {
    "scrolled": true
   },
   "outputs": [
    {
     "data": {
      "text/plain": [
       "array([False,  True])"
      ]
     },
     "execution_count": 99,
     "metadata": {},
     "output_type": "execute_result"
    }
   ],
   "source": [
    "q4bsdata['IsExtreme'].unique()"
   ]
  },
  {
   "cell_type": "code",
   "execution_count": 100,
   "id": "212043e4",
   "metadata": {
    "scrolled": false
   },
   "outputs": [
    {
     "data": {
      "text/plain": [
       "False    7870\n",
       "True     1626\n",
       "Name: IsExtreme, dtype: int64"
      ]
     },
     "execution_count": 100,
     "metadata": {},
     "output_type": "execute_result"
    }
   ],
   "source": [
    "q4bsdata['IsExtreme'].value_counts() #makes sense"
   ]
  },
  {
   "cell_type": "markdown",
   "id": "ff45d51f",
   "metadata": {},
   "source": [
    ">Now I am counting how many extreme events each year had and I am placing it into a new column"
   ]
  },
  {
   "cell_type": "code",
   "execution_count": 101,
   "id": "006cacef",
   "metadata": {},
   "outputs": [],
   "source": [
    "q4bsdata['numberofyearlyextreme'] = q4bsdata.groupby(q4bsdata['DATE'].dt.year)['IsExtreme'].transform(sum)"
   ]
  },
  {
   "cell_type": "code",
   "execution_count": 102,
   "id": "644151c2",
   "metadata": {
    "scrolled": true
   },
   "outputs": [
    {
     "data": {
      "text/html": [
       "<div>\n",
       "<style scoped>\n",
       "    .dataframe tbody tr th:only-of-type {\n",
       "        vertical-align: middle;\n",
       "    }\n",
       "\n",
       "    .dataframe tbody tr th {\n",
       "        vertical-align: top;\n",
       "    }\n",
       "\n",
       "    .dataframe thead th {\n",
       "        text-align: right;\n",
       "    }\n",
       "</style>\n",
       "<table border=\"1\" class=\"dataframe\">\n",
       "  <thead>\n",
       "    <tr style=\"text-align: right;\">\n",
       "      <th></th>\n",
       "      <th>DATE</th>\n",
       "      <th>TAVG</th>\n",
       "      <th>IsExtreme</th>\n",
       "      <th>numberofyearlyextreme</th>\n",
       "    </tr>\n",
       "  </thead>\n",
       "  <tbody>\n",
       "    <tr>\n",
       "      <th>6940</th>\n",
       "      <td>1974-01-01</td>\n",
       "      <td>11.6</td>\n",
       "      <td>False</td>\n",
       "      <td>48</td>\n",
       "    </tr>\n",
       "    <tr>\n",
       "      <th>6941</th>\n",
       "      <td>1974-01-02</td>\n",
       "      <td>13.7</td>\n",
       "      <td>True</td>\n",
       "      <td>48</td>\n",
       "    </tr>\n",
       "    <tr>\n",
       "      <th>6942</th>\n",
       "      <td>1974-01-03</td>\n",
       "      <td>12.2</td>\n",
       "      <td>True</td>\n",
       "      <td>48</td>\n",
       "    </tr>\n",
       "    <tr>\n",
       "      <th>6943</th>\n",
       "      <td>1974-01-04</td>\n",
       "      <td>10.8</td>\n",
       "      <td>False</td>\n",
       "      <td>48</td>\n",
       "    </tr>\n",
       "    <tr>\n",
       "      <th>6944</th>\n",
       "      <td>1974-01-05</td>\n",
       "      <td>9.6</td>\n",
       "      <td>False</td>\n",
       "      <td>48</td>\n",
       "    </tr>\n",
       "  </tbody>\n",
       "</table>\n",
       "</div>"
      ],
      "text/plain": [
       "           DATE  TAVG  IsExtreme  numberofyearlyextreme\n",
       "6940 1974-01-01  11.6      False                     48\n",
       "6941 1974-01-02  13.7       True                     48\n",
       "6942 1974-01-03  12.2       True                     48\n",
       "6943 1974-01-04  10.8      False                     48\n",
       "6944 1974-01-05   9.6      False                     48"
      ]
     },
     "execution_count": 102,
     "metadata": {},
     "output_type": "execute_result"
    }
   ],
   "source": [
    "q4bsdata.head()"
   ]
  },
  {
   "cell_type": "markdown",
   "id": "21774ae2",
   "metadata": {},
   "source": [
    ">In order to get the average events of extreme heat per year, I have to divide with 366 or 365 depending on if it is a leap year\n",
    "\n",
    ">This can easily be done with the use of the fuction where as shown below."
   ]
  },
  {
   "cell_type": "code",
   "execution_count": 103,
   "id": "36071899",
   "metadata": {
    "scrolled": false
   },
   "outputs": [],
   "source": [
    "q4bsdata['PercentageExtreme'] = np.where(q4bsdata['DATE'].dt.is_leap_year, q4bsdata['numberofyearlyextreme']/366, q4bsdata['numberofyearlyextreme']/365)"
   ]
  },
  {
   "cell_type": "code",
   "execution_count": 104,
   "id": "c7a20dc1",
   "metadata": {
    "scrolled": false
   },
   "outputs": [
    {
     "data": {
      "text/html": [
       "<div>\n",
       "<style scoped>\n",
       "    .dataframe tbody tr th:only-of-type {\n",
       "        vertical-align: middle;\n",
       "    }\n",
       "\n",
       "    .dataframe tbody tr th {\n",
       "        vertical-align: top;\n",
       "    }\n",
       "\n",
       "    .dataframe thead th {\n",
       "        text-align: right;\n",
       "    }\n",
       "</style>\n",
       "<table border=\"1\" class=\"dataframe\">\n",
       "  <thead>\n",
       "    <tr style=\"text-align: right;\">\n",
       "      <th></th>\n",
       "      <th>DATE</th>\n",
       "      <th>TAVG</th>\n",
       "      <th>IsExtreme</th>\n",
       "      <th>numberofyearlyextreme</th>\n",
       "      <th>PercentageExtreme</th>\n",
       "    </tr>\n",
       "  </thead>\n",
       "  <tbody>\n",
       "    <tr>\n",
       "      <th>6940</th>\n",
       "      <td>1974-01-01</td>\n",
       "      <td>11.6</td>\n",
       "      <td>False</td>\n",
       "      <td>48</td>\n",
       "      <td>0.131507</td>\n",
       "    </tr>\n",
       "    <tr>\n",
       "      <th>6941</th>\n",
       "      <td>1974-01-02</td>\n",
       "      <td>13.7</td>\n",
       "      <td>True</td>\n",
       "      <td>48</td>\n",
       "      <td>0.131507</td>\n",
       "    </tr>\n",
       "    <tr>\n",
       "      <th>6942</th>\n",
       "      <td>1974-01-03</td>\n",
       "      <td>12.2</td>\n",
       "      <td>True</td>\n",
       "      <td>48</td>\n",
       "      <td>0.131507</td>\n",
       "    </tr>\n",
       "    <tr>\n",
       "      <th>6943</th>\n",
       "      <td>1974-01-04</td>\n",
       "      <td>10.8</td>\n",
       "      <td>False</td>\n",
       "      <td>48</td>\n",
       "      <td>0.131507</td>\n",
       "    </tr>\n",
       "    <tr>\n",
       "      <th>6944</th>\n",
       "      <td>1974-01-05</td>\n",
       "      <td>9.6</td>\n",
       "      <td>False</td>\n",
       "      <td>48</td>\n",
       "      <td>0.131507</td>\n",
       "    </tr>\n",
       "  </tbody>\n",
       "</table>\n",
       "</div>"
      ],
      "text/plain": [
       "           DATE  TAVG  IsExtreme  numberofyearlyextreme  PercentageExtreme\n",
       "6940 1974-01-01  11.6      False                     48           0.131507\n",
       "6941 1974-01-02  13.7       True                     48           0.131507\n",
       "6942 1974-01-03  12.2       True                     48           0.131507\n",
       "6943 1974-01-04  10.8      False                     48           0.131507\n",
       "6944 1974-01-05   9.6      False                     48           0.131507"
      ]
     },
     "execution_count": 104,
     "metadata": {},
     "output_type": "execute_result"
    }
   ],
   "source": [
    "q4bsdata.head()"
   ]
  },
  {
   "cell_type": "markdown",
   "id": "eb826af8",
   "metadata": {},
   "source": [
    "> Now I am preparing the data for plotting. More specifically, I am creating a year column and then removing the useless columns in order to drop duplicates and only have the year and the percentage of extreme temperature of the year."
   ]
  },
  {
   "cell_type": "code",
   "execution_count": 105,
   "id": "6b65a3d3",
   "metadata": {},
   "outputs": [],
   "source": [
    "q4bsdata['year'] = q4bsdata.DATE.dt.year"
   ]
  },
  {
   "cell_type": "code",
   "execution_count": 106,
   "id": "5aad5c6b",
   "metadata": {},
   "outputs": [],
   "source": [
    "q4bsdata2 = q4bsdata.drop(columns=['TAVG','IsExtreme','DATE','numberofyearlyextreme'])"
   ]
  },
  {
   "cell_type": "code",
   "execution_count": 107,
   "id": "915378ab",
   "metadata": {},
   "outputs": [],
   "source": [
    "q4bsdata2.reset_index(drop=True,inplace=True)"
   ]
  },
  {
   "cell_type": "code",
   "execution_count": 108,
   "id": "b452c240",
   "metadata": {},
   "outputs": [],
   "source": [
    "q4bsdata2.drop_duplicates(keep='first',inplace=True)"
   ]
  },
  {
   "cell_type": "code",
   "execution_count": 109,
   "id": "0afa302a",
   "metadata": {
    "scrolled": true
   },
   "outputs": [
    {
     "data": {
      "text/html": [
       "<div>\n",
       "<style scoped>\n",
       "    .dataframe tbody tr th:only-of-type {\n",
       "        vertical-align: middle;\n",
       "    }\n",
       "\n",
       "    .dataframe tbody tr th {\n",
       "        vertical-align: top;\n",
       "    }\n",
       "\n",
       "    .dataframe thead th {\n",
       "        text-align: right;\n",
       "    }\n",
       "</style>\n",
       "<table border=\"1\" class=\"dataframe\">\n",
       "  <thead>\n",
       "    <tr style=\"text-align: right;\">\n",
       "      <th></th>\n",
       "      <th>PercentageExtreme</th>\n",
       "      <th>year</th>\n",
       "    </tr>\n",
       "  </thead>\n",
       "  <tbody>\n",
       "    <tr>\n",
       "      <th>0</th>\n",
       "      <td>0.131507</td>\n",
       "      <td>1974</td>\n",
       "    </tr>\n",
       "    <tr>\n",
       "      <th>365</th>\n",
       "      <td>0.172603</td>\n",
       "      <td>1975</td>\n",
       "    </tr>\n",
       "    <tr>\n",
       "      <th>730</th>\n",
       "      <td>0.136612</td>\n",
       "      <td>1976</td>\n",
       "    </tr>\n",
       "    <tr>\n",
       "      <th>1096</th>\n",
       "      <td>0.241096</td>\n",
       "      <td>1977</td>\n",
       "    </tr>\n",
       "    <tr>\n",
       "      <th>1461</th>\n",
       "      <td>0.178082</td>\n",
       "      <td>1978</td>\n",
       "    </tr>\n",
       "  </tbody>\n",
       "</table>\n",
       "</div>"
      ],
      "text/plain": [
       "      PercentageExtreme  year\n",
       "0              0.131507  1974\n",
       "365            0.172603  1975\n",
       "730            0.136612  1976\n",
       "1096           0.241096  1977\n",
       "1461           0.178082  1978"
      ]
     },
     "execution_count": 109,
     "metadata": {},
     "output_type": "execute_result"
    }
   ],
   "source": [
    "q4bsdata2.head()"
   ]
  },
  {
   "cell_type": "markdown",
   "id": "1fc5c1c5",
   "metadata": {},
   "source": [
    ">Finally, to compute the value of the grey line, I am going to get the average of the percentages of extreme events of all they years and save it for later."
   ]
  },
  {
   "cell_type": "code",
   "execution_count": 110,
   "id": "60667c97",
   "metadata": {},
   "outputs": [],
   "source": [
    "yearsaverageextremeevents = (q4bsdata2['PercentageExtreme'].sum())/25"
   ]
  },
  {
   "cell_type": "code",
   "execution_count": 111,
   "id": "1aaabdea",
   "metadata": {},
   "outputs": [
    {
     "name": "stdout",
     "output_type": "stream",
     "text": [
      "0.17810674451680517\n"
     ]
    }
   ],
   "source": [
    "print(yearsaverageextremeevents) #this is the grey line in the graph"
   ]
  },
  {
   "cell_type": "markdown",
   "id": "48c56e39",
   "metadata": {},
   "source": [
    "### 4.2 Calculating the rest of the data"
   ]
  },
  {
   "cell_type": "markdown",
   "id": "ea6c065c",
   "metadata": {},
   "source": [
    ">From now on I am going to handle the rest of the data"
   ]
  },
  {
   "cell_type": "code",
   "execution_count": 112,
   "id": "4fd4e2e1",
   "metadata": {},
   "outputs": [],
   "source": [
    "q4otherdata = croppedData[[\"DATE\",\"TAVG\"]].copy()"
   ]
  },
  {
   "cell_type": "code",
   "execution_count": 113,
   "id": "dc1ead52",
   "metadata": {
    "scrolled": true
   },
   "outputs": [
    {
     "data": {
      "text/html": [
       "<div>\n",
       "<style scoped>\n",
       "    .dataframe tbody tr th:only-of-type {\n",
       "        vertical-align: middle;\n",
       "    }\n",
       "\n",
       "    .dataframe tbody tr th {\n",
       "        vertical-align: top;\n",
       "    }\n",
       "\n",
       "    .dataframe thead th {\n",
       "        text-align: right;\n",
       "    }\n",
       "</style>\n",
       "<table border=\"1\" class=\"dataframe\">\n",
       "  <thead>\n",
       "    <tr style=\"text-align: right;\">\n",
       "      <th></th>\n",
       "      <th>DATE</th>\n",
       "      <th>TAVG</th>\n",
       "    </tr>\n",
       "  </thead>\n",
       "  <tbody>\n",
       "    <tr>\n",
       "      <th>0</th>\n",
       "      <td>1955-01-01</td>\n",
       "      <td>NaN</td>\n",
       "    </tr>\n",
       "    <tr>\n",
       "      <th>1</th>\n",
       "      <td>1955-01-02</td>\n",
       "      <td>NaN</td>\n",
       "    </tr>\n",
       "    <tr>\n",
       "      <th>2</th>\n",
       "      <td>1955-01-03</td>\n",
       "      <td>NaN</td>\n",
       "    </tr>\n",
       "    <tr>\n",
       "      <th>3</th>\n",
       "      <td>1955-01-04</td>\n",
       "      <td>NaN</td>\n",
       "    </tr>\n",
       "    <tr>\n",
       "      <th>4</th>\n",
       "      <td>1955-01-05</td>\n",
       "      <td>NaN</td>\n",
       "    </tr>\n",
       "  </tbody>\n",
       "</table>\n",
       "</div>"
      ],
      "text/plain": [
       "        DATE  TAVG\n",
       "0 1955-01-01   NaN\n",
       "1 1955-01-02   NaN\n",
       "2 1955-01-03   NaN\n",
       "3 1955-01-04   NaN\n",
       "4 1955-01-05   NaN"
      ]
     },
     "execution_count": 113,
     "metadata": {},
     "output_type": "execute_result"
    }
   ],
   "source": [
    "q4otherdata.head()"
   ]
  },
  {
   "cell_type": "code",
   "execution_count": 114,
   "id": "69f514d4",
   "metadata": {
    "scrolled": true
   },
   "outputs": [
    {
     "data": {
      "text/plain": [
       "(24107, 2)"
      ]
     },
     "execution_count": 114,
     "metadata": {},
     "output_type": "execute_result"
    }
   ],
   "source": [
    "q4otherdata.shape"
   ]
  },
  {
   "cell_type": "markdown",
   "id": "fd3c23a0",
   "metadata": {},
   "source": [
    "> I am also choosing only one baseline year,which has to be a leap year in order to contain all information, so I can compare the rest of the data's days with this and determine whether they are extreme or not.\n",
    "\n",
    ">However, the shape of those two dataframes is not the same so in order to compare them I have to do a little \"trick\""
   ]
  },
  {
   "cell_type": "code",
   "execution_count": 115,
   "id": "b04b5094",
   "metadata": {},
   "outputs": [],
   "source": [
    "baseline = baseline.loc[baseline['DATE'].dt.year==1976] #choosing a leap year so it contains all the data"
   ]
  },
  {
   "cell_type": "code",
   "execution_count": 116,
   "id": "c48fe38a",
   "metadata": {
    "scrolled": true
   },
   "outputs": [
    {
     "data": {
      "text/plain": [
       "(366, 6)"
      ]
     },
     "execution_count": 116,
     "metadata": {},
     "output_type": "execute_result"
    }
   ],
   "source": [
    "baseline.shape"
   ]
  },
  {
   "cell_type": "code",
   "execution_count": 117,
   "id": "3791e943",
   "metadata": {},
   "outputs": [],
   "source": [
    "baseline.reset_index(drop=True,inplace=True)"
   ]
  },
  {
   "cell_type": "markdown",
   "id": "21e1dc62",
   "metadata": {},
   "source": [
    ">The \"trick\" requires the creation of a column that has only the month and the day "
   ]
  },
  {
   "cell_type": "code",
   "execution_count": 118,
   "id": "19496b1b",
   "metadata": {},
   "outputs": [],
   "source": [
    "baseline['monthday'] = baseline.DATE.astype(str).str[5:]"
   ]
  },
  {
   "cell_type": "code",
   "execution_count": 119,
   "id": "3c740281",
   "metadata": {
    "scrolled": true
   },
   "outputs": [
    {
     "data": {
      "text/html": [
       "<div>\n",
       "<style scoped>\n",
       "    .dataframe tbody tr th:only-of-type {\n",
       "        vertical-align: middle;\n",
       "    }\n",
       "\n",
       "    .dataframe tbody tr th {\n",
       "        vertical-align: top;\n",
       "    }\n",
       "\n",
       "    .dataframe thead th {\n",
       "        text-align: right;\n",
       "    }\n",
       "</style>\n",
       "<table border=\"1\" class=\"dataframe\">\n",
       "  <thead>\n",
       "    <tr style=\"text-align: right;\">\n",
       "      <th></th>\n",
       "      <th>DATE</th>\n",
       "      <th>TAVG</th>\n",
       "      <th>day</th>\n",
       "      <th>month</th>\n",
       "      <th>25yeardayaverage</th>\n",
       "      <th>extreme_heat_baseline</th>\n",
       "      <th>monthday</th>\n",
       "    </tr>\n",
       "  </thead>\n",
       "  <tbody>\n",
       "    <tr>\n",
       "      <th>0</th>\n",
       "      <td>1976-01-01</td>\n",
       "      <td>11.3</td>\n",
       "      <td>1</td>\n",
       "      <td>1</td>\n",
       "      <td>10.780</td>\n",
       "      <td>11.8580</td>\n",
       "      <td>01-01</td>\n",
       "    </tr>\n",
       "    <tr>\n",
       "      <th>1</th>\n",
       "      <td>1976-01-02</td>\n",
       "      <td>12.4</td>\n",
       "      <td>2</td>\n",
       "      <td>1</td>\n",
       "      <td>11.136</td>\n",
       "      <td>12.2496</td>\n",
       "      <td>01-02</td>\n",
       "    </tr>\n",
       "    <tr>\n",
       "      <th>2</th>\n",
       "      <td>1976-01-03</td>\n",
       "      <td>13.6</td>\n",
       "      <td>3</td>\n",
       "      <td>1</td>\n",
       "      <td>10.616</td>\n",
       "      <td>11.6776</td>\n",
       "      <td>01-03</td>\n",
       "    </tr>\n",
       "    <tr>\n",
       "      <th>3</th>\n",
       "      <td>1976-01-04</td>\n",
       "      <td>13.6</td>\n",
       "      <td>4</td>\n",
       "      <td>1</td>\n",
       "      <td>10.020</td>\n",
       "      <td>11.0220</td>\n",
       "      <td>01-04</td>\n",
       "    </tr>\n",
       "    <tr>\n",
       "      <th>4</th>\n",
       "      <td>1976-01-05</td>\n",
       "      <td>8.4</td>\n",
       "      <td>5</td>\n",
       "      <td>1</td>\n",
       "      <td>10.316</td>\n",
       "      <td>11.3476</td>\n",
       "      <td>01-05</td>\n",
       "    </tr>\n",
       "  </tbody>\n",
       "</table>\n",
       "</div>"
      ],
      "text/plain": [
       "        DATE  TAVG  day  month  25yeardayaverage  extreme_heat_baseline  \\\n",
       "0 1976-01-01  11.3    1      1            10.780                11.8580   \n",
       "1 1976-01-02  12.4    2      1            11.136                12.2496   \n",
       "2 1976-01-03  13.6    3      1            10.616                11.6776   \n",
       "3 1976-01-04  13.6    4      1            10.020                11.0220   \n",
       "4 1976-01-05   8.4    5      1            10.316                11.3476   \n",
       "\n",
       "  monthday  \n",
       "0    01-01  \n",
       "1    01-02  \n",
       "2    01-03  \n",
       "3    01-04  \n",
       "4    01-05  "
      ]
     },
     "execution_count": 119,
     "metadata": {},
     "output_type": "execute_result"
    }
   ],
   "source": [
    "baseline.head()"
   ]
  },
  {
   "cell_type": "code",
   "execution_count": 120,
   "id": "7320a9a1",
   "metadata": {},
   "outputs": [],
   "source": [
    "q4otherdata['monthday'] = q4otherdata.DATE.astype(str).str[5:]"
   ]
  },
  {
   "cell_type": "markdown",
   "id": "5f5bc02f",
   "metadata": {},
   "source": [
    ">The trick essentially maps the baseline extreme heat baseline column based on the monthday column. So, in every 01/01 cell in my big dataframe, it is goign to map the extreme heat baseline value of 01/01 and subtract it from the temperature of that day.\n",
    "\n",
    ">The temperatures that are above 0 will then be considered as extreme heat indicators.\n",
    "\n",
    ">https://stackoverflow.com/questions/57278057/subtract-columns-from-dataframes-with-different-shapes-by-looking-up-based-on-an"
   ]
  },
  {
   "cell_type": "code",
   "execution_count": 121,
   "id": "4dbdba02",
   "metadata": {
    "scrolled": true
   },
   "outputs": [],
   "source": [
    "q4otherdata['TAVG'] -= q4otherdata.monthday.map(baseline.set_index('monthday').extreme_heat_baseline) #https://stackoverflow.com/questions/57278057/subtract-columns-from-dataframes-with-different-shapes-by-looking-up-based-on-an"
   ]
  },
  {
   "cell_type": "code",
   "execution_count": 122,
   "id": "f4a9f404",
   "metadata": {},
   "outputs": [],
   "source": [
    "q4otherdata['IsExtreme'] = q4otherdata['TAVG']>0"
   ]
  },
  {
   "cell_type": "code",
   "execution_count": 123,
   "id": "9f871928",
   "metadata": {},
   "outputs": [
    {
     "data": {
      "text/html": [
       "<div>\n",
       "<style scoped>\n",
       "    .dataframe tbody tr th:only-of-type {\n",
       "        vertical-align: middle;\n",
       "    }\n",
       "\n",
       "    .dataframe tbody tr th {\n",
       "        vertical-align: top;\n",
       "    }\n",
       "\n",
       "    .dataframe thead th {\n",
       "        text-align: right;\n",
       "    }\n",
       "</style>\n",
       "<table border=\"1\" class=\"dataframe\">\n",
       "  <thead>\n",
       "    <tr style=\"text-align: right;\">\n",
       "      <th></th>\n",
       "      <th>DATE</th>\n",
       "      <th>TAVG</th>\n",
       "      <th>monthday</th>\n",
       "      <th>IsExtreme</th>\n",
       "    </tr>\n",
       "  </thead>\n",
       "  <tbody>\n",
       "    <tr>\n",
       "      <th>0</th>\n",
       "      <td>1955-01-01</td>\n",
       "      <td>NaN</td>\n",
       "      <td>01-01</td>\n",
       "      <td>False</td>\n",
       "    </tr>\n",
       "    <tr>\n",
       "      <th>1</th>\n",
       "      <td>1955-01-02</td>\n",
       "      <td>NaN</td>\n",
       "      <td>01-02</td>\n",
       "      <td>False</td>\n",
       "    </tr>\n",
       "    <tr>\n",
       "      <th>2</th>\n",
       "      <td>1955-01-03</td>\n",
       "      <td>NaN</td>\n",
       "      <td>01-03</td>\n",
       "      <td>False</td>\n",
       "    </tr>\n",
       "    <tr>\n",
       "      <th>3</th>\n",
       "      <td>1955-01-04</td>\n",
       "      <td>NaN</td>\n",
       "      <td>01-04</td>\n",
       "      <td>False</td>\n",
       "    </tr>\n",
       "    <tr>\n",
       "      <th>4</th>\n",
       "      <td>1955-01-05</td>\n",
       "      <td>NaN</td>\n",
       "      <td>01-05</td>\n",
       "      <td>False</td>\n",
       "    </tr>\n",
       "  </tbody>\n",
       "</table>\n",
       "</div>"
      ],
      "text/plain": [
       "        DATE  TAVG monthday  IsExtreme\n",
       "0 1955-01-01   NaN    01-01      False\n",
       "1 1955-01-02   NaN    01-02      False\n",
       "2 1955-01-03   NaN    01-03      False\n",
       "3 1955-01-04   NaN    01-04      False\n",
       "4 1955-01-05   NaN    01-05      False"
      ]
     },
     "execution_count": 123,
     "metadata": {},
     "output_type": "execute_result"
    }
   ],
   "source": [
    "q4otherdata.head()"
   ]
  },
  {
   "cell_type": "code",
   "execution_count": 124,
   "id": "1c508935",
   "metadata": {},
   "outputs": [
    {
     "data": {
      "text/plain": [
       "array([False,  True])"
      ]
     },
     "execution_count": 124,
     "metadata": {},
     "output_type": "execute_result"
    }
   ],
   "source": [
    "q4otherdata['IsExtreme'].unique()"
   ]
  },
  {
   "cell_type": "code",
   "execution_count": 125,
   "id": "dd72084d",
   "metadata": {
    "scrolled": true
   },
   "outputs": [
    {
     "data": {
      "text/plain": [
       "False    19060\n",
       "True      5047\n",
       "Name: IsExtreme, dtype: int64"
      ]
     },
     "execution_count": 125,
     "metadata": {},
     "output_type": "execute_result"
    }
   ],
   "source": [
    "q4otherdata['IsExtreme'].value_counts() #makes sense"
   ]
  },
  {
   "cell_type": "markdown",
   "id": "086a81fb",
   "metadata": {},
   "source": [
    "> Then I am counting based on the year how many extreme events have occured and putting them in a new column.\n",
    "\n",
    ">Then I am going to follow the same process to determine the percentage of extreme heat events per year as in the baseline dataframe.\n",
    "\n",
    ">Finally I am going to drop columns and duplicates in order to use it in the plot."
   ]
  },
  {
   "cell_type": "code",
   "execution_count": 126,
   "id": "63d552f0",
   "metadata": {},
   "outputs": [],
   "source": [
    "q4otherdata['numberofyearlyextreme'] = q4otherdata.groupby(q4otherdata['DATE'].dt.year)['IsExtreme'].transform(sum)"
   ]
  },
  {
   "cell_type": "code",
   "execution_count": 127,
   "id": "4300946a",
   "metadata": {},
   "outputs": [],
   "source": [
    "q4otherdata['PercentageExtreme'] = np.where(q4otherdata['DATE'].dt.is_leap_year, q4otherdata['numberofyearlyextreme']/366, q4otherdata['numberofyearlyextreme']/365)"
   ]
  },
  {
   "cell_type": "code",
   "execution_count": 128,
   "id": "0b0bbe2e",
   "metadata": {},
   "outputs": [],
   "source": [
    "q4otherdata['year'] = q4otherdata['DATE'].dt.year"
   ]
  },
  {
   "cell_type": "code",
   "execution_count": 129,
   "id": "4eeb13ff",
   "metadata": {
    "scrolled": true
   },
   "outputs": [
    {
     "data": {
      "text/html": [
       "<div>\n",
       "<style scoped>\n",
       "    .dataframe tbody tr th:only-of-type {\n",
       "        vertical-align: middle;\n",
       "    }\n",
       "\n",
       "    .dataframe tbody tr th {\n",
       "        vertical-align: top;\n",
       "    }\n",
       "\n",
       "    .dataframe thead th {\n",
       "        text-align: right;\n",
       "    }\n",
       "</style>\n",
       "<table border=\"1\" class=\"dataframe\">\n",
       "  <thead>\n",
       "    <tr style=\"text-align: right;\">\n",
       "      <th></th>\n",
       "      <th>DATE</th>\n",
       "      <th>TAVG</th>\n",
       "      <th>monthday</th>\n",
       "      <th>IsExtreme</th>\n",
       "      <th>numberofyearlyextreme</th>\n",
       "      <th>PercentageExtreme</th>\n",
       "      <th>year</th>\n",
       "    </tr>\n",
       "  </thead>\n",
       "  <tbody>\n",
       "    <tr>\n",
       "      <th>0</th>\n",
       "      <td>1955-01-01</td>\n",
       "      <td>NaN</td>\n",
       "      <td>01-01</td>\n",
       "      <td>False</td>\n",
       "      <td>0</td>\n",
       "      <td>0.0</td>\n",
       "      <td>1955</td>\n",
       "    </tr>\n",
       "    <tr>\n",
       "      <th>1</th>\n",
       "      <td>1955-01-02</td>\n",
       "      <td>NaN</td>\n",
       "      <td>01-02</td>\n",
       "      <td>False</td>\n",
       "      <td>0</td>\n",
       "      <td>0.0</td>\n",
       "      <td>1955</td>\n",
       "    </tr>\n",
       "    <tr>\n",
       "      <th>2</th>\n",
       "      <td>1955-01-03</td>\n",
       "      <td>NaN</td>\n",
       "      <td>01-03</td>\n",
       "      <td>False</td>\n",
       "      <td>0</td>\n",
       "      <td>0.0</td>\n",
       "      <td>1955</td>\n",
       "    </tr>\n",
       "    <tr>\n",
       "      <th>3</th>\n",
       "      <td>1955-01-04</td>\n",
       "      <td>NaN</td>\n",
       "      <td>01-04</td>\n",
       "      <td>False</td>\n",
       "      <td>0</td>\n",
       "      <td>0.0</td>\n",
       "      <td>1955</td>\n",
       "    </tr>\n",
       "    <tr>\n",
       "      <th>4</th>\n",
       "      <td>1955-01-05</td>\n",
       "      <td>NaN</td>\n",
       "      <td>01-05</td>\n",
       "      <td>False</td>\n",
       "      <td>0</td>\n",
       "      <td>0.0</td>\n",
       "      <td>1955</td>\n",
       "    </tr>\n",
       "  </tbody>\n",
       "</table>\n",
       "</div>"
      ],
      "text/plain": [
       "        DATE  TAVG monthday  IsExtreme  numberofyearlyextreme  \\\n",
       "0 1955-01-01   NaN    01-01      False                      0   \n",
       "1 1955-01-02   NaN    01-02      False                      0   \n",
       "2 1955-01-03   NaN    01-03      False                      0   \n",
       "3 1955-01-04   NaN    01-04      False                      0   \n",
       "4 1955-01-05   NaN    01-05      False                      0   \n",
       "\n",
       "   PercentageExtreme  year  \n",
       "0                0.0  1955  \n",
       "1                0.0  1955  \n",
       "2                0.0  1955  \n",
       "3                0.0  1955  \n",
       "4                0.0  1955  "
      ]
     },
     "execution_count": 129,
     "metadata": {},
     "output_type": "execute_result"
    }
   ],
   "source": [
    "q4otherdata.head()"
   ]
  },
  {
   "cell_type": "code",
   "execution_count": 130,
   "id": "4bcff280",
   "metadata": {},
   "outputs": [],
   "source": [
    "q4otherdata2 = q4otherdata.drop(columns=['TAVG','IsExtreme','DATE','numberofyearlyextreme','monthday'])"
   ]
  },
  {
   "cell_type": "code",
   "execution_count": 131,
   "id": "b8758a56",
   "metadata": {},
   "outputs": [],
   "source": [
    "q4otherdata2.drop_duplicates(keep='first',inplace=True)"
   ]
  },
  {
   "cell_type": "code",
   "execution_count": 132,
   "id": "e06fe8ba",
   "metadata": {},
   "outputs": [],
   "source": [
    "q4otherdata2.reset_index(drop=True,inplace=True)"
   ]
  },
  {
   "cell_type": "markdown",
   "id": "98793379",
   "metadata": {},
   "source": [
    "### 4.3 Designing the Plot"
   ]
  },
  {
   "cell_type": "markdown",
   "id": "25ad66f7",
   "metadata": {},
   "source": [
    ">I have the value for the grey line and the percentages of extreme events for each year. \n",
    "\n",
    ">Every percentage that is above the grey line will be colored red, while the ones under will be colored blue.\n",
    "\n",
    ">There will be a legend explaining the grey line"
   ]
  },
  {
   "cell_type": "code",
   "execution_count": 133,
   "id": "6496c60c",
   "metadata": {
    "scrolled": true
   },
   "outputs": [
    {
     "data": {
      "text/html": [
       "<div>\n",
       "<style scoped>\n",
       "    .dataframe tbody tr th:only-of-type {\n",
       "        vertical-align: middle;\n",
       "    }\n",
       "\n",
       "    .dataframe tbody tr th {\n",
       "        vertical-align: top;\n",
       "    }\n",
       "\n",
       "    .dataframe thead th {\n",
       "        text-align: right;\n",
       "    }\n",
       "</style>\n",
       "<table border=\"1\" class=\"dataframe\">\n",
       "  <thead>\n",
       "    <tr style=\"text-align: right;\">\n",
       "      <th></th>\n",
       "      <th>PercentageExtreme</th>\n",
       "      <th>year</th>\n",
       "    </tr>\n",
       "  </thead>\n",
       "  <tbody>\n",
       "    <tr>\n",
       "      <th>0</th>\n",
       "      <td>0.000000</td>\n",
       "      <td>1955</td>\n",
       "    </tr>\n",
       "    <tr>\n",
       "      <th>1</th>\n",
       "      <td>0.000000</td>\n",
       "      <td>1956</td>\n",
       "    </tr>\n",
       "    <tr>\n",
       "      <th>2</th>\n",
       "      <td>0.087671</td>\n",
       "      <td>1957</td>\n",
       "    </tr>\n",
       "    <tr>\n",
       "      <th>3</th>\n",
       "      <td>0.263014</td>\n",
       "      <td>1958</td>\n",
       "    </tr>\n",
       "    <tr>\n",
       "      <th>4</th>\n",
       "      <td>0.000000</td>\n",
       "      <td>1959</td>\n",
       "    </tr>\n",
       "  </tbody>\n",
       "</table>\n",
       "</div>"
      ],
      "text/plain": [
       "   PercentageExtreme  year\n",
       "0           0.000000  1955\n",
       "1           0.000000  1956\n",
       "2           0.087671  1957\n",
       "3           0.263014  1958\n",
       "4           0.000000  1959"
      ]
     },
     "execution_count": 133,
     "metadata": {},
     "output_type": "execute_result"
    }
   ],
   "source": [
    "q4otherdata2.head() #data for year 1955-2020"
   ]
  },
  {
   "cell_type": "code",
   "execution_count": 134,
   "id": "545fa3b1",
   "metadata": {},
   "outputs": [
    {
     "name": "stdout",
     "output_type": "stream",
     "text": [
      "0.17810674451680517\n"
     ]
    }
   ],
   "source": [
    "print(yearsaverageextremeevents) #grey line of the graph"
   ]
  },
  {
   "cell_type": "code",
   "execution_count": 135,
   "id": "ddb17db4",
   "metadata": {
    "scrolled": false
   },
   "outputs": [
    {
     "data": {
      "image/png": "[encoded data removed]",
      "text/plain": [
       "<Figure size 432x288 with 1 Axes>"
      ]
     },
     "metadata": {
      "needs_background": "light"
     },
     "output_type": "display_data"
    }
   ],
   "source": [
    "fig = plt.figure()\n",
    "\n",
    "plt.bar(q4otherdata2['year'],q4otherdata2['PercentageExtreme'],color = ((q4otherdata2['PercentageExtreme'] - yearsaverageextremeevents) > 0).map\n",
    "                                            ({True:'darkred', False:'skyblue'}))\n",
    "\n",
    "plt.axhline(yearsaverageextremeevents,color='black')\n",
    "\n",
    "plt.xlabel('Year')\n",
    "plt.ylabel('Percentage of Extreme Heat Events')\n",
    "plt.title(\"Extreme heat events\")\n",
    "plt.grid()\n",
    "\n",
    "rolling = mpatches.Patch(color='black', label='Average Percentage of Extreme \\n Tempearture Events from 1974-1999')\n",
    "plt.legend(handles=[rolling])\n",
    "\n",
    "plt.savefig('ExtremeHeatEvents.png')           \n",
    "\n",
    "plt.show()\n"
   ]
  },
  {
   "cell_type": "markdown",
   "id": "14284662",
   "metadata": {},
   "source": [
    ">This graph shows that in the period of 1960-1995 there werent many extreme heat events and even if they were above the average, there still would not be that many in a year. However, after 1995 every year there was a heavy increase in the percentage of extreme heat events that makes sense based on our previous plots, since ,as shown in Q2, our summers are getting warmer. Additionly, though, in this plot we can see that not only our summers are getting warmer, but possibly the rest of the seasons too, which can be very problematic if the temperature keeps rising with that pace.\n",
    "\n",
    ">Here I want to mention that this plot is the one that made me change my mind in the fillna policy mentioned above. If I were to use the averages to fill all nun values of TAVG, this graph would be way different and would show that there were more extreme heat events in 1959 than in 2000. This would obviously be false information and that is why I decided that I should not use this strategy."
   ]
  },
  {
   "cell_type": "markdown",
   "id": "9a1ea8d0",
   "metadata": {},
   "source": [
    "## Q5: Precipitation"
   ]
  },
  {
   "cell_type": "markdown",
   "id": "84782750",
   "metadata": {},
   "source": [
    "### 5.1 Preparing the DataFrame"
   ]
  },
  {
   "cell_type": "markdown",
   "id": "1e7b6e63",
   "metadata": {},
   "source": [
    "> In this final question I will only use the PRCP so I am dropping the rest of the columns"
   ]
  },
  {
   "cell_type": "code",
   "execution_count": 136,
   "id": "a3a1bd3e",
   "metadata": {},
   "outputs": [],
   "source": [
    "q5data = croppedData.copy()"
   ]
  },
  {
   "cell_type": "code",
   "execution_count": 137,
   "id": "d71cfad0",
   "metadata": {},
   "outputs": [],
   "source": [
    "q5data.drop(columns=['TAVG','season','season_name'],inplace=True)"
   ]
  },
  {
   "cell_type": "code",
   "execution_count": 138,
   "id": "ce49d04a",
   "metadata": {
    "scrolled": true
   },
   "outputs": [
    {
     "data": {
      "text/html": [
       "<div>\n",
       "<style scoped>\n",
       "    .dataframe tbody tr th:only-of-type {\n",
       "        vertical-align: middle;\n",
       "    }\n",
       "\n",
       "    .dataframe tbody tr th {\n",
       "        vertical-align: top;\n",
       "    }\n",
       "\n",
       "    .dataframe thead th {\n",
       "        text-align: right;\n",
       "    }\n",
       "</style>\n",
       "<table border=\"1\" class=\"dataframe\">\n",
       "  <thead>\n",
       "    <tr style=\"text-align: right;\">\n",
       "      <th></th>\n",
       "      <th>DATE</th>\n",
       "      <th>PRCP</th>\n",
       "    </tr>\n",
       "  </thead>\n",
       "  <tbody>\n",
       "    <tr>\n",
       "      <th>0</th>\n",
       "      <td>1955-01-01</td>\n",
       "      <td>0.0</td>\n",
       "    </tr>\n",
       "    <tr>\n",
       "      <th>1</th>\n",
       "      <td>1955-01-02</td>\n",
       "      <td>2.0</td>\n",
       "    </tr>\n",
       "    <tr>\n",
       "      <th>2</th>\n",
       "      <td>1955-01-03</td>\n",
       "      <td>0.0</td>\n",
       "    </tr>\n",
       "    <tr>\n",
       "      <th>3</th>\n",
       "      <td>1955-01-04</td>\n",
       "      <td>0.0</td>\n",
       "    </tr>\n",
       "    <tr>\n",
       "      <th>4</th>\n",
       "      <td>1955-01-05</td>\n",
       "      <td>0.0</td>\n",
       "    </tr>\n",
       "  </tbody>\n",
       "</table>\n",
       "</div>"
      ],
      "text/plain": [
       "        DATE  PRCP\n",
       "0 1955-01-01   0.0\n",
       "1 1955-01-02   2.0\n",
       "2 1955-01-03   0.0\n",
       "3 1955-01-04   0.0\n",
       "4 1955-01-05   0.0"
      ]
     },
     "execution_count": 138,
     "metadata": {},
     "output_type": "execute_result"
    }
   ],
   "source": [
    "q5data.head()"
   ]
  },
  {
   "cell_type": "markdown",
   "id": "8a7119c4",
   "metadata": {},
   "source": [
    ">In order to compute the total rainfall of a year, I am grouping by based on the year and summing all the PRCP values."
   ]
  },
  {
   "cell_type": "code",
   "execution_count": 139,
   "id": "d56f73c4",
   "metadata": {},
   "outputs": [],
   "source": [
    "q5data['overall_rainfall'] = q5data.groupby(q5data['DATE'].dt.year)['PRCP'].transform(sum)"
   ]
  },
  {
   "cell_type": "code",
   "execution_count": 140,
   "id": "592afe96",
   "metadata": {
    "scrolled": true
   },
   "outputs": [
    {
     "data": {
      "text/html": [
       "<div>\n",
       "<style scoped>\n",
       "    .dataframe tbody tr th:only-of-type {\n",
       "        vertical-align: middle;\n",
       "    }\n",
       "\n",
       "    .dataframe tbody tr th {\n",
       "        vertical-align: top;\n",
       "    }\n",
       "\n",
       "    .dataframe thead th {\n",
       "        text-align: right;\n",
       "    }\n",
       "</style>\n",
       "<table border=\"1\" class=\"dataframe\">\n",
       "  <thead>\n",
       "    <tr style=\"text-align: right;\">\n",
       "      <th></th>\n",
       "      <th>DATE</th>\n",
       "      <th>PRCP</th>\n",
       "      <th>overall_rainfall</th>\n",
       "    </tr>\n",
       "  </thead>\n",
       "  <tbody>\n",
       "    <tr>\n",
       "      <th>0</th>\n",
       "      <td>1955-01-01</td>\n",
       "      <td>0.0</td>\n",
       "      <td>547.0</td>\n",
       "    </tr>\n",
       "    <tr>\n",
       "      <th>1</th>\n",
       "      <td>1955-01-02</td>\n",
       "      <td>2.0</td>\n",
       "      <td>547.0</td>\n",
       "    </tr>\n",
       "    <tr>\n",
       "      <th>2</th>\n",
       "      <td>1955-01-03</td>\n",
       "      <td>0.0</td>\n",
       "      <td>547.0</td>\n",
       "    </tr>\n",
       "    <tr>\n",
       "      <th>3</th>\n",
       "      <td>1955-01-04</td>\n",
       "      <td>0.0</td>\n",
       "      <td>547.0</td>\n",
       "    </tr>\n",
       "    <tr>\n",
       "      <th>4</th>\n",
       "      <td>1955-01-05</td>\n",
       "      <td>0.0</td>\n",
       "      <td>547.0</td>\n",
       "    </tr>\n",
       "  </tbody>\n",
       "</table>\n",
       "</div>"
      ],
      "text/plain": [
       "        DATE  PRCP  overall_rainfall\n",
       "0 1955-01-01   0.0             547.0\n",
       "1 1955-01-02   2.0             547.0\n",
       "2 1955-01-03   0.0             547.0\n",
       "3 1955-01-04   0.0             547.0\n",
       "4 1955-01-05   0.0             547.0"
      ]
     },
     "execution_count": 140,
     "metadata": {},
     "output_type": "execute_result"
    }
   ],
   "source": [
    "q5data.head()"
   ]
  },
  {
   "cell_type": "code",
   "execution_count": 141,
   "id": "aa07a6f0",
   "metadata": {
    "scrolled": false
   },
   "outputs": [
    {
     "data": {
      "text/plain": [
       "DATE                  0\n",
       "PRCP                379\n",
       "overall_rainfall      0\n",
       "dtype: int64"
      ]
     },
     "execution_count": 141,
     "metadata": {},
     "output_type": "execute_result"
    }
   ],
   "source": [
    "q5data.isnull().sum()"
   ]
  },
  {
   "cell_type": "markdown",
   "id": "82a6c5df",
   "metadata": {},
   "source": [
    "> I am also filling the null PRCP values with 0 since they are too few to make a difference"
   ]
  },
  {
   "cell_type": "code",
   "execution_count": 142,
   "id": "bef21f18",
   "metadata": {
    "scrolled": true
   },
   "outputs": [],
   "source": [
    "q5data.fillna(0,inplace= True) #fill missing PRCP values with 0 since there are way to few"
   ]
  },
  {
   "cell_type": "code",
   "execution_count": 143,
   "id": "0efa451b",
   "metadata": {},
   "outputs": [
    {
     "data": {
      "text/plain": [
       "DATE                0\n",
       "PRCP                0\n",
       "overall_rainfall    0\n",
       "dtype: int64"
      ]
     },
     "execution_count": 143,
     "metadata": {},
     "output_type": "execute_result"
    }
   ],
   "source": [
    "q5data.isnull().sum()"
   ]
  },
  {
   "cell_type": "markdown",
   "id": "66d90ade",
   "metadata": {},
   "source": [
    ">In order to determine if there was rain in a day I just have to see if the PRCP is positive and store it in a column"
   ]
  },
  {
   "cell_type": "code",
   "execution_count": 144,
   "id": "b7578fcd",
   "metadata": {
    "scrolled": true
   },
   "outputs": [],
   "source": [
    "q5data['rained'] = q5data['PRCP'] > 0"
   ]
  },
  {
   "cell_type": "code",
   "execution_count": 145,
   "id": "f9c3c8d5",
   "metadata": {},
   "outputs": [
    {
     "data": {
      "text/html": [
       "<div>\n",
       "<style scoped>\n",
       "    .dataframe tbody tr th:only-of-type {\n",
       "        vertical-align: middle;\n",
       "    }\n",
       "\n",
       "    .dataframe tbody tr th {\n",
       "        vertical-align: top;\n",
       "    }\n",
       "\n",
       "    .dataframe thead th {\n",
       "        text-align: right;\n",
       "    }\n",
       "</style>\n",
       "<table border=\"1\" class=\"dataframe\">\n",
       "  <thead>\n",
       "    <tr style=\"text-align: right;\">\n",
       "      <th></th>\n",
       "      <th>DATE</th>\n",
       "      <th>PRCP</th>\n",
       "      <th>overall_rainfall</th>\n",
       "      <th>rained</th>\n",
       "    </tr>\n",
       "  </thead>\n",
       "  <tbody>\n",
       "    <tr>\n",
       "      <th>0</th>\n",
       "      <td>1955-01-01</td>\n",
       "      <td>0.0</td>\n",
       "      <td>547.0</td>\n",
       "      <td>False</td>\n",
       "    </tr>\n",
       "    <tr>\n",
       "      <th>1</th>\n",
       "      <td>1955-01-02</td>\n",
       "      <td>2.0</td>\n",
       "      <td>547.0</td>\n",
       "      <td>True</td>\n",
       "    </tr>\n",
       "    <tr>\n",
       "      <th>2</th>\n",
       "      <td>1955-01-03</td>\n",
       "      <td>0.0</td>\n",
       "      <td>547.0</td>\n",
       "      <td>False</td>\n",
       "    </tr>\n",
       "    <tr>\n",
       "      <th>3</th>\n",
       "      <td>1955-01-04</td>\n",
       "      <td>0.0</td>\n",
       "      <td>547.0</td>\n",
       "      <td>False</td>\n",
       "    </tr>\n",
       "    <tr>\n",
       "      <th>4</th>\n",
       "      <td>1955-01-05</td>\n",
       "      <td>0.0</td>\n",
       "      <td>547.0</td>\n",
       "      <td>False</td>\n",
       "    </tr>\n",
       "  </tbody>\n",
       "</table>\n",
       "</div>"
      ],
      "text/plain": [
       "        DATE  PRCP  overall_rainfall  rained\n",
       "0 1955-01-01   0.0             547.0   False\n",
       "1 1955-01-02   2.0             547.0    True\n",
       "2 1955-01-03   0.0             547.0   False\n",
       "3 1955-01-04   0.0             547.0   False\n",
       "4 1955-01-05   0.0             547.0   False"
      ]
     },
     "execution_count": 145,
     "metadata": {},
     "output_type": "execute_result"
    }
   ],
   "source": [
    "q5data.head()"
   ]
  },
  {
   "cell_type": "markdown",
   "id": "fd305bc3",
   "metadata": {},
   "source": [
    ">Here I am computing the total of the rainy days in a year and then I am dividing the overall rainfall with these days in order to see the average PRCP."
   ]
  },
  {
   "cell_type": "code",
   "execution_count": 146,
   "id": "97cc6fd1",
   "metadata": {},
   "outputs": [],
   "source": [
    "q5data['daysthatrained'] = q5data.groupby(q5data['DATE'].dt.year)['rained'].transform(sum)"
   ]
  },
  {
   "cell_type": "code",
   "execution_count": 147,
   "id": "aeea907a",
   "metadata": {},
   "outputs": [
    {
     "data": {
      "text/html": [
       "<div>\n",
       "<style scoped>\n",
       "    .dataframe tbody tr th:only-of-type {\n",
       "        vertical-align: middle;\n",
       "    }\n",
       "\n",
       "    .dataframe tbody tr th {\n",
       "        vertical-align: top;\n",
       "    }\n",
       "\n",
       "    .dataframe thead th {\n",
       "        text-align: right;\n",
       "    }\n",
       "</style>\n",
       "<table border=\"1\" class=\"dataframe\">\n",
       "  <thead>\n",
       "    <tr style=\"text-align: right;\">\n",
       "      <th></th>\n",
       "      <th>DATE</th>\n",
       "      <th>PRCP</th>\n",
       "      <th>overall_rainfall</th>\n",
       "      <th>rained</th>\n",
       "      <th>daysthatrained</th>\n",
       "    </tr>\n",
       "  </thead>\n",
       "  <tbody>\n",
       "    <tr>\n",
       "      <th>0</th>\n",
       "      <td>1955-01-01</td>\n",
       "      <td>0.0</td>\n",
       "      <td>547.0</td>\n",
       "      <td>False</td>\n",
       "      <td>68</td>\n",
       "    </tr>\n",
       "    <tr>\n",
       "      <th>1</th>\n",
       "      <td>1955-01-02</td>\n",
       "      <td>2.0</td>\n",
       "      <td>547.0</td>\n",
       "      <td>True</td>\n",
       "      <td>68</td>\n",
       "    </tr>\n",
       "    <tr>\n",
       "      <th>2</th>\n",
       "      <td>1955-01-03</td>\n",
       "      <td>0.0</td>\n",
       "      <td>547.0</td>\n",
       "      <td>False</td>\n",
       "      <td>68</td>\n",
       "    </tr>\n",
       "    <tr>\n",
       "      <th>3</th>\n",
       "      <td>1955-01-04</td>\n",
       "      <td>0.0</td>\n",
       "      <td>547.0</td>\n",
       "      <td>False</td>\n",
       "      <td>68</td>\n",
       "    </tr>\n",
       "    <tr>\n",
       "      <th>4</th>\n",
       "      <td>1955-01-05</td>\n",
       "      <td>0.0</td>\n",
       "      <td>547.0</td>\n",
       "      <td>False</td>\n",
       "      <td>68</td>\n",
       "    </tr>\n",
       "  </tbody>\n",
       "</table>\n",
       "</div>"
      ],
      "text/plain": [
       "        DATE  PRCP  overall_rainfall  rained  daysthatrained\n",
       "0 1955-01-01   0.0             547.0   False              68\n",
       "1 1955-01-02   2.0             547.0    True              68\n",
       "2 1955-01-03   0.0             547.0   False              68\n",
       "3 1955-01-04   0.0             547.0   False              68\n",
       "4 1955-01-05   0.0             547.0   False              68"
      ]
     },
     "execution_count": 147,
     "metadata": {},
     "output_type": "execute_result"
    }
   ],
   "source": [
    "q5data.head()"
   ]
  },
  {
   "cell_type": "code",
   "execution_count": 148,
   "id": "1c19083f",
   "metadata": {},
   "outputs": [],
   "source": [
    "q5data['average_PRCP'] = q5data['overall_rainfall']/q5data['daysthatrained']"
   ]
  },
  {
   "cell_type": "markdown",
   "id": "88455b9e",
   "metadata": {},
   "source": [
    ">Here I am again cleaning up the dataframe to prepare it for plotting.\n",
    "\n",
    ">I am dropping duplicates and creating a year column."
   ]
  },
  {
   "cell_type": "code",
   "execution_count": 149,
   "id": "a011a341",
   "metadata": {},
   "outputs": [],
   "source": [
    "q5data['year'] = q5data['DATE'].dt.year"
   ]
  },
  {
   "cell_type": "code",
   "execution_count": 150,
   "id": "1b13eb8b",
   "metadata": {
    "scrolled": true
   },
   "outputs": [
    {
     "data": {
      "text/html": [
       "<div>\n",
       "<style scoped>\n",
       "    .dataframe tbody tr th:only-of-type {\n",
       "        vertical-align: middle;\n",
       "    }\n",
       "\n",
       "    .dataframe tbody tr th {\n",
       "        vertical-align: top;\n",
       "    }\n",
       "\n",
       "    .dataframe thead th {\n",
       "        text-align: right;\n",
       "    }\n",
       "</style>\n",
       "<table border=\"1\" class=\"dataframe\">\n",
       "  <thead>\n",
       "    <tr style=\"text-align: right;\">\n",
       "      <th></th>\n",
       "      <th>DATE</th>\n",
       "      <th>PRCP</th>\n",
       "      <th>overall_rainfall</th>\n",
       "      <th>rained</th>\n",
       "      <th>daysthatrained</th>\n",
       "      <th>average_PRCP</th>\n",
       "      <th>year</th>\n",
       "    </tr>\n",
       "  </thead>\n",
       "  <tbody>\n",
       "    <tr>\n",
       "      <th>0</th>\n",
       "      <td>1955-01-01</td>\n",
       "      <td>0.0</td>\n",
       "      <td>547.0</td>\n",
       "      <td>False</td>\n",
       "      <td>68</td>\n",
       "      <td>8.044118</td>\n",
       "      <td>1955</td>\n",
       "    </tr>\n",
       "    <tr>\n",
       "      <th>1</th>\n",
       "      <td>1955-01-02</td>\n",
       "      <td>2.0</td>\n",
       "      <td>547.0</td>\n",
       "      <td>True</td>\n",
       "      <td>68</td>\n",
       "      <td>8.044118</td>\n",
       "      <td>1955</td>\n",
       "    </tr>\n",
       "    <tr>\n",
       "      <th>2</th>\n",
       "      <td>1955-01-03</td>\n",
       "      <td>0.0</td>\n",
       "      <td>547.0</td>\n",
       "      <td>False</td>\n",
       "      <td>68</td>\n",
       "      <td>8.044118</td>\n",
       "      <td>1955</td>\n",
       "    </tr>\n",
       "    <tr>\n",
       "      <th>3</th>\n",
       "      <td>1955-01-04</td>\n",
       "      <td>0.0</td>\n",
       "      <td>547.0</td>\n",
       "      <td>False</td>\n",
       "      <td>68</td>\n",
       "      <td>8.044118</td>\n",
       "      <td>1955</td>\n",
       "    </tr>\n",
       "    <tr>\n",
       "      <th>4</th>\n",
       "      <td>1955-01-05</td>\n",
       "      <td>0.0</td>\n",
       "      <td>547.0</td>\n",
       "      <td>False</td>\n",
       "      <td>68</td>\n",
       "      <td>8.044118</td>\n",
       "      <td>1955</td>\n",
       "    </tr>\n",
       "  </tbody>\n",
       "</table>\n",
       "</div>"
      ],
      "text/plain": [
       "        DATE  PRCP  overall_rainfall  rained  daysthatrained  average_PRCP  \\\n",
       "0 1955-01-01   0.0             547.0   False              68      8.044118   \n",
       "1 1955-01-02   2.0             547.0    True              68      8.044118   \n",
       "2 1955-01-03   0.0             547.0   False              68      8.044118   \n",
       "3 1955-01-04   0.0             547.0   False              68      8.044118   \n",
       "4 1955-01-05   0.0             547.0   False              68      8.044118   \n",
       "\n",
       "   year  \n",
       "0  1955  \n",
       "1  1955  \n",
       "2  1955  \n",
       "3  1955  \n",
       "4  1955  "
      ]
     },
     "execution_count": 150,
     "metadata": {},
     "output_type": "execute_result"
    }
   ],
   "source": [
    "q5data.head()"
   ]
  },
  {
   "cell_type": "code",
   "execution_count": 151,
   "id": "3d34da64",
   "metadata": {},
   "outputs": [],
   "source": [
    "q5data.drop(columns=['rained','daysthatrained','PRCP','DATE','overall_rainfall'],inplace=True)"
   ]
  },
  {
   "cell_type": "code",
   "execution_count": 152,
   "id": "3cf0cc31",
   "metadata": {},
   "outputs": [],
   "source": [
    "q5data.drop_duplicates(keep='first',inplace=True)"
   ]
  },
  {
   "cell_type": "code",
   "execution_count": 153,
   "id": "393300aa",
   "metadata": {},
   "outputs": [],
   "source": [
    "q5data.reset_index(drop=True,inplace=True)"
   ]
  },
  {
   "cell_type": "code",
   "execution_count": 154,
   "id": "91830676",
   "metadata": {
    "scrolled": false
   },
   "outputs": [
    {
     "data": {
      "text/html": [
       "<div>\n",
       "<style scoped>\n",
       "    .dataframe tbody tr th:only-of-type {\n",
       "        vertical-align: middle;\n",
       "    }\n",
       "\n",
       "    .dataframe tbody tr th {\n",
       "        vertical-align: top;\n",
       "    }\n",
       "\n",
       "    .dataframe thead th {\n",
       "        text-align: right;\n",
       "    }\n",
       "</style>\n",
       "<table border=\"1\" class=\"dataframe\">\n",
       "  <thead>\n",
       "    <tr style=\"text-align: right;\">\n",
       "      <th></th>\n",
       "      <th>average_PRCP</th>\n",
       "      <th>year</th>\n",
       "    </tr>\n",
       "  </thead>\n",
       "  <tbody>\n",
       "    <tr>\n",
       "      <th>0</th>\n",
       "      <td>8.044118</td>\n",
       "      <td>1955</td>\n",
       "    </tr>\n",
       "    <tr>\n",
       "      <th>1</th>\n",
       "      <td>5.409615</td>\n",
       "      <td>1956</td>\n",
       "    </tr>\n",
       "    <tr>\n",
       "      <th>2</th>\n",
       "      <td>4.153425</td>\n",
       "      <td>1957</td>\n",
       "    </tr>\n",
       "    <tr>\n",
       "      <th>3</th>\n",
       "      <td>5.147059</td>\n",
       "      <td>1958</td>\n",
       "    </tr>\n",
       "    <tr>\n",
       "      <th>4</th>\n",
       "      <td>3.451613</td>\n",
       "      <td>1959</td>\n",
       "    </tr>\n",
       "  </tbody>\n",
       "</table>\n",
       "</div>"
      ],
      "text/plain": [
       "   average_PRCP  year\n",
       "0      8.044118  1955\n",
       "1      5.409615  1956\n",
       "2      4.153425  1957\n",
       "3      5.147059  1958\n",
       "4      3.451613  1959"
      ]
     },
     "execution_count": 154,
     "metadata": {},
     "output_type": "execute_result"
    }
   ],
   "source": [
    "q5data.head()"
   ]
  },
  {
   "cell_type": "markdown",
   "id": "8e6eda8c",
   "metadata": {},
   "source": [
    ">Lastly, I am creating the rolling average of 10 years,while using the min_periods =1 so that my line starts from the begging of the graph"
   ]
  },
  {
   "cell_type": "code",
   "execution_count": 155,
   "id": "294e0b66",
   "metadata": {},
   "outputs": [],
   "source": [
    "q5data['rolling'] = q5data['average_PRCP'].rolling(10,min_periods=1).mean()"
   ]
  },
  {
   "cell_type": "markdown",
   "id": "19511512",
   "metadata": {},
   "source": [
    "### 5.2 Creating the Plot"
   ]
  },
  {
   "cell_type": "markdown",
   "id": "7e5dc5a7",
   "metadata": {},
   "source": [
    ">In the plot I am just showing the averagePRCP data for each year and the 10 years rolling average of this data is overlapping it in order to show the trend.\n",
    "\n",
    ">A legend is also added to explain what we are seeing"
   ]
  },
  {
   "cell_type": "code",
   "execution_count": 156,
   "id": "3bfefebb",
   "metadata": {
    "scrolled": true
   },
   "outputs": [
    {
     "data": {
      "image/png": "[encoded data removed]",
      "text/plain": [
       "<Figure size 432x288 with 1 Axes>"
      ]
     },
     "metadata": {
      "needs_background": "light"
     },
     "output_type": "display_data"
    }
   ],
   "source": [
    "fig = plt.figure()\n",
    "\n",
    "plt.bar(q5data['year'],q5data['average_PRCP'],color = 'royalblue')\n",
    "                                            \n",
    "plt.plot(q5data['year'],q5data['rolling'],color='navy')\n",
    "\n",
    "\n",
    "plt.xlabel('Year')\n",
    "plt.ylabel('Average PRCP')\n",
    "plt.title(\"Average rainfall over the years\")\n",
    "plt.grid()\n",
    "\n",
    "rolling = mpatches.Patch(color='navy', label='10 Years Rolling Average of PRCP')\n",
    "plt.legend(handles=[rolling])\n",
    "\n",
    "plt.savefig('PRCP_Average.png')           \n",
    "            \n",
    "\n",
    "plt.show()\n"
   ]
  },
  {
   "cell_type": "markdown",
   "id": "547f7b97",
   "metadata": {},
   "source": [
    ">This figure shows that the amount of rainfall has risen the past years and that there is a general trend to increase. "
   ]
  },
  {
   "cell_type": "markdown",
   "id": "d7534260",
   "metadata": {},
   "source": [
    "## CONCLUSION"
   ]
  },
  {
   "cell_type": "markdown",
   "id": "5e2f785b",
   "metadata": {},
   "source": [
    ">We can see that there is a trend for more extreme temperatures annually,a rise in rainfall and a rise in extreme heat events. In other words, the climate is becoming more unpredictable and extreme. The signs of climate change are clear in the climate of Athens and will continue to become more evident in the years to come as more extreme events will take place."
   ]
  }
 ],
 "metadata": {
  "kernelspec": {
   "display_name": "Python 3 (ipykernel)",
   "language": "python",
   "name": "python3"
  },
  "language_info": {
   "codemirror_mode": {
    "name": "ipython",
    "version": 3
   },
   "file_extension": ".py",
   "mimetype": "text/x-python",
   "name": "python",
   "nbconvert_exporter": "python",
   "pygments_lexer": "ipython3",
   "version": "3.7.4"
  }
 },
 "nbformat": 4,
 "nbformat_minor": 5
}
