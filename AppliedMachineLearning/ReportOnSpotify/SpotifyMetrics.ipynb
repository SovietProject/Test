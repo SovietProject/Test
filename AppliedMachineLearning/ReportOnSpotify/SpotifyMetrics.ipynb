{
 "cells": [
  {
   "cell_type": "markdown",
   "id": "d26ee530",
   "metadata": {},
   "source": [
    "# Dissecting Spotify Valence\n",
    "\n",
    "Assignment 3\n",
    "\n",
    "---\n",
    "\n",
    "> Odyssefs Diamantopoulos Pantaleon, Undergraduate Student <br />\n",
    "> Department of Computer Science<br />\n",
    "> Athens University of Economics and Business <br />\n",
    "> p3180049@aueb.gr"
   ]
  },
  {
   "cell_type": "markdown",
   "id": "e95d9143",
   "metadata": {},
   "source": [
    "## Q0: Importing the Data"
   ]
  },
  {
   "cell_type": "markdown",
   "id": "7c8c30c9",
   "metadata": {},
   "source": [
    " In order to get the data from Spotify I am going to follow step by step the \"spotify_anova.ipynb\" that was shown in class until the point where we form the dataframe containing all the necessary information."
   ]
  },
  {
   "cell_type": "markdown",
   "id": "d68d2740",
   "metadata": {},
   "source": [
    "* As I am going the same process I am going to explain every step"
   ]
  },
  {
   "cell_type": "code",
   "execution_count": 1,
   "id": "dbe83a0a",
   "metadata": {},
   "outputs": [],
   "source": [
    "import pandas as pd\n",
    "import numpy as np\n",
    "import scipy.stats as stats\n",
    "import statsmodels.api as sm\n",
    "import statsmodels.formula.api as smf\n",
    "\n",
    "import glob\n",
    "import re\n",
    "from datetime import datetime\n",
    "\n",
    "import spotipy\n",
    "from spotipy.oauth2 import SpotifyClientCredentials\n",
    "\n",
    "import matplotlib.pyplot as plt\n",
    "import seaborn as sns\n",
    "\n",
    "%matplotlib inline"
   ]
  },
  {
   "cell_type": "markdown",
   "id": "1bb9e3e9",
   "metadata": {},
   "source": [
    "* Firstly I need to download the Chart zip from the https://zenodo.org/record/4778563#.Yg-Xy8lByUk website\n",
    "\n",
    "* This zip contains chart data from global and regional markets from January 2017 to December 2019, considering eight of the top 10 music markets\n",
    "\n",
    "* I am going to read all the csv's inside that folder and then load them all to one dataframe"
   ]
  },
  {
   "cell_type": "code",
   "execution_count": 2,
   "id": "4c30e92d",
   "metadata": {
    "scrolled": false
   },
   "outputs": [
    {
     "data": {
      "text/html": [
       "<div>\n",
       "<style scoped>\n",
       "    .dataframe tbody tr th:only-of-type {\n",
       "        vertical-align: middle;\n",
       "    }\n",
       "\n",
       "    .dataframe tbody tr th {\n",
       "        vertical-align: top;\n",
       "    }\n",
       "\n",
       "    .dataframe thead th {\n",
       "        text-align: right;\n",
       "    }\n",
       "</style>\n",
       "<table border=\"1\" class=\"dataframe\">\n",
       "  <thead>\n",
       "    <tr style=\"text-align: right;\">\n",
       "      <th></th>\n",
       "      <th>position</th>\n",
       "      <th>song_id</th>\n",
       "      <th>song_name</th>\n",
       "      <th>artist</th>\n",
       "      <th>streams</th>\n",
       "      <th>last_week_position</th>\n",
       "      <th>weeks_on_chart</th>\n",
       "      <th>peak_position</th>\n",
       "      <th>position_status</th>\n",
       "      <th>week_start</th>\n",
       "      <th>week_end</th>\n",
       "      <th>region</th>\n",
       "    </tr>\n",
       "  </thead>\n",
       "  <tbody>\n",
       "    <tr>\n",
       "      <th>0</th>\n",
       "      <td>1</td>\n",
       "      <td>5aAx2yezTd8zXrkmtKl66Z</td>\n",
       "      <td>Starboy</td>\n",
       "      <td>The Weeknd</td>\n",
       "      <td>947261</td>\n",
       "      <td>NaN</td>\n",
       "      <td>1</td>\n",
       "      <td>1</td>\n",
       "      <td>new</td>\n",
       "      <td>2016-12-30</td>\n",
       "      <td>2017-01-06</td>\n",
       "      <td>Charts\\au\\2017\\au-weekly_with_features-2016-12...</td>\n",
       "    </tr>\n",
       "    <tr>\n",
       "      <th>1</th>\n",
       "      <td>2</td>\n",
       "      <td>5knuzwU65gJK7IF5yJsuaW</td>\n",
       "      <td>Rockabye (feat. Sean Paul &amp; Anne-Marie)</td>\n",
       "      <td>Clean Bandit</td>\n",
       "      <td>893107</td>\n",
       "      <td>NaN</td>\n",
       "      <td>1</td>\n",
       "      <td>2</td>\n",
       "      <td>new</td>\n",
       "      <td>2016-12-30</td>\n",
       "      <td>2017-01-06</td>\n",
       "      <td>Charts\\au\\2017\\au-weekly_with_features-2016-12...</td>\n",
       "    </tr>\n",
       "    <tr>\n",
       "      <th>2</th>\n",
       "      <td>3</td>\n",
       "      <td>7BKLCZ1jbUBVqRi2FVlTVw</td>\n",
       "      <td>Closer</td>\n",
       "      <td>The Chainsmokers</td>\n",
       "      <td>871617</td>\n",
       "      <td>NaN</td>\n",
       "      <td>1</td>\n",
       "      <td>3</td>\n",
       "      <td>new</td>\n",
       "      <td>2016-12-30</td>\n",
       "      <td>2017-01-06</td>\n",
       "      <td>Charts\\au\\2017\\au-weekly_with_features-2016-12...</td>\n",
       "    </tr>\n",
       "    <tr>\n",
       "      <th>3</th>\n",
       "      <td>4</td>\n",
       "      <td>3NdDpSvN911VPGivFlV5d0</td>\n",
       "      <td>I Don’t Wanna Live Forever (Fifty Shades Darke...</td>\n",
       "      <td>ZAYN</td>\n",
       "      <td>791592</td>\n",
       "      <td>NaN</td>\n",
       "      <td>1</td>\n",
       "      <td>4</td>\n",
       "      <td>new</td>\n",
       "      <td>2016-12-30</td>\n",
       "      <td>2017-01-06</td>\n",
       "      <td>Charts\\au\\2017\\au-weekly_with_features-2016-12...</td>\n",
       "    </tr>\n",
       "    <tr>\n",
       "      <th>4</th>\n",
       "      <td>5</td>\n",
       "      <td>78rIJddV4X0HkNAInEcYde</td>\n",
       "      <td>Call On Me - Ryan Riback Extended Remix</td>\n",
       "      <td>Starley</td>\n",
       "      <td>743490</td>\n",
       "      <td>NaN</td>\n",
       "      <td>1</td>\n",
       "      <td>5</td>\n",
       "      <td>new</td>\n",
       "      <td>2016-12-30</td>\n",
       "      <td>2017-01-06</td>\n",
       "      <td>Charts\\au\\2017\\au-weekly_with_features-2016-12...</td>\n",
       "    </tr>\n",
       "    <tr>\n",
       "      <th>...</th>\n",
       "      <td>...</td>\n",
       "      <td>...</td>\n",
       "      <td>...</td>\n",
       "      <td>...</td>\n",
       "      <td>...</td>\n",
       "      <td>...</td>\n",
       "      <td>...</td>\n",
       "      <td>...</td>\n",
       "      <td>...</td>\n",
       "      <td>...</td>\n",
       "      <td>...</td>\n",
       "      <td>...</td>\n",
       "    </tr>\n",
       "    <tr>\n",
       "      <th>195</th>\n",
       "      <td>196</td>\n",
       "      <td>7f5trao56t7sB7f14QDTmp</td>\n",
       "      <td>Juicy</td>\n",
       "      <td>Doja Cat</td>\n",
       "      <td>1920454</td>\n",
       "      <td>146.0</td>\n",
       "      <td>8</td>\n",
       "      <td>66</td>\n",
       "      <td>-50</td>\n",
       "      <td>2019-12-20</td>\n",
       "      <td>2019-12-27</td>\n",
       "      <td>Charts\\us\\2019\\us-weekly_with_features-2019-12...</td>\n",
       "    </tr>\n",
       "    <tr>\n",
       "      <th>196</th>\n",
       "      <td>197</td>\n",
       "      <td>5JiH89mHrv9oWHlD0T326z</td>\n",
       "      <td>To Be So Lonely</td>\n",
       "      <td>Harry Styles</td>\n",
       "      <td>1912267</td>\n",
       "      <td>32.0</td>\n",
       "      <td>2</td>\n",
       "      <td>32</td>\n",
       "      <td>-165</td>\n",
       "      <td>2019-12-20</td>\n",
       "      <td>2019-12-27</td>\n",
       "      <td>Charts\\us\\2019\\us-weekly_with_features-2019-12...</td>\n",
       "    </tr>\n",
       "    <tr>\n",
       "      <th>197</th>\n",
       "      <td>198</td>\n",
       "      <td>7GX5flRQZVHRAGd6B4TmDO</td>\n",
       "      <td>XO Tour Llif3</td>\n",
       "      <td>Lil Uzi Vert</td>\n",
       "      <td>1902239</td>\n",
       "      <td>154.0</td>\n",
       "      <td>121</td>\n",
       "      <td>2</td>\n",
       "      <td>-44</td>\n",
       "      <td>2019-12-20</td>\n",
       "      <td>2019-12-27</td>\n",
       "      <td>Charts\\us\\2019\\us-weekly_with_features-2019-12...</td>\n",
       "    </tr>\n",
       "    <tr>\n",
       "      <th>198</th>\n",
       "      <td>199</td>\n",
       "      <td>2dpaYNEQHiRxtZbfNsse99</td>\n",
       "      <td>Happier</td>\n",
       "      <td>Marshmello</td>\n",
       "      <td>1899623</td>\n",
       "      <td>173.0</td>\n",
       "      <td>71</td>\n",
       "      <td>8</td>\n",
       "      <td>-26</td>\n",
       "      <td>2019-12-20</td>\n",
       "      <td>2019-12-27</td>\n",
       "      <td>Charts\\us\\2019\\us-weekly_with_features-2019-12...</td>\n",
       "    </tr>\n",
       "    <tr>\n",
       "      <th>199</th>\n",
       "      <td>200</td>\n",
       "      <td>5BJMeoCXXgbRAWfp6fTulr</td>\n",
       "      <td>Shotta Flow (feat. Blueface) [Remix]</td>\n",
       "      <td>NLE Choppa</td>\n",
       "      <td>1899350</td>\n",
       "      <td>NaN</td>\n",
       "      <td>1</td>\n",
       "      <td>200</td>\n",
       "      <td>new</td>\n",
       "      <td>2019-12-20</td>\n",
       "      <td>2019-12-27</td>\n",
       "      <td>Charts\\us\\2019\\us-weekly_with_features-2019-12...</td>\n",
       "    </tr>\n",
       "  </tbody>\n",
       "</table>\n",
       "<p>273600 rows × 12 columns</p>\n",
       "</div>"
      ],
      "text/plain": [
       "     position                 song_id  \\\n",
       "0           1  5aAx2yezTd8zXrkmtKl66Z   \n",
       "1           2  5knuzwU65gJK7IF5yJsuaW   \n",
       "2           3  7BKLCZ1jbUBVqRi2FVlTVw   \n",
       "3           4  3NdDpSvN911VPGivFlV5d0   \n",
       "4           5  78rIJddV4X0HkNAInEcYde   \n",
       "..        ...                     ...   \n",
       "195       196  7f5trao56t7sB7f14QDTmp   \n",
       "196       197  5JiH89mHrv9oWHlD0T326z   \n",
       "197       198  7GX5flRQZVHRAGd6B4TmDO   \n",
       "198       199  2dpaYNEQHiRxtZbfNsse99   \n",
       "199       200  5BJMeoCXXgbRAWfp6fTulr   \n",
       "\n",
       "                                             song_name            artist  \\\n",
       "0                                              Starboy        The Weeknd   \n",
       "1              Rockabye (feat. Sean Paul & Anne-Marie)      Clean Bandit   \n",
       "2                                               Closer  The Chainsmokers   \n",
       "3    I Don’t Wanna Live Forever (Fifty Shades Darke...              ZAYN   \n",
       "4              Call On Me - Ryan Riback Extended Remix           Starley   \n",
       "..                                                 ...               ...   \n",
       "195                                              Juicy          Doja Cat   \n",
       "196                                    To Be So Lonely      Harry Styles   \n",
       "197                                      XO Tour Llif3      Lil Uzi Vert   \n",
       "198                                            Happier        Marshmello   \n",
       "199               Shotta Flow (feat. Blueface) [Remix]        NLE Choppa   \n",
       "\n",
       "     streams  last_week_position  weeks_on_chart  peak_position  \\\n",
       "0     947261                 NaN               1              1   \n",
       "1     893107                 NaN               1              2   \n",
       "2     871617                 NaN               1              3   \n",
       "3     791592                 NaN               1              4   \n",
       "4     743490                 NaN               1              5   \n",
       "..       ...                 ...             ...            ...   \n",
       "195  1920454               146.0               8             66   \n",
       "196  1912267                32.0               2             32   \n",
       "197  1902239               154.0             121              2   \n",
       "198  1899623               173.0              71              8   \n",
       "199  1899350                 NaN               1            200   \n",
       "\n",
       "    position_status week_start   week_end  \\\n",
       "0               new 2016-12-30 2017-01-06   \n",
       "1               new 2016-12-30 2017-01-06   \n",
       "2               new 2016-12-30 2017-01-06   \n",
       "3               new 2016-12-30 2017-01-06   \n",
       "4               new 2016-12-30 2017-01-06   \n",
       "..              ...        ...        ...   \n",
       "195             -50 2019-12-20 2019-12-27   \n",
       "196            -165 2019-12-20 2019-12-27   \n",
       "197             -44 2019-12-20 2019-12-27   \n",
       "198             -26 2019-12-20 2019-12-27   \n",
       "199             new 2019-12-20 2019-12-27   \n",
       "\n",
       "                                                region  \n",
       "0    Charts\\au\\2017\\au-weekly_with_features-2016-12...  \n",
       "1    Charts\\au\\2017\\au-weekly_with_features-2016-12...  \n",
       "2    Charts\\au\\2017\\au-weekly_with_features-2016-12...  \n",
       "3    Charts\\au\\2017\\au-weekly_with_features-2016-12...  \n",
       "4    Charts\\au\\2017\\au-weekly_with_features-2016-12...  \n",
       "..                                                 ...  \n",
       "195  Charts\\us\\2019\\us-weekly_with_features-2019-12...  \n",
       "196  Charts\\us\\2019\\us-weekly_with_features-2019-12...  \n",
       "197  Charts\\us\\2019\\us-weekly_with_features-2019-12...  \n",
       "198  Charts\\us\\2019\\us-weekly_with_features-2019-12...  \n",
       "199  Charts\\us\\2019\\us-weekly_with_features-2019-12...  \n",
       "\n",
       "[273600 rows x 12 columns]"
      ]
     },
     "execution_count": 2,
     "metadata": {},
     "output_type": "execute_result"
    }
   ],
   "source": [
    "header = 0\n",
    "dfs = []\n",
    "for file in glob.glob('Charts/*/201?/*.csv'):\n",
    "    region = file.split('/')[-1]\n",
    "    dates = re.findall('\\d{4}-\\d{2}-\\d{2}', file.split('/')[-1])\n",
    "    weekly_chart = pd.read_csv(file, header=header, sep='\\t')\n",
    "    weekly_chart['week_start'] = datetime.strptime(dates[0], '%Y-%m-%d')\n",
    "    weekly_chart['week_end'] = datetime.strptime(dates[1], '%Y-%m-%d')\n",
    "    weekly_chart['region'] = region\n",
    "    dfs.append(weekly_chart)\n",
    "\n",
    "all_charts = pd.concat(dfs)\n",
    "all_charts"
   ]
  },
  {
   "cell_type": "markdown",
   "id": "53cf7b78",
   "metadata": {},
   "source": [
    "* Lets check how many unique songs exist in this dataset"
   ]
  },
  {
   "cell_type": "code",
   "execution_count": 3,
   "id": "060da81d",
   "metadata": {},
   "outputs": [
    {
     "data": {
      "text/plain": [
       "13880"
      ]
     },
     "execution_count": 3,
     "metadata": {},
     "output_type": "execute_result"
    }
   ],
   "source": [
    "len(all_charts['song_id'].unique())"
   ]
  },
  {
   "cell_type": "markdown",
   "id": "a3c69ac6",
   "metadata": {},
   "source": [
    "* Now I am going to get the audio features of each song in this dataset and store it in another dataframe\n",
    "\n",
    "* In order to do this I had to first log in the Spotify for Developers website(https://developer.spotify.com/dashboard/login) and create a new project\n",
    "\n",
    "* From there I got the known and secret id that gives us permission to download\n",
    "\n",
    "* To download the correct song audio features we use the unique song ids that we have in the dataset as a key"
   ]
  },
  {
   "cell_type": "code",
   "execution_count": 4,
   "id": "42b4f973",
   "metadata": {},
   "outputs": [],
   "source": [
    "#Authentication - without user\n",
    "client_credentials_manager = SpotifyClientCredentials(client_id='e15bfd4ec6594920bb88aca1af63193f', client_secret='18252a654ab34a35a09bfdf4867264c4')\n",
    "sp = spotipy.Spotify(client_credentials_manager = client_credentials_manager)"
   ]
  },
  {
   "cell_type": "code",
   "execution_count": 5,
   "id": "dfc1844d",
   "metadata": {},
   "outputs": [],
   "source": [
    "features = {}\n",
    "all_track_ids = list(all_charts['song_id'].unique())"
   ]
  },
  {
   "cell_type": "markdown",
   "id": "d91500fe",
   "metadata": {},
   "source": [
    "* Spotify allows us to get 100 song audio features at a time. Consequently, to get all 13880 we have to iterate"
   ]
  },
  {
   "cell_type": "code",
   "execution_count": 6,
   "id": "837d98f3",
   "metadata": {
    "scrolled": false
   },
   "outputs": [
    {
     "name": "stdout",
     "output_type": "stream",
     "text": [
      "getting from 0 to 100\n",
      "getting from 100 to 200\n",
      "getting from 200 to 300\n",
      "getting from 300 to 400\n",
      "getting from 400 to 500\n",
      "getting from 500 to 600\n",
      "getting from 600 to 700\n",
      "getting from 700 to 800\n",
      "getting from 800 to 900\n",
      "getting from 900 to 1000\n",
      "getting from 1000 to 1100\n",
      "getting from 1100 to 1200\n",
      "getting from 1200 to 1300\n",
      "getting from 1300 to 1400\n",
      "getting from 1400 to 1500\n",
      "getting from 1500 to 1600\n",
      "getting from 1600 to 1700\n",
      "getting from 1700 to 1800\n",
      "getting from 1800 to 1900\n",
      "getting from 1900 to 2000\n",
      "getting from 2000 to 2100\n",
      "getting from 2100 to 2200\n",
      "getting from 2200 to 2300\n",
      "getting from 2300 to 2400\n",
      "getting from 2400 to 2500\n",
      "getting from 2500 to 2600\n",
      "getting from 2600 to 2700\n",
      "getting from 2700 to 2800\n",
      "getting from 2800 to 2900\n",
      "getting from 2900 to 3000\n",
      "getting from 3000 to 3100\n",
      "getting from 3100 to 3200\n",
      "getting from 3200 to 3300\n",
      "getting from 3300 to 3400\n",
      "getting from 3400 to 3500\n",
      "getting from 3500 to 3600\n",
      "getting from 3600 to 3700\n",
      "getting from 3700 to 3800\n",
      "getting from 3800 to 3900\n",
      "getting from 3900 to 4000\n",
      "getting from 4000 to 4100\n",
      "getting from 4100 to 4200\n",
      "getting from 4200 to 4300\n",
      "getting from 4300 to 4400\n",
      "getting from 4400 to 4500\n",
      "getting from 4500 to 4600\n",
      "getting from 4600 to 4700\n",
      "getting from 4700 to 4800\n",
      "getting from 4800 to 4900\n",
      "getting from 4900 to 5000\n",
      "getting from 5000 to 5100\n",
      "getting from 5100 to 5200\n",
      "getting from 5200 to 5300\n",
      "getting from 5300 to 5400\n",
      "getting from 5400 to 5500\n",
      "getting from 5500 to 5600\n",
      "getting from 5600 to 5700\n",
      "getting from 5700 to 5800\n",
      "getting from 5800 to 5900\n",
      "getting from 5900 to 6000\n",
      "getting from 6000 to 6100\n",
      "getting from 6100 to 6200\n",
      "getting from 6200 to 6300\n",
      "getting from 6300 to 6400\n",
      "getting from 6400 to 6500\n",
      "getting from 6500 to 6600\n",
      "getting from 6600 to 6700\n",
      "getting from 6700 to 6800\n",
      "getting from 6800 to 6900\n",
      "getting from 6900 to 7000\n",
      "getting from 7000 to 7100\n",
      "getting from 7100 to 7200\n",
      "getting from 7200 to 7300\n",
      "getting from 7300 to 7400\n",
      "getting from 7400 to 7500\n",
      "getting from 7500 to 7600\n",
      "getting from 7600 to 7700\n",
      "getting from 7700 to 7800\n",
      "getting from 7800 to 7900\n",
      "getting from 7900 to 8000\n",
      "getting from 8000 to 8100\n",
      "getting from 8100 to 8200\n",
      "getting from 8200 to 8300\n",
      "getting from 8300 to 8400\n",
      "getting from 8400 to 8500\n",
      "getting from 8500 to 8600\n",
      "getting from 8600 to 8700\n",
      "getting from 8700 to 8800\n",
      "getting from 8800 to 8900\n",
      "getting from 8900 to 9000\n",
      "getting from 9000 to 9100\n",
      "getting from 9100 to 9200\n",
      "getting from 9200 to 9300\n",
      "getting from 9300 to 9400\n",
      "getting from 9400 to 9500\n",
      "getting from 9500 to 9600\n",
      "getting from 9600 to 9700\n",
      "getting from 9700 to 9800\n",
      "getting from 9800 to 9900\n",
      "getting from 9900 to 10000\n",
      "getting from 10000 to 10100\n",
      "getting from 10100 to 10200\n",
      "getting from 10200 to 10300\n",
      "getting from 10300 to 10400\n",
      "getting from 10400 to 10500\n",
      "getting from 10500 to 10600\n",
      "getting from 10600 to 10700\n",
      "getting from 10700 to 10800\n",
      "getting from 10800 to 10900\n",
      "getting from 10900 to 11000\n",
      "getting from 11000 to 11100\n",
      "getting from 11100 to 11200\n",
      "getting from 11200 to 11300\n",
      "getting from 11300 to 11400\n",
      "getting from 11400 to 11500\n",
      "getting from 11500 to 11600\n",
      "getting from 11600 to 11700\n",
      "getting from 11700 to 11800\n",
      "getting from 11800 to 11900\n",
      "getting from 11900 to 12000\n",
      "getting from 12000 to 12100\n",
      "getting from 12100 to 12200\n",
      "getting from 12200 to 12300\n",
      "getting from 12300 to 12400\n",
      "getting from 12400 to 12500\n",
      "getting from 12500 to 12600\n",
      "getting from 12600 to 12700\n",
      "getting from 12700 to 12800\n",
      "getting from 12800 to 12900\n",
      "getting from 12900 to 13000\n",
      "getting from 13000 to 13100\n",
      "getting from 13100 to 13200\n",
      "getting from 13200 to 13300\n",
      "getting from 13300 to 13400\n",
      "getting from 13400 to 13500\n",
      "getting from 13500 to 13600\n",
      "getting from 13600 to 13700\n",
      "getting from 13700 to 13800\n",
      "getting from 13800 to 13900\n"
     ]
    }
   ],
   "source": [
    "start = 0\n",
    "num_tracks = 100\n",
    "while start < len(all_track_ids):\n",
    "    print(f'getting from {start} to {start+num_tracks}')\n",
    "    tracks_batch = all_track_ids[start:start+num_tracks]\n",
    "    features_batch = sp.audio_features(tracks_batch)\n",
    "    features.update({ track_id : track_features \n",
    "                     for track_id, track_features in zip(tracks_batch, features_batch) })\n",
    "    start += num_tracks"
   ]
  },
  {
   "cell_type": "markdown",
   "id": "1e24ba04",
   "metadata": {},
   "source": [
    "* Checking that we got the audio features for all of our songs"
   ]
  },
  {
   "cell_type": "code",
   "execution_count": 7,
   "id": "96ab1304",
   "metadata": {
    "scrolled": false
   },
   "outputs": [
    {
     "data": {
      "text/plain": [
       "13880"
      ]
     },
     "execution_count": 7,
     "metadata": {},
     "output_type": "execute_result"
    }
   ],
   "source": [
    "len(features)"
   ]
  },
  {
   "cell_type": "markdown",
   "id": "ff81bdd2",
   "metadata": {},
   "source": [
    "* Features now contain a song_id to audio_features connection\n",
    "\n",
    "* As we can see each song has 12 distinct audio features and the valence feature that we are going to be studying"
   ]
  },
  {
   "cell_type": "code",
   "execution_count": 8,
   "id": "4e1b61b2",
   "metadata": {
    "scrolled": true
   },
   "outputs": [
    {
     "data": {
      "text/plain": [
       "{'danceability': 0.825,\n",
       " 'energy': 0.652,\n",
       " 'key': 1,\n",
       " 'loudness': -3.183,\n",
       " 'mode': 0,\n",
       " 'speechiness': 0.0802,\n",
       " 'acousticness': 0.581,\n",
       " 'instrumentalness': 0,\n",
       " 'liveness': 0.0931,\n",
       " 'valence': 0.931,\n",
       " 'tempo': 95.977,\n",
       " 'type': 'audio_features',\n",
       " 'id': '7qiZfU4dY1lWllzX7mPBI3',\n",
       " 'uri': 'spotify:track:7qiZfU4dY1lWllzX7mPBI3',\n",
       " 'track_href': 'https://api.spotify.com/v1/tracks/7qiZfU4dY1lWllzX7mPBI3',\n",
       " 'analysis_url': 'https://api.spotify.com/v1/audio-analysis/7qiZfU4dY1lWllzX7mPBI3',\n",
       " 'duration_ms': 233713,\n",
       " 'time_signature': 4}"
      ]
     },
     "execution_count": 8,
     "metadata": {},
     "output_type": "execute_result"
    }
   ],
   "source": [
    "features['7qiZfU4dY1lWllzX7mPBI3']"
   ]
  },
  {
   "cell_type": "markdown",
   "id": "a1fb9654",
   "metadata": {},
   "source": [
    "* Now I am going to create a dataframe from the feature dictionary "
   ]
  },
  {
   "cell_type": "code",
   "execution_count": 9,
   "id": "8ba57a8b",
   "metadata": {
    "scrolled": false
   },
   "outputs": [
    {
     "data": {
      "text/html": [
       "<div>\n",
       "<style scoped>\n",
       "    .dataframe tbody tr th:only-of-type {\n",
       "        vertical-align: middle;\n",
       "    }\n",
       "\n",
       "    .dataframe tbody tr th {\n",
       "        vertical-align: top;\n",
       "    }\n",
       "\n",
       "    .dataframe thead th {\n",
       "        text-align: right;\n",
       "    }\n",
       "</style>\n",
       "<table border=\"1\" class=\"dataframe\">\n",
       "  <thead>\n",
       "    <tr style=\"text-align: right;\">\n",
       "      <th></th>\n",
       "      <th>danceability</th>\n",
       "      <th>energy</th>\n",
       "      <th>key</th>\n",
       "      <th>loudness</th>\n",
       "      <th>mode</th>\n",
       "      <th>speechiness</th>\n",
       "      <th>acousticness</th>\n",
       "      <th>instrumentalness</th>\n",
       "      <th>liveness</th>\n",
       "      <th>valence</th>\n",
       "      <th>tempo</th>\n",
       "      <th>type</th>\n",
       "      <th>id</th>\n",
       "      <th>uri</th>\n",
       "      <th>track_href</th>\n",
       "      <th>analysis_url</th>\n",
       "      <th>duration_ms</th>\n",
       "      <th>time_signature</th>\n",
       "    </tr>\n",
       "  </thead>\n",
       "  <tbody>\n",
       "    <tr>\n",
       "      <th>5aAx2yezTd8zXrkmtKl66Z</th>\n",
       "      <td>0.681</td>\n",
       "      <td>0.594</td>\n",
       "      <td>7</td>\n",
       "      <td>-7.028</td>\n",
       "      <td>1</td>\n",
       "      <td>0.2820</td>\n",
       "      <td>0.1650</td>\n",
       "      <td>0.000003</td>\n",
       "      <td>0.134</td>\n",
       "      <td>0.5350</td>\n",
       "      <td>186.054</td>\n",
       "      <td>audio_features</td>\n",
       "      <td>5aAx2yezTd8zXrkmtKl66Z</td>\n",
       "      <td>spotify:track:5aAx2yezTd8zXrkmtKl66Z</td>\n",
       "      <td>https://api.spotify.com/v1/tracks/5aAx2yezTd8z...</td>\n",
       "      <td>https://api.spotify.com/v1/audio-analysis/5aAx...</td>\n",
       "      <td>230453</td>\n",
       "      <td>4</td>\n",
       "    </tr>\n",
       "    <tr>\n",
       "      <th>5knuzwU65gJK7IF5yJsuaW</th>\n",
       "      <td>0.720</td>\n",
       "      <td>0.763</td>\n",
       "      <td>9</td>\n",
       "      <td>-4.068</td>\n",
       "      <td>0</td>\n",
       "      <td>0.0523</td>\n",
       "      <td>0.4060</td>\n",
       "      <td>0.000000</td>\n",
       "      <td>0.180</td>\n",
       "      <td>0.7420</td>\n",
       "      <td>101.965</td>\n",
       "      <td>audio_features</td>\n",
       "      <td>5knuzwU65gJK7IF5yJsuaW</td>\n",
       "      <td>spotify:track:5knuzwU65gJK7IF5yJsuaW</td>\n",
       "      <td>https://api.spotify.com/v1/tracks/5knuzwU65gJK...</td>\n",
       "      <td>https://api.spotify.com/v1/audio-analysis/5knu...</td>\n",
       "      <td>251088</td>\n",
       "      <td>4</td>\n",
       "    </tr>\n",
       "    <tr>\n",
       "      <th>7BKLCZ1jbUBVqRi2FVlTVw</th>\n",
       "      <td>0.748</td>\n",
       "      <td>0.524</td>\n",
       "      <td>8</td>\n",
       "      <td>-5.599</td>\n",
       "      <td>1</td>\n",
       "      <td>0.0338</td>\n",
       "      <td>0.4140</td>\n",
       "      <td>0.000000</td>\n",
       "      <td>0.111</td>\n",
       "      <td>0.6610</td>\n",
       "      <td>95.010</td>\n",
       "      <td>audio_features</td>\n",
       "      <td>7BKLCZ1jbUBVqRi2FVlTVw</td>\n",
       "      <td>spotify:track:7BKLCZ1jbUBVqRi2FVlTVw</td>\n",
       "      <td>https://api.spotify.com/v1/tracks/7BKLCZ1jbUBV...</td>\n",
       "      <td>https://api.spotify.com/v1/audio-analysis/7BKL...</td>\n",
       "      <td>244960</td>\n",
       "      <td>4</td>\n",
       "    </tr>\n",
       "    <tr>\n",
       "      <th>3NdDpSvN911VPGivFlV5d0</th>\n",
       "      <td>0.735</td>\n",
       "      <td>0.451</td>\n",
       "      <td>0</td>\n",
       "      <td>-8.374</td>\n",
       "      <td>1</td>\n",
       "      <td>0.0585</td>\n",
       "      <td>0.0631</td>\n",
       "      <td>0.000013</td>\n",
       "      <td>0.325</td>\n",
       "      <td>0.0862</td>\n",
       "      <td>117.973</td>\n",
       "      <td>audio_features</td>\n",
       "      <td>3NdDpSvN911VPGivFlV5d0</td>\n",
       "      <td>spotify:track:3NdDpSvN911VPGivFlV5d0</td>\n",
       "      <td>https://api.spotify.com/v1/tracks/3NdDpSvN911V...</td>\n",
       "      <td>https://api.spotify.com/v1/audio-analysis/3NdD...</td>\n",
       "      <td>245200</td>\n",
       "      <td>4</td>\n",
       "    </tr>\n",
       "    <tr>\n",
       "      <th>78rIJddV4X0HkNAInEcYde</th>\n",
       "      <td>0.670</td>\n",
       "      <td>0.838</td>\n",
       "      <td>0</td>\n",
       "      <td>-4.031</td>\n",
       "      <td>1</td>\n",
       "      <td>0.0362</td>\n",
       "      <td>0.0604</td>\n",
       "      <td>0.000611</td>\n",
       "      <td>0.159</td>\n",
       "      <td>0.7170</td>\n",
       "      <td>104.998</td>\n",
       "      <td>audio_features</td>\n",
       "      <td>78rIJddV4X0HkNAInEcYde</td>\n",
       "      <td>spotify:track:78rIJddV4X0HkNAInEcYde</td>\n",
       "      <td>https://api.spotify.com/v1/tracks/78rIJddV4X0H...</td>\n",
       "      <td>https://api.spotify.com/v1/audio-analysis/78rI...</td>\n",
       "      <td>222041</td>\n",
       "      <td>4</td>\n",
       "    </tr>\n",
       "  </tbody>\n",
       "</table>\n",
       "</div>"
      ],
      "text/plain": [
       "                        danceability  energy  key  loudness  mode  \\\n",
       "5aAx2yezTd8zXrkmtKl66Z         0.681   0.594    7    -7.028     1   \n",
       "5knuzwU65gJK7IF5yJsuaW         0.720   0.763    9    -4.068     0   \n",
       "7BKLCZ1jbUBVqRi2FVlTVw         0.748   0.524    8    -5.599     1   \n",
       "3NdDpSvN911VPGivFlV5d0         0.735   0.451    0    -8.374     1   \n",
       "78rIJddV4X0HkNAInEcYde         0.670   0.838    0    -4.031     1   \n",
       "\n",
       "                        speechiness  acousticness  instrumentalness  liveness  \\\n",
       "5aAx2yezTd8zXrkmtKl66Z       0.2820        0.1650          0.000003     0.134   \n",
       "5knuzwU65gJK7IF5yJsuaW       0.0523        0.4060          0.000000     0.180   \n",
       "7BKLCZ1jbUBVqRi2FVlTVw       0.0338        0.4140          0.000000     0.111   \n",
       "3NdDpSvN911VPGivFlV5d0       0.0585        0.0631          0.000013     0.325   \n",
       "78rIJddV4X0HkNAInEcYde       0.0362        0.0604          0.000611     0.159   \n",
       "\n",
       "                        valence    tempo            type  \\\n",
       "5aAx2yezTd8zXrkmtKl66Z   0.5350  186.054  audio_features   \n",
       "5knuzwU65gJK7IF5yJsuaW   0.7420  101.965  audio_features   \n",
       "7BKLCZ1jbUBVqRi2FVlTVw   0.6610   95.010  audio_features   \n",
       "3NdDpSvN911VPGivFlV5d0   0.0862  117.973  audio_features   \n",
       "78rIJddV4X0HkNAInEcYde   0.7170  104.998  audio_features   \n",
       "\n",
       "                                            id  \\\n",
       "5aAx2yezTd8zXrkmtKl66Z  5aAx2yezTd8zXrkmtKl66Z   \n",
       "5knuzwU65gJK7IF5yJsuaW  5knuzwU65gJK7IF5yJsuaW   \n",
       "7BKLCZ1jbUBVqRi2FVlTVw  7BKLCZ1jbUBVqRi2FVlTVw   \n",
       "3NdDpSvN911VPGivFlV5d0  3NdDpSvN911VPGivFlV5d0   \n",
       "78rIJddV4X0HkNAInEcYde  78rIJddV4X0HkNAInEcYde   \n",
       "\n",
       "                                                         uri  \\\n",
       "5aAx2yezTd8zXrkmtKl66Z  spotify:track:5aAx2yezTd8zXrkmtKl66Z   \n",
       "5knuzwU65gJK7IF5yJsuaW  spotify:track:5knuzwU65gJK7IF5yJsuaW   \n",
       "7BKLCZ1jbUBVqRi2FVlTVw  spotify:track:7BKLCZ1jbUBVqRi2FVlTVw   \n",
       "3NdDpSvN911VPGivFlV5d0  spotify:track:3NdDpSvN911VPGivFlV5d0   \n",
       "78rIJddV4X0HkNAInEcYde  spotify:track:78rIJddV4X0HkNAInEcYde   \n",
       "\n",
       "                                                               track_href  \\\n",
       "5aAx2yezTd8zXrkmtKl66Z  https://api.spotify.com/v1/tracks/5aAx2yezTd8z...   \n",
       "5knuzwU65gJK7IF5yJsuaW  https://api.spotify.com/v1/tracks/5knuzwU65gJK...   \n",
       "7BKLCZ1jbUBVqRi2FVlTVw  https://api.spotify.com/v1/tracks/7BKLCZ1jbUBV...   \n",
       "3NdDpSvN911VPGivFlV5d0  https://api.spotify.com/v1/tracks/3NdDpSvN911V...   \n",
       "78rIJddV4X0HkNAInEcYde  https://api.spotify.com/v1/tracks/78rIJddV4X0H...   \n",
       "\n",
       "                                                             analysis_url  \\\n",
       "5aAx2yezTd8zXrkmtKl66Z  https://api.spotify.com/v1/audio-analysis/5aAx...   \n",
       "5knuzwU65gJK7IF5yJsuaW  https://api.spotify.com/v1/audio-analysis/5knu...   \n",
       "7BKLCZ1jbUBVqRi2FVlTVw  https://api.spotify.com/v1/audio-analysis/7BKL...   \n",
       "3NdDpSvN911VPGivFlV5d0  https://api.spotify.com/v1/audio-analysis/3NdD...   \n",
       "78rIJddV4X0HkNAInEcYde  https://api.spotify.com/v1/audio-analysis/78rI...   \n",
       "\n",
       "                        duration_ms  time_signature  \n",
       "5aAx2yezTd8zXrkmtKl66Z       230453               4  \n",
       "5knuzwU65gJK7IF5yJsuaW       251088               4  \n",
       "7BKLCZ1jbUBVqRi2FVlTVw       244960               4  \n",
       "3NdDpSvN911VPGivFlV5d0       245200               4  \n",
       "78rIJddV4X0HkNAInEcYde       222041               4  "
      ]
     },
     "execution_count": 9,
     "metadata": {},
     "output_type": "execute_result"
    }
   ],
   "source": [
    "tracks = pd.DataFrame.from_dict(features, orient='index')\n",
    "tracks.head(5)"
   ]
  },
  {
   "cell_type": "markdown",
   "id": "98d3cd86",
   "metadata": {},
   "source": [
    "* Now I am going to remove song_id from an index and place it as a column"
   ]
  },
  {
   "cell_type": "code",
   "execution_count": 10,
   "id": "e80a1dbe",
   "metadata": {
    "scrolled": false
   },
   "outputs": [
    {
     "data": {
      "text/html": [
       "<div>\n",
       "<style scoped>\n",
       "    .dataframe tbody tr th:only-of-type {\n",
       "        vertical-align: middle;\n",
       "    }\n",
       "\n",
       "    .dataframe tbody tr th {\n",
       "        vertical-align: top;\n",
       "    }\n",
       "\n",
       "    .dataframe thead th {\n",
       "        text-align: right;\n",
       "    }\n",
       "</style>\n",
       "<table border=\"1\" class=\"dataframe\">\n",
       "  <thead>\n",
       "    <tr style=\"text-align: right;\">\n",
       "      <th></th>\n",
       "      <th>danceability</th>\n",
       "      <th>energy</th>\n",
       "      <th>key</th>\n",
       "      <th>loudness</th>\n",
       "      <th>mode</th>\n",
       "      <th>speechiness</th>\n",
       "      <th>acousticness</th>\n",
       "      <th>instrumentalness</th>\n",
       "      <th>liveness</th>\n",
       "      <th>valence</th>\n",
       "      <th>tempo</th>\n",
       "      <th>type</th>\n",
       "      <th>song_id</th>\n",
       "      <th>uri</th>\n",
       "      <th>track_href</th>\n",
       "      <th>analysis_url</th>\n",
       "      <th>duration_ms</th>\n",
       "      <th>time_signature</th>\n",
       "    </tr>\n",
       "  </thead>\n",
       "  <tbody>\n",
       "    <tr>\n",
       "      <th>0</th>\n",
       "      <td>0.681</td>\n",
       "      <td>0.594</td>\n",
       "      <td>7</td>\n",
       "      <td>-7.028</td>\n",
       "      <td>1</td>\n",
       "      <td>0.2820</td>\n",
       "      <td>0.1650</td>\n",
       "      <td>0.000003</td>\n",
       "      <td>0.134</td>\n",
       "      <td>0.5350</td>\n",
       "      <td>186.054</td>\n",
       "      <td>audio_features</td>\n",
       "      <td>5aAx2yezTd8zXrkmtKl66Z</td>\n",
       "      <td>spotify:track:5aAx2yezTd8zXrkmtKl66Z</td>\n",
       "      <td>https://api.spotify.com/v1/tracks/5aAx2yezTd8z...</td>\n",
       "      <td>https://api.spotify.com/v1/audio-analysis/5aAx...</td>\n",
       "      <td>230453</td>\n",
       "      <td>4</td>\n",
       "    </tr>\n",
       "    <tr>\n",
       "      <th>1</th>\n",
       "      <td>0.720</td>\n",
       "      <td>0.763</td>\n",
       "      <td>9</td>\n",
       "      <td>-4.068</td>\n",
       "      <td>0</td>\n",
       "      <td>0.0523</td>\n",
       "      <td>0.4060</td>\n",
       "      <td>0.000000</td>\n",
       "      <td>0.180</td>\n",
       "      <td>0.7420</td>\n",
       "      <td>101.965</td>\n",
       "      <td>audio_features</td>\n",
       "      <td>5knuzwU65gJK7IF5yJsuaW</td>\n",
       "      <td>spotify:track:5knuzwU65gJK7IF5yJsuaW</td>\n",
       "      <td>https://api.spotify.com/v1/tracks/5knuzwU65gJK...</td>\n",
       "      <td>https://api.spotify.com/v1/audio-analysis/5knu...</td>\n",
       "      <td>251088</td>\n",
       "      <td>4</td>\n",
       "    </tr>\n",
       "    <tr>\n",
       "      <th>2</th>\n",
       "      <td>0.748</td>\n",
       "      <td>0.524</td>\n",
       "      <td>8</td>\n",
       "      <td>-5.599</td>\n",
       "      <td>1</td>\n",
       "      <td>0.0338</td>\n",
       "      <td>0.4140</td>\n",
       "      <td>0.000000</td>\n",
       "      <td>0.111</td>\n",
       "      <td>0.6610</td>\n",
       "      <td>95.010</td>\n",
       "      <td>audio_features</td>\n",
       "      <td>7BKLCZ1jbUBVqRi2FVlTVw</td>\n",
       "      <td>spotify:track:7BKLCZ1jbUBVqRi2FVlTVw</td>\n",
       "      <td>https://api.spotify.com/v1/tracks/7BKLCZ1jbUBV...</td>\n",
       "      <td>https://api.spotify.com/v1/audio-analysis/7BKL...</td>\n",
       "      <td>244960</td>\n",
       "      <td>4</td>\n",
       "    </tr>\n",
       "    <tr>\n",
       "      <th>3</th>\n",
       "      <td>0.735</td>\n",
       "      <td>0.451</td>\n",
       "      <td>0</td>\n",
       "      <td>-8.374</td>\n",
       "      <td>1</td>\n",
       "      <td>0.0585</td>\n",
       "      <td>0.0631</td>\n",
       "      <td>0.000013</td>\n",
       "      <td>0.325</td>\n",
       "      <td>0.0862</td>\n",
       "      <td>117.973</td>\n",
       "      <td>audio_features</td>\n",
       "      <td>3NdDpSvN911VPGivFlV5d0</td>\n",
       "      <td>spotify:track:3NdDpSvN911VPGivFlV5d0</td>\n",
       "      <td>https://api.spotify.com/v1/tracks/3NdDpSvN911V...</td>\n",
       "      <td>https://api.spotify.com/v1/audio-analysis/3NdD...</td>\n",
       "      <td>245200</td>\n",
       "      <td>4</td>\n",
       "    </tr>\n",
       "    <tr>\n",
       "      <th>4</th>\n",
       "      <td>0.670</td>\n",
       "      <td>0.838</td>\n",
       "      <td>0</td>\n",
       "      <td>-4.031</td>\n",
       "      <td>1</td>\n",
       "      <td>0.0362</td>\n",
       "      <td>0.0604</td>\n",
       "      <td>0.000611</td>\n",
       "      <td>0.159</td>\n",
       "      <td>0.7170</td>\n",
       "      <td>104.998</td>\n",
       "      <td>audio_features</td>\n",
       "      <td>78rIJddV4X0HkNAInEcYde</td>\n",
       "      <td>spotify:track:78rIJddV4X0HkNAInEcYde</td>\n",
       "      <td>https://api.spotify.com/v1/tracks/78rIJddV4X0H...</td>\n",
       "      <td>https://api.spotify.com/v1/audio-analysis/78rI...</td>\n",
       "      <td>222041</td>\n",
       "      <td>4</td>\n",
       "    </tr>\n",
       "  </tbody>\n",
       "</table>\n",
       "</div>"
      ],
      "text/plain": [
       "   danceability  energy  key  loudness  mode  speechiness  acousticness  \\\n",
       "0         0.681   0.594    7    -7.028     1       0.2820        0.1650   \n",
       "1         0.720   0.763    9    -4.068     0       0.0523        0.4060   \n",
       "2         0.748   0.524    8    -5.599     1       0.0338        0.4140   \n",
       "3         0.735   0.451    0    -8.374     1       0.0585        0.0631   \n",
       "4         0.670   0.838    0    -4.031     1       0.0362        0.0604   \n",
       "\n",
       "   instrumentalness  liveness  valence    tempo            type  \\\n",
       "0          0.000003     0.134   0.5350  186.054  audio_features   \n",
       "1          0.000000     0.180   0.7420  101.965  audio_features   \n",
       "2          0.000000     0.111   0.6610   95.010  audio_features   \n",
       "3          0.000013     0.325   0.0862  117.973  audio_features   \n",
       "4          0.000611     0.159   0.7170  104.998  audio_features   \n",
       "\n",
       "                  song_id                                   uri  \\\n",
       "0  5aAx2yezTd8zXrkmtKl66Z  spotify:track:5aAx2yezTd8zXrkmtKl66Z   \n",
       "1  5knuzwU65gJK7IF5yJsuaW  spotify:track:5knuzwU65gJK7IF5yJsuaW   \n",
       "2  7BKLCZ1jbUBVqRi2FVlTVw  spotify:track:7BKLCZ1jbUBVqRi2FVlTVw   \n",
       "3  3NdDpSvN911VPGivFlV5d0  spotify:track:3NdDpSvN911VPGivFlV5d0   \n",
       "4  78rIJddV4X0HkNAInEcYde  spotify:track:78rIJddV4X0HkNAInEcYde   \n",
       "\n",
       "                                          track_href  \\\n",
       "0  https://api.spotify.com/v1/tracks/5aAx2yezTd8z...   \n",
       "1  https://api.spotify.com/v1/tracks/5knuzwU65gJK...   \n",
       "2  https://api.spotify.com/v1/tracks/7BKLCZ1jbUBV...   \n",
       "3  https://api.spotify.com/v1/tracks/3NdDpSvN911V...   \n",
       "4  https://api.spotify.com/v1/tracks/78rIJddV4X0H...   \n",
       "\n",
       "                                        analysis_url  duration_ms  \\\n",
       "0  https://api.spotify.com/v1/audio-analysis/5aAx...       230453   \n",
       "1  https://api.spotify.com/v1/audio-analysis/5knu...       251088   \n",
       "2  https://api.spotify.com/v1/audio-analysis/7BKL...       244960   \n",
       "3  https://api.spotify.com/v1/audio-analysis/3NdD...       245200   \n",
       "4  https://api.spotify.com/v1/audio-analysis/78rI...       222041   \n",
       "\n",
       "   time_signature  \n",
       "0               4  \n",
       "1               4  \n",
       "2               4  \n",
       "3               4  \n",
       "4               4  "
      ]
     },
     "execution_count": 10,
     "metadata": {},
     "output_type": "execute_result"
    }
   ],
   "source": [
    "tracks = tracks.reset_index(drop=True).rename(columns={'id' : 'song_id'})\n",
    "tracks.head(5)"
   ]
  },
  {
   "cell_type": "markdown",
   "id": "8bf4c367",
   "metadata": {},
   "source": [
    "* Here I am checking that all the column types make sense and there is no need for a change"
   ]
  },
  {
   "cell_type": "code",
   "execution_count": 11,
   "id": "db332ea0",
   "metadata": {},
   "outputs": [
    {
     "name": "stdout",
     "output_type": "stream",
     "text": [
      "danceability        float64\n",
      "energy              float64\n",
      "key                   int64\n",
      "loudness            float64\n",
      "mode                  int64\n",
      "speechiness         float64\n",
      "acousticness        float64\n",
      "instrumentalness    float64\n",
      "liveness            float64\n",
      "valence             float64\n",
      "tempo               float64\n",
      "type                 object\n",
      "song_id              object\n",
      "uri                  object\n",
      "track_href           object\n",
      "analysis_url         object\n",
      "duration_ms           int64\n",
      "time_signature        int64\n",
      "dtype: object\n"
     ]
    }
   ],
   "source": [
    "print(tracks.dtypes)"
   ]
  },
  {
   "cell_type": "markdown",
   "id": "f1da6e29",
   "metadata": {},
   "source": [
    "## Q1: Expore which Features Influence Valence"
   ]
  },
  {
   "cell_type": "markdown",
   "id": "4a61a123",
   "metadata": {},
   "source": [
    "* We can now check for the correlation of the audio features with valence in our sample\n",
    "\n",
    "* Inferential statistics can help to determine strength of relationship within a sample\n",
    "\n",
    "* According to http://www.bwgriffin.com/gsu/courses/edur7130/content/descriptive_and_inferential_stat.htm there are specific types of Inferential statistics that we can use\n",
    "\n",
    "* Since we have one sample and we want to find the relationships of the variables within it I am going to use the Pearson method "
   ]
  },
  {
   "cell_type": "code",
   "execution_count": 12,
   "id": "15e249d0",
   "metadata": {
    "scrolled": false
   },
   "outputs": [
    {
     "data": {
      "text/html": [
       "<style type=\"text/css\">\n",
       "#T_35a82_row0_col0, #T_35a82_row1_col1, #T_35a82_row2_col2, #T_35a82_row3_col3, #T_35a82_row4_col4, #T_35a82_row5_col5, #T_35a82_row6_col6, #T_35a82_row7_col7, #T_35a82_row8_col8, #T_35a82_row9_col9, #T_35a82_row10_col10, #T_35a82_row11_col11, #T_35a82_row12_col12 {\n",
       "  background-color: #ffffff;\n",
       "  color: #000000;\n",
       "}\n",
       "#T_35a82_row0_col1, #T_35a82_row5_col0 {\n",
       "  background-color: #d20000;\n",
       "  color: #f1f1f1;\n",
       "}\n",
       "#T_35a82_row0_col2, #T_35a82_row10_col8 {\n",
       "  background-color: #710000;\n",
       "  color: #f1f1f1;\n",
       "}\n",
       "#T_35a82_row0_col3, #T_35a82_row0_col9, #T_35a82_row7_col6 {\n",
       "  background-color: #df0000;\n",
       "  color: #f1f1f1;\n",
       "}\n",
       "#T_35a82_row0_col4 {\n",
       "  background-color: #2f0000;\n",
       "  color: #f1f1f1;\n",
       "}\n",
       "#T_35a82_row0_col5, #T_35a82_row10_col6 {\n",
       "  background-color: #ad0000;\n",
       "  color: #f1f1f1;\n",
       "}\n",
       "#T_35a82_row0_col6 {\n",
       "  background-color: #980000;\n",
       "  color: #f1f1f1;\n",
       "}\n",
       "#T_35a82_row0_col7, #T_35a82_row5_col7, #T_35a82_row7_col5, #T_35a82_row7_col9 {\n",
       "  background-color: #250000;\n",
       "  color: #f1f1f1;\n",
       "}\n",
       "#T_35a82_row0_col8, #T_35a82_row0_col11, #T_35a82_row1_col6, #T_35a82_row2_col4, #T_35a82_row3_col5, #T_35a82_row3_col7, #T_35a82_row4_col2, #T_35a82_row6_col1, #T_35a82_row6_col3, #T_35a82_row6_col10, #T_35a82_row6_col12, #T_35a82_row11_col0, #T_35a82_row11_col9 {\n",
       "  background-color: #0b0000;\n",
       "  color: #f1f1f1;\n",
       "}\n",
       "#T_35a82_row0_col10, #T_35a82_row8_col0 {\n",
       "  background-color: #2a0000;\n",
       "  color: #f1f1f1;\n",
       "}\n",
       "#T_35a82_row0_col12, #T_35a82_row9_col2, #T_35a82_row11_col4 {\n",
       "  background-color: #890000;\n",
       "  color: #f1f1f1;\n",
       "}\n",
       "#T_35a82_row1_col0, #T_35a82_row2_col0, #T_35a82_row3_col11 {\n",
       "  background-color: #7b0000;\n",
       "  color: #f1f1f1;\n",
       "}\n",
       "#T_35a82_row1_col2, #T_35a82_row5_col2, #T_35a82_row7_col4, #T_35a82_row10_col4 {\n",
       "  background-color: #790000;\n",
       "  color: #f1f1f1;\n",
       "}\n",
       "#T_35a82_row1_col3 {\n",
       "  background-color: #ffff3e;\n",
       "  color: #000000;\n",
       "}\n",
       "#T_35a82_row1_col4, #T_35a82_row5_col10, #T_35a82_row6_col7 {\n",
       "  background-color: #5f0000;\n",
       "  color: #f1f1f1;\n",
       "}\n",
       "#T_35a82_row1_col5, #T_35a82_row6_col9, #T_35a82_row9_col5 {\n",
       "  background-color: #3f0000;\n",
       "  color: #f1f1f1;\n",
       "}\n",
       "#T_35a82_row1_col7, #T_35a82_row12_col7 {\n",
       "  background-color: #350000;\n",
       "  color: #f1f1f1;\n",
       "}\n",
       "#T_35a82_row1_col8, #T_35a82_row4_col6, #T_35a82_row5_col1, #T_35a82_row9_col6, #T_35a82_row11_col3 {\n",
       "  background-color: #c50000;\n",
       "  color: #f1f1f1;\n",
       "}\n",
       "#T_35a82_row1_col9 {\n",
       "  background-color: #ff2f00;\n",
       "  color: #f1f1f1;\n",
       "}\n",
       "#T_35a82_row1_col10, #T_35a82_row10_col5 {\n",
       "  background-color: #740000;\n",
       "  color: #f1f1f1;\n",
       "}\n",
       "#T_35a82_row1_col11 {\n",
       "  background-color: #830000;\n",
       "  color: #f1f1f1;\n",
       "}\n",
       "#T_35a82_row1_col12, #T_35a82_row8_col9 {\n",
       "  background-color: #810000;\n",
       "  color: #f1f1f1;\n",
       "}\n",
       "#T_35a82_row2_col1 {\n",
       "  background-color: #d70000;\n",
       "  color: #f1f1f1;\n",
       "}\n",
       "#T_35a82_row2_col3, #T_35a82_row7_col1 {\n",
       "  background-color: #bd0000;\n",
       "  color: #f1f1f1;\n",
       "}\n",
       "#T_35a82_row2_col5, #T_35a82_row4_col7, #T_35a82_row9_col10 {\n",
       "  background-color: #570000;\n",
       "  color: #f1f1f1;\n",
       "}\n",
       "#T_35a82_row2_col6, #T_35a82_row5_col6, #T_35a82_row8_col6 {\n",
       "  background-color: #d50000;\n",
       "  color: #f1f1f1;\n",
       "}\n",
       "#T_35a82_row2_col7, #T_35a82_row5_col8, #T_35a82_row8_col10, #T_35a82_row10_col7 {\n",
       "  background-color: #4c0000;\n",
       "  color: #f1f1f1;\n",
       "}\n",
       "#T_35a82_row2_col8 {\n",
       "  background-color: #590000;\n",
       "  color: #f1f1f1;\n",
       "}\n",
       "#T_35a82_row2_col9, #T_35a82_row10_col2 {\n",
       "  background-color: #690000;\n",
       "  color: #f1f1f1;\n",
       "}\n",
       "#T_35a82_row2_col10 {\n",
       "  background-color: #320000;\n",
       "  color: #f1f1f1;\n",
       "}\n",
       "#T_35a82_row2_col11, #T_35a82_row6_col2 {\n",
       "  background-color: #760000;\n",
       "  color: #f1f1f1;\n",
       "}\n",
       "#T_35a82_row2_col12, #T_35a82_row4_col10, #T_35a82_row5_col9 {\n",
       "  background-color: #420000;\n",
       "  color: #f1f1f1;\n",
       "}\n",
       "#T_35a82_row3_col0, #T_35a82_row8_col4 {\n",
       "  background-color: #9b0000;\n",
       "  color: #f1f1f1;\n",
       "}\n",
       "#T_35a82_row3_col1 {\n",
       "  background-color: #ffff42;\n",
       "  color: #000000;\n",
       "}\n",
       "#T_35a82_row3_col2, #T_35a82_row8_col2, #T_35a82_row10_col0, #T_35a82_row11_col2, #T_35a82_row12_col2, #T_35a82_row12_col11 {\n",
       "  background-color: #6c0000;\n",
       "  color: #f1f1f1;\n",
       "}\n",
       "#T_35a82_row3_col4, #T_35a82_row11_col7 {\n",
       "  background-color: #7e0000;\n",
       "  color: #f1f1f1;\n",
       "}\n",
       "#T_35a82_row3_col6 {\n",
       "  background-color: #1d0000;\n",
       "  color: #f1f1f1;\n",
       "}\n",
       "#T_35a82_row3_col8 {\n",
       "  background-color: #a00000;\n",
       "  color: #f1f1f1;\n",
       "}\n",
       "#T_35a82_row3_col9 {\n",
       "  background-color: #f20000;\n",
       "  color: #f1f1f1;\n",
       "}\n",
       "#T_35a82_row3_col10, #T_35a82_row6_col11 {\n",
       "  background-color: #640000;\n",
       "  color: #f1f1f1;\n",
       "}\n",
       "#T_35a82_row3_col12 {\n",
       "  background-color: #860000;\n",
       "  color: #f1f1f1;\n",
       "}\n",
       "#T_35a82_row4_col0, #T_35a82_row4_col9, #T_35a82_row4_col12, #T_35a82_row5_col4, #T_35a82_row12_col10 {\n",
       "  background-color: #3a0000;\n",
       "  color: #f1f1f1;\n",
       "}\n",
       "#T_35a82_row4_col1 {\n",
       "  background-color: #c20000;\n",
       "  color: #f1f1f1;\n",
       "}\n",
       "#T_35a82_row4_col3 {\n",
       "  background-color: #cd0000;\n",
       "  color: #f1f1f1;\n",
       "}\n",
       "#T_35a82_row4_col5 {\n",
       "  background-color: #150000;\n",
       "  color: #f1f1f1;\n",
       "}\n",
       "#T_35a82_row4_col8, #T_35a82_row5_col3, #T_35a82_row7_col3, #T_35a82_row9_col8 {\n",
       "  background-color: #8b0000;\n",
       "  color: #f1f1f1;\n",
       "}\n",
       "#T_35a82_row4_col11 {\n",
       "  background-color: #900000;\n",
       "  color: #f1f1f1;\n",
       "}\n",
       "#T_35a82_row5_col11 {\n",
       "  background-color: #440000;\n",
       "  color: #f1f1f1;\n",
       "}\n",
       "#T_35a82_row5_col12, #T_35a82_row9_col12, #T_35a82_row10_col11, #T_35a82_row12_col4 {\n",
       "  background-color: #660000;\n",
       "  color: #f1f1f1;\n",
       "}\n",
       "#T_35a82_row6_col0, #T_35a82_row7_col10, #T_35a82_row9_col11, #T_35a82_row11_col12 {\n",
       "  background-color: #370000;\n",
       "  color: #f1f1f1;\n",
       "}\n",
       "#T_35a82_row6_col4, #T_35a82_row6_col8, #T_35a82_row7_col8, #T_35a82_row12_col8 {\n",
       "  background-color: #610000;\n",
       "  color: #f1f1f1;\n",
       "}\n",
       "#T_35a82_row6_col5, #T_35a82_row8_col7 {\n",
       "  background-color: #510000;\n",
       "  color: #f1f1f1;\n",
       "}\n",
       "#T_35a82_row7_col0, #T_35a82_row11_col8 {\n",
       "  background-color: #540000;\n",
       "  color: #f1f1f1;\n",
       "}\n",
       "#T_35a82_row7_col2, #T_35a82_row8_col11, #T_35a82_row10_col9, #T_35a82_row12_col5, #T_35a82_row12_col9 {\n",
       "  background-color: #6e0000;\n",
       "  color: #f1f1f1;\n",
       "}\n",
       "#T_35a82_row7_col11 {\n",
       "  background-color: #a50000;\n",
       "  color: #f1f1f1;\n",
       "}\n",
       "#T_35a82_row7_col12 {\n",
       "  background-color: #2d0000;\n",
       "  color: #f1f1f1;\n",
       "}\n",
       "#T_35a82_row8_col1 {\n",
       "  background-color: #ff2500;\n",
       "  color: #f1f1f1;\n",
       "}\n",
       "#T_35a82_row8_col3 {\n",
       "  background-color: #f90000;\n",
       "  color: #f1f1f1;\n",
       "}\n",
       "#T_35a82_row8_col5 {\n",
       "  background-color: #3c0000;\n",
       "  color: #f1f1f1;\n",
       "}\n",
       "#T_35a82_row8_col12 {\n",
       "  background-color: #4a0000;\n",
       "  color: #f1f1f1;\n",
       "}\n",
       "#T_35a82_row9_col0, #T_35a82_row10_col1, #T_35a82_row12_col1 {\n",
       "  background-color: #ff0000;\n",
       "  color: #f1f1f1;\n",
       "}\n",
       "#T_35a82_row9_col1 {\n",
       "  background-color: #ff8000;\n",
       "  color: #f1f1f1;\n",
       "}\n",
       "#T_35a82_row9_col3 {\n",
       "  background-color: #ff4700;\n",
       "  color: #f1f1f1;\n",
       "}\n",
       "#T_35a82_row9_col4 {\n",
       "  background-color: #5c0000;\n",
       "  color: #f1f1f1;\n",
       "}\n",
       "#T_35a82_row9_col7, #T_35a82_row11_col10 {\n",
       "  background-color: #220000;\n",
       "  color: #f1f1f1;\n",
       "}\n",
       "#T_35a82_row10_col3 {\n",
       "  background-color: #e40000;\n",
       "  color: #f1f1f1;\n",
       "}\n",
       "#T_35a82_row10_col12 {\n",
       "  background-color: #470000;\n",
       "  color: #f1f1f1;\n",
       "}\n",
       "#T_35a82_row11_col1 {\n",
       "  background-color: #da0000;\n",
       "  color: #f1f1f1;\n",
       "}\n",
       "#T_35a82_row11_col5 {\n",
       "  background-color: #120000;\n",
       "  color: #f1f1f1;\n",
       "}\n",
       "#T_35a82_row11_col6 {\n",
       "  background-color: #c00000;\n",
       "  color: #f1f1f1;\n",
       "}\n",
       "#T_35a82_row12_col0 {\n",
       "  background-color: #b50000;\n",
       "  color: #f1f1f1;\n",
       "}\n",
       "#T_35a82_row12_col3 {\n",
       "  background-color: #f40000;\n",
       "  color: #f1f1f1;\n",
       "}\n",
       "#T_35a82_row12_col6 {\n",
       "  background-color: #a30000;\n",
       "  color: #f1f1f1;\n",
       "}\n",
       "</style>\n",
       "<table id=\"T_35a82_\">\n",
       "  <thead>\n",
       "    <tr>\n",
       "      <th class=\"blank level0\" >&nbsp;</th>\n",
       "      <th class=\"col_heading level0 col0\" >danceability</th>\n",
       "      <th class=\"col_heading level0 col1\" >energy</th>\n",
       "      <th class=\"col_heading level0 col2\" >key</th>\n",
       "      <th class=\"col_heading level0 col3\" >loudness</th>\n",
       "      <th class=\"col_heading level0 col4\" >mode</th>\n",
       "      <th class=\"col_heading level0 col5\" >speechiness</th>\n",
       "      <th class=\"col_heading level0 col6\" >acousticness</th>\n",
       "      <th class=\"col_heading level0 col7\" >instrumentalness</th>\n",
       "      <th class=\"col_heading level0 col8\" >liveness</th>\n",
       "      <th class=\"col_heading level0 col9\" >valence</th>\n",
       "      <th class=\"col_heading level0 col10\" >tempo</th>\n",
       "      <th class=\"col_heading level0 col11\" >duration_ms</th>\n",
       "      <th class=\"col_heading level0 col12\" >time_signature</th>\n",
       "    </tr>\n",
       "  </thead>\n",
       "  <tbody>\n",
       "    <tr>\n",
       "      <th id=\"T_35a82_level0_row0\" class=\"row_heading level0 row0\" >danceability</th>\n",
       "      <td id=\"T_35a82_row0_col0\" class=\"data row0 col0\" >1.000000</td>\n",
       "      <td id=\"T_35a82_row0_col1\" class=\"data row0 col1\" >0.005115</td>\n",
       "      <td id=\"T_35a82_row0_col2\" class=\"data row0 col2\" >0.003732</td>\n",
       "      <td id=\"T_35a82_row0_col3\" class=\"data row0 col3\" >0.060467</td>\n",
       "      <td id=\"T_35a82_row0_col4\" class=\"data row0 col4\" >-0.114625</td>\n",
       "      <td id=\"T_35a82_row0_col5\" class=\"data row0 col5\" >0.161106</td>\n",
       "      <td id=\"T_35a82_row0_col6\" class=\"data row0 col6\" >-0.119502</td>\n",
       "      <td id=\"T_35a82_row0_col7\" class=\"data row0 col7\" >-0.066644</td>\n",
       "      <td id=\"T_35a82_row0_col8\" class=\"data row0 col8\" >-0.143246</td>\n",
       "      <td id=\"T_35a82_row0_col9\" class=\"data row0 col9\" >0.239886</td>\n",
       "      <td id=\"T_35a82_row0_col10\" class=\"data row0 col10\" >-0.023205</td>\n",
       "      <td id=\"T_35a82_row0_col11\" class=\"data row0 col11\" >-0.199665</td>\n",
       "      <td id=\"T_35a82_row0_col12\" class=\"data row0 col12\" >0.108085</td>\n",
       "    </tr>\n",
       "    <tr>\n",
       "      <th id=\"T_35a82_level0_row1\" class=\"row_heading level0 row1\" >energy</th>\n",
       "      <td id=\"T_35a82_row1_col0\" class=\"data row1 col0\" >0.005115</td>\n",
       "      <td id=\"T_35a82_row1_col1\" class=\"data row1 col1\" >1.000000</td>\n",
       "      <td id=\"T_35a82_row1_col2\" class=\"data row1 col2\" >0.015910</td>\n",
       "      <td id=\"T_35a82_row1_col3\" class=\"data row1 col3\" >0.732895</td>\n",
       "      <td id=\"T_35a82_row1_col4\" class=\"data row1 col4\" >-0.027694</td>\n",
       "      <td id=\"T_35a82_row1_col5\" class=\"data row1 col5\" >-0.022990</td>\n",
       "      <td id=\"T_35a82_row1_col6\" class=\"data row1 col6\" >-0.421489</td>\n",
       "      <td id=\"T_35a82_row1_col7\" class=\"data row1 col7\" >-0.041255</td>\n",
       "      <td id=\"T_35a82_row1_col8\" class=\"data row1 col8\" >0.174463</td>\n",
       "      <td id=\"T_35a82_row1_col9\" class=\"data row1 col9\" >0.367636</td>\n",
       "      <td id=\"T_35a82_row1_col10\" class=\"data row1 col10\" >0.096416</td>\n",
       "      <td id=\"T_35a82_row1_col11\" class=\"data row1 col11\" >0.017678</td>\n",
       "      <td id=\"T_35a82_row1_col12\" class=\"data row1 col12\" >0.097628</td>\n",
       "    </tr>\n",
       "    <tr>\n",
       "      <th id=\"T_35a82_level0_row2\" class=\"row_heading level0 row2\" >key</th>\n",
       "      <td id=\"T_35a82_row2_col0\" class=\"data row2 col0\" >0.003732</td>\n",
       "      <td id=\"T_35a82_row2_col1\" class=\"data row2 col1\" >0.015910</td>\n",
       "      <td id=\"T_35a82_row2_col2\" class=\"data row2 col2\" >1.000000</td>\n",
       "      <td id=\"T_35a82_row2_col3\" class=\"data row2 col3\" >-0.008047</td>\n",
       "      <td id=\"T_35a82_row2_col4\" class=\"data row2 col4\" >-0.179343</td>\n",
       "      <td id=\"T_35a82_row2_col5\" class=\"data row2 col5\" >0.017855</td>\n",
       "      <td id=\"T_35a82_row2_col6\" class=\"data row2 col6\" >0.010088</td>\n",
       "      <td id=\"T_35a82_row2_col7\" class=\"data row2 col7\" >-0.003647</td>\n",
       "      <td id=\"T_35a82_row2_col8\" class=\"data row2 col8\" >-0.006825</td>\n",
       "      <td id=\"T_35a82_row2_col9\" class=\"data row2 col9\" >0.043517</td>\n",
       "      <td id=\"T_35a82_row2_col10\" class=\"data row2 col10\" >-0.010224</td>\n",
       "      <td id=\"T_35a82_row2_col11\" class=\"data row2 col11\" >-0.007012</td>\n",
       "      <td id=\"T_35a82_row2_col12\" class=\"data row2 col12\" >-0.007540</td>\n",
       "    </tr>\n",
       "    <tr>\n",
       "      <th id=\"T_35a82_level0_row3\" class=\"row_heading level0 row3\" >loudness</th>\n",
       "      <td id=\"T_35a82_row3_col0\" class=\"data row3 col0\" >0.060467</td>\n",
       "      <td id=\"T_35a82_row3_col1\" class=\"data row3 col1\" >0.732895</td>\n",
       "      <td id=\"T_35a82_row3_col2\" class=\"data row3 col2\" >-0.008047</td>\n",
       "      <td id=\"T_35a82_row3_col3\" class=\"data row3 col3\" >1.000000</td>\n",
       "      <td id=\"T_35a82_row3_col4\" class=\"data row3 col4\" >0.024081</td>\n",
       "      <td id=\"T_35a82_row3_col5\" class=\"data row3 col5\" >-0.112223</td>\n",
       "      <td id=\"T_35a82_row3_col6\" class=\"data row3 col6\" >-0.379965</td>\n",
       "      <td id=\"T_35a82_row3_col7\" class=\"data row3 col7\" >-0.113044</td>\n",
       "      <td id=\"T_35a82_row3_col8\" class=\"data row3 col8\" >0.113268</td>\n",
       "      <td id=\"T_35a82_row3_col9\" class=\"data row3 col9\" >0.269421</td>\n",
       "      <td id=\"T_35a82_row3_col10\" class=\"data row3 col10\" >0.072794</td>\n",
       "      <td id=\"T_35a82_row3_col11\" class=\"data row3 col11\" >0.002782</td>\n",
       "      <td id=\"T_35a82_row3_col12\" class=\"data row3 col12\" >0.104035</td>\n",
       "    </tr>\n",
       "    <tr>\n",
       "      <th id=\"T_35a82_level0_row4\" class=\"row_heading level0 row4\" >mode</th>\n",
       "      <td id=\"T_35a82_row4_col0\" class=\"data row4 col0\" >-0.114625</td>\n",
       "      <td id=\"T_35a82_row4_col1\" class=\"data row4 col1\" >-0.027694</td>\n",
       "      <td id=\"T_35a82_row4_col2\" class=\"data row4 col2\" >-0.179343</td>\n",
       "      <td id=\"T_35a82_row4_col3\" class=\"data row4 col3\" >0.024081</td>\n",
       "      <td id=\"T_35a82_row4_col4\" class=\"data row4 col4\" >1.000000</td>\n",
       "      <td id=\"T_35a82_row4_col5\" class=\"data row4 col5\" >-0.094801</td>\n",
       "      <td id=\"T_35a82_row4_col6\" class=\"data row4 col6\" >-0.027133</td>\n",
       "      <td id=\"T_35a82_row4_col7\" class=\"data row4 col7\" >0.014211</td>\n",
       "      <td id=\"T_35a82_row4_col8\" class=\"data row4 col8\" >0.076738</td>\n",
       "      <td id=\"T_35a82_row4_col9\" class=\"data row4 col9\" >-0.035945</td>\n",
       "      <td id=\"T_35a82_row4_col10\" class=\"data row4 col10\" >0.018475</td>\n",
       "      <td id=\"T_35a82_row4_col11\" class=\"data row4 col11\" >0.044004</td>\n",
       "      <td id=\"T_35a82_row4_col12\" class=\"data row4 col12\" >-0.017882</td>\n",
       "    </tr>\n",
       "    <tr>\n",
       "      <th id=\"T_35a82_level0_row5\" class=\"row_heading level0 row5\" >speechiness</th>\n",
       "      <td id=\"T_35a82_row5_col0\" class=\"data row5 col0\" >0.161106</td>\n",
       "      <td id=\"T_35a82_row5_col1\" class=\"data row5 col1\" >-0.022990</td>\n",
       "      <td id=\"T_35a82_row5_col2\" class=\"data row5 col2\" >0.017855</td>\n",
       "      <td id=\"T_35a82_row5_col3\" class=\"data row5 col3\" >-0.112223</td>\n",
       "      <td id=\"T_35a82_row5_col4\" class=\"data row5 col4\" >-0.094801</td>\n",
       "      <td id=\"T_35a82_row5_col5\" class=\"data row5 col5\" >1.000000</td>\n",
       "      <td id=\"T_35a82_row5_col6\" class=\"data row5 col6\" >0.009084</td>\n",
       "      <td id=\"T_35a82_row5_col7\" class=\"data row5 col7\" >-0.066705</td>\n",
       "      <td id=\"T_35a82_row5_col8\" class=\"data row5 col8\" >-0.028728</td>\n",
       "      <td id=\"T_35a82_row5_col9\" class=\"data row5 col9\" >-0.025020</td>\n",
       "      <td id=\"T_35a82_row5_col10\" class=\"data row5 col10\" >0.064061</td>\n",
       "      <td id=\"T_35a82_row5_col11\" class=\"data row5 col11\" >-0.095025</td>\n",
       "      <td id=\"T_35a82_row5_col12\" class=\"data row5 col12\" >0.055345</td>\n",
       "    </tr>\n",
       "    <tr>\n",
       "      <th id=\"T_35a82_level0_row6\" class=\"row_heading level0 row6\" >acousticness</th>\n",
       "      <td id=\"T_35a82_row6_col0\" class=\"data row6 col0\" >-0.119502</td>\n",
       "      <td id=\"T_35a82_row6_col1\" class=\"data row6 col1\" >-0.421489</td>\n",
       "      <td id=\"T_35a82_row6_col2\" class=\"data row6 col2\" >0.010088</td>\n",
       "      <td id=\"T_35a82_row6_col3\" class=\"data row6 col3\" >-0.379965</td>\n",
       "      <td id=\"T_35a82_row6_col4\" class=\"data row6 col4\" >-0.027133</td>\n",
       "      <td id=\"T_35a82_row6_col5\" class=\"data row6 col5\" >0.009084</td>\n",
       "      <td id=\"T_35a82_row6_col6\" class=\"data row6 col6\" >1.000000</td>\n",
       "      <td id=\"T_35a82_row6_col7\" class=\"data row6 col7\" >0.028519</td>\n",
       "      <td id=\"T_35a82_row6_col8\" class=\"data row6 col8\" >0.006835</td>\n",
       "      <td id=\"T_35a82_row6_col9\" class=\"data row6 col9\" >-0.026301</td>\n",
       "      <td id=\"T_35a82_row6_col10\" class=\"data row6 col10\" >-0.073606</td>\n",
       "      <td id=\"T_35a82_row6_col11\" class=\"data row6 col11\" >-0.035983</td>\n",
       "      <td id=\"T_35a82_row6_col12\" class=\"data row6 col12\" >-0.097920</td>\n",
       "    </tr>\n",
       "    <tr>\n",
       "      <th id=\"T_35a82_level0_row7\" class=\"row_heading level0 row7\" >instrumentalness</th>\n",
       "      <td id=\"T_35a82_row7_col0\" class=\"data row7 col0\" >-0.066644</td>\n",
       "      <td id=\"T_35a82_row7_col1\" class=\"data row7 col1\" >-0.041255</td>\n",
       "      <td id=\"T_35a82_row7_col2\" class=\"data row7 col2\" >-0.003647</td>\n",
       "      <td id=\"T_35a82_row7_col3\" class=\"data row7 col3\" >-0.113044</td>\n",
       "      <td id=\"T_35a82_row7_col4\" class=\"data row7 col4\" >0.014211</td>\n",
       "      <td id=\"T_35a82_row7_col5\" class=\"data row7 col5\" >-0.066705</td>\n",
       "      <td id=\"T_35a82_row7_col6\" class=\"data row7 col6\" >0.028519</td>\n",
       "      <td id=\"T_35a82_row7_col7\" class=\"data row7 col7\" >1.000000</td>\n",
       "      <td id=\"T_35a82_row7_col8\" class=\"data row7 col8\" >0.005769</td>\n",
       "      <td id=\"T_35a82_row7_col9\" class=\"data row7 col9\" >-0.073128</td>\n",
       "      <td id=\"T_35a82_row7_col10\" class=\"data row7 col10\" >-0.002244</td>\n",
       "      <td id=\"T_35a82_row7_col11\" class=\"data row7 col11\" >0.080177</td>\n",
       "      <td id=\"T_35a82_row7_col12\" class=\"data row7 col12\" >-0.040543</td>\n",
       "    </tr>\n",
       "    <tr>\n",
       "      <th id=\"T_35a82_level0_row8\" class=\"row_heading level0 row8\" >liveness</th>\n",
       "      <td id=\"T_35a82_row8_col0\" class=\"data row8 col0\" >-0.143246</td>\n",
       "      <td id=\"T_35a82_row8_col1\" class=\"data row8 col1\" >0.174463</td>\n",
       "      <td id=\"T_35a82_row8_col2\" class=\"data row8 col2\" >-0.006825</td>\n",
       "      <td id=\"T_35a82_row8_col3\" class=\"data row8 col3\" >0.113268</td>\n",
       "      <td id=\"T_35a82_row8_col4\" class=\"data row8 col4\" >0.076738</td>\n",
       "      <td id=\"T_35a82_row8_col5\" class=\"data row8 col5\" >-0.028728</td>\n",
       "      <td id=\"T_35a82_row8_col6\" class=\"data row8 col6\" >0.006835</td>\n",
       "      <td id=\"T_35a82_row8_col7\" class=\"data row8 col7\" >0.005769</td>\n",
       "      <td id=\"T_35a82_row8_col8\" class=\"data row8 col8\" >1.000000</td>\n",
       "      <td id=\"T_35a82_row8_col9\" class=\"data row8 col9\" >0.079136</td>\n",
       "      <td id=\"T_35a82_row8_col10\" class=\"data row8 col10\" >0.032904</td>\n",
       "      <td id=\"T_35a82_row8_col11\" class=\"data row8 col11\" >-0.018008</td>\n",
       "      <td id=\"T_35a82_row8_col12\" class=\"data row8 col12\" >0.006338</td>\n",
       "    </tr>\n",
       "    <tr>\n",
       "      <th id=\"T_35a82_level0_row9\" class=\"row_heading level0 row9\" >valence</th>\n",
       "      <td id=\"T_35a82_row9_col0\" class=\"data row9 col0\" >0.239886</td>\n",
       "      <td id=\"T_35a82_row9_col1\" class=\"data row9 col1\" >0.367636</td>\n",
       "      <td id=\"T_35a82_row9_col2\" class=\"data row9 col2\" >0.043517</td>\n",
       "      <td id=\"T_35a82_row9_col3\" class=\"data row9 col3\" >0.269421</td>\n",
       "      <td id=\"T_35a82_row9_col4\" class=\"data row9 col4\" >-0.035945</td>\n",
       "      <td id=\"T_35a82_row9_col5\" class=\"data row9 col5\" >-0.025020</td>\n",
       "      <td id=\"T_35a82_row9_col6\" class=\"data row9 col6\" >-0.026301</td>\n",
       "      <td id=\"T_35a82_row9_col7\" class=\"data row9 col7\" >-0.073128</td>\n",
       "      <td id=\"T_35a82_row9_col8\" class=\"data row9 col8\" >0.079136</td>\n",
       "      <td id=\"T_35a82_row9_col9\" class=\"data row9 col9\" >1.000000</td>\n",
       "      <td id=\"T_35a82_row9_col10\" class=\"data row9 col10\" >0.050688</td>\n",
       "      <td id=\"T_35a82_row9_col11\" class=\"data row9 col11\" >-0.117293</td>\n",
       "      <td id=\"T_35a82_row9_col12\" class=\"data row9 col12\" >0.052428</td>\n",
       "    </tr>\n",
       "    <tr>\n",
       "      <th id=\"T_35a82_level0_row10\" class=\"row_heading level0 row10\" >tempo</th>\n",
       "      <td id=\"T_35a82_row10_col0\" class=\"data row10 col0\" >-0.023205</td>\n",
       "      <td id=\"T_35a82_row10_col1\" class=\"data row10 col1\" >0.096416</td>\n",
       "      <td id=\"T_35a82_row10_col2\" class=\"data row10 col2\" >-0.010224</td>\n",
       "      <td id=\"T_35a82_row10_col3\" class=\"data row10 col3\" >0.072794</td>\n",
       "      <td id=\"T_35a82_row10_col4\" class=\"data row10 col4\" >0.018475</td>\n",
       "      <td id=\"T_35a82_row10_col5\" class=\"data row10 col5\" >0.064061</td>\n",
       "      <td id=\"T_35a82_row10_col6\" class=\"data row10 col6\" >-0.073606</td>\n",
       "      <td id=\"T_35a82_row10_col7\" class=\"data row10 col7\" >-0.002244</td>\n",
       "      <td id=\"T_35a82_row10_col8\" class=\"data row10 col8\" >0.032904</td>\n",
       "      <td id=\"T_35a82_row10_col9\" class=\"data row10 col9\" >0.050688</td>\n",
       "      <td id=\"T_35a82_row10_col10\" class=\"data row10 col10\" >1.000000</td>\n",
       "      <td id=\"T_35a82_row10_col11\" class=\"data row10 col11\" >-0.035210</td>\n",
       "      <td id=\"T_35a82_row10_col12\" class=\"data row10 col12\" >0.003487</td>\n",
       "    </tr>\n",
       "    <tr>\n",
       "      <th id=\"T_35a82_level0_row11\" class=\"row_heading level0 row11\" >duration_ms</th>\n",
       "      <td id=\"T_35a82_row11_col0\" class=\"data row11 col0\" >-0.199665</td>\n",
       "      <td id=\"T_35a82_row11_col1\" class=\"data row11 col1\" >0.017678</td>\n",
       "      <td id=\"T_35a82_row11_col2\" class=\"data row11 col2\" >-0.007012</td>\n",
       "      <td id=\"T_35a82_row11_col3\" class=\"data row11 col3\" >0.002782</td>\n",
       "      <td id=\"T_35a82_row11_col4\" class=\"data row11 col4\" >0.044004</td>\n",
       "      <td id=\"T_35a82_row11_col5\" class=\"data row11 col5\" >-0.095025</td>\n",
       "      <td id=\"T_35a82_row11_col6\" class=\"data row11 col6\" >-0.035983</td>\n",
       "      <td id=\"T_35a82_row11_col7\" class=\"data row11 col7\" >0.080177</td>\n",
       "      <td id=\"T_35a82_row11_col8\" class=\"data row11 col8\" >-0.018008</td>\n",
       "      <td id=\"T_35a82_row11_col9\" class=\"data row11 col9\" >-0.117293</td>\n",
       "      <td id=\"T_35a82_row11_col10\" class=\"data row11 col10\" >-0.035210</td>\n",
       "      <td id=\"T_35a82_row11_col11\" class=\"data row11 col11\" >1.000000</td>\n",
       "      <td id=\"T_35a82_row11_col12\" class=\"data row11 col12\" >-0.022649</td>\n",
       "    </tr>\n",
       "    <tr>\n",
       "      <th id=\"T_35a82_level0_row12\" class=\"row_heading level0 row12\" >time_signature</th>\n",
       "      <td id=\"T_35a82_row12_col0\" class=\"data row12 col0\" >0.108085</td>\n",
       "      <td id=\"T_35a82_row12_col1\" class=\"data row12 col1\" >0.097628</td>\n",
       "      <td id=\"T_35a82_row12_col2\" class=\"data row12 col2\" >-0.007540</td>\n",
       "      <td id=\"T_35a82_row12_col3\" class=\"data row12 col3\" >0.104035</td>\n",
       "      <td id=\"T_35a82_row12_col4\" class=\"data row12 col4\" >-0.017882</td>\n",
       "      <td id=\"T_35a82_row12_col5\" class=\"data row12 col5\" >0.055345</td>\n",
       "      <td id=\"T_35a82_row12_col6\" class=\"data row12 col6\" >-0.097920</td>\n",
       "      <td id=\"T_35a82_row12_col7\" class=\"data row12 col7\" >-0.040543</td>\n",
       "      <td id=\"T_35a82_row12_col8\" class=\"data row12 col8\" >0.006338</td>\n",
       "      <td id=\"T_35a82_row12_col9\" class=\"data row12 col9\" >0.052428</td>\n",
       "      <td id=\"T_35a82_row12_col10\" class=\"data row12 col10\" >0.003487</td>\n",
       "      <td id=\"T_35a82_row12_col11\" class=\"data row12 col11\" >-0.022649</td>\n",
       "      <td id=\"T_35a82_row12_col12\" class=\"data row12 col12\" >1.000000</td>\n",
       "    </tr>\n",
       "  </tbody>\n",
       "</table>\n"
      ],
      "text/plain": [
       "<pandas.io.formats.style.Styler at 0x19687cdad08>"
      ]
     },
     "execution_count": 12,
     "metadata": {},
     "output_type": "execute_result"
    }
   ],
   "source": [
    "trackcorr = tracks.corr(method='pearson') #Default method is Pearson\n",
    "trackcorr.style.background_gradient(cmap='hot')"
   ]
  },
  {
   "cell_type": "markdown",
   "id": "e4938be5",
   "metadata": {},
   "source": [
    "* Based on the correlation of the variables we see that the variables with high enough correlation to be considered impactful towards valence are mainly loudness, energy and danceability."
   ]
  },
  {
   "cell_type": "code",
   "execution_count": 13,
   "id": "deffad1b",
   "metadata": {
    "scrolled": true
   },
   "outputs": [],
   "source": [
    "df = tracks[['loudness','energy','danceability','valence','song_id']].copy()"
   ]
  },
  {
   "cell_type": "code",
   "execution_count": 14,
   "id": "27b770c0",
   "metadata": {
    "scrolled": true
   },
   "outputs": [
    {
     "data": {
      "text/html": [
       "<div>\n",
       "<style scoped>\n",
       "    .dataframe tbody tr th:only-of-type {\n",
       "        vertical-align: middle;\n",
       "    }\n",
       "\n",
       "    .dataframe tbody tr th {\n",
       "        vertical-align: top;\n",
       "    }\n",
       "\n",
       "    .dataframe thead th {\n",
       "        text-align: right;\n",
       "    }\n",
       "</style>\n",
       "<table border=\"1\" class=\"dataframe\">\n",
       "  <thead>\n",
       "    <tr style=\"text-align: right;\">\n",
       "      <th></th>\n",
       "      <th>loudness</th>\n",
       "      <th>energy</th>\n",
       "      <th>danceability</th>\n",
       "      <th>valence</th>\n",
       "      <th>song_id</th>\n",
       "    </tr>\n",
       "  </thead>\n",
       "  <tbody>\n",
       "    <tr>\n",
       "      <th>0</th>\n",
       "      <td>-7.028</td>\n",
       "      <td>0.594</td>\n",
       "      <td>0.681</td>\n",
       "      <td>0.5350</td>\n",
       "      <td>5aAx2yezTd8zXrkmtKl66Z</td>\n",
       "    </tr>\n",
       "    <tr>\n",
       "      <th>1</th>\n",
       "      <td>-4.068</td>\n",
       "      <td>0.763</td>\n",
       "      <td>0.720</td>\n",
       "      <td>0.7420</td>\n",
       "      <td>5knuzwU65gJK7IF5yJsuaW</td>\n",
       "    </tr>\n",
       "    <tr>\n",
       "      <th>2</th>\n",
       "      <td>-5.599</td>\n",
       "      <td>0.524</td>\n",
       "      <td>0.748</td>\n",
       "      <td>0.6610</td>\n",
       "      <td>7BKLCZ1jbUBVqRi2FVlTVw</td>\n",
       "    </tr>\n",
       "    <tr>\n",
       "      <th>3</th>\n",
       "      <td>-8.374</td>\n",
       "      <td>0.451</td>\n",
       "      <td>0.735</td>\n",
       "      <td>0.0862</td>\n",
       "      <td>3NdDpSvN911VPGivFlV5d0</td>\n",
       "    </tr>\n",
       "    <tr>\n",
       "      <th>4</th>\n",
       "      <td>-4.031</td>\n",
       "      <td>0.838</td>\n",
       "      <td>0.670</td>\n",
       "      <td>0.7170</td>\n",
       "      <td>78rIJddV4X0HkNAInEcYde</td>\n",
       "    </tr>\n",
       "  </tbody>\n",
       "</table>\n",
       "</div>"
      ],
      "text/plain": [
       "   loudness  energy  danceability  valence                 song_id\n",
       "0    -7.028   0.594         0.681   0.5350  5aAx2yezTd8zXrkmtKl66Z\n",
       "1    -4.068   0.763         0.720   0.7420  5knuzwU65gJK7IF5yJsuaW\n",
       "2    -5.599   0.524         0.748   0.6610  7BKLCZ1jbUBVqRi2FVlTVw\n",
       "3    -8.374   0.451         0.735   0.0862  3NdDpSvN911VPGivFlV5d0\n",
       "4    -4.031   0.838         0.670   0.7170  78rIJddV4X0HkNAInEcYde"
      ]
     },
     "execution_count": 14,
     "metadata": {},
     "output_type": "execute_result"
    }
   ],
   "source": [
    "df.head(5)"
   ]
  },
  {
   "cell_type": "markdown",
   "id": "866ae6b3",
   "metadata": {},
   "source": [
    "* I am also going to perform an anova test in order to see which features the anova test considers impactful"
   ]
  },
  {
   "cell_type": "code",
   "execution_count": 15,
   "id": "5758375c",
   "metadata": {
    "scrolled": true
   },
   "outputs": [
    {
     "data": {
      "text/html": [
       "<div>\n",
       "<style scoped>\n",
       "    .dataframe tbody tr th:only-of-type {\n",
       "        vertical-align: middle;\n",
       "    }\n",
       "\n",
       "    .dataframe tbody tr th {\n",
       "        vertical-align: top;\n",
       "    }\n",
       "\n",
       "    .dataframe thead th {\n",
       "        text-align: right;\n",
       "    }\n",
       "</style>\n",
       "<table border=\"1\" class=\"dataframe\">\n",
       "  <thead>\n",
       "    <tr style=\"text-align: right;\">\n",
       "      <th></th>\n",
       "      <th>sum_sq</th>\n",
       "      <th>df</th>\n",
       "      <th>F</th>\n",
       "      <th>PR(&gt;F)</th>\n",
       "    </tr>\n",
       "  </thead>\n",
       "  <tbody>\n",
       "    <tr>\n",
       "      <th>danceability</th>\n",
       "      <td>39.159108</td>\n",
       "      <td>1.0</td>\n",
       "      <td>1066.722321</td>\n",
       "      <td>1.751018e-225</td>\n",
       "    </tr>\n",
       "    <tr>\n",
       "      <th>energy</th>\n",
       "      <td>42.715155</td>\n",
       "      <td>1.0</td>\n",
       "      <td>1163.591593</td>\n",
       "      <td>5.704973e-245</td>\n",
       "    </tr>\n",
       "    <tr>\n",
       "      <th>key</th>\n",
       "      <td>0.891430</td>\n",
       "      <td>1.0</td>\n",
       "      <td>24.283188</td>\n",
       "      <td>8.412172e-07</td>\n",
       "    </tr>\n",
       "    <tr>\n",
       "      <th>loudness</th>\n",
       "      <td>0.741575</td>\n",
       "      <td>1.0</td>\n",
       "      <td>20.201051</td>\n",
       "      <td>7.027903e-06</td>\n",
       "    </tr>\n",
       "    <tr>\n",
       "      <th>mode</th>\n",
       "      <td>0.002866</td>\n",
       "      <td>1.0</td>\n",
       "      <td>0.078072</td>\n",
       "      <td>7.799319e-01</td>\n",
       "    </tr>\n",
       "    <tr>\n",
       "      <th>speechiness</th>\n",
       "      <td>2.695663</td>\n",
       "      <td>1.0</td>\n",
       "      <td>73.431816</td>\n",
       "      <td>1.150688e-17</td>\n",
       "    </tr>\n",
       "    <tr>\n",
       "      <th>instrumentalness</th>\n",
       "      <td>1.582851</td>\n",
       "      <td>1.0</td>\n",
       "      <td>43.117989</td>\n",
       "      <td>5.337076e-11</td>\n",
       "    </tr>\n",
       "    <tr>\n",
       "      <th>liveness</th>\n",
       "      <td>1.603176</td>\n",
       "      <td>1.0</td>\n",
       "      <td>43.671663</td>\n",
       "      <td>4.025340e-11</td>\n",
       "    </tr>\n",
       "    <tr>\n",
       "      <th>tempo</th>\n",
       "      <td>0.417844</td>\n",
       "      <td>1.0</td>\n",
       "      <td>11.382381</td>\n",
       "      <td>7.434701e-04</td>\n",
       "    </tr>\n",
       "    <tr>\n",
       "      <th>Residual</th>\n",
       "      <td>509.164210</td>\n",
       "      <td>13870.0</td>\n",
       "      <td>NaN</td>\n",
       "      <td>NaN</td>\n",
       "    </tr>\n",
       "  </tbody>\n",
       "</table>\n",
       "</div>"
      ],
      "text/plain": [
       "                      sum_sq       df            F         PR(>F)\n",
       "danceability       39.159108      1.0  1066.722321  1.751018e-225\n",
       "energy             42.715155      1.0  1163.591593  5.704973e-245\n",
       "key                 0.891430      1.0    24.283188   8.412172e-07\n",
       "loudness            0.741575      1.0    20.201051   7.027903e-06\n",
       "mode                0.002866      1.0     0.078072   7.799319e-01\n",
       "speechiness         2.695663      1.0    73.431816   1.150688e-17\n",
       "instrumentalness    1.582851      1.0    43.117989   5.337076e-11\n",
       "liveness            1.603176      1.0    43.671663   4.025340e-11\n",
       "tempo               0.417844      1.0    11.382381   7.434701e-04\n",
       "Residual          509.164210  13870.0          NaN            NaN"
      ]
     },
     "execution_count": 15,
     "metadata": {},
     "output_type": "execute_result"
    }
   ],
   "source": [
    "import statsmodels.api as sm\n",
    "from statsmodels.formula.api import ols\n",
    "\n",
    "anovamodel = ols(\"valence ~ danceability + energy + key + loudness + mode + speechiness + instrumentalness + liveness + tempo\", data = tracks).fit()\n",
    "aov_table = sm.stats.anova_lm(anovamodel, typ=2)\n",
    "aov_table"
   ]
  },
  {
   "cell_type": "markdown",
   "id": "252ef0cc",
   "metadata": {},
   "source": [
    "As we can see, the anova test agrees on the most part with the pearson test, since both consider danceability and energy as variables that severly imparct valence. However, the anova test places more value on speechiness than in loudness."
   ]
  },
  {
   "cell_type": "markdown",
   "id": "e009eac0",
   "metadata": {},
   "source": [
    "## Q2: Predict Valence"
   ]
  },
  {
   "cell_type": "markdown",
   "id": "714a0c15",
   "metadata": {},
   "source": [
    "Before doing anything we have to prepare the data:\n",
    "\n",
    "* More specifically, we need to put the audio features in a new dataframe and then separate the independent variables from the dependent variable(X , y accordingly)\n",
    "\n",
    "* Then we are going to use the MinMaxScaler to normalize the independent variables value\n",
    "\n",
    "* Finally, we are going to split the data in 80/20 training/test dataset"
   ]
  },
  {
   "cell_type": "code",
   "execution_count": 16,
   "id": "ffe321f8",
   "metadata": {},
   "outputs": [],
   "source": [
    "from sklearn.model_selection import train_test_split\n",
    "from sklearn.linear_model import LinearRegression\n",
    "from sklearn.metrics import r2_score\n",
    "from sklearn.metrics import mean_squared_error\n",
    "from sklearn.preprocessing import LabelEncoder,MinMaxScaler\n",
    "\n",
    "from sklearn.model_selection import GridSearchCV\n",
    "from sklearn.model_selection import RandomizedSearchCV\n",
    "from sklearn.metrics import mean_absolute_error\n",
    "\n",
    "audio_feats = tracks[['danceability','energy','key','loudness','mode','speechiness','acousticness','instrumentalness','liveness','tempo','duration_ms','time_signature','valence']].copy()\n",
    "\n",
    "X = audio_feats[['danceability','energy','key','loudness','mode','speechiness','acousticness','instrumentalness','liveness','tempo','duration_ms','time_signature']]\n",
    "y = audio_feats['valence']\n",
    "\n",
    "minmax = MinMaxScaler()\n",
    "#Normalizing X values\n",
    "X = minmax.fit_transform(X)\n",
    "                 \n",
    "X_train, X_test, y_train, y_test = train_test_split(X,y,test_size=0.2,random_state=5)\n",
    "feature_names = ['danceability','energy','key','loudness','mode','speechiness','acousticness','instrumentalness','liveness','tempo','duration_ms','time_signature']\n"
   ]
  },
  {
   "cell_type": "markdown",
   "id": "f3377bbe",
   "metadata": {},
   "source": [
    "* I am going to create two lists that are going to contain the results for r2score and absolute mean error of each machine learning method used here"
   ]
  },
  {
   "cell_type": "code",
   "execution_count": 17,
   "id": "18a93897",
   "metadata": {},
   "outputs": [],
   "source": [
    "r2scoreval = []\n",
    "abserrorval = []"
   ]
  },
  {
   "cell_type": "markdown",
   "id": "1892b379",
   "metadata": {},
   "source": [
    "### Linear regression"
   ]
  },
  {
   "cell_type": "markdown",
   "id": "1f5ca7ee",
   "metadata": {},
   "source": [
    "In order to find the best hyperparameters I am going to use GridSearchCV in order to test all the different values that the parameters can take. What GridSearchCV does is check how every possible parameter combination is performing on all the dataset. "
   ]
  },
  {
   "cell_type": "markdown",
   "id": "92593111",
   "metadata": {},
   "source": [
    "* I am also going to use 5 fold cross validation method\n",
    "\n",
    "* In the gridsearch_support dictionary I have the parameter names and the values that I want GridSearchCV to check"
   ]
  },
  {
   "cell_type": "code",
   "execution_count": 18,
   "id": "3a2aa882",
   "metadata": {},
   "outputs": [],
   "source": [
    "gridsearch_support = {'fit_intercept' : ['True','False']   }"
   ]
  },
  {
   "cell_type": "code",
   "execution_count": 19,
   "id": "cdb0f088",
   "metadata": {},
   "outputs": [
    {
     "name": "stdout",
     "output_type": "stream",
     "text": [
      "{'fit_intercept': 'True'}\n"
     ]
    }
   ],
   "source": [
    "regressor = LinearRegression()\n",
    "gs = GridSearchCV(estimator=regressor,param_grid=gridsearch_support,n_jobs=3,cv = 5,scoring=\"r2\")\n",
    "\n",
    "models = gs.fit(X_train,y_train)\n",
    "print(models.best_params_)"
   ]
  },
  {
   "cell_type": "markdown",
   "id": "ef0b7d3d",
   "metadata": {},
   "source": [
    "* After evaluating all possible parameter combinations, I pick the combination that did the best and perform the r2_score and mean absolute error metrics on it"
   ]
  },
  {
   "cell_type": "code",
   "execution_count": 20,
   "id": "3b2d5186",
   "metadata": {},
   "outputs": [
    {
     "name": "stdout",
     "output_type": "stream",
     "text": [
      "0.24126705905767187\n"
     ]
    }
   ],
   "source": [
    "bestmodellinear = models.best_estimator_\n",
    "y_pred = bestmodellinear.predict(X_test)\n",
    "score = r2_score(y_test,y_pred)\n",
    "print(score)"
   ]
  },
  {
   "cell_type": "code",
   "execution_count": 21,
   "id": "2a646e9a",
   "metadata": {
    "scrolled": true
   },
   "outputs": [
    {
     "name": "stdout",
     "output_type": "stream",
     "text": [
      "0.15124453011445543\n"
     ]
    }
   ],
   "source": [
    "error = mean_absolute_error(y_test,y_pred)\n",
    "print(error)"
   ]
  },
  {
   "cell_type": "markdown",
   "id": "0f330374",
   "metadata": {},
   "source": [
    "* Then I am going to get the coefficients that indicate how important was each feature and plot them"
   ]
  },
  {
   "cell_type": "code",
   "execution_count": 22,
   "id": "7606f3ee",
   "metadata": {},
   "outputs": [
    {
     "name": "stdout",
     "output_type": "stream",
     "text": [
      "Feature: danceability, Score: 0.34790\n",
      "Feature: energy, Score: 0.59499\n",
      "Feature: key, Score: 0.02293\n",
      "Feature: loudness, Score: -0.07810\n",
      "Feature: mode, Score: 0.00549\n",
      "Feature: speechiness, Score: -0.10606\n",
      "Feature: acousticness, Score: 0.17193\n",
      "Feature: instrumentalness, Score: -0.13008\n",
      "Feature: liveness, Score: 0.03997\n",
      "Feature: tempo, Score: 0.04556\n",
      "Feature: duration_ms, Score: -0.31952\n",
      "Feature: time_signature, Score: -0.00169\n"
     ]
    },
    {
     "data": {
      "image/png": "[encoded data removed]",
      "text/plain": [
       "<Figure size 1440x720 with 1 Axes>"
      ]
     },
     "metadata": {
      "needs_background": "light"
     },
     "output_type": "display_data"
    }
   ],
   "source": [
    "importancelinear = bestmodellinear.coef_\n",
    "\n",
    "# summarize feature importance\n",
    "for i,v in enumerate(importancelinear):\n",
    "\tprint('Feature: %s, Score: %.5f' % (feature_names[i],v))\n",
    "# plot feature importance\n",
    "fig = plt.figure(figsize = (20, 10))\n",
    "plt.bar(feature_names, importancelinear)\n",
    "plt.show()"
   ]
  },
  {
   "cell_type": "markdown",
   "id": "11125be8",
   "metadata": {},
   "source": [
    "* The size of the coefficients indicates how big is the impact of the independent variables on the dependent variable, while the sign shows the direction of the effect\n",
    "\n",
    "* In this we see that in linear regression the variables that are most impactful are danceability, energy and the duration"
   ]
  },
  {
   "cell_type": "markdown",
   "id": "dca67ae6",
   "metadata": {},
   "source": [
    "* Finally, I am putting the results in the lists in order to vizualize them in the end"
   ]
  },
  {
   "cell_type": "code",
   "execution_count": 23,
   "id": "7546f1de",
   "metadata": {
    "scrolled": true
   },
   "outputs": [],
   "source": [
    "r2scoreval.append(score)\n",
    "abserrorval.append(error)"
   ]
  },
  {
   "cell_type": "markdown",
   "id": "b3b25fc6",
   "metadata": {},
   "source": [
    "### XGBooster algorithm"
   ]
  },
  {
   "cell_type": "markdown",
   "id": "fa89de74",
   "metadata": {},
   "source": [
    "I am doing exactly the same thing for this method too, with the exception that I am going to use RandomizedSearchCV, because it is not as an exhaustive method(does not try out all the possible parameter values) and thus its quicker. The number of parameter combinations that are going to be checked are defined by n_iter which is going to be 10."
   ]
  },
  {
   "cell_type": "code",
   "execution_count": 24,
   "id": "241087b0",
   "metadata": {},
   "outputs": [],
   "source": [
    "import xgboost as xgb"
   ]
  },
  {
   "cell_type": "code",
   "execution_count": 25,
   "id": "fe64b1e0",
   "metadata": {},
   "outputs": [],
   "source": [
    "gridsearch_support = {'booster': ['gbtree', 'gblinear', 'dart'],\n",
    "                        'colsample_bytree': [0.6, 0.7, 0.8],\n",
    "                        'gamma': [0.0, 0.1, 0.2],\n",
    "                        'learning_rate': [0.01, 0.02, 0.03, 0.04],\n",
    "                        'max_depth': [3, 4, 5, 10],\n",
    "                        'min_child_weight': [1, 2, 3, 4, 5]}"
   ]
  },
  {
   "cell_type": "code",
   "execution_count": 26,
   "id": "92ab6aea",
   "metadata": {
    "scrolled": true
   },
   "outputs": [
    {
     "name": "stdout",
     "output_type": "stream",
     "text": [
      "{'min_child_weight': 2, 'max_depth': 10, 'learning_rate': 0.04, 'gamma': 0.2, 'colsample_bytree': 0.6, 'booster': 'dart'}\n"
     ]
    }
   ],
   "source": [
    "xgbregressor = xgb.XGBRegressor()\n",
    "gs = RandomizedSearchCV(estimator = xgbregressor, param_distributions = gridsearch_support, n_iter = 10, cv = 5, n_jobs = 3, scoring = \"r2\")\n",
    "models = gs.fit(X_train, y_train)\n",
    "print(models.best_params_)"
   ]
  },
  {
   "cell_type": "code",
   "execution_count": 27,
   "id": "f34d3d07",
   "metadata": {},
   "outputs": [
    {
     "name": "stdout",
     "output_type": "stream",
     "text": [
      "0.33770681565696137\n"
     ]
    }
   ],
   "source": [
    "bestmodelxgb = models.best_estimator_\n",
    "y_pred = bestmodelxgb.predict(X_test)\n",
    "score = r2_score(y_test,y_pred)\n",
    "print(score)"
   ]
  },
  {
   "cell_type": "code",
   "execution_count": 28,
   "id": "e41dbf5f",
   "metadata": {},
   "outputs": [
    {
     "name": "stdout",
     "output_type": "stream",
     "text": [
      "0.14093296415357492\n"
     ]
    }
   ],
   "source": [
    "error = mean_absolute_error(y_test,y_pred)\n",
    "print(error)"
   ]
  },
  {
   "cell_type": "markdown",
   "id": "e9deabf9",
   "metadata": {},
   "source": [
    "* Now I am going to get the coefficients that indicate how important was each feature and plot them"
   ]
  },
  {
   "cell_type": "code",
   "execution_count": 29,
   "id": "70c66b1b",
   "metadata": {
    "scrolled": true
   },
   "outputs": [
    {
     "name": "stdout",
     "output_type": "stream",
     "text": [
      "Feature: danceability, Score: 0.12514\n",
      "Feature: energy, Score: 0.19489\n",
      "Feature: key, Score: 0.05862\n",
      "Feature: loudness, Score: 0.09412\n",
      "Feature: mode, Score: 0.06235\n",
      "Feature: speechiness, Score: 0.06568\n",
      "Feature: acousticness, Score: 0.07638\n",
      "Feature: instrumentalness, Score: 0.06901\n",
      "Feature: liveness, Score: 0.07738\n",
      "Feature: tempo, Score: 0.06040\n",
      "Feature: duration_ms, Score: 0.06669\n",
      "Feature: time_signature, Score: 0.04933\n"
     ]
    },
    {
     "data": {
      "image/png": "[encoded data removed]",
      "text/plain": [
       "<Figure size 1440x720 with 1 Axes>"
      ]
     },
     "metadata": {
      "needs_background": "light"
     },
     "output_type": "display_data"
    }
   ],
   "source": [
    "importancexgb = bestmodelxgb.feature_importances_\n",
    "# summarize feature importance\n",
    "for i,v in enumerate(importancexgb):\n",
    "\tprint('Feature: %s, Score: %.5f' % (feature_names[i],v))\n",
    "# plot feature importance\n",
    "fig = plt.figure(figsize = (20, 10))\n",
    "plt.bar(feature_names, importancexgb)\n",
    "plt.show()"
   ]
  },
  {
   "cell_type": "markdown",
   "id": "984d13d3",
   "metadata": {},
   "source": [
    "* In XGBoost we see that danceability, energy and loudness impact more the valence"
   ]
  },
  {
   "cell_type": "code",
   "execution_count": 30,
   "id": "660ab65a",
   "metadata": {},
   "outputs": [],
   "source": [
    "r2scoreval.append(score)\n",
    "abserrorval.append(error)"
   ]
  },
  {
   "cell_type": "markdown",
   "id": "a83155e6",
   "metadata": {},
   "source": [
    "### Decision Tree regression"
   ]
  },
  {
   "cell_type": "markdown",
   "id": "30219d9d",
   "metadata": {},
   "source": [
    "I am again using RandomizedSearchCV with n_iter=10"
   ]
  },
  {
   "cell_type": "code",
   "execution_count": 31,
   "id": "e922bea6",
   "metadata": {},
   "outputs": [],
   "source": [
    "from sklearn.tree import DecisionTreeRegressor "
   ]
  },
  {
   "cell_type": "code",
   "execution_count": 32,
   "id": "926a2102",
   "metadata": {},
   "outputs": [],
   "source": [
    "gridsearch_support = { 'criterion' : ['squared_error','friedman_mse','absolute_error','poisson'],\n",
    "                      'splitter' : ['best','random'],\n",
    "                      'max_depth' : [5,10,20,50,100],\n",
    "                      'min_samples_split' : [2,3,4,5]\n",
    "}"
   ]
  },
  {
   "cell_type": "code",
   "execution_count": 33,
   "id": "8b9ea7aa",
   "metadata": {},
   "outputs": [
    {
     "name": "stdout",
     "output_type": "stream",
     "text": [
      "{'splitter': 'best', 'min_samples_split': 3, 'max_depth': 5, 'criterion': 'squared_error'}\n"
     ]
    }
   ],
   "source": [
    "randomd = DecisionTreeRegressor()\n",
    "\n",
    "gs = RandomizedSearchCV(estimator=randomd,param_distributions=gridsearch_support,n_iter=10,n_jobs=3,cv = 5,scoring=\"r2\")\n",
    "\n",
    "models = gs.fit(X_train,y_train)\n",
    "print(models.best_params_)"
   ]
  },
  {
   "cell_type": "code",
   "execution_count": 34,
   "id": "374fe4fa",
   "metadata": {},
   "outputs": [
    {
     "name": "stdout",
     "output_type": "stream",
     "text": [
      "0.1857945528200402\n"
     ]
    }
   ],
   "source": [
    "bestmodeldec = models.best_estimator_\n",
    "y_pred = bestmodeldec.predict(X_test)\n",
    "score = r2_score(y_test,y_pred)\n",
    "print(score)"
   ]
  },
  {
   "cell_type": "code",
   "execution_count": 35,
   "id": "c5718815",
   "metadata": {
    "scrolled": true
   },
   "outputs": [
    {
     "name": "stdout",
     "output_type": "stream",
     "text": [
      "0.15791388168951448\n"
     ]
    }
   ],
   "source": [
    "error = mean_absolute_error(y_test,y_pred)\n",
    "print(error)"
   ]
  },
  {
   "cell_type": "markdown",
   "id": "46a6b1f1",
   "metadata": {},
   "source": [
    "* Now I am going to get the coefficients that indicate how important was each feature and plot them"
   ]
  },
  {
   "cell_type": "code",
   "execution_count": 36,
   "id": "e74c467d",
   "metadata": {
    "scrolled": true
   },
   "outputs": [
    {
     "name": "stdout",
     "output_type": "stream",
     "text": [
      "Feature: danceability, Score: 0.22315\n",
      "Feature: energy, Score: 0.54178\n",
      "Feature: key, Score: 0.00000\n",
      "Feature: loudness, Score: 0.00839\n",
      "Feature: mode, Score: 0.00000\n",
      "Feature: speechiness, Score: 0.01317\n",
      "Feature: acousticness, Score: 0.03906\n",
      "Feature: instrumentalness, Score: 0.03491\n",
      "Feature: liveness, Score: 0.07146\n",
      "Feature: tempo, Score: 0.01353\n",
      "Feature: duration_ms, Score: 0.05457\n",
      "Feature: time_signature, Score: 0.00000\n"
     ]
    },
    {
     "data": {
      "image/png": "[encoded data removed]",
      "text/plain": [
       "<Figure size 1440x720 with 1 Axes>"
      ]
     },
     "metadata": {
      "needs_background": "light"
     },
     "output_type": "display_data"
    }
   ],
   "source": [
    "importancedt = bestmodeldec.feature_importances_\n",
    "# summarize feature importance\n",
    "for i,v in enumerate(importancedt):\n",
    "\tprint('Feature: %s, Score: %.5f' % (feature_names[i],v))\n",
    "# plot feature importance\n",
    "fig = plt.figure(figsize = (20, 10))\n",
    "plt.bar(feature_names, importancedt)\n",
    "plt.show()"
   ]
  },
  {
   "cell_type": "markdown",
   "id": "9ad242b5",
   "metadata": {},
   "source": [
    "* In Decision Trees danceability and energy are impacting valence"
   ]
  },
  {
   "cell_type": "code",
   "execution_count": 37,
   "id": "88daba13",
   "metadata": {},
   "outputs": [],
   "source": [
    "r2scoreval.append(score)\n",
    "abserrorval.append(error)"
   ]
  },
  {
   "cell_type": "markdown",
   "id": "bb85d882",
   "metadata": {},
   "source": [
    "### Random Forest regression"
   ]
  },
  {
   "cell_type": "markdown",
   "id": "928df725",
   "metadata": {},
   "source": [
    "I am again using RandomizedSearchCV with n_iter=10"
   ]
  },
  {
   "cell_type": "code",
   "execution_count": 38,
   "id": "50938b24",
   "metadata": {},
   "outputs": [],
   "source": [
    "gridsearch_support = { 'n_estimators' : [20,50,100],\n",
    "                      'criterion' : ['squared_error','friedman_mse','absolute_error','poisson'],\n",
    "                      'max_features' : ['auto','sqrt','log2'],\n",
    "                      'max_depth' : [5,10,20,50,100],\n",
    "                      'min_samples_split' : [2,3,4,5]\n",
    "}"
   ]
  },
  {
   "cell_type": "code",
   "execution_count": 39,
   "id": "414be5cd",
   "metadata": {},
   "outputs": [
    {
     "name": "stdout",
     "output_type": "stream",
     "text": [
      "{'n_estimators': 100, 'min_samples_split': 2, 'max_features': 'sqrt', 'max_depth': 50, 'criterion': 'absolute_error'}\n"
     ]
    }
   ],
   "source": [
    "from sklearn.ensemble import RandomForestRegressor \n",
    "from sklearn.tree import plot_tree\n",
    "\n",
    "randomf = RandomForestRegressor()\n",
    "\n",
    "gs = RandomizedSearchCV(estimator=randomf,param_distributions=gridsearch_support,n_iter=10,n_jobs=3,cv = 5,scoring=\"r2\")\n",
    "\n",
    "models = gs.fit(X_train,y_train)\n",
    "print(models.best_params_)"
   ]
  },
  {
   "cell_type": "code",
   "execution_count": 40,
   "id": "487c843f",
   "metadata": {},
   "outputs": [
    {
     "name": "stdout",
     "output_type": "stream",
     "text": [
      "0.38423797646392066\n"
     ]
    }
   ],
   "source": [
    "bestmodelrf = models.best_estimator_\n",
    "y_pred = bestmodelrf.predict(X_test)\n",
    "score = r2_score(y_test,y_pred)\n",
    "print(score)"
   ]
  },
  {
   "cell_type": "markdown",
   "id": "b2a48495",
   "metadata": {},
   "source": [
    "* Now I am going to get the coefficients that indicate how important was each feature and plot them"
   ]
  },
  {
   "cell_type": "code",
   "execution_count": 41,
   "id": "a7adc678",
   "metadata": {},
   "outputs": [
    {
     "name": "stdout",
     "output_type": "stream",
     "text": [
      "Feature: danceability, Score: 0.12522\n",
      "Feature: energy, Score: 0.14697\n",
      "Feature: key, Score: 0.05471\n",
      "Feature: loudness, Score: 0.11326\n",
      "Feature: mode, Score: 0.01478\n",
      "Feature: speechiness, Score: 0.09533\n",
      "Feature: acousticness, Score: 0.10098\n",
      "Feature: instrumentalness, Score: 0.05030\n",
      "Feature: liveness, Score: 0.09774\n",
      "Feature: tempo, Score: 0.09538\n",
      "Feature: duration_ms, Score: 0.09797\n",
      "Feature: time_signature, Score: 0.00736\n"
     ]
    },
    {
     "data": {
      "image/png": "[encoded data removed]",
      "text/plain": [
       "<Figure size 1440x720 with 1 Axes>"
      ]
     },
     "metadata": {
      "needs_background": "light"
     },
     "output_type": "display_data"
    }
   ],
   "source": [
    "importancerf = bestmodelrf.feature_importances_\n",
    "# summarize feature importance\n",
    "for i,v in enumerate(importancerf):\n",
    "\tprint('Feature: %s, Score: %.5f' % (feature_names[i],v))\n",
    "# plot feature importance\n",
    "fig = plt.figure(figsize = (20, 10))\n",
    "plt.bar(feature_names, importancerf)\n",
    "plt.show()"
   ]
  },
  {
   "cell_type": "markdown",
   "id": "9149a4ca",
   "metadata": {},
   "source": [
    "* In Random Forest danceability and energy are again the main influence of the valence variable"
   ]
  },
  {
   "cell_type": "code",
   "execution_count": 42,
   "id": "0f2f84a4",
   "metadata": {},
   "outputs": [
    {
     "name": "stdout",
     "output_type": "stream",
     "text": [
      "0.13244808897694524\n"
     ]
    }
   ],
   "source": [
    "error = mean_absolute_error(y_test,y_pred)\n",
    "print(error)"
   ]
  },
  {
   "cell_type": "code",
   "execution_count": 43,
   "id": "92a3c7b0",
   "metadata": {},
   "outputs": [],
   "source": [
    "r2scoreval.append(score)\n",
    "abserrorval.append(error)"
   ]
  },
  {
   "cell_type": "markdown",
   "id": "f0e9d2ca",
   "metadata": {},
   "source": [
    "### Neural Network -- Multi Layered Perceptron"
   ]
  },
  {
   "cell_type": "markdown",
   "id": "66f273c3",
   "metadata": {},
   "source": [
    "I am going to create two Multi Layered Percepton Networks"
   ]
  },
  {
   "cell_type": "code",
   "execution_count": 44,
   "id": "9a17b872",
   "metadata": {},
   "outputs": [],
   "source": [
    "from sklearn.neural_network import MLPRegressor"
   ]
  },
  {
   "cell_type": "markdown",
   "id": "b5c2b4b0",
   "metadata": {},
   "source": [
    "* The first one is going to use an already created library of sk_learn\n",
    "\n",
    "* I am going to perform RandomizedSearchCV on it in order to find the best hyperparameters\n",
    "\n",
    "* I am also going to try different number of hidden layers with different neurons in each hidden layer to see which one is better"
   ]
  },
  {
   "cell_type": "code",
   "execution_count": 45,
   "id": "dd3c4e68",
   "metadata": {},
   "outputs": [],
   "source": [
    "gridsearch_support = { 'activation' : ['identity','logistic','tanh','relu'],\n",
    "                      'solver' : ['lbfgs','sgd','adam'],\n",
    "                      'learning_rate' : ['constant','invscaling','adaptive'],\n",
    "                      'hidden_layer_sizes' : [(100,100,100,),(200,200,200,),(300,300,300),(100,100,100,100),(200,200,200,200),(300,300,300,300),]\n",
    "}"
   ]
  },
  {
   "cell_type": "code",
   "execution_count": 46,
   "id": "64c5d73f",
   "metadata": {},
   "outputs": [
    {
     "name": "stdout",
     "output_type": "stream",
     "text": [
      "{'solver': 'lbfgs', 'learning_rate': 'adaptive', 'hidden_layer_sizes': (100, 100, 100, 100), 'activation': 'tanh'}\n"
     ]
    }
   ],
   "source": [
    "neuralnetwork = MLPRegressor()\n",
    "\n",
    "gs = RandomizedSearchCV(estimator=neuralnetwork,param_distributions=gridsearch_support,n_iter=10,n_jobs=3,cv = 5,scoring=\"r2\")\n",
    "\n",
    "models = gs.fit(X_train,y_train)\n",
    "print(models.best_params_)"
   ]
  },
  {
   "cell_type": "code",
   "execution_count": 47,
   "id": "a64b728a",
   "metadata": {},
   "outputs": [
    {
     "name": "stdout",
     "output_type": "stream",
     "text": [
      "0.24848044294193905\n"
     ]
    }
   ],
   "source": [
    "bestmodelmlp = models.best_estimator_\n",
    "y_pred = bestmodelmlp.predict(X_test)\n",
    "score = r2_score(y_test,y_pred)\n",
    "print(score)"
   ]
  },
  {
   "cell_type": "code",
   "execution_count": 48,
   "id": "2abe98b8",
   "metadata": {
    "scrolled": true
   },
   "outputs": [
    {
     "name": "stdout",
     "output_type": "stream",
     "text": [
      "0.15062803650811551\n"
     ]
    }
   ],
   "source": [
    "error = mean_absolute_error(y_test,y_pred)\n",
    "print(error)"
   ]
  },
  {
   "cell_type": "code",
   "execution_count": 49,
   "id": "a8a9d86b",
   "metadata": {},
   "outputs": [],
   "source": [
    "r2scoreval.append(score)\n",
    "abserrorval.append(error)"
   ]
  },
  {
   "cell_type": "markdown",
   "id": "bfd00ffd",
   "metadata": {},
   "source": [
    "* According to an answer to this question in https://stackoverflow.com/questions/44460937/most-important-features-in-mlpclassifier-in-sklearn there is a lack of interpertability of NN models when it comes to feature importance"
   ]
  },
  {
   "cell_type": "markdown",
   "id": "b4e8920d",
   "metadata": {},
   "source": [
    "### Plotting\n",
    "\n",
    "* Now I am going to plot the  r2_score and mean_absolute_error bar charts in order to see which method performed better."
   ]
  },
  {
   "cell_type": "markdown",
   "id": "f3fff8a4",
   "metadata": {},
   "source": [
    "* As a small sidenote, I had also implemented the Support Vector method, but it was neither good at predicting valence, nor it was possible to get its feature importance(except for the linear kernel). That is why I decided to not keep it and proceed with the other methods."
   ]
  },
  {
   "cell_type": "code",
   "execution_count": 50,
   "id": "808cd9a9",
   "metadata": {},
   "outputs": [],
   "source": [
    "machinelearningmethodnames=['Linear','XGBoost','Decision Tree','Random Forest','MLP Network']"
   ]
  },
  {
   "cell_type": "code",
   "execution_count": 51,
   "id": "cdbfccf8",
   "metadata": {},
   "outputs": [
    {
     "data": {
      "image/png": "[encoded data removed]",
      "text/plain": [
       "<Figure size 720x720 with 1 Axes>"
      ]
     },
     "metadata": {
      "needs_background": "light"
     },
     "output_type": "display_data"
    }
   ],
   "source": [
    "fig = plt.figure(figsize = (10, 10))\n",
    " \n",
    " \n",
    "# creating the absolute error bar plot \n",
    "plt.bar( machinelearningmethodnames, abserrorval,color ='blue',\n",
    "        width = 0.4)\n",
    " \n",
    "plt.xlabel(\"Machine Learning methods\")\n",
    "plt.ylabel(\"Absolute Error\")\n",
    "plt.title(\"Machine Learning methods Mean Absolute Error Barchart\")\n",
    "plt.show()"
   ]
  },
  {
   "cell_type": "code",
   "execution_count": 52,
   "id": "74a2c76c",
   "metadata": {},
   "outputs": [
    {
     "data": {
      "image/png": "[encoded data removed]",
      "text/plain": [
       "<Figure size 720x720 with 1 Axes>"
      ]
     },
     "metadata": {
      "needs_background": "light"
     },
     "output_type": "display_data"
    }
   ],
   "source": [
    "fig = plt.figure(figsize = (10, 10))\n",
    " \n",
    "# creating the r2_score bar plot \n",
    "plt.bar( machinelearningmethodnames, r2scoreval,color ='blue',\n",
    "        width = 0.4)\n",
    " \n",
    "\n",
    "plt.xlabel(\"Machine Learning methods\")\n",
    "plt.ylabel(\"R2 Score\")\n",
    "plt.title(\"Machine Learning methods R2 Score Barchart\")\n",
    "plt.show()"
   ]
  },
  {
   "cell_type": "markdown",
   "id": "49e7f25d",
   "metadata": {},
   "source": [
    "* Now I am going to plot the feature importances of all the methods that can show us their feature importance"
   ]
  },
  {
   "cell_type": "code",
   "execution_count": 53,
   "id": "0ad384a3",
   "metadata": {},
   "outputs": [
    {
     "data": {
      "image/png": "[encoded data removed]",
      "text/plain": [
       "<Figure size 1440x720 with 1 Axes>"
      ]
     },
     "metadata": {
      "needs_background": "light"
     },
     "output_type": "display_data"
    }
   ],
   "source": [
    "fig = plt.figure(figsize = (20, 10))\n",
    "N=12 #Number of features\n",
    "ind = np.arange(N) \n",
    "width = 0.20\n",
    "\n",
    "barlinear = plt.bar(ind, importancelinear, width, color = 'r')\n",
    "  \n",
    "\n",
    "barxgb = plt.bar(ind+width, importancexgb, width, color='g')\n",
    "  \n",
    "\n",
    "bardt = plt.bar(ind+width*2, importancedt, width, color = 'b')\n",
    "\n",
    "\n",
    "barrf = plt.bar(ind+width*3, importancerf, width, color = 'y')\n",
    "\n",
    "plt.xlabel(\"Feature Name\")\n",
    "plt.ylabel(\"Feature Importance\")\n",
    "plt.title(\"Feature Importance across all Machine Learning Methods\")\n",
    "\n",
    "plt.xticks(ind+width, feature_names)\n",
    "plt.legend((barlinear,barxgb,bardt,barrf),('Linear Regression','XGBoost','Decision Tree','Random Forest'))\n",
    "plt.show()"
   ]
  },
  {
   "cell_type": "markdown",
   "id": "516e3649",
   "metadata": {},
   "source": [
    "### Conculsion"
   ]
  },
  {
   "cell_type": "markdown",
   "id": "7a5ca383",
   "metadata": {},
   "source": [
    "After using inferential statistic methods and Machine learning methods we can reach a conclusion about the features that severely impact the valence variable:\n",
    "\n",
    "* The two variables that are across all methods(statistical and machine learning) consistenly impactful are Danceability and Energy\n",
    "\n",
    "* This is especially evident in the Random Forest Regressor method, which yields the best results"
   ]
  },
  {
   "cell_type": "markdown",
   "id": "6d047903",
   "metadata": {},
   "source": [
    "Comparison of best non connectivist approach with neural network approach:\n",
    "\n",
    "* The best methods that we have are the Random Forest Regressor, the XGBoost and the MLP network\n",
    "\n",
    "* Compared to the best non connectivist approaches the neural network is a bit better than the XGBoost method and a little bit worse than the Random Forest Regressor\n",
    "\n",
    "* Nonetheless, no method is really good at predicting the valence dependent variable"
   ]
  },
  {
   "cell_type": "markdown",
   "metadata": {},
   "source": [
    "LETS TEST THE TEST DATASET ON THE BEST METHOD THAT WE HAVE WHICH IS RANDOM FOREST REGRESSOR:"
   ]
  },
  {
   "cell_type": "markdown",
   "metadata": {},
   "source": [
    "* I am going to load the songs that we are going to test on our test dataset"
   ]
  },
  {
   "cell_type": "code",
   "execution_count": 54,
   "metadata": {},
   "outputs": [
    {
     "data": {
      "text/html": [
       "<div>\n",
       "<style scoped>\n",
       "    .dataframe tbody tr th:only-of-type {\n",
       "        vertical-align: middle;\n",
       "    }\n",
       "\n",
       "    .dataframe tbody tr th {\n",
       "        vertical-align: top;\n",
       "    }\n",
       "\n",
       "    .dataframe thead th {\n",
       "        text-align: right;\n",
       "    }\n",
       "</style>\n",
       "<table border=\"1\" class=\"dataframe\">\n",
       "  <thead>\n",
       "    <tr style=\"text-align: right;\">\n",
       "      <th></th>\n",
       "      <th>danceability</th>\n",
       "      <th>energy</th>\n",
       "      <th>key</th>\n",
       "      <th>loudness</th>\n",
       "      <th>mode</th>\n",
       "      <th>speechiness</th>\n",
       "      <th>acousticness</th>\n",
       "      <th>instrumentalness</th>\n",
       "      <th>liveness</th>\n",
       "      <th>valence</th>\n",
       "      <th>tempo</th>\n",
       "      <th>type</th>\n",
       "      <th>id</th>\n",
       "      <th>uri</th>\n",
       "      <th>track_href</th>\n",
       "      <th>analysis_url</th>\n",
       "      <th>duration_ms</th>\n",
       "      <th>time_signature</th>\n",
       "    </tr>\n",
       "  </thead>\n",
       "  <tbody>\n",
       "    <tr>\n",
       "      <th>0</th>\n",
       "      <td>0.585</td>\n",
       "      <td>0.436</td>\n",
       "      <td>10</td>\n",
       "      <td>-8.761</td>\n",
       "      <td>1</td>\n",
       "      <td>0.0601</td>\n",
       "      <td>0.72100</td>\n",
       "      <td>0.000013</td>\n",
       "      <td>0.1050</td>\n",
       "      <td>0.132</td>\n",
       "      <td>143.874</td>\n",
       "      <td>audio_features</td>\n",
       "      <td>7lPN2DXiMsVn7XUKtOW1CS</td>\n",
       "      <td>spotify:track:7lPN2DXiMsVn7XUKtOW1CS</td>\n",
       "      <td>https://api.spotify.com/v1/tracks/7lPN2DXiMsVn...</td>\n",
       "      <td>https://api.spotify.com/v1/audio-analysis/7lPN...</td>\n",
       "      <td>242014</td>\n",
       "      <td>4</td>\n",
       "    </tr>\n",
       "    <tr>\n",
       "      <th>0</th>\n",
       "      <td>0.680</td>\n",
       "      <td>0.826</td>\n",
       "      <td>0</td>\n",
       "      <td>-5.487</td>\n",
       "      <td>1</td>\n",
       "      <td>0.0309</td>\n",
       "      <td>0.02120</td>\n",
       "      <td>0.000012</td>\n",
       "      <td>0.5430</td>\n",
       "      <td>0.644</td>\n",
       "      <td>118.051</td>\n",
       "      <td>audio_features</td>\n",
       "      <td>5QO79kh1waicV47BqGRL3g</td>\n",
       "      <td>spotify:track:5QO79kh1waicV47BqGRL3g</td>\n",
       "      <td>https://api.spotify.com/v1/tracks/5QO79kh1waic...</td>\n",
       "      <td>https://api.spotify.com/v1/audio-analysis/5QO7...</td>\n",
       "      <td>215627</td>\n",
       "      <td>4</td>\n",
       "    </tr>\n",
       "    <tr>\n",
       "      <th>0</th>\n",
       "      <td>0.514</td>\n",
       "      <td>0.730</td>\n",
       "      <td>1</td>\n",
       "      <td>-5.934</td>\n",
       "      <td>1</td>\n",
       "      <td>0.0598</td>\n",
       "      <td>0.00146</td>\n",
       "      <td>0.000095</td>\n",
       "      <td>0.0897</td>\n",
       "      <td>0.334</td>\n",
       "      <td>171.005</td>\n",
       "      <td>audio_features</td>\n",
       "      <td>0VjIjW4GlUZAMYd2vXMi3b</td>\n",
       "      <td>spotify:track:0VjIjW4GlUZAMYd2vXMi3b</td>\n",
       "      <td>https://api.spotify.com/v1/tracks/0VjIjW4GlUZA...</td>\n",
       "      <td>https://api.spotify.com/v1/audio-analysis/0VjI...</td>\n",
       "      <td>200040</td>\n",
       "      <td>4</td>\n",
       "    </tr>\n",
       "    <tr>\n",
       "      <th>0</th>\n",
       "      <td>0.731</td>\n",
       "      <td>0.573</td>\n",
       "      <td>4</td>\n",
       "      <td>-10.059</td>\n",
       "      <td>0</td>\n",
       "      <td>0.0544</td>\n",
       "      <td>0.40100</td>\n",
       "      <td>0.000052</td>\n",
       "      <td>0.1130</td>\n",
       "      <td>0.145</td>\n",
       "      <td>109.928</td>\n",
       "      <td>audio_features</td>\n",
       "      <td>4MzXwWMhyBbmu6hOcLVD49</td>\n",
       "      <td>spotify:track:4MzXwWMhyBbmu6hOcLVD49</td>\n",
       "      <td>https://api.spotify.com/v1/tracks/4MzXwWMhyBbm...</td>\n",
       "      <td>https://api.spotify.com/v1/audio-analysis/4MzX...</td>\n",
       "      <td>205090</td>\n",
       "      <td>4</td>\n",
       "    </tr>\n",
       "    <tr>\n",
       "      <th>0</th>\n",
       "      <td>0.907</td>\n",
       "      <td>0.393</td>\n",
       "      <td>4</td>\n",
       "      <td>-7.636</td>\n",
       "      <td>0</td>\n",
       "      <td>0.0539</td>\n",
       "      <td>0.45100</td>\n",
       "      <td>0.000001</td>\n",
       "      <td>0.1350</td>\n",
       "      <td>0.202</td>\n",
       "      <td>104.949</td>\n",
       "      <td>audio_features</td>\n",
       "      <td>5Kskr9LcNYa0tpt5f0ZEJx</td>\n",
       "      <td>spotify:track:5Kskr9LcNYa0tpt5f0ZEJx</td>\n",
       "      <td>https://api.spotify.com/v1/tracks/5Kskr9LcNYa0...</td>\n",
       "      <td>https://api.spotify.com/v1/audio-analysis/5Ksk...</td>\n",
       "      <td>205458</td>\n",
       "      <td>4</td>\n",
       "    </tr>\n",
       "    <tr>\n",
       "      <th>...</th>\n",
       "      <td>...</td>\n",
       "      <td>...</td>\n",
       "      <td>...</td>\n",
       "      <td>...</td>\n",
       "      <td>...</td>\n",
       "      <td>...</td>\n",
       "      <td>...</td>\n",
       "      <td>...</td>\n",
       "      <td>...</td>\n",
       "      <td>...</td>\n",
       "      <td>...</td>\n",
       "      <td>...</td>\n",
       "      <td>...</td>\n",
       "      <td>...</td>\n",
       "      <td>...</td>\n",
       "      <td>...</td>\n",
       "      <td>...</td>\n",
       "      <td>...</td>\n",
       "    </tr>\n",
       "    <tr>\n",
       "      <th>0</th>\n",
       "      <td>0.596</td>\n",
       "      <td>0.650</td>\n",
       "      <td>9</td>\n",
       "      <td>-5.167</td>\n",
       "      <td>1</td>\n",
       "      <td>0.3370</td>\n",
       "      <td>0.13800</td>\n",
       "      <td>0.000000</td>\n",
       "      <td>0.1400</td>\n",
       "      <td>0.188</td>\n",
       "      <td>133.997</td>\n",
       "      <td>audio_features</td>\n",
       "      <td>4lUmnwRybYH7mMzf16xB0y</td>\n",
       "      <td>spotify:track:4lUmnwRybYH7mMzf16xB0y</td>\n",
       "      <td>https://api.spotify.com/v1/tracks/4lUmnwRybYH7...</td>\n",
       "      <td>https://api.spotify.com/v1/audio-analysis/4lUm...</td>\n",
       "      <td>257428</td>\n",
       "      <td>4</td>\n",
       "    </tr>\n",
       "    <tr>\n",
       "      <th>0</th>\n",
       "      <td>0.588</td>\n",
       "      <td>0.850</td>\n",
       "      <td>4</td>\n",
       "      <td>-6.431</td>\n",
       "      <td>1</td>\n",
       "      <td>0.0318</td>\n",
       "      <td>0.16800</td>\n",
       "      <td>0.002020</td>\n",
       "      <td>0.0465</td>\n",
       "      <td>0.768</td>\n",
       "      <td>93.003</td>\n",
       "      <td>audio_features</td>\n",
       "      <td>1fzf9Aad4y1RWrmwosAK5y</td>\n",
       "      <td>spotify:track:1fzf9Aad4y1RWrmwosAK5y</td>\n",
       "      <td>https://api.spotify.com/v1/tracks/1fzf9Aad4y1R...</td>\n",
       "      <td>https://api.spotify.com/v1/audio-analysis/1fzf...</td>\n",
       "      <td>187310</td>\n",
       "      <td>4</td>\n",
       "    </tr>\n",
       "    <tr>\n",
       "      <th>0</th>\n",
       "      <td>0.754</td>\n",
       "      <td>0.660</td>\n",
       "      <td>0</td>\n",
       "      <td>-6.811</td>\n",
       "      <td>1</td>\n",
       "      <td>0.2670</td>\n",
       "      <td>0.17900</td>\n",
       "      <td>0.000000</td>\n",
       "      <td>0.1940</td>\n",
       "      <td>0.316</td>\n",
       "      <td>83.000</td>\n",
       "      <td>audio_features</td>\n",
       "      <td>3E3pb3qH11iny6TFDJvsg5</td>\n",
       "      <td>spotify:track:3E3pb3qH11iny6TFDJvsg5</td>\n",
       "      <td>https://api.spotify.com/v1/tracks/3E3pb3qH11in...</td>\n",
       "      <td>https://api.spotify.com/v1/audio-analysis/3E3p...</td>\n",
       "      <td>209299</td>\n",
       "      <td>4</td>\n",
       "    </tr>\n",
       "    <tr>\n",
       "      <th>0</th>\n",
       "      <td>0.584</td>\n",
       "      <td>0.836</td>\n",
       "      <td>0</td>\n",
       "      <td>-4.925</td>\n",
       "      <td>1</td>\n",
       "      <td>0.0790</td>\n",
       "      <td>0.05580</td>\n",
       "      <td>0.000000</td>\n",
       "      <td>0.0663</td>\n",
       "      <td>0.484</td>\n",
       "      <td>104.973</td>\n",
       "      <td>audio_features</td>\n",
       "      <td>3yTkoTuiKRGL2VAlQd7xsC</td>\n",
       "      <td>spotify:track:3yTkoTuiKRGL2VAlQd7xsC</td>\n",
       "      <td>https://api.spotify.com/v1/tracks/3yTkoTuiKRGL...</td>\n",
       "      <td>https://api.spotify.com/v1/audio-analysis/3yTk...</td>\n",
       "      <td>202204</td>\n",
       "      <td>4</td>\n",
       "    </tr>\n",
       "    <tr>\n",
       "      <th>0</th>\n",
       "      <td>0.331</td>\n",
       "      <td>0.450</td>\n",
       "      <td>10</td>\n",
       "      <td>-5.362</td>\n",
       "      <td>1</td>\n",
       "      <td>0.0340</td>\n",
       "      <td>0.36500</td>\n",
       "      <td>0.004640</td>\n",
       "      <td>0.2200</td>\n",
       "      <td>0.180</td>\n",
       "      <td>123.829</td>\n",
       "      <td>audio_features</td>\n",
       "      <td>4JE6agBLHGA5TaF6FlqfBD</td>\n",
       "      <td>spotify:track:4JE6agBLHGA5TaF6FlqfBD</td>\n",
       "      <td>https://api.spotify.com/v1/tracks/4JE6agBLHGA5...</td>\n",
       "      <td>https://api.spotify.com/v1/audio-analysis/4JE6...</td>\n",
       "      <td>218755</td>\n",
       "      <td>4</td>\n",
       "    </tr>\n",
       "  </tbody>\n",
       "</table>\n",
       "<p>1162 rows × 18 columns</p>\n",
       "</div>"
      ],
      "text/plain": [
       "    danceability  energy  key  loudness  mode  speechiness  acousticness  \\\n",
       "0          0.585   0.436   10    -8.761     1       0.0601       0.72100   \n",
       "0          0.680   0.826    0    -5.487     1       0.0309       0.02120   \n",
       "0          0.514   0.730    1    -5.934     1       0.0598       0.00146   \n",
       "0          0.731   0.573    4   -10.059     0       0.0544       0.40100   \n",
       "0          0.907   0.393    4    -7.636     0       0.0539       0.45100   \n",
       "..           ...     ...  ...       ...   ...          ...           ...   \n",
       "0          0.596   0.650    9    -5.167     1       0.3370       0.13800   \n",
       "0          0.588   0.850    4    -6.431     1       0.0318       0.16800   \n",
       "0          0.754   0.660    0    -6.811     1       0.2670       0.17900   \n",
       "0          0.584   0.836    0    -4.925     1       0.0790       0.05580   \n",
       "0          0.331   0.450   10    -5.362     1       0.0340       0.36500   \n",
       "\n",
       "    instrumentalness  liveness  valence    tempo            type  \\\n",
       "0           0.000013    0.1050    0.132  143.874  audio_features   \n",
       "0           0.000012    0.5430    0.644  118.051  audio_features   \n",
       "0           0.000095    0.0897    0.334  171.005  audio_features   \n",
       "0           0.000052    0.1130    0.145  109.928  audio_features   \n",
       "0           0.000001    0.1350    0.202  104.949  audio_features   \n",
       "..               ...       ...      ...      ...             ...   \n",
       "0           0.000000    0.1400    0.188  133.997  audio_features   \n",
       "0           0.002020    0.0465    0.768   93.003  audio_features   \n",
       "0           0.000000    0.1940    0.316   83.000  audio_features   \n",
       "0           0.000000    0.0663    0.484  104.973  audio_features   \n",
       "0           0.004640    0.2200    0.180  123.829  audio_features   \n",
       "\n",
       "                        id                                   uri  \\\n",
       "0   7lPN2DXiMsVn7XUKtOW1CS  spotify:track:7lPN2DXiMsVn7XUKtOW1CS   \n",
       "0   5QO79kh1waicV47BqGRL3g  spotify:track:5QO79kh1waicV47BqGRL3g   \n",
       "0   0VjIjW4GlUZAMYd2vXMi3b  spotify:track:0VjIjW4GlUZAMYd2vXMi3b   \n",
       "0   4MzXwWMhyBbmu6hOcLVD49  spotify:track:4MzXwWMhyBbmu6hOcLVD49   \n",
       "0   5Kskr9LcNYa0tpt5f0ZEJx  spotify:track:5Kskr9LcNYa0tpt5f0ZEJx   \n",
       "..                     ...                                   ...   \n",
       "0   4lUmnwRybYH7mMzf16xB0y  spotify:track:4lUmnwRybYH7mMzf16xB0y   \n",
       "0   1fzf9Aad4y1RWrmwosAK5y  spotify:track:1fzf9Aad4y1RWrmwosAK5y   \n",
       "0   3E3pb3qH11iny6TFDJvsg5  spotify:track:3E3pb3qH11iny6TFDJvsg5   \n",
       "0   3yTkoTuiKRGL2VAlQd7xsC  spotify:track:3yTkoTuiKRGL2VAlQd7xsC   \n",
       "0   4JE6agBLHGA5TaF6FlqfBD  spotify:track:4JE6agBLHGA5TaF6FlqfBD   \n",
       "\n",
       "                                           track_href  \\\n",
       "0   https://api.spotify.com/v1/tracks/7lPN2DXiMsVn...   \n",
       "0   https://api.spotify.com/v1/tracks/5QO79kh1waic...   \n",
       "0   https://api.spotify.com/v1/tracks/0VjIjW4GlUZA...   \n",
       "0   https://api.spotify.com/v1/tracks/4MzXwWMhyBbm...   \n",
       "0   https://api.spotify.com/v1/tracks/5Kskr9LcNYa0...   \n",
       "..                                                ...   \n",
       "0   https://api.spotify.com/v1/tracks/4lUmnwRybYH7...   \n",
       "0   https://api.spotify.com/v1/tracks/1fzf9Aad4y1R...   \n",
       "0   https://api.spotify.com/v1/tracks/3E3pb3qH11in...   \n",
       "0   https://api.spotify.com/v1/tracks/3yTkoTuiKRGL...   \n",
       "0   https://api.spotify.com/v1/tracks/4JE6agBLHGA5...   \n",
       "\n",
       "                                         analysis_url  duration_ms  \\\n",
       "0   https://api.spotify.com/v1/audio-analysis/7lPN...       242014   \n",
       "0   https://api.spotify.com/v1/audio-analysis/5QO7...       215627   \n",
       "0   https://api.spotify.com/v1/audio-analysis/0VjI...       200040   \n",
       "0   https://api.spotify.com/v1/audio-analysis/4MzX...       205090   \n",
       "0   https://api.spotify.com/v1/audio-analysis/5Ksk...       205458   \n",
       "..                                                ...          ...   \n",
       "0   https://api.spotify.com/v1/audio-analysis/4lUm...       257428   \n",
       "0   https://api.spotify.com/v1/audio-analysis/1fzf...       187310   \n",
       "0   https://api.spotify.com/v1/audio-analysis/3E3p...       209299   \n",
       "0   https://api.spotify.com/v1/audio-analysis/3yTk...       202204   \n",
       "0   https://api.spotify.com/v1/audio-analysis/4JE6...       218755   \n",
       "\n",
       "    time_signature  \n",
       "0                4  \n",
       "0                4  \n",
       "0                4  \n",
       "0                4  \n",
       "0                4  \n",
       "..             ...  \n",
       "0                4  \n",
       "0                4  \n",
       "0                4  \n",
       "0                4  \n",
       "0                4  \n",
       "\n",
       "[1162 rows x 18 columns]"
      ]
     },
     "execution_count": 54,
     "metadata": {},
     "output_type": "execute_result"
    }
   ],
   "source": [
    "songs = pd.read_csv('spotify_ids.txt', header=None)\n",
    "songs = songs.iloc[:,0]\n",
    "test_data = pd.DataFrame()\n",
    "for song in songs:\n",
    "    test_data = test_data.append(sp.audio_features(song))\n",
    "test_data"
   ]
  },
  {
   "cell_type": "markdown",
   "metadata": {},
   "source": [
    "* I am going to keep only the features that we need and place the independent variables on the X dataframe and the valence in the y dataframe\n",
    "\n",
    "* Then I am going to scale the independent variables"
   ]
  },
  {
   "cell_type": "code",
   "execution_count": 55,
   "metadata": {},
   "outputs": [],
   "source": [
    "audio_feats = test_data[['danceability','energy','key','loudness','mode','speechiness','acousticness','instrumentalness','liveness','tempo','duration_ms','time_signature','valence']].copy()\n",
    "\n",
    "X = audio_feats[['danceability','energy','key','loudness','mode','speechiness','acousticness','instrumentalness','liveness','tempo','duration_ms','time_signature']]\n",
    "y = audio_feats['valence']\n",
    "\n",
    "X = minmax.fit_transform(X)\n"
   ]
  },
  {
   "cell_type": "markdown",
   "metadata": {},
   "source": [
    "* Now I am going to check how the RandomForestRegressor method performs on the test dataset"
   ]
  },
  {
   "cell_type": "code",
   "execution_count": 56,
   "metadata": {},
   "outputs": [
    {
     "name": "stdout",
     "output_type": "stream",
     "text": [
      "0.32610984232122286\n"
     ]
    }
   ],
   "source": [
    "y_pred = bestmodelrf.predict(X)\n",
    "score = r2_score(y,y_pred)\n",
    "print(score)\n"
   ]
  },
  {
   "cell_type": "code",
   "execution_count": 57,
   "metadata": {},
   "outputs": [
    {
     "name": "stdout",
     "output_type": "stream",
     "text": [
      "0.15733954130808947\n"
     ]
    }
   ],
   "source": [
    "error = mean_absolute_error(y,y_pred)\n",
    "print(error)"
   ]
  },
  {
   "cell_type": "markdown",
   "metadata": {},
   "source": [
    "We see that the mean absolute error got 0.02 worse in the test dataset"
   ]
  },
  {
   "cell_type": "markdown",
   "metadata": {},
   "source": [
    "* Here are the important features of RandomForestRegressor\n",
    "\n",
    "* The most impactful ones are the energy and danceability variables"
   ]
  },
  {
   "cell_type": "code",
   "execution_count": 58,
   "metadata": {},
   "outputs": [
    {
     "name": "stdout",
     "output_type": "stream",
     "text": [
      "Feature: danceability, Score: 0.12522\n",
      "Feature: energy, Score: 0.14697\n",
      "Feature: key, Score: 0.05471\n",
      "Feature: loudness, Score: 0.11326\n",
      "Feature: mode, Score: 0.01478\n",
      "Feature: speechiness, Score: 0.09533\n",
      "Feature: acousticness, Score: 0.10098\n",
      "Feature: instrumentalness, Score: 0.05030\n",
      "Feature: liveness, Score: 0.09774\n",
      "Feature: tempo, Score: 0.09538\n",
      "Feature: duration_ms, Score: 0.09797\n",
      "Feature: time_signature, Score: 0.00736\n"
     ]
    },
    {
     "data": {
      "image/png": "[encoded data removed]",
      "text/plain": [
       "<Figure size 1440x720 with 1 Axes>"
      ]
     },
     "metadata": {
      "needs_background": "light"
     },
     "output_type": "display_data"
    }
   ],
   "source": [
    "importancerf = bestmodelrf.feature_importances_\n",
    "# summarize feature importance\n",
    "for i,v in enumerate(importancerf):\n",
    "\tprint('Feature: %s, Score: %.5f' % (feature_names[i],v))\n",
    "# plot feature importance\n",
    "fig = plt.figure(figsize = (20, 10))\n",
    "plt.bar(feature_names, importancerf)\n",
    "plt.show()"
   ]
  }
 ],
 "metadata": {
  "interpreter": {
   "hash": "04a2e84407f706158e91e5024dfb551c21a98b8e7a9e8dac868bcb9c1c30b396"
  },
  "kernelspec": {
   "display_name": "Python 3.7.4 64-bit",
   "name": "python3"
  },
  "language_info": {
   "codemirror_mode": {
    "name": "ipython",
    "version": 3
   },
   "file_extension": ".py",
   "mimetype": "text/x-python",
   "name": "python",
   "nbconvert_exporter": "python",
   "pygments_lexer": "ipython3",
   "version": "3.7.4"
  }
 },
 "nbformat": 4,
 "nbformat_minor": 5
}
